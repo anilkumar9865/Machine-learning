{
 "cells": [
  {
   "cell_type": "markdown",
   "metadata": {},
   "source": [
    "Information about data:\n",
    "\n",
    "                     ->We have the amazon reviews dataset from kaggle\n",
    "                     \n",
    "                     ->Reviews are given for the product\n",
    "                     \n",
    "                     ->The features of the data were:\n",
    "                     \n",
    "                           Id\n",
    "                           \n",
    "                           ProductId- unique identifier for the product\n",
    "                           \n",
    "                           UserId- unqiue identifier for the user\n",
    "                           \n",
    "                           ProfileName\n",
    "                           \n",
    "                           HelpfullnessNumerator- number of users who found the review helpful\n",
    "                           \n",
    "                           HelpfulnessDenominator- number of users who indicated whether they found the review \n",
    "                                                   helpful or not\n",
    "                           \n",
    "                           Score-rating between 1 and 5\n",
    "                           \n",
    "                           Time-timestamp for the review\n",
    "                           \n",
    "                           Summary- brief summary of the review\n",
    "                           \n",
    "                           Text- text of the review\n",
    "                       \n",
    "                     -> Based on the score of the review we review we classify them into positive and negative\n",
    "                     \n",
    "                     Number of reviews: 568,454\n",
    "\n",
    "                     \n",
    "                    \n",
    "                     \n",
    "                  "
   ]
  },
  {
   "cell_type": "markdown",
   "metadata": {},
   "source": [
    "objective:\n",
    "\n",
    "    -> Cleaning the dataset by classifying them into positive and negative reviews based on the \n",
    "      rating provided and removing the duplicates\n",
    "      \n",
    "    -> Converting the text data to vectors by using word2vec,Average word2vec\n",
    "    \n",
    "    -> Applying the following Ensemble Models:\n",
    "       \n",
    "                         -> Random Forests\n",
    "                         \n",
    "                         -> Gradient Boost Decision Trees\n",
    "                         \n",
    "                         -> stacking"
   ]
  },
  {
   "cell_type": "markdown",
   "metadata": {},
   "source": [
    "Importing the required libraries"
   ]
  },
  {
   "cell_type": "code",
   "execution_count": 1,
   "metadata": {},
   "outputs": [],
   "source": [
    "import numpy as np\n",
    "import pandas as pd\n",
    "import matplotlib.pyplot as mp\n",
    "import seaborn as s\n",
    "import sqlite3\n",
    "import nltk\n",
    "import string\n",
    "from sklearn.metrics import accuracy_score\n",
    "from sklearn.ensemble import RandomForestClassifier,GradientBoostingClassifier\n",
    "from mlxtend.classifier import StackingClassifier"
   ]
  },
  {
   "cell_type": "markdown",
   "metadata": {},
   "source": [
    "->loading the data and information about the data\n",
    "\n",
    "-> Shape of the data\n",
    "\n",
    "-> Dimensionality of the data\n",
    "\n",
    "-> Attributes if the data"
   ]
  },
  {
   "cell_type": "code",
   "execution_count": 2,
   "metadata": {},
   "outputs": [
    {
     "name": "stdout",
     "output_type": "stream",
     "text": [
      "(525814, 10)\n",
      "2\n",
      "Index(['Id', 'ProductId', 'UserId', 'ProfileName', 'HelpfulnessNumerator',\n",
      "       'HelpfulnessDenominator', 'Score', 'Time', 'Summary', 'Text'],\n",
      "      dtype='object')\n"
     ]
    }
   ],
   "source": [
    "con = sqlite3.connect(\"database.sqlite\")\n",
    "data = pd.read_sql_query(\"SELECT * FROM Reviews WHERE Score != 3\",con)\n",
    "print(data.shape)\n",
    "print(data.ndim)\n",
    "print(data.columns)"
   ]
  },
  {
   "cell_type": "markdown",
   "metadata": {},
   "source": [
    "Removing the Duplicates from the data"
   ]
  },
  {
   "cell_type": "code",
   "execution_count": 3,
   "metadata": {},
   "outputs": [
    {
     "data": {
      "text/html": [
       "<div>\n",
       "<style scoped>\n",
       "    .dataframe tbody tr th:only-of-type {\n",
       "        vertical-align: middle;\n",
       "    }\n",
       "\n",
       "    .dataframe tbody tr th {\n",
       "        vertical-align: top;\n",
       "    }\n",
       "\n",
       "    .dataframe thead th {\n",
       "        text-align: right;\n",
       "    }\n",
       "</style>\n",
       "<table border=\"1\" class=\"dataframe\">\n",
       "  <thead>\n",
       "    <tr style=\"text-align: right;\">\n",
       "      <th></th>\n",
       "      <th>Id</th>\n",
       "      <th>ProductId</th>\n",
       "      <th>UserId</th>\n",
       "      <th>ProfileName</th>\n",
       "      <th>HelpfulnessNumerator</th>\n",
       "      <th>HelpfulnessDenominator</th>\n",
       "      <th>Score</th>\n",
       "      <th>Time</th>\n",
       "      <th>Summary</th>\n",
       "      <th>Text</th>\n",
       "    </tr>\n",
       "  </thead>\n",
       "  <tbody>\n",
       "    <tr>\n",
       "      <th>0</th>\n",
       "      <td>1</td>\n",
       "      <td>B001E4KFG0</td>\n",
       "      <td>A3SGXH7AUHU8GW</td>\n",
       "      <td>delmartian</td>\n",
       "      <td>1</td>\n",
       "      <td>1</td>\n",
       "      <td>positive</td>\n",
       "      <td>1303862400</td>\n",
       "      <td>Good Quality Dog Food</td>\n",
       "      <td>I have bought several of the Vitality canned d...</td>\n",
       "    </tr>\n",
       "    <tr>\n",
       "      <th>1</th>\n",
       "      <td>2</td>\n",
       "      <td>B00813GRG4</td>\n",
       "      <td>A1D87F6ZCVE5NK</td>\n",
       "      <td>dll pa</td>\n",
       "      <td>0</td>\n",
       "      <td>0</td>\n",
       "      <td>negative</td>\n",
       "      <td>1346976000</td>\n",
       "      <td>Not as Advertised</td>\n",
       "      <td>Product arrived labeled as Jumbo Salted Peanut...</td>\n",
       "    </tr>\n",
       "    <tr>\n",
       "      <th>2</th>\n",
       "      <td>3</td>\n",
       "      <td>B000LQOCH0</td>\n",
       "      <td>ABXLMWJIXXAIN</td>\n",
       "      <td>Natalia Corres \"Natalia Corres\"</td>\n",
       "      <td>1</td>\n",
       "      <td>1</td>\n",
       "      <td>positive</td>\n",
       "      <td>1219017600</td>\n",
       "      <td>\"Delight\" says it all</td>\n",
       "      <td>This is a confection that has been around a fe...</td>\n",
       "    </tr>\n",
       "    <tr>\n",
       "      <th>3</th>\n",
       "      <td>4</td>\n",
       "      <td>B000UA0QIQ</td>\n",
       "      <td>A395BORC6FGVXV</td>\n",
       "      <td>Karl</td>\n",
       "      <td>3</td>\n",
       "      <td>3</td>\n",
       "      <td>negative</td>\n",
       "      <td>1307923200</td>\n",
       "      <td>Cough Medicine</td>\n",
       "      <td>If you are looking for the secret ingredient i...</td>\n",
       "    </tr>\n",
       "    <tr>\n",
       "      <th>4</th>\n",
       "      <td>5</td>\n",
       "      <td>B006K2ZZ7K</td>\n",
       "      <td>A1UQRSCLF8GW1T</td>\n",
       "      <td>Michael D. Bigham \"M. Wassir\"</td>\n",
       "      <td>0</td>\n",
       "      <td>0</td>\n",
       "      <td>positive</td>\n",
       "      <td>1350777600</td>\n",
       "      <td>Great taffy</td>\n",
       "      <td>Great taffy at a great price.  There was a wid...</td>\n",
       "    </tr>\n",
       "    <tr>\n",
       "      <th>5</th>\n",
       "      <td>6</td>\n",
       "      <td>B006K2ZZ7K</td>\n",
       "      <td>ADT0SRK1MGOEU</td>\n",
       "      <td>Twoapennything</td>\n",
       "      <td>0</td>\n",
       "      <td>0</td>\n",
       "      <td>positive</td>\n",
       "      <td>1342051200</td>\n",
       "      <td>Nice Taffy</td>\n",
       "      <td>I got a wild hair for taffy and ordered this f...</td>\n",
       "    </tr>\n",
       "  </tbody>\n",
       "</table>\n",
       "</div>"
      ],
      "text/plain": [
       "   Id   ProductId          UserId                      ProfileName  \\\n",
       "0   1  B001E4KFG0  A3SGXH7AUHU8GW                       delmartian   \n",
       "1   2  B00813GRG4  A1D87F6ZCVE5NK                           dll pa   \n",
       "2   3  B000LQOCH0   ABXLMWJIXXAIN  Natalia Corres \"Natalia Corres\"   \n",
       "3   4  B000UA0QIQ  A395BORC6FGVXV                             Karl   \n",
       "4   5  B006K2ZZ7K  A1UQRSCLF8GW1T    Michael D. Bigham \"M. Wassir\"   \n",
       "5   6  B006K2ZZ7K   ADT0SRK1MGOEU                   Twoapennything   \n",
       "\n",
       "   HelpfulnessNumerator  HelpfulnessDenominator     Score        Time  \\\n",
       "0                     1                       1  positive  1303862400   \n",
       "1                     0                       0  negative  1346976000   \n",
       "2                     1                       1  positive  1219017600   \n",
       "3                     3                       3  negative  1307923200   \n",
       "4                     0                       0  positive  1350777600   \n",
       "5                     0                       0  positive  1342051200   \n",
       "\n",
       "                 Summary                                               Text  \n",
       "0  Good Quality Dog Food  I have bought several of the Vitality canned d...  \n",
       "1      Not as Advertised  Product arrived labeled as Jumbo Salted Peanut...  \n",
       "2  \"Delight\" says it all  This is a confection that has been around a fe...  \n",
       "3         Cough Medicine  If you are looking for the secret ingredient i...  \n",
       "4            Great taffy  Great taffy at a great price.  There was a wid...  \n",
       "5             Nice Taffy  I got a wild hair for taffy and ordered this f...  "
      ]
     },
     "execution_count": 3,
     "metadata": {},
     "output_type": "execute_result"
    }
   ],
   "source": [
    "####function to categorise rating into positive and negatives\n",
    "def change(n):\n",
    "    if n>3:\n",
    "        return 'positive'\n",
    "    return 'negative'\n",
    "\n",
    "rating = data['Score']    \n",
    "####take the ratings\n",
    "rating = rating.map(change)  \n",
    "#####apply function change on ratings column\n",
    "data['Score'] = rating    \n",
    "####updating the column with positive and negatives\n",
    "data.head(6)          \n",
    "##### head with first 6 elements in data"
   ]
  },
  {
   "cell_type": "markdown",
   "metadata": {},
   "source": [
    "Data Cleaning:Removing Duplicates"
   ]
  },
  {
   "cell_type": "code",
   "execution_count": 4,
   "metadata": {},
   "outputs": [
    {
     "name": "stdout",
     "output_type": "stream",
     "text": [
      "       Id   ProductId         UserId      ProfileName  HelpfulnessNumerator  \\\n",
      "0   78445  B000HDL1RQ  AR5J8UI46CURR  Geetha Krishnan                     2   \n",
      "1  138317  B000HDOPYC  AR5J8UI46CURR  Geetha Krishnan                     2   \n",
      "2  138277  B000HDOPYM  AR5J8UI46CURR  Geetha Krishnan                     2   \n",
      "3   73791  B000HDOPZG  AR5J8UI46CURR  Geetha Krishnan                     2   \n",
      "4  155049  B000PAQ75C  AR5J8UI46CURR  Geetha Krishnan                     2   \n",
      "\n",
      "   HelpfulnessDenominator  Score        Time  \\\n",
      "0                       2      5  1199577600   \n",
      "1                       2      5  1199577600   \n",
      "2                       2      5  1199577600   \n",
      "3                       2      5  1199577600   \n",
      "4                       2      5  1199577600   \n",
      "\n",
      "                             Summary  \\\n",
      "0  LOACKER QUADRATINI VANILLA WAFERS   \n",
      "1  LOACKER QUADRATINI VANILLA WAFERS   \n",
      "2  LOACKER QUADRATINI VANILLA WAFERS   \n",
      "3  LOACKER QUADRATINI VANILLA WAFERS   \n",
      "4  LOACKER QUADRATINI VANILLA WAFERS   \n",
      "\n",
      "                                                Text  \n",
      "0  DELICIOUS WAFERS. I FIND THAT EUROPEAN WAFERS ...  \n",
      "1  DELICIOUS WAFERS. I FIND THAT EUROPEAN WAFERS ...  \n",
      "2  DELICIOUS WAFERS. I FIND THAT EUROPEAN WAFERS ...  \n",
      "3  DELICIOUS WAFERS. I FIND THAT EUROPEAN WAFERS ...  \n",
      "4  DELICIOUS WAFERS. I FIND THAT EUROPEAN WAFERS ...  \n"
     ]
    }
   ],
   "source": [
    "user = pd.read_sql_query(\"\"\"SELECT * FROM Reviews WHERE UserId= \"AR5J8UI46CURR\" ORDER BY ProductId \"\"\",con)\n",
    "print(user)"
   ]
  },
  {
   "cell_type": "markdown",
   "metadata": {},
   "source": [
    "Observation:\n",
    "    \n",
    "    -> Here we can see that for the same time span we got five reviews, practically which is not possible\n",
    "    \n",
    "    ->This happened because when the user given review for a product it is applied to all the flavors of the product"
   ]
  },
  {
   "cell_type": "code",
   "execution_count": 5,
   "metadata": {},
   "outputs": [],
   "source": [
    "sorteddata = data.sort_values('ProductId',axis=0,ascending=True,inplace=False,kind='quicksort',na_position='last')\n",
    "finaldata = sorteddata.drop_duplicates(subset={\"UserId\",\"ProfileName\",\"Time\",\"Text\"},keep='first',inplace=False)"
   ]
  },
  {
   "cell_type": "markdown",
   "metadata": {},
   "source": [
    "Information about the modified data:\n",
    "\n",
    "    -> Shape of the data\n",
    "\n",
    "    -> Dimensionality of the data\n",
    "\n",
    "    -> Attributes if the data\n",
    "\n",
    "    -> Sample of modified data"
   ]
  },
  {
   "cell_type": "code",
   "execution_count": 6,
   "metadata": {},
   "outputs": [
    {
     "name": "stdout",
     "output_type": "stream",
     "text": [
      "(364173, 10)\n",
      "2\n",
      "Index(['Id', 'ProductId', 'UserId', 'ProfileName', 'HelpfulnessNumerator',\n",
      "       'HelpfulnessDenominator', 'Score', 'Time', 'Summary', 'Text'],\n",
      "      dtype='object')\n",
      "            Id   ProductId          UserId                  ProfileName  \\\n",
      "138706  150524  0006641040   ACITT7DI6IDDL              shari zychinski   \n",
      "138688  150506  0006641040  A2IW4PEEKO2R0U                        Tracy   \n",
      "138689  150507  0006641040  A1S4A3IQ2MU7V4        sally sue \"sally sue\"   \n",
      "138690  150508  0006641040     AZGXZ2UUK6X  Catherine Hallberg \"(Kate)\"   \n",
      "138691  150509  0006641040  A3CMRKGE0P909G                       Teresa   \n",
      "\n",
      "        HelpfulnessNumerator  HelpfulnessDenominator     Score        Time  \\\n",
      "138706                     0                       0  positive   939340800   \n",
      "138688                     1                       1  positive  1194739200   \n",
      "138689                     1                       1  positive  1191456000   \n",
      "138690                     1                       1  positive  1076025600   \n",
      "138691                     3                       4  positive  1018396800   \n",
      "\n",
      "                                           Summary  \\\n",
      "138706                   EVERY book is educational   \n",
      "138688  Love the book, miss the hard cover version   \n",
      "138689               chicken soup with rice months   \n",
      "138690      a good swingy rhythm for reading aloud   \n",
      "138691             A great way to learn the months   \n",
      "\n",
      "                                                     Text  \n",
      "138706  this witty little book makes my son laugh at l...  \n",
      "138688  I grew up reading these Sendak books, and watc...  \n",
      "138689  This is a fun way for children to learn their ...  \n",
      "138690  This is a great little book to read aloud- it ...  \n",
      "138691  This is a book of poetry about the months of t...  \n"
     ]
    }
   ],
   "source": [
    "print(finaldata.shape)\n",
    "print(finaldata.ndim)\n",
    "print(finaldata.columns)\n",
    "print(finaldata.head(5))"
   ]
  },
  {
   "cell_type": "markdown",
   "metadata": {},
   "source": [
    "CONSTRUCTING VECTOR REPRESENTATION OF EACH IN THE DATA BY USING WORD2VEC"
   ]
  },
  {
   "cell_type": "code",
   "execution_count": 7,
   "metadata": {},
   "outputs": [],
   "source": [
    "import gensim\n",
    "from gensim.models import word2vec"
   ]
  },
  {
   "cell_type": "markdown",
   "metadata": {},
   "source": [
    "-> Importing the required libraries\n",
    "\n",
    "-> Functions to clean the sentences\n",
    "\n",
    "-> Constructing the word2vec from the sample subset data"
   ]
  },
  {
   "cell_type": "code",
   "execution_count": 8,
   "metadata": {},
   "outputs": [],
   "source": [
    "import re\n",
    "def cleanhtml(sentence):\n",
    "    clean = re.compile(\"<.*?>\")\n",
    "    cleantext = re.sub(clean,\" \",sentence)\n",
    "    return cleantext\n",
    "def cleanpunct(sentence):\n",
    "    cleanr = re.sub(r\"[?|!|\\|'|#|.|,|)|(|/]\",r' ',sentence)\n",
    "    return cleanr"
   ]
  },
  {
   "cell_type": "code",
   "execution_count": 9,
   "metadata": {},
   "outputs": [],
   "source": [
    "sorted_w2vec = finaldata.sort_values(\"Time\",axis=0,ascending=True,kind='quicksort',na_position='last',inplace=False)"
   ]
  },
  {
   "cell_type": "markdown",
   "metadata": {},
   "source": [
    "Information about the sorted data:\n",
    "\n",
    "    -> Shape of the data\n",
    "\n",
    "    -> Dimensionality of the data\n",
    "\n",
    "    -> Attributes if the data\n",
    "\n",
    "    -> Sample of modified data"
   ]
  },
  {
   "cell_type": "code",
   "execution_count": 10,
   "metadata": {},
   "outputs": [
    {
     "name": "stdout",
     "output_type": "stream",
     "text": [
      "(364173, 10)\n",
      "2\n",
      "Index(['Id', 'ProductId', 'UserId', 'ProfileName', 'HelpfulnessNumerator',\n",
      "       'HelpfulnessDenominator', 'Score', 'Time', 'Summary', 'Text'],\n",
      "      dtype='object')\n",
      "            Id   ProductId          UserId               ProfileName  \\\n",
      "138706  150524  0006641040   ACITT7DI6IDDL           shari zychinski   \n",
      "138683  150501  0006641040   AJ46FKXOVC7NR        Nicholas A Mesiano   \n",
      "417839  451856  B00004CXX9   AIUWLEQ1ADEG5          Elizabeth Medina   \n",
      "346055  374359  B00004CI84  A344SMIA5JECGM           Vincent P. Ross   \n",
      "417838  451855  B00004CXX9   AJH6LUC1UT1ON  The Phantom of the Opera   \n",
      "\n",
      "        HelpfulnessNumerator  HelpfulnessDenominator     Score       Time  \\\n",
      "138706                     0                       0  positive  939340800   \n",
      "138683                     2                       2  positive  940809600   \n",
      "417839                     0                       0  positive  944092800   \n",
      "346055                     1                       2  positive  944438400   \n",
      "417838                     0                       0  positive  946857600   \n",
      "\n",
      "                                                  Summary  \\\n",
      "138706                          EVERY book is educational   \n",
      "138683  This whole series is great way to spend time w...   \n",
      "417839                               Entertainingl Funny!   \n",
      "346055                            A modern day fairy tale   \n",
      "417838                                         FANTASTIC!   \n",
      "\n",
      "                                                     Text  \n",
      "138706  this witty little book makes my son laugh at l...  \n",
      "138683  I can remember seeing the show when it aired o...  \n",
      "417839  Beetlejuice is a well written movie ..... ever...  \n",
      "346055  A twist of rumplestiskin captured on film, sta...  \n",
      "417838  Beetlejuice is an excellent and funny movie. K...  \n"
     ]
    }
   ],
   "source": [
    "print(sorted_w2vec.shape)\n",
    "print(sorted_w2vec.ndim)\n",
    "print(sorted_w2vec.columns)\n",
    "print(sorted_w2vec.head(5))"
   ]
  },
  {
   "cell_type": "code",
   "execution_count": 11,
   "metadata": {},
   "outputs": [],
   "source": [
    "i=0\n",
    "sentences_list=[]\n",
    "for sent in sorted_w2vec['Text'].values:\n",
    "    filtered_sentences = []\n",
    "    sent = cleanhtml(sent)\n",
    "    for w in sent.split():\n",
    "        for cleanedwords in cleanpunct(w).split():\n",
    "            if(cleanedwords.isalpha()):\n",
    "                filtered_sentences.append(cleanedwords.lower())\n",
    "    sentences_list.append(filtered_sentences)   "
   ]
  },
  {
   "cell_type": "code",
   "execution_count": 12,
   "metadata": {},
   "outputs": [
    {
     "name": "stdout",
     "output_type": "stream",
     "text": [
      "364173\n",
      "<class 'list'>\n"
     ]
    }
   ],
   "source": [
    "print(len(sentences_list))\n",
    "print(type(sentences_list))"
   ]
  },
  {
   "cell_type": "code",
   "execution_count": 13,
   "metadata": {},
   "outputs": [],
   "source": [
    "w2vmodel = gensim.models.Word2Vec(sentences_list,min_count=4,size=200,workers=4)"
   ]
  },
  {
   "cell_type": "markdown",
   "metadata": {},
   "source": [
    "-> Most similar word\n",
    "\n",
    "-> Similarity between the words\n",
    "\n",
    "-> Dimensionality representation of a word"
   ]
  },
  {
   "cell_type": "code",
   "execution_count": 14,
   "metadata": {},
   "outputs": [
    {
     "name": "stdout",
     "output_type": "stream",
     "text": [
      "[('wherever', 0.46529310941696167), ('what', 0.4458898901939392), ('everywhere', 0.43889546394348145), ('when', 0.4215936064720154), ('anywhere', 0.417721152305603), ('somewhere', 0.41519832611083984), ('florida', 0.40275052189826965), ('tx', 0.39854639768600464), ('why', 0.3969125747680664), ('socal', 0.3944746255874634)]\n",
      "0.42159361544755236\n",
      "[ 0.7996897   3.085431    1.340987   -2.8525755   2.5451179  -1.5701782\n",
      "  2.9685671  -2.174922    2.0419028  -1.5547013   0.5668547  -1.4338609\n",
      "  0.78857225  1.9789118   0.3574971   0.0636769   0.35909358  0.69823474\n",
      "  2.6059813  -0.9402875  -0.5818643   0.7744852   0.72097564 -2.0476422\n",
      "  0.27967906  2.9229062  -0.97952425 -1.5813259   0.30517542 -2.1099699\n",
      "  0.47375268  1.0395159   0.22731662 -2.1210387   1.2303616  -1.834373\n",
      " -0.97481966  1.1496507  -3.404694    2.0946565   3.0210366  -2.050492\n",
      "  1.0970054  -0.47758338  0.5858939  -1.2708788   2.4784617   0.93791187\n",
      " -0.7387846  -0.9668217   1.1821761   1.0469359  -3.9322011  -2.7136335\n",
      " -1.7385392  -1.6255865   0.8993696   0.1553515   2.447226   -1.9305716\n",
      "  1.9676238   1.8910409   1.9982429   0.1086377  -1.0972705  -0.74526596\n",
      " -1.6416489  -0.8614319   1.7360628  -0.3634593  -2.319029   -0.65476465\n",
      " -0.32638937 -1.2970817  -1.4328616  -0.2941087  -1.546655   -0.63256735\n",
      " -1.6564442  -0.169883   -4.90044     0.5828991   0.9893994  -0.14594601\n",
      "  3.3804927  -0.91457057 -0.46898943  0.59321076  2.395959    2.3215127\n",
      " -1.0949532   0.20803766  1.0500869   2.367571    2.299582    0.41732547\n",
      "  0.26027352 -0.45078978 -1.88151    -1.0135818  -0.9517791  -1.0697248\n",
      "  0.02675325 -2.0144515   1.1063651   0.85391486  0.4794889  -0.81614196\n",
      " -0.30623537 -0.2284333  -0.5333915  -0.11328614 -1.5450444  -0.5077817\n",
      " -1.3774561   0.41217175  0.11516482  1.5560768  -0.7469817  -1.4765854\n",
      "  0.7093949  -0.114291    2.1057208  -2.6741965   0.72566754  0.55012083\n",
      "  2.3451302  -1.2510659   0.3140531   1.4746969   0.4024581  -2.3046188\n",
      "  1.2659645   2.278225    0.08678623 -1.471766    2.15753     0.34023762\n",
      "  0.17808026 -1.1826618  -0.16569561 -0.10871834  2.3015096   0.19112433\n",
      " -1.1756605  -0.96922463  0.06874546  0.36971325 -0.04724248  1.880946\n",
      " -1.7491736  -1.3938425  -0.43538195 -0.5430063   1.9600484  -2.5801857\n",
      " -2.3907616  -0.38354483  1.182356   -3.9656587  -0.8018017  -0.29514363\n",
      " -1.8328854  -0.08165321 -0.64735687  0.5654924  -1.7028366  -0.17562585\n",
      "  0.55491775 -0.05971068 -0.38406396  1.5891556   4.154112   -0.9290452\n",
      " -1.3967556   2.7509627  -0.4634398  -2.4117336   1.4015831  -1.3671825\n",
      "  0.80604464  2.378248    0.7243261   3.1934304  -1.391462   -1.4871521\n",
      "  1.4887595   1.0651935   3.69667    -0.7252996  -0.87798625 -1.7895714\n",
      "  0.17647578  1.9107432   0.73745984  2.9707737  -0.44027588 -0.49605256\n",
      "  0.16137503 -1.351188  ]\n"
     ]
    },
    {
     "name": "stderr",
     "output_type": "stream",
     "text": [
      "/Users/vthumati/anaconda3/lib/python3.6/site-packages/ipykernel_launcher.py:1: DeprecationWarning: Call to deprecated `most_similar` (Method will be removed in 4.0.0, use self.wv.most_similar() instead).\n",
      "  \"\"\"Entry point for launching an IPython kernel.\n",
      "/Users/vthumati/anaconda3/lib/python3.6/site-packages/ipykernel_launcher.py:2: DeprecationWarning: Call to deprecated `similarity` (Method will be removed in 4.0.0, use self.wv.similarity() instead).\n",
      "  \n"
     ]
    }
   ],
   "source": [
    "print(w2vmodel.most_similar(\"where\"))\n",
    "print(w2vmodel.similarity(\"where\",'when'))\n",
    "print(w2vmodel.wv['what'])"
   ]
  },
  {
   "cell_type": "markdown",
   "metadata": {},
   "source": [
    "Observation:\n",
    "    \n",
    "    -> We have constructed the vector representation of each word\n",
    "    \n",
    "    -> Using this model to construct vector representation of each sentence in average word2vec and tfidf-word2vec"
   ]
  },
  {
   "cell_type": "markdown",
   "metadata": {},
   "source": [
    "AVERAGE WORD2VEC\n",
    "\n",
    "    -> Here i am using the word2vec model to construct vector representation of each sentence"
   ]
  },
  {
   "cell_type": "code",
   "execution_count": 15,
   "metadata": {},
   "outputs": [
    {
     "name": "stderr",
     "output_type": "stream",
     "text": [
      "/Users/vthumati/anaconda3/lib/python3.6/site-packages/ipykernel_launcher.py:12: RuntimeWarning: invalid value encountered in true_divide\n",
      "  if sys.path[0] == '':\n"
     ]
    },
    {
     "name": "stdout",
     "output_type": "stream",
     "text": [
      "364173\n",
      "200\n"
     ]
    }
   ],
   "source": [
    "sent_vectors = []\n",
    "for sent in sentences_list: \n",
    "    sent_vec = np.zeros(200) \n",
    "    cnt=0\n",
    "    for word in sent:\n",
    "        try:\n",
    "            vec = w2vmodel.wv[word]\n",
    "            sent_vec += vec\n",
    "            cnt += 1\n",
    "        except:\n",
    "            pass\n",
    "    sent_vec /= cnt\n",
    "    sent_vectors.append(sent_vec)\n",
    "print(len(sent_vectors))\n",
    "print(len(sent_vectors[364000]))"
   ]
  },
  {
   "cell_type": "code",
   "execution_count": 16,
   "metadata": {},
   "outputs": [
    {
     "data": {
      "text/plain": [
       "True"
      ]
     },
     "execution_count": 16,
     "metadata": {},
     "output_type": "execute_result"
    }
   ],
   "source": [
    "np.isnan(sent_vectors).any()"
   ]
  },
  {
   "cell_type": "code",
   "execution_count": 17,
   "metadata": {},
   "outputs": [],
   "source": [
    "sent_vectors = np.nan_to_num(sent_vectors)"
   ]
  },
  {
   "cell_type": "code",
   "execution_count": 18,
   "metadata": {},
   "outputs": [
    {
     "data": {
      "text/plain": [
       "False"
      ]
     },
     "execution_count": 18,
     "metadata": {},
     "output_type": "execute_result"
    }
   ],
   "source": [
    "np.isnan(sent_vectors).any()"
   ]
  },
  {
   "cell_type": "code",
   "execution_count": 19,
   "metadata": {},
   "outputs": [
    {
     "data": {
      "text/plain": [
       "(364173, 200)"
      ]
     },
     "execution_count": 19,
     "metadata": {},
     "output_type": "execute_result"
    }
   ],
   "source": [
    "sent_vectors.shape"
   ]
  },
  {
   "cell_type": "code",
   "execution_count": 20,
   "metadata": {},
   "outputs": [],
   "source": [
    "xtrain = sent_vectors[0:250000]\n",
    "xtest = sent_vectors[250000:]\n",
    "ytrain = sorted_w2vec['Score'][0:250000]\n",
    "ytest = sorted_w2vec['Score'][250000:]"
   ]
  },
  {
   "cell_type": "code",
   "execution_count": 41,
   "metadata": {},
   "outputs": [
    {
     "name": "stdout",
     "output_type": "stream",
     "text": [
      "(250000, 200)\n",
      "(114173, 200)\n",
      "(250000,)\n",
      "(114173,)\n"
     ]
    }
   ],
   "source": [
    "print(xtrain.shape)\n",
    "print(xtest.shape)\n",
    "print(ytrain.shape)\n",
    "print(ytest.shape)"
   ]
  },
  {
   "cell_type": "code",
   "execution_count": 42,
   "metadata": {},
   "outputs": [
    {
     "data": {
      "text/plain": [
       "457707    positive\n",
       "114937    positive\n",
       "Name: Score, dtype: object"
      ]
     },
     "execution_count": 42,
     "metadata": {},
     "output_type": "execute_result"
    }
   ],
   "source": [
    "ytest.head(2)"
   ]
  },
  {
   "cell_type": "code",
   "execution_count": 22,
   "metadata": {},
   "outputs": [
    {
     "data": {
      "text/plain": [
       "array([ 1,  2,  3,  4,  5,  6,  7,  8,  9, 10, 11, 12, 13, 14, 15, 16, 17,\n",
       "       18, 19])"
      ]
     },
     "execution_count": 22,
     "metadata": {},
     "output_type": "execute_result"
    }
   ],
   "source": [
    "l = np.arange(1,20,1)\n",
    "l"
   ]
  },
  {
   "cell_type": "markdown",
   "metadata": {},
   "source": [
    "RANDOM FOREST ON AVERAGE WORD2VEC:"
   ]
  },
  {
   "cell_type": "code",
   "execution_count": 116,
   "metadata": {},
   "outputs": [],
   "source": [
    "from sklearn.cross_validation import cross_val_score"
   ]
  },
  {
   "cell_type": "code",
   "execution_count": 110,
   "metadata": {},
   "outputs": [],
   "source": [
    "cross_validation_scores = []\n",
    "for d in l:\n",
    "    model = RandomForestClassifier(n_estimators=d,n_jobs=-1,criterion='gini',max_depth=None)\n",
    "    score = cross_val_score(model,xtrain,ytrain,cv=3,scoring='accuracy')\n",
    "    cross_validation_scores.append(score.mean())"
   ]
  },
  {
   "cell_type": "code",
   "execution_count": 111,
   "metadata": {},
   "outputs": [
    {
     "name": "stdout",
     "output_type": "stream",
     "text": [
      "[0.1952400012730009, 0.2443400086073444, 0.15175600497946462, 0.16532401019724308, 0.13709198932946232, 0.14107600104206608, 0.13147599105675745, 0.13233998769684108, 0.12684398606412461, 0.12647600321621466, 0.1248919869918822, 0.12309199889574696, 0.12333998683168224, 0.12128399348747221, 0.12196398651150353, 0.11992398660724302, 0.12085198830337551, 0.11905998535912266, 0.12070798609533939]\n",
      "[0.8047599987269991, 0.7556599913926556, 0.8482439950205354, 0.8346759898027569, 0.8629080106705377, 0.8589239989579339, 0.8685240089432426, 0.8676600123031589, 0.8731560139358754, 0.8735239967837853, 0.8751080130081178, 0.876908001104253, 0.8766600131683178, 0.8787160065125278, 0.8780360134884965, 0.880076013392757, 0.8791480116966245, 0.8809400146408773, 0.8792920139046606]\n"
     ]
    }
   ],
   "source": [
    "error = [1 - x for x in cross_validation_scores]\n",
    "print(error)\n",
    "print(cross_validation_scores)"
   ]
  },
  {
   "cell_type": "code",
   "execution_count": 112,
   "metadata": {},
   "outputs": [
    {
     "data": {
      "text/plain": [
       "Text(0.5,1,'Depth vs CV Accuracy')"
      ]
     },
     "execution_count": 112,
     "metadata": {},
     "output_type": "execute_result"
    },
    {
     "data": {
      "image/png": "[encoded data removed]",
      "text/plain": [
       "<matplotlib.figure.Figure at 0x1a619367b8>"
      ]
     },
     "metadata": {},
     "output_type": "display_data"
    }
   ],
   "source": [
    "mp.plot(l,cross_validation_scores)\n",
    "mp.xlabel('Depth')\n",
    "mp.ylabel('Cross Validation Accuracy')\n",
    "mp.title(\"Depth vs CV Accuracy\")"
   ]
  },
  {
   "cell_type": "code",
   "execution_count": 113,
   "metadata": {},
   "outputs": [
    {
     "data": {
      "text/plain": [
       "Text(0.5,1,'Depth vs CV Error')"
      ]
     },
     "execution_count": 113,
     "metadata": {},
     "output_type": "execute_result"
    },
    {
     "data": {
      "image/png": "[encoded data removed]",
      "text/plain": [
       "<matplotlib.figure.Figure at 0x1af31a7710>"
      ]
     },
     "metadata": {},
     "output_type": "display_data"
    }
   ],
   "source": [
    "mp.plot(l,error)\n",
    "mp.xlabel('Error')\n",
    "mp.ylabel('Cross Validation Accuracy')\n",
    "mp.title(\"Depth vs CV Error\")"
   ]
  },
  {
   "cell_type": "code",
   "execution_count": 114,
   "metadata": {},
   "outputs": [
    {
     "name": "stdout",
     "output_type": "stream",
     "text": [
      "the best value of d is 18\n"
     ]
    }
   ],
   "source": [
    "best_d = l[error.index(min(error))]\n",
    "print(\"the best value of d is {}\".format(best_d))"
   ]
  },
  {
   "cell_type": "code",
   "execution_count": 115,
   "metadata": {},
   "outputs": [
    {
     "name": "stdout",
     "output_type": "stream",
     "text": [
      "0.8667898715107775\n"
     ]
    }
   ],
   "source": [
    "model = RandomForestClassifier(criterion='gini',n_estimators=best_d)\n",
    "model.fit(xtrain,ytrain)\n",
    "pred = model.predict(xtest)\n",
    "score = accuracy_score(ytest,pred)\n",
    "print(score)\n"
   ]
  },
  {
   "cell_type": "markdown",
   "metadata": {},
   "source": [
    "Observation:\n",
    "    \n",
    "    Random Forest on Average Word2vec:\n",
    "\n",
    "        -> The best Number of base learning model is achieved with the help of cross-validation when it is 18\n",
    "    \n",
    "        -> The accuracy with 18 base learning models is 86.67"
   ]
  },
  {
   "cell_type": "markdown",
   "metadata": {},
   "source": [
    "GBDT ON AVERAGE WORD2VEC:"
   ]
  },
  {
   "cell_type": "code",
   "execution_count": 117,
   "metadata": {},
   "outputs": [],
   "source": [
    "parameters = { 'n_estimators':[1,2,3,4,5,6,7,8,9,10,11,12,13,14,15,16,17,18,19,20],'learning_rate':[0.1,0.2,0.3,0.4,0.5]}"
   ]
  },
  {
   "cell_type": "code",
   "execution_count": 118,
   "metadata": {},
   "outputs": [],
   "source": [
    "classifier = GradientBoostingClassifier()"
   ]
  },
  {
   "cell_type": "code",
   "execution_count": 25,
   "metadata": {},
   "outputs": [],
   "source": [
    "from sklearn.model_selection import GridSearchCV"
   ]
  },
  {
   "cell_type": "code",
   "execution_count": 120,
   "metadata": {},
   "outputs": [
    {
     "name": "stdout",
     "output_type": "stream",
     "text": [
      "GradientBoostingClassifier(criterion='friedman_mse', init=None,\n",
      "              learning_rate=0.5, loss='deviance', max_depth=3,\n",
      "              max_features=None, max_leaf_nodes=None,\n",
      "              min_impurity_decrease=0.0, min_impurity_split=None,\n",
      "              min_samples_leaf=1, min_samples_split=2,\n",
      "              min_weight_fraction_leaf=0.0, n_estimators=20,\n",
      "              presort='auto', random_state=None, subsample=1.0, verbose=0,\n",
      "              warm_start=False)\n"
     ]
    }
   ],
   "source": [
    "model = GridSearchCV(classifier,param_grid=parameters,n_jobs=-1,cv=3,scoring='accuracy')\n",
    "model.fit(xtrain,ytrain)\n",
    "print(model.best_estimator_)"
   ]
  },
  {
   "cell_type": "code",
   "execution_count": 122,
   "metadata": {},
   "outputs": [
    {
     "name": "stdout",
     "output_type": "stream",
     "text": [
      "0.8739894721168753\n"
     ]
    }
   ],
   "source": [
    "classifier = GradientBoostingClassifier(learning_rate=0.5,n_estimators=20)\n",
    "classifier.fit(xtrain,ytrain)\n",
    "pred = classifier.predict(xtest)\n",
    "score  = accuracy_score(ytest,pred)\n",
    "print(score)"
   ]
  },
  {
   "cell_type": "markdown",
   "metadata": {},
   "source": [
    "Observation:\n",
    "    \n",
    "    GBDT on Average Word2vec:\n",
    "\n",
    "        -> By performing grid search the best parameters were:\n",
    "            \n",
    "                                    -> Number of baseline models = 20\n",
    "                \n",
    "                                    -> Learning rate = 0.5\n",
    "                    \n",
    "        -> Model with the best hyper parameters has given an accurancy of 87.39"
   ]
  },
  {
   "cell_type": "code",
   "execution_count": null,
   "metadata": {},
   "outputs": [],
   "source": []
  },
  {
   "cell_type": "markdown",
   "metadata": {},
   "source": [
    "STACKING ON AVERAGE WORD2VEC:"
   ]
  },
  {
   "cell_type": "code",
   "execution_count": 33,
   "metadata": {},
   "outputs": [],
   "source": [
    "cross_validation_scores = []\n",
    "for d in l:\n",
    "    model = DecisionTreeClassifier(criterion='gini',max_depth=d, min_samples_split=10)\n",
    "    score = cross_val_score(model,xtrain,ytrain,cv=3,scoring='accuracy')\n",
    "    cross_validation_scores.append(score.mean())"
   ]
  },
  {
   "cell_type": "code",
   "execution_count": 34,
   "metadata": {},
   "outputs": [
    {
     "name": "stdout",
     "output_type": "stream",
     "text": [
      "[0.14885599995505316, 0.14885599995505316, 0.14885599995505316, 0.1420880048502261, 0.1402120039219784, 0.13879200846583306, 0.13720401608169075, 0.1369680067375857, 0.13882399131369993, 0.14072399281795522, 0.1450480132346721, 0.14893999976306238, 0.15308800123560518, 0.15749999982815865, 0.1613440081487173, 0.16448001771719511, 0.1667120169494748, 0.16950801157378959, 0.17139201935009307]\n",
      "[0.8511440000449468, 0.8511440000449468, 0.8511440000449468, 0.8579119951497739, 0.8597879960780216, 0.8612079915341669, 0.8627959839183093, 0.8630319932624143, 0.8611760086863001, 0.8592760071820448, 0.8549519867653279, 0.8510600002369376, 0.8469119987643948, 0.8425000001718413, 0.8386559918512827, 0.8355199822828049, 0.8332879830505252, 0.8304919884262104, 0.8286079806499069]\n"
     ]
    }
   ],
   "source": [
    "error = [1 - x for x in cross_validation_scores]\n",
    "print(error)\n",
    "print(cross_validation_scores)"
   ]
  },
  {
   "cell_type": "code",
   "execution_count": 35,
   "metadata": {},
   "outputs": [
    {
     "data": {
      "text/plain": [
       "Text(0.5,1,'Depth vs CV Accuracy')"
      ]
     },
     "execution_count": 35,
     "metadata": {},
     "output_type": "execute_result"
    },
    {
     "data": {
      "image/png": "[encoded data removed]",
      "text/plain": [
       "<matplotlib.figure.Figure at 0x1a2f257e80>"
      ]
     },
     "metadata": {},
     "output_type": "display_data"
    }
   ],
   "source": [
    "mp.plot(l,cross_validation_scores)\n",
    "mp.xlabel('Depth')\n",
    "mp.ylabel('Cross Validation Accuracy')\n",
    "mp.title(\"Depth vs CV Accuracy\")"
   ]
  },
  {
   "cell_type": "code",
   "execution_count": 36,
   "metadata": {},
   "outputs": [
    {
     "data": {
      "text/plain": [
       "Text(0.5,1,'Depth vs CV Error')"
      ]
     },
     "execution_count": 36,
     "metadata": {},
     "output_type": "execute_result"
    },
    {
     "data": {
      "image/png": "[encoded data removed]",
      "text/plain": [
       "<matplotlib.figure.Figure at 0x1a2f257668>"
      ]
     },
     "metadata": {},
     "output_type": "display_data"
    }
   ],
   "source": [
    "mp.plot(l,error)\n",
    "mp.xlabel('Error')\n",
    "mp.ylabel('Cross Validation Accuracy')\n",
    "mp.title(\"Depth vs CV Error\")"
   ]
  },
  {
   "cell_type": "code",
   "execution_count": 37,
   "metadata": {},
   "outputs": [
    {
     "name": "stdout",
     "output_type": "stream",
     "text": [
      "the best value of d is 8\n"
     ]
    }
   ],
   "source": [
    "best_d = l[error.index(min(error))]\n",
    "print(\"the best value of d is {}\".format(best_d))"
   ]
  },
  {
   "cell_type": "markdown",
   "metadata": {},
   "source": [
    "Note:\n",
    "    \n",
    "    -> In stacking all the models are perfect models which means they do not overfit or underfit\n",
    "    \n",
    "    -> The decision tree with depth 8 is the perfect model\n",
    "    \n",
    "    -> From above we have the best models hyper parameters for Random forest and GBDT"
   ]
  },
  {
   "cell_type": "code",
   "execution_count": 38,
   "metadata": {},
   "outputs": [],
   "source": [
    "moedl1 = DecisionTreeClassifier(max_depth=8,criterion='gini')\n",
    "model2 = RandomForestClassifier(criterion='gini',n_estimators=18)\n",
    "model3 = GradientBoostingClassifier(learning_rate=0.5,n_estimators=20)"
   ]
  },
  {
   "cell_type": "code",
   "execution_count": 39,
   "metadata": {},
   "outputs": [],
   "source": [
    "clf = StackingClassifier(classifiers=[moedl1,model2],meta_classifier=model3)"
   ]
  },
  {
   "cell_type": "code",
   "execution_count": 43,
   "metadata": {},
   "outputs": [
    {
     "data": {
      "text/plain": [
       "91.37"
      ]
     },
     "execution_count": 43,
     "metadata": {},
     "output_type": "execute_result"
    }
   ],
   "source": [
    "clf.fit(xtrain,ytrain)\n",
    "pred = clf.predict(xtest)\n",
    "score = accuracy_score(ytest,pred)\n",
    "print(score)"
   ]
  },
  {
   "cell_type": "code",
   "execution_count": null,
   "metadata": {},
   "outputs": [],
   "source": []
  },
  {
   "cell_type": "markdown",
   "metadata": {},
   "source": [
    "TFIDF WORD2VEC:\n",
    "\n",
    "    -> Here i am using the word2vec model to construct vector representation of each sentence"
   ]
  },
  {
   "cell_type": "code",
   "execution_count": 45,
   "metadata": {},
   "outputs": [],
   "source": [
    "data = finaldata.sort_values(\"Time\",axis=0,ascending=True,kind='quicksort',na_position='last',inplace=False)"
   ]
  },
  {
   "cell_type": "code",
   "execution_count": 46,
   "metadata": {},
   "outputs": [
    {
     "data": {
      "text/plain": [
       "(364173, 10)"
      ]
     },
     "execution_count": 46,
     "metadata": {},
     "output_type": "execute_result"
    }
   ],
   "source": [
    "data.shape"
   ]
  },
  {
   "cell_type": "code",
   "execution_count": 47,
   "metadata": {},
   "outputs": [],
   "source": [
    "from sklearn.feature_extraction.text import TfidfVectorizer"
   ]
  },
  {
   "cell_type": "code",
   "execution_count": 48,
   "metadata": {},
   "outputs": [],
   "source": [
    "tfid = TfidfVectorizer(ngram_range=(1,2))"
   ]
  },
  {
   "cell_type": "code",
   "execution_count": 49,
   "metadata": {},
   "outputs": [],
   "source": [
    "tfid_vect = tfid.fit_transform(data['Text'].values)"
   ]
  },
  {
   "cell_type": "code",
   "execution_count": 50,
   "metadata": {},
   "outputs": [
    {
     "data": {
      "text/plain": [
       "(364173, 2910206)"
      ]
     },
     "execution_count": 50,
     "metadata": {},
     "output_type": "execute_result"
    }
   ],
   "source": [
    "tfid_vect.shape"
   ]
  },
  {
   "cell_type": "code",
   "execution_count": 51,
   "metadata": {},
   "outputs": [
    {
     "name": "stdout",
     "output_type": "stream",
     "text": [
      "2910206\n"
     ]
    }
   ],
   "source": [
    "tfidf_feat = tfid.get_feature_names() \n",
    "print(len(tfidf_feat))"
   ]
  },
  {
   "cell_type": "code",
   "execution_count": 52,
   "metadata": {},
   "outputs": [
    {
     "name": "stderr",
     "output_type": "stream",
     "text": [
      "/Users/vthumati/anaconda3/lib/python3.6/site-packages/ipykernel_launcher.py:15: RuntimeWarning: invalid value encountered in true_divide\n",
      "  from ipykernel import kernelapp as app\n"
     ]
    }
   ],
   "source": [
    "tfidf_feat = tfid.get_feature_names() \n",
    "tfidf_sent_vectors = [];\n",
    "row=0;\n",
    "for sent in sentences_list: \n",
    "    sent_vec = np.zeros(200) \n",
    "    sum =0; \n",
    "    for word in sent: \n",
    "        try:\n",
    "            vec = w2v_model.wv[word]\n",
    "            tfidf = tfid_vect[row, tfidf_feat.index(word)]\n",
    "            sent_vec += (vec * tf_idf)\n",
    "            sum += tf_idf\n",
    "        except:\n",
    "            pass\n",
    "    sent_vec /= sum\n",
    "    tfidf_sent_vectors.append(sent_vec)\n",
    "    row += 1"
   ]
  },
  {
   "cell_type": "code",
   "execution_count": 53,
   "metadata": {},
   "outputs": [
    {
     "name": "stdout",
     "output_type": "stream",
     "text": [
      "364173\n",
      "200\n"
     ]
    }
   ],
   "source": [
    "print(len(tfidf_sent_vectors))\n",
    "print(len(tfidf_sent_vectors[300000]))"
   ]
  },
  {
   "cell_type": "code",
   "execution_count": 54,
   "metadata": {},
   "outputs": [
    {
     "data": {
      "text/plain": [
       "list"
      ]
     },
     "execution_count": 54,
     "metadata": {},
     "output_type": "execute_result"
    }
   ],
   "source": [
    "type(tfidf_sent_vectors)"
   ]
  },
  {
   "cell_type": "code",
   "execution_count": 55,
   "metadata": {},
   "outputs": [],
   "source": [
    "tfidf_sent_vectors = np.nan_to_num(tfidf_sent_vectors)"
   ]
  },
  {
   "cell_type": "code",
   "execution_count": 56,
   "metadata": {},
   "outputs": [
    {
     "data": {
      "text/plain": [
       "False"
      ]
     },
     "execution_count": 56,
     "metadata": {},
     "output_type": "execute_result"
    }
   ],
   "source": [
    "np.isnan(tfidf_sent_vectors).any()"
   ]
  },
  {
   "cell_type": "code",
   "execution_count": 57,
   "metadata": {},
   "outputs": [],
   "source": [
    "xtrain = tfidf_sent_vectors[0:250000]\n",
    "xtest = tfidf_sent_vectors[250000:]\n",
    "ytrain = data['Score'][0:250000]\n",
    "ytest = data['Score'][250000:]"
   ]
  },
  {
   "cell_type": "code",
   "execution_count": 58,
   "metadata": {},
   "outputs": [
    {
     "name": "stdout",
     "output_type": "stream",
     "text": [
      "(250000, 200)\n",
      "(114173, 200)\n",
      "(250000,)\n",
      "(114173,)\n"
     ]
    }
   ],
   "source": [
    "print(xtrain.shape)\n",
    "print(xtest.shape)\n",
    "print(ytrain.shape)\n",
    "print(ytest.shape)"
   ]
  },
  {
   "cell_type": "markdown",
   "metadata": {},
   "source": [
    "RANDOM FOREST ON TFIDF WORD2VEC:"
   ]
  },
  {
   "cell_type": "code",
   "execution_count": 59,
   "metadata": {},
   "outputs": [],
   "source": [
    "from sklearn.cross_validation import cross_val_score"
   ]
  },
  {
   "cell_type": "code",
   "execution_count": 61,
   "metadata": {},
   "outputs": [],
   "source": [
    "cross_validation_scores = []\n",
    "for d in l:\n",
    "    model = RandomForestClassifier(n_estimators=d,n_jobs=-1,criterion='gini',max_depth=None)\n",
    "    score = cross_val_score(model,xtrain,ytrain,cv=3,scoring='accuracy')\n",
    "    cross_validation_scores.append(score.mean())"
   ]
  },
  {
   "cell_type": "code",
   "execution_count": 62,
   "metadata": {},
   "outputs": [
    {
     "name": "stdout",
     "output_type": "stream",
     "text": [
      "[0.14885599995505316, 0.14885599995505316, 0.14885599995505316, 0.14885599995505316, 0.14885599995505316, 0.14885599995505316, 0.14885599995505316, 0.14885599995505316, 0.14885599995505316, 0.14885599995505316, 0.14885599995505316, 0.14885599995505316, 0.14885599995505316, 0.14885599995505316, 0.14885599995505316, 0.14885599995505316, 0.14885599995505316, 0.14885599995505316, 0.14885599995505316]\n",
      "[0.8511440000449468, 0.8511440000449468, 0.8511440000449468, 0.8511440000449468, 0.8511440000449468, 0.8511440000449468, 0.8511440000449468, 0.8511440000449468, 0.8511440000449468, 0.8511440000449468, 0.8511440000449468, 0.8511440000449468, 0.8511440000449468, 0.8511440000449468, 0.8511440000449468, 0.8511440000449468, 0.8511440000449468, 0.8511440000449468, 0.8511440000449468]\n"
     ]
    }
   ],
   "source": [
    "error = [1 - x for x in cross_validation_scores]\n",
    "print(error)\n",
    "print(cross_validation_scores)"
   ]
  },
  {
   "cell_type": "code",
   "execution_count": 63,
   "metadata": {},
   "outputs": [
    {
     "data": {
      "text/plain": [
       "Text(0.5,1,'Depth vs CV Accuracy')"
      ]
     },
     "execution_count": 63,
     "metadata": {},
     "output_type": "execute_result"
    },
    {
     "data": {
      "image/png": "[encoded data removed]",
      "text/plain": [
       "<matplotlib.figure.Figure at 0x1a3787d1d0>"
      ]
     },
     "metadata": {},
     "output_type": "display_data"
    }
   ],
   "source": [
    "mp.plot(l,cross_validation_scores)\n",
    "mp.xlabel('Depth')\n",
    "mp.ylabel('Cross Validation Accuracy')\n",
    "mp.title(\"Depth vs CV Accuracy\")"
   ]
  },
  {
   "cell_type": "code",
   "execution_count": 64,
   "metadata": {},
   "outputs": [
    {
     "data": {
      "text/plain": [
       "Text(0.5,1,'Depth vs CV Error')"
      ]
     },
     "execution_count": 64,
     "metadata": {},
     "output_type": "execute_result"
    },
    {
     "data": {
      "image/png": "[encoded data removed]",
      "text/plain": [
       "<matplotlib.figure.Figure at 0x1a2f41c080>"
      ]
     },
     "metadata": {},
     "output_type": "display_data"
    }
   ],
   "source": [
    "mp.plot(l,error)\n",
    "mp.xlabel('Error')\n",
    "mp.ylabel('Cross Validation Accuracy')\n",
    "mp.title(\"Depth vs CV Error\")"
   ]
  },
  {
   "cell_type": "code",
   "execution_count": 65,
   "metadata": {},
   "outputs": [
    {
     "name": "stdout",
     "output_type": "stream",
     "text": [
      "the best value of d is 1\n"
     ]
    }
   ],
   "source": [
    "best_d = l[error.index(min(error))]\n",
    "print(\"the best value of d is {}\".format(best_d))"
   ]
  },
  {
   "cell_type": "code",
   "execution_count": 66,
   "metadata": {},
   "outputs": [
    {
     "name": "stdout",
     "output_type": "stream",
     "text": [
      "0.8257381342348892\n"
     ]
    }
   ],
   "source": [
    "model = RandomForestClassifier(criterion='gini',n_estimators=best_d)\n",
    "model.fit(xtrain,ytrain)\n",
    "pred = model.predict(xtest)\n",
    "score = accuracy_score(ytest,pred)\n",
    "print(score)\n"
   ]
  },
  {
   "cell_type": "markdown",
   "metadata": {},
   "source": [
    "Observation:\n",
    "    \n",
    "    Random Forest on TFIDF Word2vec:\n",
    "\n",
    "        -> The best Number of base learning model is achieved with the help of cross-validation when 1\n",
    "    \n",
    "        -> The accuracy with 18 base learning models is 82.57"
   ]
  },
  {
   "cell_type": "markdown",
   "metadata": {},
   "source": [
    "GBDT ON TFIDF WORD2VEC:"
   ]
  },
  {
   "cell_type": "code",
   "execution_count": 68,
   "metadata": {},
   "outputs": [],
   "source": [
    "parameters = { 'n_estimators':[1,2,3,4,5,6,7,8,9,10,11,12,13,14,15,16,17,18,19,20],'learning_rate':[0.1,0.2,0.3,0.4,0.5]}"
   ]
  },
  {
   "cell_type": "code",
   "execution_count": 70,
   "metadata": {},
   "outputs": [
    {
     "name": "stdout",
     "output_type": "stream",
     "text": [
      "GradientBoostingClassifier(criterion='friedman_mse', init=None,\n",
      "              learning_rate=0.1, loss='deviance', max_depth=3,\n",
      "              max_features=None, max_leaf_nodes=None,\n",
      "              min_impurity_decrease=0.0, min_impurity_split=None,\n",
      "              min_samples_leaf=1, min_samples_split=2,\n",
      "              min_weight_fraction_leaf=0.0, n_estimators=1, presort='auto',\n",
      "              random_state=None, subsample=1.0, verbose=0,\n",
      "              warm_start=False)\n"
     ]
    }
   ],
   "source": [
    "from sklearn.model_selection import GridSearchCV\n",
    "classifier = GradientBoostingClassifier()\n",
    "model = GridSearchCV(classifier,param_grid=parameters,n_jobs=-1,cv=3,scoring='accuracy')\n",
    "model.fit(xtrain,ytrain)\n",
    "print(model.best_estimator_)\n"
   ]
  },
  {
   "cell_type": "code",
   "execution_count": 74,
   "metadata": {},
   "outputs": [
    {
     "name": "stdout",
     "output_type": "stream",
     "text": [
      "0.8257381342348892\n"
     ]
    }
   ],
   "source": [
    "classifier = GradientBoostingClassifier(learning_rate=0.1,n_estimators=1)\n",
    "classifier.fit(xtrain,ytrain)\n",
    "pred = classifier.predict(xtest)\n",
    "score  = accuracy_score(ytest,pred)\n",
    "print(score)"
   ]
  },
  {
   "cell_type": "markdown",
   "metadata": {},
   "source": [
    "Observation:\n",
    "    \n",
    "    GBDT on TFIDF Word2vec:\n",
    "\n",
    "        -> By performing grid search the best parameters were:\n",
    "            \n",
    "                                    -> Number of baseline models = 1\n",
    "                \n",
    "                                    -> Learning rate = 0.1\n",
    "                    \n",
    "        -> Model with the best hyper parameters has given an accurancy of 82.57"
   ]
  },
  {
   "cell_type": "code",
   "execution_count": null,
   "metadata": {},
   "outputs": [],
   "source": []
  },
  {
   "cell_type": "code",
   "execution_count": null,
   "metadata": {},
   "outputs": [],
   "source": []
  },
  {
   "cell_type": "markdown",
   "metadata": {},
   "source": [
    "CONCLUSION:\n",
    "    \n",
    "    AVERAGE WORD2VEC:\n",
    "    \n",
    "        RANDOM FOREST:\n",
    "        \n",
    "            -> IN RANDOM FOREST THE BASE MODELS WERE HAVING LOW BIAS AND HIGH VARIANCE, DUE TO ITS DEPTH\n",
    "            \n",
    "            -> THIS IS CONTROLLED BY ROW SAMPLING, COLUMN SAMPLING AND BOOTSTRAP AGGREGATION\n",
    "            \n",
    "            -> THE BEST NUMBER OF BASE LEARNING MODEL IS ACHIEVED WITH THE HELP OF CROSS-VALIDATION WHEN IT IS 18\n",
    "            \n",
    "            -> THE ACCURACY WITH 18 BASE LEARNING MODELS IS 86.67\n",
    "            \n",
    "        GBDT:\n",
    "        \n",
    "            -> IN GBDT THE BASE MODELS WERE HAVING HIGH BIAS AND LOW VARIANCE, DUE TO LESS DEPTH OF TREES\n",
    "            \n",
    "            -> THIS IS CONTROLLED BY PSEDUO RESIDUAL ERRORS\n",
    "            \n",
    "            -> BY PERFORMING GRID SEARCH THE BEST PARAMETERS WERE:\n",
    "            \n",
    "                                    -> NUMBER OF BASELINE MODELS = 20\n",
    "                \n",
    "                                    -> LEARNING RATE = 0.5\n",
    "                    \n",
    "            -> MODEL WITH THE BEST HYPER PARAMETERS HAS GIVEN AN ACCURACY OF 87.39\n",
    "            \n",
    "         STACKING:\n",
    "        \n",
    "              -> IN STACKING ALL THE MODELS ARE PERFECT MODELS WHICH MEANS THEY DO NOT OVERFIT OR UNDERFIT\n",
    "\n",
    "              -> THE DECISION TREE WITH DEPTH 8 IS THE PERFECT MODEL\n",
    "              \n",
    "              -> RANDOM FOREST WITH NUMBER OF BASE LEARNERS = 18 IS THE BEST MODEL\n",
    "              \n",
    "              -> GBDT WITH NUMBER OF BASELINE MODELS = 20 AND LEARNING RATE = 0.5 IS THE BEST MODEL\n",
    "              \n",
    "              -> USING GBDT AS META-CLASSIFIER AND RANDOM FOREST, DECISION TREES AS CLASSIFIER THE ACCURANCY IS 91.37\n",
    "              \n",
    "    \n",
    "    TFIDF WORD2VEC:\n",
    "    \n",
    "        \n",
    "          RANDOM FOREST:\n",
    "          \n",
    "             -> THE BEST NUMBER OF BASE LEARNING MODEL IS ACHIEVED WITH THE HELP OF CROSS-VALIDATION WHEN 1\n",
    "\n",
    "             -> THE ACCURACY WITH 18 BASE LEARNING MODELS IS 82.57\n",
    "             \n",
    "          GBDT:\n",
    "          \n",
    "             -> BY PERFORMING GRID SEARCH THE BEST PARAMETERS WERE:\n",
    "\n",
    "                                -> NUMBER OF BASELINE MODELS = 1\n",
    "\n",
    "                                -> LEARNING RATE = 0.1\n",
    "\n",
    "            -> MODEL WITH THE BEST HYPER PARAMETERS HAS GIVEN AN ACCURACY OF 82.57\n",
    "            \n",
    "            \n",
    "            \n",
    "         \n",
    "        \n",
    "        "
   ]
  },
  {
   "cell_type": "code",
   "execution_count": null,
   "metadata": {},
   "outputs": [],
   "source": []
  }
 ],
 "metadata": {
  "kernelspec": {
   "display_name": "Python 3",
   "language": "python",
   "name": "python3"
  },
  "language_info": {
   "codemirror_mode": {
    "name": "ipython",
    "version": 3
   },
   "file_extension": ".py",
   "mimetype": "text/x-python",
   "name": "python",
   "nbconvert_exporter": "python",
   "pygments_lexer": "ipython3",
   "version": "3.6.4"
  }
 },
 "nbformat": 4,
 "nbformat_minor": 2
}
