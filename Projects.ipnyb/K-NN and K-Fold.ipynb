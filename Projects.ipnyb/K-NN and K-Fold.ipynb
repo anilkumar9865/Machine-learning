{
 "cells": [
  {
   "cell_type": "markdown",
   "metadata": {},
   "source": [
    "Information about data:\n",
    "\n",
    "                     ->We have the amazon reviews dataset from kaggle\n",
    "                     \n",
    "                     ->Reviews are given for the product\n",
    "                     \n",
    "                     ->The features of the data were:\n",
    "                     \n",
    "                           Id\n",
    "                           \n",
    "                           ProductId- unique identifier for the product\n",
    "                           \n",
    "                           UserId- unqiue identifier for the user\n",
    "                           \n",
    "                           ProfileName\n",
    "                           \n",
    "                           HelpfullnessNumerator- number of users who found the review helpful\n",
    "                           \n",
    "                           HelpfulnessDenominator- number of users who indicated whether they \n",
    "                           found the review helpful or not\n",
    "                           \n",
    "                           Score-rating between 1 and 5\n",
    "                           \n",
    "                           Time-timestamp for the review\n",
    "                           \n",
    "                           Summary- brief summary of the review\n",
    "                           \n",
    "                           Text- text of the review\n",
    "                       \n",
    "                     -> Based on the score of the review we review we classify them into positive \n",
    "                        and negative\n",
    "                     \n",
    "                     Number of reviews: 568,454\n",
    "\n",
    "                     \n",
    "                    \n",
    "                     \n",
    "                  "
   ]
  },
  {
   "cell_type": "markdown",
   "metadata": {},
   "source": [
    "objective:\n",
    "\n",
    "    -> Cleaning the dataset by classifying them into positive and negative reviews based on the \n",
    "      rating provided and removing the duplicates\n",
    "      \n",
    "    -> Converting the text data to vectors by using Bag of words,Tfidf,word2vec,Average word2vec\n",
    "    \n",
    "    -> Applying k-fold cross-validation do determine the best k value having accuracy as the check        measure\n",
    "    \n",
    "    -> Here we can use both random based splitting of data or time based splitting of data\n",
    "    \n",
    "    -> Since it is the data of reviews they may change overtime due to modifications of products\n",
    "    \n",
    "    -> The accurancy which we obtained by random based splitting may change for the future data\n",
    "    \n",
    "    -> We can assure about the accurancy obtained in time base splitting for unseen future data \n",
    "       also.\n",
    "    \n",
    "    -> In this for the first method i am going to do both random based splitting and time based \n",
    "       splitting\n",
    "    \n",
    "    -> Random based splitting is possible for every dataset, but for time based splitting there \n",
    "       should time attribute\n",
    "    "
   ]
  },
  {
   "cell_type": "markdown",
   "metadata": {},
   "source": [
    "Importing the required libraries"
   ]
  },
  {
   "cell_type": "code",
   "execution_count": 1,
   "metadata": {},
   "outputs": [
    {
     "name": "stderr",
     "output_type": "stream",
     "text": [
      "/Users/vthumati/anaconda3/lib/python3.6/site-packages/sklearn/cross_validation.py:41: DeprecationWarning: This module was deprecated in version 0.18 in favor of the model_selection module into which all the refactored classes and functions are moved. Also note that the interface of the new CV iterators are different from that of this module. This module will be removed in 0.20.\n",
      "  \"This module will be removed in 0.20.\", DeprecationWarning)\n"
     ]
    }
   ],
   "source": [
    "import numpy as np\n",
    "import pandas as pd\n",
    "import matplotlib.pyplot as mp\n",
    "import seaborn as s\n",
    "from sklearn.feature_extraction.text import TfidfTransformer,TfidfVectorizer,CountVectorizer\n",
    "import sqlite3\n",
    "import nltk\n",
    "import string\n",
    "from sklearn.metrics import accuracy_score,roc_curve,auc,confusion_matrix\n",
    "from sklearn.cross_validation import train_test_split,cross_val_score\n",
    "from sklearn.neighbors import KNeighborsClassifier\n",
    "from sklearn import cross_validation\n",
    "from collections import Counter\n"
   ]
  },
  {
   "cell_type": "markdown",
   "metadata": {},
   "source": [
    "->loading the data and information about the data\n",
    "\n",
    "-> Shape of the data\n",
    "\n",
    "-> Dimensionality of the data\n",
    "\n",
    "-> Attributes if the data"
   ]
  },
  {
   "cell_type": "code",
   "execution_count": 2,
   "metadata": {},
   "outputs": [
    {
     "name": "stdout",
     "output_type": "stream",
     "text": [
      "(525814, 10)\n",
      "2\n",
      "Index(['Id', 'ProductId', 'UserId', 'ProfileName', 'HelpfulnessNumerator',\n",
      "       'HelpfulnessDenominator', 'Score', 'Time', 'Summary', 'Text'],\n",
      "      dtype='object')\n"
     ]
    }
   ],
   "source": [
    "con = sqlite3.connect(\"database.sqlite\")\n",
    "data = pd.read_sql_query(\"SELECT * FROM Reviews WHERE Score != 3\",con)\n",
    "print(data.shape)\n",
    "print(data.ndim)\n",
    "print(data.columns)"
   ]
  },
  {
   "cell_type": "markdown",
   "metadata": {},
   "source": [
    "Removing the Duplicates from the data"
   ]
  },
  {
   "cell_type": "code",
   "execution_count": 3,
   "metadata": {},
   "outputs": [
    {
     "data": {
      "text/html": [
       "<div>\n",
       "<style scoped>\n",
       "    .dataframe tbody tr th:only-of-type {\n",
       "        vertical-align: middle;\n",
       "    }\n",
       "\n",
       "    .dataframe tbody tr th {\n",
       "        vertical-align: top;\n",
       "    }\n",
       "\n",
       "    .dataframe thead th {\n",
       "        text-align: right;\n",
       "    }\n",
       "</style>\n",
       "<table border=\"1\" class=\"dataframe\">\n",
       "  <thead>\n",
       "    <tr style=\"text-align: right;\">\n",
       "      <th></th>\n",
       "      <th>Id</th>\n",
       "      <th>ProductId</th>\n",
       "      <th>UserId</th>\n",
       "      <th>ProfileName</th>\n",
       "      <th>HelpfulnessNumerator</th>\n",
       "      <th>HelpfulnessDenominator</th>\n",
       "      <th>Score</th>\n",
       "      <th>Time</th>\n",
       "      <th>Summary</th>\n",
       "      <th>Text</th>\n",
       "    </tr>\n",
       "  </thead>\n",
       "  <tbody>\n",
       "    <tr>\n",
       "      <th>0</th>\n",
       "      <td>1</td>\n",
       "      <td>B001E4KFG0</td>\n",
       "      <td>A3SGXH7AUHU8GW</td>\n",
       "      <td>delmartian</td>\n",
       "      <td>1</td>\n",
       "      <td>1</td>\n",
       "      <td>positive</td>\n",
       "      <td>1303862400</td>\n",
       "      <td>Good Quality Dog Food</td>\n",
       "      <td>I have bought several of the Vitality canned d...</td>\n",
       "    </tr>\n",
       "    <tr>\n",
       "      <th>1</th>\n",
       "      <td>2</td>\n",
       "      <td>B00813GRG4</td>\n",
       "      <td>A1D87F6ZCVE5NK</td>\n",
       "      <td>dll pa</td>\n",
       "      <td>0</td>\n",
       "      <td>0</td>\n",
       "      <td>negative</td>\n",
       "      <td>1346976000</td>\n",
       "      <td>Not as Advertised</td>\n",
       "      <td>Product arrived labeled as Jumbo Salted Peanut...</td>\n",
       "    </tr>\n",
       "    <tr>\n",
       "      <th>2</th>\n",
       "      <td>3</td>\n",
       "      <td>B000LQOCH0</td>\n",
       "      <td>ABXLMWJIXXAIN</td>\n",
       "      <td>Natalia Corres \"Natalia Corres\"</td>\n",
       "      <td>1</td>\n",
       "      <td>1</td>\n",
       "      <td>positive</td>\n",
       "      <td>1219017600</td>\n",
       "      <td>\"Delight\" says it all</td>\n",
       "      <td>This is a confection that has been around a fe...</td>\n",
       "    </tr>\n",
       "    <tr>\n",
       "      <th>3</th>\n",
       "      <td>4</td>\n",
       "      <td>B000UA0QIQ</td>\n",
       "      <td>A395BORC6FGVXV</td>\n",
       "      <td>Karl</td>\n",
       "      <td>3</td>\n",
       "      <td>3</td>\n",
       "      <td>negative</td>\n",
       "      <td>1307923200</td>\n",
       "      <td>Cough Medicine</td>\n",
       "      <td>If you are looking for the secret ingredient i...</td>\n",
       "    </tr>\n",
       "    <tr>\n",
       "      <th>4</th>\n",
       "      <td>5</td>\n",
       "      <td>B006K2ZZ7K</td>\n",
       "      <td>A1UQRSCLF8GW1T</td>\n",
       "      <td>Michael D. Bigham \"M. Wassir\"</td>\n",
       "      <td>0</td>\n",
       "      <td>0</td>\n",
       "      <td>positive</td>\n",
       "      <td>1350777600</td>\n",
       "      <td>Great taffy</td>\n",
       "      <td>Great taffy at a great price.  There was a wid...</td>\n",
       "    </tr>\n",
       "    <tr>\n",
       "      <th>5</th>\n",
       "      <td>6</td>\n",
       "      <td>B006K2ZZ7K</td>\n",
       "      <td>ADT0SRK1MGOEU</td>\n",
       "      <td>Twoapennything</td>\n",
       "      <td>0</td>\n",
       "      <td>0</td>\n",
       "      <td>positive</td>\n",
       "      <td>1342051200</td>\n",
       "      <td>Nice Taffy</td>\n",
       "      <td>I got a wild hair for taffy and ordered this f...</td>\n",
       "    </tr>\n",
       "  </tbody>\n",
       "</table>\n",
       "</div>"
      ],
      "text/plain": [
       "   Id   ProductId          UserId                      ProfileName  \\\n",
       "0   1  B001E4KFG0  A3SGXH7AUHU8GW                       delmartian   \n",
       "1   2  B00813GRG4  A1D87F6ZCVE5NK                           dll pa   \n",
       "2   3  B000LQOCH0   ABXLMWJIXXAIN  Natalia Corres \"Natalia Corres\"   \n",
       "3   4  B000UA0QIQ  A395BORC6FGVXV                             Karl   \n",
       "4   5  B006K2ZZ7K  A1UQRSCLF8GW1T    Michael D. Bigham \"M. Wassir\"   \n",
       "5   6  B006K2ZZ7K   ADT0SRK1MGOEU                   Twoapennything   \n",
       "\n",
       "   HelpfulnessNumerator  HelpfulnessDenominator     Score        Time  \\\n",
       "0                     1                       1  positive  1303862400   \n",
       "1                     0                       0  negative  1346976000   \n",
       "2                     1                       1  positive  1219017600   \n",
       "3                     3                       3  negative  1307923200   \n",
       "4                     0                       0  positive  1350777600   \n",
       "5                     0                       0  positive  1342051200   \n",
       "\n",
       "                 Summary                                               Text  \n",
       "0  Good Quality Dog Food  I have bought several of the Vitality canned d...  \n",
       "1      Not as Advertised  Product arrived labeled as Jumbo Salted Peanut...  \n",
       "2  \"Delight\" says it all  This is a confection that has been around a fe...  \n",
       "3         Cough Medicine  If you are looking for the secret ingredient i...  \n",
       "4            Great taffy  Great taffy at a great price.  There was a wid...  \n",
       "5             Nice Taffy  I got a wild hair for taffy and ordered this f...  "
      ]
     },
     "execution_count": 3,
     "metadata": {},
     "output_type": "execute_result"
    }
   ],
   "source": [
    "####function to categorise rating into positive and negatives\n",
    "def change(n):\n",
    "    if n>3:\n",
    "        return 'positive'\n",
    "    return 'negative'\n",
    "\n",
    "rating = data['Score']    \n",
    "####take the ratings\n",
    "rating = rating.map(change)  \n",
    "#####apply function change on ratings column\n",
    "data['Score'] = rating    \n",
    "####updating the column with positive and negatives\n",
    "data.head(6)          \n",
    "##### head with first 6 elements in data"
   ]
  },
  {
   "cell_type": "markdown",
   "metadata": {},
   "source": [
    "Data Cleaning:Removing Duplicates"
   ]
  },
  {
   "cell_type": "code",
   "execution_count": 4,
   "metadata": {},
   "outputs": [
    {
     "name": "stdout",
     "output_type": "stream",
     "text": [
      "       Id   ProductId         UserId      ProfileName  HelpfulnessNumerator  \\\n",
      "0   78445  B000HDL1RQ  AR5J8UI46CURR  Geetha Krishnan                     2   \n",
      "1  138317  B000HDOPYC  AR5J8UI46CURR  Geetha Krishnan                     2   \n",
      "2  138277  B000HDOPYM  AR5J8UI46CURR  Geetha Krishnan                     2   \n",
      "3   73791  B000HDOPZG  AR5J8UI46CURR  Geetha Krishnan                     2   \n",
      "4  155049  B000PAQ75C  AR5J8UI46CURR  Geetha Krishnan                     2   \n",
      "\n",
      "   HelpfulnessDenominator  Score        Time  \\\n",
      "0                       2      5  1199577600   \n",
      "1                       2      5  1199577600   \n",
      "2                       2      5  1199577600   \n",
      "3                       2      5  1199577600   \n",
      "4                       2      5  1199577600   \n",
      "\n",
      "                             Summary  \\\n",
      "0  LOACKER QUADRATINI VANILLA WAFERS   \n",
      "1  LOACKER QUADRATINI VANILLA WAFERS   \n",
      "2  LOACKER QUADRATINI VANILLA WAFERS   \n",
      "3  LOACKER QUADRATINI VANILLA WAFERS   \n",
      "4  LOACKER QUADRATINI VANILLA WAFERS   \n",
      "\n",
      "                                                Text  \n",
      "0  DELICIOUS WAFERS. I FIND THAT EUROPEAN WAFERS ...  \n",
      "1  DELICIOUS WAFERS. I FIND THAT EUROPEAN WAFERS ...  \n",
      "2  DELICIOUS WAFERS. I FIND THAT EUROPEAN WAFERS ...  \n",
      "3  DELICIOUS WAFERS. I FIND THAT EUROPEAN WAFERS ...  \n",
      "4  DELICIOUS WAFERS. I FIND THAT EUROPEAN WAFERS ...  \n"
     ]
    }
   ],
   "source": [
    "user = pd.read_sql_query(\"\"\"SELECT * FROM Reviews WHERE UserId= \"AR5J8UI46CURR\" ORDER BY ProductId \"\"\",con)\n",
    "print(user)"
   ]
  },
  {
   "cell_type": "markdown",
   "metadata": {},
   "source": [
    "Observation:\n",
    "    \n",
    "    -> Here we can see that for the same time span we got five reviews, practically which is not \n",
    "       possible\n",
    "    \n",
    "    ->This happened because when the user given review for a product it is applied to all the \n",
    "       flavors of the product"
   ]
  },
  {
   "cell_type": "code",
   "execution_count": 5,
   "metadata": {},
   "outputs": [],
   "source": [
    "sorteddata = data.sort_values('ProductId',axis=0,ascending=True,inplace=False,kind='quicksort',na_position='last')\n"
   ]
  },
  {
   "cell_type": "code",
   "execution_count": 6,
   "metadata": {},
   "outputs": [],
   "source": [
    "finaldata = sorteddata.drop_duplicates(subset={\"UserId\",\"ProfileName\",\"Time\",\"Text\"},keep='first',inplace=False)"
   ]
  },
  {
   "cell_type": "markdown",
   "metadata": {},
   "source": [
    "Information about the modified data:\n",
    "\n",
    "    -> Shape of the data\n",
    "\n",
    "    -> Dimensionality of the data\n",
    "\n",
    "    -> Attributes if the data\n",
    "\n",
    "    -> Sample of modified data"
   ]
  },
  {
   "cell_type": "code",
   "execution_count": 7,
   "metadata": {},
   "outputs": [
    {
     "name": "stdout",
     "output_type": "stream",
     "text": [
      "(364173, 10)\n",
      "2\n",
      "Index(['Id', 'ProductId', 'UserId', 'ProfileName', 'HelpfulnessNumerator',\n",
      "       'HelpfulnessDenominator', 'Score', 'Time', 'Summary', 'Text'],\n",
      "      dtype='object')\n",
      "            Id   ProductId          UserId                  ProfileName  \\\n",
      "138706  150524  0006641040   ACITT7DI6IDDL              shari zychinski   \n",
      "138688  150506  0006641040  A2IW4PEEKO2R0U                        Tracy   \n",
      "138689  150507  0006641040  A1S4A3IQ2MU7V4        sally sue \"sally sue\"   \n",
      "138690  150508  0006641040     AZGXZ2UUK6X  Catherine Hallberg \"(Kate)\"   \n",
      "138691  150509  0006641040  A3CMRKGE0P909G                       Teresa   \n",
      "\n",
      "        HelpfulnessNumerator  HelpfulnessDenominator     Score        Time  \\\n",
      "138706                     0                       0  positive   939340800   \n",
      "138688                     1                       1  positive  1194739200   \n",
      "138689                     1                       1  positive  1191456000   \n",
      "138690                     1                       1  positive  1076025600   \n",
      "138691                     3                       4  positive  1018396800   \n",
      "\n",
      "                                           Summary  \\\n",
      "138706                   EVERY book is educational   \n",
      "138688  Love the book, miss the hard cover version   \n",
      "138689               chicken soup with rice months   \n",
      "138690      a good swingy rhythm for reading aloud   \n",
      "138691             A great way to learn the months   \n",
      "\n",
      "                                                     Text  \n",
      "138706  this witty little book makes my son laugh at l...  \n",
      "138688  I grew up reading these Sendak books, and watc...  \n",
      "138689  This is a fun way for children to learn their ...  \n",
      "138690  This is a great little book to read aloud- it ...  \n",
      "138691  This is a book of poetry about the months of t...  \n"
     ]
    }
   ],
   "source": [
    "print(finaldata.shape)\n",
    "print(finaldata.ndim)\n",
    "print(finaldata.columns)\n",
    "print(finaldata.head(5))"
   ]
  },
  {
   "cell_type": "markdown",
   "metadata": {},
   "source": [
    "Keeping in mind about the performance capability of the box, here i am taking the subset of the data"
   ]
  },
  {
   "cell_type": "code",
   "execution_count": 8,
   "metadata": {},
   "outputs": [],
   "source": [
    "finaldata1 = finaldata.sample(n=100000)"
   ]
  },
  {
   "cell_type": "markdown",
   "metadata": {},
   "source": [
    "Information about the sampled data:\n",
    "\n",
    "    -> Shape of the data\n",
    "\n",
    "    -> Dimensionality of the data\n",
    "\n",
    "    -> Attributes if the data\n",
    "\n",
    "    -> Sample of modified data"
   ]
  },
  {
   "cell_type": "code",
   "execution_count": 9,
   "metadata": {},
   "outputs": [
    {
     "name": "stdout",
     "output_type": "stream",
     "text": [
      "(100000, 10)\n",
      "2\n",
      "Index(['Id', 'ProductId', 'UserId', 'ProfileName', 'HelpfulnessNumerator',\n",
      "       'HelpfulnessDenominator', 'Score', 'Time', 'Summary', 'Text'],\n",
      "      dtype='object')\n",
      "            Id   ProductId          UserId              ProfileName  \\\n",
      "425529  460208  B005BRHVD6    AAU4SEQOA9NE  Ryan Barton \"The Knife\"   \n",
      "494547  534658  B0018Q1G94  A3FITKZSOILAJX            Ursula Nemeth   \n",
      "147114  159580  B000V0H4A8   A5D3JR6T9T53V  Boston Gal \"Boston Gal\"   \n",
      "441781  477703  B0029TECEA  A3ONWXEVE56C7G                J. Schick   \n",
      "276015  299126  B004VB0Q9Y  A2Y5OR28P88B49                 Patricia   \n",
      "\n",
      "        HelpfulnessNumerator  HelpfulnessDenominator     Score        Time  \\\n",
      "425529                     1                       1  positive  1305244800   \n",
      "494547                     0                       0  positive  1346803200   \n",
      "147114                     1                       1  positive  1326672000   \n",
      "441781                     8                       9  positive  1256342400   \n",
      "276015                     0                       0  positive  1346803200   \n",
      "\n",
      "                             Summary  \\\n",
      "425529                      Love it.   \n",
      "494547                The Best Pasta   \n",
      "147114                     Addicted!   \n",
      "441781                Excellent soup   \n",
      "276015  A lot of K-cups - good price   \n",
      "\n",
      "                                                     Text  \n",
      "425529  I think that the roctane Gu is thinner than th...  \n",
      "494547  I love this Pasta... as good as any \"normal\" p...  \n",
      "147114  Yummy Yummy - love this snack!  slight olive o...  \n",
      "441781  Great tasting soup!  Lots of chicken and veget...  \n",
      "276015  After quite of bit of searching, I found this ...  \n"
     ]
    }
   ],
   "source": [
    "print(finaldata1.shape)\n",
    "print(finaldata1.ndim)\n",
    "print(finaldata1.columns)\n",
    "print(finaldata1.head(5))"
   ]
  },
  {
   "cell_type": "markdown",
   "metadata": {},
   "source": [
    "BAG OF WORDS: \n",
    "    \n",
    "    -> RANDOM BASED SPLITTING:\n",
    "        \n",
    "        ->SIMPLE CROSS-VALIDATION AND K-FOLD CROSS-VALIDATION:\n",
    "            \n",
    "            -> TO FIND THE BEST K-VALUE WITH ACCURANCY AS MEASURE\n",
    "            "
   ]
  },
  {
   "cell_type": "markdown",
   "metadata": {},
   "source": [
    "Using Count-Vectorizer to convert the text to vector representation"
   ]
  },
  {
   "cell_type": "code",
   "execution_count": 10,
   "metadata": {},
   "outputs": [
    {
     "name": "stdout",
     "output_type": "stream",
     "text": [
      "<class 'scipy.sparse.csr.csr_matrix'>\n",
      "(100000, 61819)\n"
     ]
    }
   ],
   "source": [
    "cv  = CountVectorizer()\n",
    "countvect = cv.fit_transform(finaldata1['Text'].values)\n",
    "print(type(countvect))\n",
    "print(countvect.get_shape())"
   ]
  },
  {
   "cell_type": "code",
   "execution_count": 11,
   "metadata": {},
   "outputs": [
    {
     "name": "stdout",
     "output_type": "stream",
     "text": [
      "(100000,)\n"
     ]
    }
   ],
   "source": [
    "score = finaldata1['Score']\n",
    "print(score.shape)"
   ]
  },
  {
   "cell_type": "code",
   "execution_count": 12,
   "metadata": {},
   "outputs": [
    {
     "data": {
      "text/plain": [
       "425529    positive\n",
       "494547    positive\n",
       "147114    positive\n",
       "441781    positive\n",
       "276015    positive\n",
       "Name: Score, dtype: object"
      ]
     },
     "execution_count": 12,
     "metadata": {},
     "output_type": "execute_result"
    }
   ],
   "source": [
    "score.head(5)"
   ]
  },
  {
   "cell_type": "markdown",
   "metadata": {},
   "source": [
    "RANDOM BASED SPLITTING OF DATA:\n",
    "        \n",
    "        -> SIMPLE CROSS-VALIDATION\n"
   ]
  },
  {
   "cell_type": "code",
   "execution_count": 13,
   "metadata": {},
   "outputs": [],
   "source": [
    "x_1,x_test,y_1,y_test = cross_validation.train_test_split(countvect,score,test_size=0.3,random_state=9)"
   ]
  },
  {
   "cell_type": "markdown",
   "metadata": {},
   "source": [
    " Shape of Test and Train dataset:\n",
    "      \n",
    "      -> The whole data is divided into training data contains 70% percent of data\n",
    "\n",
    "      -> 30 % of data for testing"
   ]
  },
  {
   "cell_type": "code",
   "execution_count": 14,
   "metadata": {},
   "outputs": [
    {
     "name": "stdout",
     "output_type": "stream",
     "text": [
      "(70000, 61819)\n",
      "(30000, 61819)\n",
      "70000\n",
      "30000\n"
     ]
    }
   ],
   "source": [
    "print(x_1.get_shape())\n",
    "print(x_test.get_shape())\n",
    "print(y_1.count())\n",
    "print(y_test.count())\n"
   ]
  },
  {
   "cell_type": "markdown",
   "metadata": {},
   "source": [
    "Splitting the test data into test and cross-validation data:\n",
    "    \n",
    "    -> Again the training data is divided into 70 and 30 ratio\n",
    "\n",
    "    -> This 70 % to train and 30 % for cross validation\n",
    "    "
   ]
  },
  {
   "cell_type": "code",
   "execution_count": 15,
   "metadata": {},
   "outputs": [],
   "source": [
    "x_train,x_cv,y_train,y_cv = cross_validation.train_test_split(x_1,y_1,test_size=0.3,random_state=8)"
   ]
  },
  {
   "cell_type": "code",
   "execution_count": 16,
   "metadata": {},
   "outputs": [
    {
     "name": "stdout",
     "output_type": "stream",
     "text": [
      "(49000, 61819)\n",
      "(21000, 61819)\n",
      "49000\n",
      "21000\n"
     ]
    }
   ],
   "source": [
    "print(x_train.get_shape())\n",
    "print(x_cv.get_shape())\n",
    "print(y_train.count())\n",
    "print(y_cv.count())"
   ]
  },
  {
   "cell_type": "code",
   "execution_count": 18,
   "metadata": {},
   "outputs": [
    {
     "name": "stdout",
     "output_type": "stream",
     "text": [
      "the accurate percentage of k = 1 is 81.66190476190476\n",
      "the accurate percentage of k = 3 is 84.04761904761905\n",
      "the accurate percentage of k = 5 is 84.64285714285714\n",
      "the accurate percentage of k = 7 is 84.63333333333334\n",
      "the accurate percentage of k = 9 is 84.65238095238095\n",
      "the accurate percentage of k = 11 is 84.67619047619047\n",
      "the accurate percentage of k = 13 is 84.63809523809523\n",
      "the accurate percentage of k = 15 is 84.57619047619048\n",
      "the accurate percentage of k = 17 is 84.54285714285714\n",
      "the accurate percentage of k = 19 is 84.4952380952381\n",
      "the accurate percentage of k = 21 is 84.47619047619047\n",
      "the accurate percentage of k = 23 is 84.46190476190476\n",
      "the accurate percentage of k = 25 is 84.42380952380952\n",
      "the accurate percentage of k = 27 is 84.39047619047619\n",
      "the accurate percentage of k = 29 is 84.39999999999999\n"
     ]
    }
   ],
   "source": [
    "for i in range(1,30,2):\n",
    "    clas = KNeighborsClassifier(n_neighbors=i)\n",
    "    clas.fit(x_train,y_train)\n",
    "    pred = clas.predict(x_cv)\n",
    "    acc = accuracy_score(y_cv,pred,normalize=True)*float(100)\n",
    "    print('the accurate percentage of k = {} is {}'.format(i,acc))"
   ]
  },
  {
   "cell_type": "markdown",
   "metadata": {},
   "source": [
    "Note:\n",
    "    \n",
    "   -> The highest accurancy 84.67 with cross-validation is occured when k = 11\n",
    "\n",
    "   -> Using the same k-value and testing the accuracy on the test data set"
   ]
  },
  {
   "cell_type": "code",
   "execution_count": 22,
   "metadata": {},
   "outputs": [
    {
     "name": "stdout",
     "output_type": "stream",
     "text": [
      "The accuracy on the test data set when k = 11 is 84.75\n"
     ]
    }
   ],
   "source": [
    "clas = KNeighborsClassifier(n_neighbors = 11)\n",
    "clas.fit(x_train,y_train)\n",
    "pred = clas.predict(x_test)\n",
    "acc = accuracy_score(y_test,pred,normalize=True)*float(100)\n",
    "print(\"The accuracy on the test data set when k = {} is {}\".format(11,acc))"
   ]
  },
  {
   "cell_type": "markdown",
   "metadata": {},
   "source": [
    "Observation:\n",
    "    \n",
    "    By using simple cross validation the highest accuracy achieved is 84.75 when k = 11"
   ]
  },
  {
   "cell_type": "markdown",
   "metadata": {},
   "source": [
    "RANDOM BASED SPLITTING OF DATA:\n",
    "    \n",
    "    K-FOLD CROSS VALIDATION"
   ]
  },
  {
   "cell_type": "code",
   "execution_count": 17,
   "metadata": {},
   "outputs": [
    {
     "name": "stdout",
     "output_type": "stream",
     "text": [
      "[1, 3, 5, 7, 9, 11, 13, 15, 17, 19, 21, 23, 25, 27, 29]\n"
     ]
    }
   ],
   "source": [
    "l = list(np.arange(1,30,2))\n",
    "print(l)\n"
   ]
  },
  {
   "cell_type": "code",
   "execution_count": 24,
   "metadata": {},
   "outputs": [],
   "source": [
    "cross_validation_scores = []\n",
    "for k in l:\n",
    "    classif = KNeighborsClassifier(n_neighbors=k)\n",
    "    score = cross_val_score(classif,x_train,y_train,cv=10,scoring='accuracy')\n",
    "    cross_validation_scores.append(score.mean())\n",
    "    "
   ]
  },
  {
   "cell_type": "code",
   "execution_count": 26,
   "metadata": {},
   "outputs": [
    {
     "name": "stdout",
     "output_type": "stream",
     "text": [
      "Cross Validation Accuracy Scores\n",
      "[0.8195103131824372, 0.841714120854399, 0.8463265325417131, 0.847489743752176, 0.8471020594378201, 0.8468366491810349, 0.8464489065576387, 0.8462652372455326, 0.8462040502375696, 0.8462244792263423, 0.8459795895868216, 0.8457959452643042, 0.8454489689899611, 0.8453673529932259, 0.8452857286666277]\n",
      "errors\n",
      "[0.18048968681756283, 0.158285879145601, 0.15367346745828692, 0.152510256247824, 0.15289794056217987, 0.15316335081896515, 0.15355109344236129, 0.1537347627544674, 0.15379594976243038, 0.15377552077365775, 0.15402041041317838, 0.15420405473569576, 0.15455103101003886, 0.15463264700677415, 0.15471427133337234]\n"
     ]
    }
   ],
   "source": [
    "error = [1 - x for x in cross_validation_scores]\n",
    "print(\"Cross Validation Accuracy Scores\")\n",
    "print(cross_validation_scores)\n",
    "print(\"errors\")\n",
    "print(error)"
   ]
  },
  {
   "cell_type": "code",
   "execution_count": 27,
   "metadata": {},
   "outputs": [
    {
     "data": {
      "text/plain": [
       "Text(0.5,1,'k vs CV Accuracy')"
      ]
     },
     "execution_count": 27,
     "metadata": {},
     "output_type": "execute_result"
    },
    {
     "data": {
      "image/png": "[encoded data removed]",
      "text/plain": [
       "<matplotlib.figure.Figure at 0x1a1ca08080>"
      ]
     },
     "metadata": {},
     "output_type": "display_data"
    }
   ],
   "source": [
    "mp.plot(l,cross_validation_scores)\n",
    "mp.xlabel('k-values')\n",
    "mp.ylabel('Cross Validation Accuracy')\n",
    "mp.title(\"k vs CV Accuracy\")"
   ]
  },
  {
   "cell_type": "code",
   "execution_count": 28,
   "metadata": {},
   "outputs": [
    {
     "data": {
      "text/plain": [
       "Text(0.5,1,'k vs error')"
      ]
     },
     "execution_count": 28,
     "metadata": {},
     "output_type": "execute_result"
    },
    {
     "data": {
      "image/png": "[encoded data removed]",
      "text/plain": [
       "<matplotlib.figure.Figure at 0x1a1eb21860>"
      ]
     },
     "metadata": {},
     "output_type": "display_data"
    }
   ],
   "source": [
    "mp.plot(l,error)\n",
    "mp.xlabel('k-values')\n",
    "mp.ylabel('error')\n",
    "mp.title(\"k vs error\")"
   ]
  },
  {
   "cell_type": "code",
   "execution_count": 29,
   "metadata": {},
   "outputs": [
    {
     "name": "stdout",
     "output_type": "stream",
     "text": [
      "the best value of k is 7\n"
     ]
    }
   ],
   "source": [
    "best_k = l[error.index(min(error))]\n",
    "print(\"the best value of k is {}\".format(best_k))"
   ]
  },
  {
   "cell_type": "markdown",
   "metadata": {},
   "source": [
    "Observation:\n",
    "    \n",
    "    -> By using k-fold cross validation we got best k value\n",
    "    \n",
    "    -> From the plots we can say that error is less at k = 7 when compared with all of them\n",
    "    \n",
    "    -> By using k = 7 designing the classifier with the training data"
   ]
  },
  {
   "cell_type": "code",
   "execution_count": 30,
   "metadata": {},
   "outputs": [
    {
     "name": "stdout",
     "output_type": "stream",
     "text": [
      "84.83333333333334\n"
     ]
    }
   ],
   "source": [
    "kclas = KNeighborsClassifier(n_neighbors=best_k)\n",
    "kclas.fit(x_train,y_train)\n",
    "predi = kclas.predict(x_test)\n",
    "accur = accuracy_score(y_test,predi,normalize=True)*float(100)\n",
    "print(accur)"
   ]
  },
  {
   "cell_type": "markdown",
   "metadata": {},
   "source": [
    "Observation:\n",
    "    \n",
    "    -> Using the best k value to design the model with train data\n",
    "    \n",
    "    -> The accurancy with the test data is 84.83"
   ]
  },
  {
   "cell_type": "markdown",
   "metadata": {},
   "source": [
    "BAG OF WORDS:\n",
    "    \n",
    "    TIME BASED SPLITTING OF DATA:\n",
    "    \n",
    "         -> K-FOLD CROSS-VALIDATION:\n",
    "\n",
    "         -> TO FIND THE BEST K-VALUE WITH ACCURANCY AS MEASURE\n",
    "\n",
    "    \n",
    "    "
   ]
  },
  {
   "cell_type": "markdown",
   "metadata": {},
   "source": [
    "In order to perform this we have sort the data based on time"
   ]
  },
  {
   "cell_type": "code",
   "execution_count": 18,
   "metadata": {},
   "outputs": [],
   "source": [
    "sorted_count_vect = finaldata1.sort_values(\"Time\",axis=0,ascending=True,kind='quicksort',na_position='last',inplace=False)"
   ]
  },
  {
   "cell_type": "markdown",
   "metadata": {},
   "source": [
    "Information about the sorted data:\n",
    "\n",
    "    -> Shape of the data\n",
    "\n",
    "    -> Dimensionality of the data\n",
    "\n",
    "    -> Attributes if the data\n",
    "\n",
    "    -> Sample of modified data"
   ]
  },
  {
   "cell_type": "code",
   "execution_count": 19,
   "metadata": {},
   "outputs": [
    {
     "name": "stdout",
     "output_type": "stream",
     "text": [
      "(100000, 10)\n",
      "2\n",
      "Index(['Id', 'ProductId', 'UserId', 'ProfileName', 'HelpfulnessNumerator',\n",
      "       'HelpfulnessDenominator', 'Score', 'Time', 'Summary', 'Text'],\n",
      "      dtype='object')\n",
      "            Id   ProductId          UserId       ProfileName  \\\n",
      "417839  451856  B00004CXX9   AIUWLEQ1ADEG5  Elizabeth Medina   \n",
      "346055  374359  B00004CI84  A344SMIA5JECGM   Vincent P. Ross   \n",
      "70688    76882  B00002N8SM  A32DW342WBJ6BX       Buttersugar   \n",
      "346094  374400  B00004CI84  A2DEE7F9XKP3ZR            jerome   \n",
      "138017  149789  B00004S1C6  A1KXONFPU2XQ5K  Stephanie Manley   \n",
      "\n",
      "        HelpfulnessNumerator  HelpfulnessDenominator     Score       Time  \\\n",
      "417839                     0                       0  positive  944092800   \n",
      "346055                     1                       2  positive  944438400   \n",
      "70688                      0                       0  positive  948672000   \n",
      "346094                     0                       3  positive  959990400   \n",
      "138017                    26                      28  positive  965779200   \n",
      "\n",
      "                                              Summary  \\\n",
      "417839                           Entertainingl Funny!   \n",
      "346055                        A modern day fairy tale   \n",
      "70688                          A sure death for flies   \n",
      "346094  Research - Beatlejuice video - French version   \n",
      "138017                                   A must have!   \n",
      "\n",
      "                                                     Text  \n",
      "417839  Beetlejuice is a well written movie ..... ever...  \n",
      "346055  A twist of rumplestiskin captured on film, sta...  \n",
      "70688   I bought a few of these after my apartment was...  \n",
      "346094  I'm getting crazy.I'm looking for Beatlejuice ...  \n",
      "138017  These are easy to use, they do not make a mess...  \n"
     ]
    }
   ],
   "source": [
    "print(sorted_count_vect.shape)\n",
    "print(sorted_count_vect.ndim)\n",
    "print(sorted_count_vect.columns)\n",
    "print(sorted_count_vect.head(5))"
   ]
  },
  {
   "cell_type": "code",
   "execution_count": 20,
   "metadata": {},
   "outputs": [],
   "source": [
    "count_vector = CountVectorizer()\n"
   ]
  },
  {
   "cell_type": "code",
   "execution_count": 21,
   "metadata": {},
   "outputs": [],
   "source": [
    "cvr  = count_vector.fit_transform(sorted_count_vect['Text'].values)"
   ]
  },
  {
   "cell_type": "code",
   "execution_count": 22,
   "metadata": {},
   "outputs": [],
   "source": [
    "score = sorted_count_vect[\"Score\"]"
   ]
  },
  {
   "cell_type": "code",
   "execution_count": 23,
   "metadata": {},
   "outputs": [
    {
     "name": "stdout",
     "output_type": "stream",
     "text": [
      "(100000, 61819)\n",
      "(100000,)\n"
     ]
    }
   ],
   "source": [
    "print(cvr.shape)\n",
    "print(score.shape)"
   ]
  },
  {
   "cell_type": "code",
   "execution_count": 24,
   "metadata": {},
   "outputs": [],
   "source": [
    "x_train = cvr[0:70000]\n",
    "x_test = cvr[70000:100000]\n",
    "y_train = score[0:70000]\n",
    "y_test = score[70000:100000]"
   ]
  },
  {
   "cell_type": "markdown",
   "metadata": {},
   "source": [
    "Splitting the sampled data into test and train:\n",
    "\n",
    "-> Training data contains 70 percent of data\n",
    "\n",
    "-> Test data contains 30 percent of data"
   ]
  },
  {
   "cell_type": "code",
   "execution_count": 25,
   "metadata": {},
   "outputs": [
    {
     "name": "stdout",
     "output_type": "stream",
     "text": [
      "(70000, 61819)\n",
      "(30000, 61819)\n",
      "(70000,)\n",
      "(30000,)\n"
     ]
    }
   ],
   "source": [
    "\n",
    "print(x_train.shape)\n",
    "print(x_test.shape)\n",
    "print(y_train.shape)\n",
    "print(y_test.shape)"
   ]
  },
  {
   "cell_type": "markdown",
   "metadata": {},
   "source": [
    "TIME BASED SPLITTING :\n",
    "\n",
    "            K-FOLD CROSS VALIDATION"
   ]
  },
  {
   "cell_type": "code",
   "execution_count": 26,
   "metadata": {},
   "outputs": [
    {
     "name": "stdout",
     "output_type": "stream",
     "text": [
      "[1, 3, 5, 7, 9, 11, 13, 15, 17, 19, 21, 23, 25, 27, 29]\n"
     ]
    }
   ],
   "source": [
    "l = list(np.arange(1,30,2))\n",
    "print(l)\n"
   ]
  },
  {
   "cell_type": "code",
   "execution_count": 54,
   "metadata": {},
   "outputs": [],
   "source": [
    "cross_validation_scores = []\n",
    "for k in l:\n",
    "    classif = KNeighborsClassifier(n_neighbors=k)\n",
    "    score = cross_val_score(classif,x_train,y_train,cv=10,scoring='accuracy')\n",
    "    cross_validation_scores.append(score.mean())\n",
    "    "
   ]
  },
  {
   "cell_type": "code",
   "execution_count": 55,
   "metadata": {},
   "outputs": [
    {
     "name": "stdout",
     "output_type": "stream",
     "text": [
      "Cross Validation Accuracy Scores\n",
      "[0.8229853780201098, 0.8476284336250701, 0.8520285439189499, 0.853171507207582, 0.8533857908854243, 0.8530286500618093, 0.8529143806717221, 0.8525715153586024, 0.8523857500486887, 0.8521714377994171, 0.8521000235122453, 0.8514714561524788, 0.8513571500276969, 0.8512428520661807, 0.8513285663536442]\n",
      "errors\n",
      "[0.17701462197989015, 0.15237156637492988, 0.1479714560810501, 0.14682849279241805, 0.14661420911457568, 0.14697134993819072, 0.1470856193282779, 0.14742848464139757, 0.14761424995131134, 0.14782856220058294, 0.14789997648775466, 0.14852854384752123, 0.14864284997230315, 0.14875714793381933, 0.14867143364635582]\n"
     ]
    }
   ],
   "source": [
    "error = [1 - x for x in cross_validation_scores]\n",
    "print(\"Cross Validation Accuracy Scores\")\n",
    "print(cross_validation_scores)\n",
    "print(\"errors\")\n",
    "print(error)"
   ]
  },
  {
   "cell_type": "code",
   "execution_count": 56,
   "metadata": {},
   "outputs": [
    {
     "data": {
      "text/plain": [
       "Text(0.5,1,'k vs CV Accuracy')"
      ]
     },
     "execution_count": 56,
     "metadata": {},
     "output_type": "execute_result"
    },
    {
     "data": {
      "image/png": "[encoded data removed]",
      "text/plain": [
       "<matplotlib.figure.Figure at 0x1a1bcc0748>"
      ]
     },
     "metadata": {},
     "output_type": "display_data"
    }
   ],
   "source": [
    "mp.plot(l,cross_validation_scores)\n",
    "mp.xlabel('k-values')\n",
    "mp.ylabel('Cross Validation Accuracy')\n",
    "mp.title(\"k vs CV Accuracy\")"
   ]
  },
  {
   "cell_type": "code",
   "execution_count": 57,
   "metadata": {},
   "outputs": [
    {
     "data": {
      "text/plain": [
       "Text(0.5,1,'k vs error')"
      ]
     },
     "execution_count": 57,
     "metadata": {},
     "output_type": "execute_result"
    },
    {
     "data": {
      "image/png": "[encoded data removed]",
      "text/plain": [
       "<matplotlib.figure.Figure at 0x1a18301128>"
      ]
     },
     "metadata": {},
     "output_type": "display_data"
    }
   ],
   "source": [
    "mp.plot(l,error)\n",
    "mp.xlabel('k-values')\n",
    "mp.ylabel('error')\n",
    "mp.title(\"k vs error\")"
   ]
  },
  {
   "cell_type": "code",
   "execution_count": 58,
   "metadata": {},
   "outputs": [
    {
     "name": "stdout",
     "output_type": "stream",
     "text": [
      "the best value of k is 9\n"
     ]
    }
   ],
   "source": [
    "best_k = l[error.index(min(error))]\n",
    "print(\"the best value of k is {}\".format(best_k))"
   ]
  },
  {
   "cell_type": "markdown",
   "metadata": {},
   "source": [
    "Observation:\n",
    "    \n",
    "    -> By using k-fold cross validation we got best k value as 9\n",
    "    \n",
    "    -> From the plots we can say that error is less at k = 9 when compared with all of them\n",
    "    \n",
    "    -> By using k = 9 designing the classifier with the training data"
   ]
  },
  {
   "cell_type": "code",
   "execution_count": 59,
   "metadata": {},
   "outputs": [
    {
     "name": "stdout",
     "output_type": "stream",
     "text": [
      "83.22666666666667\n"
     ]
    }
   ],
   "source": [
    "kclas = KNeighborsClassifier(n_neighbors=best_k)\n",
    "kclas.fit(x_train,y_train)\n",
    "predi = kclas.predict(x_test)\n",
    "accur = accuracy_score(y_test,predi,normalize=True)*float(100)\n",
    "print(accur)"
   ]
  },
  {
   "cell_type": "markdown",
   "metadata": {},
   "source": [
    "Observation:\n",
    "    \n",
    "    -> Using the best k value to design the model with train data\n",
    "    \n",
    "    -> The accurancy with the test data is 83.2266"
   ]
  },
  {
   "cell_type": "markdown",
   "metadata": {},
   "source": [
    "TFIDF:\n",
    "\n",
    "TIME BASED SPLITTING OF DATA:\n",
    "\n",
    "     -> K-FOLD CROSS-VALIDATION:\n",
    "\n",
    "     -> TO FIND THE BEST K-VALUE WITH ACCURANCY AS MEASURE"
   ]
  },
  {
   "cell_type": "code",
   "execution_count": 27,
   "metadata": {},
   "outputs": [],
   "source": [
    "tfidf_data = finaldata1.sort_values(\"Time\",axis=0,ascending=True,kind='quicksort',na_position='last',inplace=False)"
   ]
  },
  {
   "cell_type": "markdown",
   "metadata": {},
   "source": [
    "Information about the sorted data:\n",
    "\n",
    "    -> Shape of the data\n",
    "\n",
    "    -> Dimensionality of the data\n",
    "\n",
    "    -> Attributes if the data\n",
    "\n",
    "    -> Sample of modified data"
   ]
  },
  {
   "cell_type": "code",
   "execution_count": 28,
   "metadata": {},
   "outputs": [
    {
     "name": "stdout",
     "output_type": "stream",
     "text": [
      "(100000, 10)\n",
      "2\n",
      "Index(['Id', 'ProductId', 'UserId', 'ProfileName', 'HelpfulnessNumerator',\n",
      "       'HelpfulnessDenominator', 'Score', 'Time', 'Summary', 'Text'],\n",
      "      dtype='object')\n",
      "            Id   ProductId          UserId       ProfileName  \\\n",
      "417839  451856  B00004CXX9   AIUWLEQ1ADEG5  Elizabeth Medina   \n",
      "346055  374359  B00004CI84  A344SMIA5JECGM   Vincent P. Ross   \n",
      "70688    76882  B00002N8SM  A32DW342WBJ6BX       Buttersugar   \n",
      "346094  374400  B00004CI84  A2DEE7F9XKP3ZR            jerome   \n",
      "138017  149789  B00004S1C6  A1KXONFPU2XQ5K  Stephanie Manley   \n",
      "\n",
      "        HelpfulnessNumerator  HelpfulnessDenominator     Score       Time  \\\n",
      "417839                     0                       0  positive  944092800   \n",
      "346055                     1                       2  positive  944438400   \n",
      "70688                      0                       0  positive  948672000   \n",
      "346094                     0                       3  positive  959990400   \n",
      "138017                    26                      28  positive  965779200   \n",
      "\n",
      "                                              Summary  \\\n",
      "417839                           Entertainingl Funny!   \n",
      "346055                        A modern day fairy tale   \n",
      "70688                          A sure death for flies   \n",
      "346094  Research - Beatlejuice video - French version   \n",
      "138017                                   A must have!   \n",
      "\n",
      "                                                     Text  \n",
      "417839  Beetlejuice is a well written movie ..... ever...  \n",
      "346055  A twist of rumplestiskin captured on film, sta...  \n",
      "70688   I bought a few of these after my apartment was...  \n",
      "346094  I'm getting crazy.I'm looking for Beatlejuice ...  \n",
      "138017  These are easy to use, they do not make a mess...  \n"
     ]
    }
   ],
   "source": [
    "print(tfidf_data.shape)\n",
    "print(tfidf_data.ndim)\n",
    "print(tfidf_data.columns)\n",
    "print(tfidf_data.head(5))"
   ]
  },
  {
   "cell_type": "code",
   "execution_count": 29,
   "metadata": {},
   "outputs": [],
   "source": [
    "tfid_vect = TfidfVectorizer(ngram_range=(1,2))"
   ]
  },
  {
   "cell_type": "code",
   "execution_count": 30,
   "metadata": {},
   "outputs": [],
   "source": [
    "tfid_vect_data = tfid_vect.fit_transform(tfidf_data[\"Text\"].values)"
   ]
  },
  {
   "cell_type": "code",
   "execution_count": 31,
   "metadata": {},
   "outputs": [
    {
     "name": "stdout",
     "output_type": "stream",
     "text": [
      "(100000, 1287433)\n",
      "(100000,)\n"
     ]
    }
   ],
   "source": [
    "print(tfid_vect_data.shape)\n",
    "print(tfidf_data[\"Score\"].shape)"
   ]
  },
  {
   "cell_type": "markdown",
   "metadata": {},
   "source": [
    "Splitting the sampled data into test and train:\n",
    "\n",
    "-> Training data contains 70 percent of data\n",
    "\n",
    "-> Test data contains 30 percent of data"
   ]
  },
  {
   "cell_type": "code",
   "execution_count": 32,
   "metadata": {},
   "outputs": [],
   "source": [
    "x_train = tfid_vect_data[0:70000]\n",
    "x_test = tfid_vect_data[70000:100000]\n",
    "y_train = tfidf_data['Score'][0:70000]\n",
    "y_test = tfidf_data['Score'][70000:100000]\n"
   ]
  },
  {
   "cell_type": "code",
   "execution_count": 33,
   "metadata": {},
   "outputs": [
    {
     "name": "stdout",
     "output_type": "stream",
     "text": [
      "(70000, 1287433)\n",
      "(30000, 1287433)\n",
      "(70000,)\n",
      "(30000,)\n"
     ]
    }
   ],
   "source": [
    "print(x_train.shape)\n",
    "print(x_test.shape)\n",
    "print(y_train.shape)\n",
    "print(y_test.shape)"
   ]
  },
  {
   "cell_type": "markdown",
   "metadata": {},
   "source": [
    "TIME BASED SPLITTING:\n",
    "    \n",
    "    K-FOLD CROSS VALIDATION"
   ]
  },
  {
   "cell_type": "code",
   "execution_count": 34,
   "metadata": {},
   "outputs": [
    {
     "name": "stdout",
     "output_type": "stream",
     "text": [
      "[1, 3, 5, 7, 9, 11, 13, 15, 17, 19, 21, 23, 25, 27, 29]\n"
     ]
    }
   ],
   "source": [
    "l = list(np.arange(1,30,2))\n",
    "print(l)"
   ]
  },
  {
   "cell_type": "code",
   "execution_count": 71,
   "metadata": {},
   "outputs": [],
   "source": [
    "cross_validation_scores = []\n",
    "for k in l:\n",
    "    classif = KNeighborsClassifier(n_neighbors=k)\n",
    "    score = cross_val_score(classif,x_train,y_train,cv=10,scoring='accuracy')\n",
    "    cross_validation_scores.append(score.mean())\n",
    "    "
   ]
  },
  {
   "cell_type": "code",
   "execution_count": 72,
   "metadata": {},
   "outputs": [
    {
     "name": "stdout",
     "output_type": "stream",
     "text": [
      "Cross Validation Accuracy Scores\n",
      "[0.8475139805615098, 0.8578856093446042, 0.863228519657725, 0.8653428870478141, 0.8665142789084547, 0.867514401377845, 0.8669716176932983, 0.866400127885717, 0.8660715829810528, 0.8658715625688075, 0.8651001707163302, 0.864414480906418, 0.8641001584510237, 0.864042946204958, 0.8634000992530633]\n",
      "errors\n",
      "[0.15248601943849016, 0.14211439065539577, 0.13677148034227504, 0.13465711295218585, 0.13348572109154533, 0.13248559862215503, 0.13302838230670166, 0.13359987211428304, 0.1339284170189472, 0.13412843743119252, 0.13489982928366984, 0.13558551909358196, 0.13589984154897627, 0.13595705379504197, 0.13659990074693673]\n"
     ]
    }
   ],
   "source": [
    "error = [1 - x for x in cross_validation_scores]\n",
    "print(\"Cross Validation Accuracy Scores\")\n",
    "print(cross_validation_scores)\n",
    "print(\"errors\")\n",
    "print(error)"
   ]
  },
  {
   "cell_type": "code",
   "execution_count": 73,
   "metadata": {},
   "outputs": [
    {
     "data": {
      "text/plain": [
       "Text(0.5,1,'k vs CV Accuracy')"
      ]
     },
     "execution_count": 73,
     "metadata": {},
     "output_type": "execute_result"
    },
    {
     "data": {
      "image/png": "[encoded data removed]",
      "text/plain": [
       "<matplotlib.figure.Figure at 0x1a56f520f0>"
      ]
     },
     "metadata": {},
     "output_type": "display_data"
    }
   ],
   "source": [
    "mp.plot(l,cross_validation_scores)\n",
    "mp.xlabel('k-values')\n",
    "mp.ylabel('Cross Validation Accuracy')\n",
    "mp.title(\"k vs CV Accuracy\")"
   ]
  },
  {
   "cell_type": "code",
   "execution_count": 77,
   "metadata": {},
   "outputs": [
    {
     "data": {
      "text/plain": [
       "Text(0.5,1,'k vs Error')"
      ]
     },
     "execution_count": 77,
     "metadata": {},
     "output_type": "execute_result"
    },
    {
     "data": {
      "image/png": "[encoded data removed]",
      "text/plain": [
       "<matplotlib.figure.Figure at 0x1a6e40b400>"
      ]
     },
     "metadata": {},
     "output_type": "display_data"
    }
   ],
   "source": [
    "mp.plot(l,error)\n",
    "mp.xlabel('k-values')\n",
    "mp.ylabel('error')\n",
    "mp.title(\"k vs Error\")"
   ]
  },
  {
   "cell_type": "code",
   "execution_count": 78,
   "metadata": {},
   "outputs": [
    {
     "name": "stdout",
     "output_type": "stream",
     "text": [
      "the best value of k is 11\n"
     ]
    }
   ],
   "source": [
    "best_k = l[error.index(min(error))]\n",
    "print(\"the best value of k is {}\".format(best_k))"
   ]
  },
  {
   "cell_type": "markdown",
   "metadata": {},
   "source": [
    "Observation:\n",
    "    \n",
    "    -> By using k-fold cross validation we got best k value as 11\n",
    "    \n",
    "    -> From the plots we can say that error is less at k = 11 when compared with all of them\n",
    "    \n",
    "    -> By using k = 11 designing the classifier with the training data"
   ]
  },
  {
   "cell_type": "code",
   "execution_count": 79,
   "metadata": {},
   "outputs": [
    {
     "name": "stdout",
     "output_type": "stream",
     "text": [
      "84.98333333333333\n"
     ]
    }
   ],
   "source": [
    "kclas = KNeighborsClassifier(n_neighbors=best_k)\n",
    "kclas.fit(x_train,y_train)\n",
    "predi = kclas.predict(x_test)\n",
    "accur = accuracy_score(y_test,predi,normalize=True)*float(100)\n",
    "print(accur)"
   ]
  },
  {
   "cell_type": "markdown",
   "metadata": {},
   "source": [
    "Observation:\n",
    "\n",
    "    -> Using the best k value to design the model with train data\n",
    "    \n",
    "    -> The accurancy with the test data is 84.9833"
   ]
  },
  {
   "cell_type": "markdown",
   "metadata": {},
   "source": [
    "CONSTRUCTING VECTOR REPRESENTATION OF EACH IN THE DATA BY USING WORD2VEC"
   ]
  },
  {
   "cell_type": "code",
   "execution_count": 35,
   "metadata": {},
   "outputs": [],
   "source": [
    "import gensim\n",
    "from gensim.models import word2vec"
   ]
  },
  {
   "cell_type": "markdown",
   "metadata": {},
   "source": [
    "-> Importing the required libraries\n",
    "\n",
    "-> Functions to clean the sentences\n",
    "\n",
    "-> Constructing the word2vec from the sample subset data"
   ]
  },
  {
   "cell_type": "code",
   "execution_count": 36,
   "metadata": {},
   "outputs": [],
   "source": [
    "import re\n",
    "def cleanhtml(sentence):\n",
    "    clean = re.compile(\"<.*?>\")\n",
    "    cleantext = re.sub(clean,\" \",sentence)\n",
    "    return cleantext\n",
    "def cleanpunct(sentence):\n",
    "    cleanr = re.sub(r\"[?|!|\\|'|#|.|,|)|(|/]\",r' ',sentence)\n",
    "    return cleanr"
   ]
  },
  {
   "cell_type": "code",
   "execution_count": 37,
   "metadata": {},
   "outputs": [],
   "source": [
    "sorted_w2vec = finaldata1.sort_values(\"Time\",axis=0,ascending=True,kind='quicksort',na_position='last',inplace=False)"
   ]
  },
  {
   "cell_type": "markdown",
   "metadata": {},
   "source": [
    "Information about the sorted data:\n",
    "\n",
    "    -> Shape of the data\n",
    "\n",
    "    -> Dimensionality of the data\n",
    "\n",
    "    -> Attributes if the data\n",
    "\n",
    "    -> Sample of modified data"
   ]
  },
  {
   "cell_type": "code",
   "execution_count": 38,
   "metadata": {},
   "outputs": [
    {
     "name": "stdout",
     "output_type": "stream",
     "text": [
      "(100000, 10)\n",
      "2\n",
      "Index(['Id', 'ProductId', 'UserId', 'ProfileName', 'HelpfulnessNumerator',\n",
      "       'HelpfulnessDenominator', 'Score', 'Time', 'Summary', 'Text'],\n",
      "      dtype='object')\n",
      "            Id   ProductId          UserId       ProfileName  \\\n",
      "417839  451856  B00004CXX9   AIUWLEQ1ADEG5  Elizabeth Medina   \n",
      "346055  374359  B00004CI84  A344SMIA5JECGM   Vincent P. Ross   \n",
      "70688    76882  B00002N8SM  A32DW342WBJ6BX       Buttersugar   \n",
      "346094  374400  B00004CI84  A2DEE7F9XKP3ZR            jerome   \n",
      "138017  149789  B00004S1C6  A1KXONFPU2XQ5K  Stephanie Manley   \n",
      "\n",
      "        HelpfulnessNumerator  HelpfulnessDenominator     Score       Time  \\\n",
      "417839                     0                       0  positive  944092800   \n",
      "346055                     1                       2  positive  944438400   \n",
      "70688                      0                       0  positive  948672000   \n",
      "346094                     0                       3  positive  959990400   \n",
      "138017                    26                      28  positive  965779200   \n",
      "\n",
      "                                              Summary  \\\n",
      "417839                           Entertainingl Funny!   \n",
      "346055                        A modern day fairy tale   \n",
      "70688                          A sure death for flies   \n",
      "346094  Research - Beatlejuice video - French version   \n",
      "138017                                   A must have!   \n",
      "\n",
      "                                                     Text  \n",
      "417839  Beetlejuice is a well written movie ..... ever...  \n",
      "346055  A twist of rumplestiskin captured on film, sta...  \n",
      "70688   I bought a few of these after my apartment was...  \n",
      "346094  I'm getting crazy.I'm looking for Beatlejuice ...  \n",
      "138017  These are easy to use, they do not make a mess...  \n"
     ]
    }
   ],
   "source": [
    "print(sorted_w2vec.shape)\n",
    "print(sorted_w2vec.ndim)\n",
    "print(sorted_w2vec.columns)\n",
    "print(sorted_w2vec.head(5))"
   ]
  },
  {
   "cell_type": "code",
   "execution_count": 39,
   "metadata": {},
   "outputs": [],
   "source": [
    "i=0\n",
    "sentences_list=[]\n",
    "for sent in sorted_w2vec['Text'].values:\n",
    "    filtered_sentences = []\n",
    "    sent = cleanhtml(sent)\n",
    "    for w in sent.split():\n",
    "        for cleanedwords in cleanpunct(w).split():\n",
    "            if(cleanedwords.isalpha()):\n",
    "                filtered_sentences.append(cleanedwords.lower())\n",
    "    sentences_list.append(filtered_sentences)   \n",
    "    \n",
    "    "
   ]
  },
  {
   "cell_type": "code",
   "execution_count": 40,
   "metadata": {},
   "outputs": [
    {
     "name": "stdout",
     "output_type": "stream",
     "text": [
      "100000\n",
      "<class 'list'>\n"
     ]
    }
   ],
   "source": [
    "print(len(sentences_list))\n",
    "print(type(sentences_list))"
   ]
  },
  {
   "cell_type": "code",
   "execution_count": 41,
   "metadata": {},
   "outputs": [],
   "source": [
    "w2vmodel = gensim.models.Word2Vec(sentences_list,min_count=4,size=40,workers=4)"
   ]
  },
  {
   "cell_type": "markdown",
   "metadata": {},
   "source": [
    "-> Most similar word\n",
    "\n",
    "-> Similarity between the words\n",
    "\n",
    "-> Dimensionality representation of a word"
   ]
  },
  {
   "cell_type": "code",
   "execution_count": 42,
   "metadata": {},
   "outputs": [
    {
     "name": "stdout",
     "output_type": "stream",
     "text": [
      "[('mickey', 0.7368489503860474), ('anyhow', 0.7226568460464478), ('focaccia', 0.709900975227356), ('fern', 0.7098590731620789), ('mike', 0.699766993522644), ('boomer', 0.6946572661399841), ('themed', 0.6860719919204712), ('merry', 0.6846867799758911), ('claxton', 0.6834409236907959), ('samoas', 0.6817569732666016)]\n",
      "0.5446572411054558\n",
      "[ 0.29999846 -0.19882171 -0.41949722 -0.4891025  -0.3457285   0.03067495\n",
      "  0.33179036  0.11951371 -0.3910432  -0.33136272 -0.08102001  0.09156115\n",
      "  0.2493193   0.2969718   0.23660749 -0.362925   -0.38329345  0.02786745\n",
      "  0.2396555  -0.12413767  0.32540685 -0.04338589  0.27390665  0.233951\n",
      " -0.24852224  0.18082564  0.3852502   0.25250012 -0.04117521  0.1665598\n",
      " -0.1021607   0.06984844  0.10276769  0.21571645  0.4212314   0.19228005\n",
      "  0.01020537  0.06221204 -0.18181211  0.15039672]\n"
     ]
    },
    {
     "name": "stderr",
     "output_type": "stream",
     "text": [
      "/Users/vthumati/anaconda3/lib/python3.6/site-packages/ipykernel_launcher.py:1: DeprecationWarning: Call to deprecated `most_similar` (Method will be removed in 4.0.0, use self.wv.most_similar() instead).\n",
      "  \"\"\"Entry point for launching an IPython kernel.\n",
      "/Users/vthumati/anaconda3/lib/python3.6/site-packages/ipykernel_launcher.py:2: DeprecationWarning: Call to deprecated `similarity` (Method will be removed in 4.0.0, use self.wv.similarity() instead).\n",
      "  \n"
     ]
    }
   ],
   "source": [
    "print(w2vmodel.most_similar(\"hello\"))\n",
    "print(w2vmodel.similarity(\"hello\",'hi'))\n",
    "print(w2vmodel.wv['hello'])"
   ]
  },
  {
   "cell_type": "markdown",
   "metadata": {},
   "source": [
    "Observation:\n",
    "    \n",
    "    -> We have constructed the vector representation of each word\n",
    "    \n",
    "    -> Using this model to construct vector representation of each sentence in average word2vec and tfidf-word2vec"
   ]
  },
  {
   "cell_type": "code",
   "execution_count": null,
   "metadata": {},
   "outputs": [],
   "source": []
  },
  {
   "cell_type": "markdown",
   "metadata": {},
   "source": [
    "AVERAGE WORD2VEC\n",
    "\n",
    "    -> Here i am using the word2vec model to construct vector representation of each sentence\n",
    "\n",
    "    -> Sorting the data based on the time"
   ]
  },
  {
   "cell_type": "code",
   "execution_count": 43,
   "metadata": {},
   "outputs": [
    {
     "name": "stdout",
     "output_type": "stream",
     "text": [
      "100000\n",
      "40\n"
     ]
    }
   ],
   "source": [
    "\n",
    "sent_vectors = []\n",
    "for sent in sentences_list: \n",
    "    sent_vec = np.zeros(40) \n",
    "    cnt=0\n",
    "    for word in sent:\n",
    "        try:\n",
    "            vec = w2vmodel.wv[word]\n",
    "            sent_vec += vec\n",
    "            cnt += 1\n",
    "        except:\n",
    "            pass\n",
    "    sent_vec /= cnt\n",
    "    sent_vectors.append(sent_vec)\n",
    "print(len(sent_vectors))\n",
    "print(len(sent_vectors[88888]))"
   ]
  },
  {
   "cell_type": "code",
   "execution_count": 44,
   "metadata": {},
   "outputs": [
    {
     "data": {
      "text/plain": [
       "False"
      ]
     },
     "execution_count": 44,
     "metadata": {},
     "output_type": "execute_result"
    }
   ],
   "source": [
    "np.isnan(sent_vectors).any()"
   ]
  },
  {
   "cell_type": "code",
   "execution_count": 45,
   "metadata": {},
   "outputs": [
    {
     "data": {
      "text/plain": [
       "list"
      ]
     },
     "execution_count": 45,
     "metadata": {},
     "output_type": "execute_result"
    }
   ],
   "source": [
    "type(sent_vectors)"
   ]
  },
  {
   "cell_type": "code",
   "execution_count": 46,
   "metadata": {},
   "outputs": [],
   "source": [
    "sent_vectors = np.nan_to_num(sent_vectors)"
   ]
  },
  {
   "cell_type": "code",
   "execution_count": 47,
   "metadata": {},
   "outputs": [
    {
     "data": {
      "text/plain": [
       "numpy.ndarray"
      ]
     },
     "execution_count": 47,
     "metadata": {},
     "output_type": "execute_result"
    }
   ],
   "source": [
    "type(sent_vectors)"
   ]
  },
  {
   "cell_type": "code",
   "execution_count": 48,
   "metadata": {},
   "outputs": [
    {
     "data": {
      "text/plain": [
       "(100000, 40)"
      ]
     },
     "execution_count": 48,
     "metadata": {},
     "output_type": "execute_result"
    }
   ],
   "source": [
    "sent_vectors.shape"
   ]
  },
  {
   "cell_type": "code",
   "execution_count": 49,
   "metadata": {},
   "outputs": [],
   "source": [
    "x_train = sent_vectors[0:70000]\n",
    "x_test = sent_vectors[70000:100000]\n",
    "y_train = sorted_w2vec['Score'][0:70000]\n",
    "y_test = sorted_w2vec['Score'][70000:100000]"
   ]
  },
  {
   "cell_type": "code",
   "execution_count": 50,
   "metadata": {},
   "outputs": [
    {
     "name": "stdout",
     "output_type": "stream",
     "text": [
      "(70000, 40)\n",
      "(30000, 40)\n",
      "(70000,)\n",
      "(30000,)\n"
     ]
    }
   ],
   "source": [
    "print(x_train.shape)\n",
    "print(x_test.shape)\n",
    "print(y_train.shape)\n",
    "print(y_test.shape)"
   ]
  },
  {
   "cell_type": "code",
   "execution_count": 51,
   "metadata": {},
   "outputs": [
    {
     "name": "stdout",
     "output_type": "stream",
     "text": [
      "[1, 3, 5, 7, 9, 11, 13, 15, 17, 19, 21, 23, 25, 27, 29]\n"
     ]
    }
   ],
   "source": [
    "print(l)"
   ]
  },
  {
   "cell_type": "code",
   "execution_count": 52,
   "metadata": {},
   "outputs": [],
   "source": [
    "from sklearn.cross_validation import cross_val_score"
   ]
  },
  {
   "cell_type": "code",
   "execution_count": 53,
   "metadata": {},
   "outputs": [],
   "source": [
    "cross_validation_scores = []\n",
    "for k in l:\n",
    "    classif = KNeighborsClassifier(n_neighbors=k)\n",
    "    score = cross_val_score(classif,x_train,y_train,cv=10,scoring='accuracy')\n",
    "    cross_validation_scores.append(score.mean())\n",
    "    "
   ]
  },
  {
   "cell_type": "code",
   "execution_count": 54,
   "metadata": {},
   "outputs": [
    {
     "name": "stdout",
     "output_type": "stream",
     "text": [
      "Cross Validation Accuracy Scores\n",
      "[0.8293284544422717, 0.8614428912836741, 0.8692571606994173, 0.8718571300880464, 0.873614285205831, 0.873585701530612, 0.8744857484731785, 0.8742428852075808, 0.8747000239784262, 0.8746142688775507, 0.8741142811218658, 0.8743285770411079, 0.8747142913268224, 0.8742857015282797, 0.8737857035705536]\n",
      "errors\n",
      "[0.17067154555772834, 0.13855710871632587, 0.13074283930058272, 0.12814286991195356, 0.12638571479416905, 0.126414298469388, 0.1255142515268215, 0.12575711479241924, 0.12529997602157383, 0.12538573112244933, 0.12588571887813416, 0.1256714229588921, 0.12528570867317756, 0.12571429847172033, 0.12621429642944637]\n"
     ]
    }
   ],
   "source": [
    "error = [1 - x for x in cross_validation_scores]\n",
    "print(\"Cross Validation Accuracy Scores\")\n",
    "print(cross_validation_scores)\n",
    "print(\"errors\")\n",
    "print(error)"
   ]
  },
  {
   "cell_type": "code",
   "execution_count": 55,
   "metadata": {},
   "outputs": [
    {
     "data": {
      "text/plain": [
       "Text(0.5,1,'k vs CV Accuracy')"
      ]
     },
     "execution_count": 55,
     "metadata": {},
     "output_type": "execute_result"
    },
    {
     "data": {
      "image/png": "[encoded data removed]",
      "text/plain": [
       "<matplotlib.figure.Figure at 0x1a3fff6208>"
      ]
     },
     "metadata": {},
     "output_type": "display_data"
    }
   ],
   "source": [
    "mp.plot(l,cross_validation_scores)\n",
    "mp.xlabel('k-values')\n",
    "mp.ylabel('Cross Validation Accuracy')\n",
    "mp.title(\"k vs CV Accuracy\")"
   ]
  },
  {
   "cell_type": "code",
   "execution_count": 56,
   "metadata": {},
   "outputs": [
    {
     "data": {
      "text/plain": [
       "Text(0.5,1,'k vs Error')"
      ]
     },
     "execution_count": 56,
     "metadata": {},
     "output_type": "execute_result"
    },
    {
     "data": {
      "image/png": "[encoded data removed]",
      "text/plain": [
       "<matplotlib.figure.Figure at 0x1a3fff6668>"
      ]
     },
     "metadata": {},
     "output_type": "display_data"
    }
   ],
   "source": [
    "mp.plot(l,error)\n",
    "mp.xlabel('k-values')\n",
    "mp.ylabel('error')\n",
    "mp.title(\"k vs Error\")"
   ]
  },
  {
   "cell_type": "code",
   "execution_count": 57,
   "metadata": {},
   "outputs": [
    {
     "name": "stdout",
     "output_type": "stream",
     "text": [
      "the best value of k is 25\n"
     ]
    }
   ],
   "source": [
    "best_k = l[error.index(min(error))]\n",
    "print(\"the best value of k is {}\".format(best_k))"
   ]
  },
  {
   "cell_type": "markdown",
   "metadata": {},
   "source": [
    "Observation:\n",
    "    \n",
    "    -> By using k-fold cross validation we got best k value as 25\n",
    "    \n",
    "    -> From the plots we can say that error is less at k = 25 when compared with all of them\n",
    "    \n",
    "    -> By using k = 25 designing the classifier with the training data"
   ]
  },
  {
   "cell_type": "code",
   "execution_count": 58,
   "metadata": {},
   "outputs": [
    {
     "name": "stdout",
     "output_type": "stream",
     "text": [
      "85.71666666666667\n"
     ]
    }
   ],
   "source": [
    "kclas = KNeighborsClassifier(n_neighbors=best_k)\n",
    "kclas.fit(x_train,y_train)\n",
    "predi = kclas.predict(x_test)\n",
    "accur = accuracy_score(y_test,predi,normalize=True)*float(100)\n",
    "print(accur)"
   ]
  },
  {
   "cell_type": "markdown",
   "metadata": {},
   "source": [
    "Observation:\n",
    "\n",
    "    -> Using the best k value to design the model with train data\n",
    "    \n",
    "    -> The accurancy with the test data is 85.71"
   ]
  },
  {
   "cell_type": "code",
   "execution_count": null,
   "metadata": {},
   "outputs": [],
   "source": []
  },
  {
   "cell_type": "markdown",
   "metadata": {},
   "source": []
  },
  {
   "cell_type": "markdown",
   "metadata": {},
   "source": [
    "TFIDF-WORD2VEC:\n",
    "    \n",
    "    Here i am using the TFIDF-WORD2VEC eith the help of word2vec model to construct vector represenation of each sentence"
   ]
  },
  {
   "cell_type": "code",
   "execution_count": 53,
   "metadata": {},
   "outputs": [
    {
     "name": "stderr",
     "output_type": "stream",
     "text": [
      "/Users/vthumati/anaconda3/lib/python3.6/site-packages/ipykernel_launcher.py:20: RuntimeWarning: invalid value encountered in true_divide\n"
     ]
    }
   ],
   "source": [
    "\n",
    "tfidf_feat = tfid_vect.get_feature_names() \n",
    "\n",
    "tfidf_sent_vectors = []\n",
    "\n",
    "row=0\n",
    "for sent in sentences_list: \n",
    "    sent_vec = np.zeros(40) \n",
    "    sum =0\n",
    "    for word in sent: \n",
    "        try:\n",
    "            vec = w2v_model.wv[word]\n",
    "           \n",
    "            tfidf = tfid_vect_data[row, tfidf_feat.index(word)]\n",
    "            sent_vec += (vec * tf_idf)\n",
    "            sum += tf_idf\n",
    "        except:\n",
    "            pass\n",
    "    sent_vec /= sum\n",
    "    tfidf_sent_vectors.append(sent_vec)\n",
    "    row += 1\n",
    "    \n",
    "\n",
    "    "
   ]
  },
  {
   "cell_type": "code",
   "execution_count": 54,
   "metadata": {},
   "outputs": [
    {
     "name": "stdout",
     "output_type": "stream",
     "text": [
      "100000\n",
      "40\n"
     ]
    }
   ],
   "source": [
    "print(len(tfidf_sent_vectors))\n",
    "print(len(tfidf_sent_vectors[99999]))"
   ]
  },
  {
   "cell_type": "code",
   "execution_count": 55,
   "metadata": {},
   "outputs": [
    {
     "data": {
      "text/plain": [
       "list"
      ]
     },
     "execution_count": 55,
     "metadata": {},
     "output_type": "execute_result"
    }
   ],
   "source": [
    "type(tfidf_sent_vectors)"
   ]
  },
  {
   "cell_type": "code",
   "execution_count": 56,
   "metadata": {},
   "outputs": [
    {
     "data": {
      "text/plain": [
       "True"
      ]
     },
     "execution_count": 56,
     "metadata": {},
     "output_type": "execute_result"
    }
   ],
   "source": [
    "np.isnan(tfidf_sent_vectors).any()"
   ]
  },
  {
   "cell_type": "code",
   "execution_count": 57,
   "metadata": {},
   "outputs": [],
   "source": [
    "tfidf_sent_vectors = np.nan_to_num(tfidf_sent_vectors)"
   ]
  },
  {
   "cell_type": "code",
   "execution_count": 58,
   "metadata": {},
   "outputs": [
    {
     "data": {
      "text/plain": [
       "False"
      ]
     },
     "execution_count": 58,
     "metadata": {},
     "output_type": "execute_result"
    }
   ],
   "source": [
    "np.isnan(tfidf_sent_vectors).any()"
   ]
  },
  {
   "cell_type": "code",
   "execution_count": 60,
   "metadata": {},
   "outputs": [],
   "source": [
    "x_train = tfidf_sent_vectors[0:70000]\n",
    "x_test = tfidf_sent_vectors[70000:]\n",
    "y_train = sorted_w2vec['Score'][0:70000]\n",
    "y_test = sorted_w2vec['Score'][70000:]"
   ]
  },
  {
   "cell_type": "code",
   "execution_count": 62,
   "metadata": {},
   "outputs": [
    {
     "name": "stdout",
     "output_type": "stream",
     "text": [
      "(70000, 40)\n",
      "(30000, 40)\n",
      "(70000,)\n",
      "(30000,)\n"
     ]
    }
   ],
   "source": [
    "print(x_train.shape)\n",
    "print(x_test.shape)\n",
    "print(y_train.shape)\n",
    "print(y_test.shape)"
   ]
  },
  {
   "cell_type": "code",
   "execution_count": 63,
   "metadata": {},
   "outputs": [
    {
     "name": "stdout",
     "output_type": "stream",
     "text": [
      "[1, 3, 5, 7, 9, 11, 13, 15, 17, 19, 21, 23, 25, 27, 29]\n"
     ]
    }
   ],
   "source": [
    "print(l)"
   ]
  },
  {
   "cell_type": "code",
   "execution_count": 64,
   "metadata": {},
   "outputs": [],
   "source": [
    "from sklearn.cross_validation import cross_val_score"
   ]
  },
  {
   "cell_type": "code",
   "execution_count": 65,
   "metadata": {},
   "outputs": [],
   "source": [
    "cross_validation_scores = []\n",
    "for k in l:\n",
    "    classif = KNeighborsClassifier(n_neighbors=k)\n",
    "    score = cross_val_score(classif,x_train,y_train,cv=10,scoring='accuracy')\n",
    "    cross_validation_scores.append(score.mean())\n",
    "    "
   ]
  },
  {
   "cell_type": "code",
   "execution_count": 66,
   "metadata": {},
   "outputs": [
    {
     "name": "stdout",
     "output_type": "stream",
     "text": [
      "Cross Validation Accuracy Scores\n",
      "[0.8506285771533528, 0.8506285771533528, 0.8506285771533528, 0.8506285771533528, 0.8506285771533528, 0.8506285771533528, 0.8506285771533528, 0.8506285771533528, 0.8506285771533528, 0.8506285771533528, 0.8506285771533528, 0.8506285771533528, 0.8506285771533528, 0.8506285771533528, 0.8506285771533528]\n",
      "errors\n",
      "[0.14937142284664717, 0.14937142284664717, 0.14937142284664717, 0.14937142284664717, 0.14937142284664717, 0.14937142284664717, 0.14937142284664717, 0.14937142284664717, 0.14937142284664717, 0.14937142284664717, 0.14937142284664717, 0.14937142284664717, 0.14937142284664717, 0.14937142284664717, 0.14937142284664717]\n"
     ]
    }
   ],
   "source": [
    "error = [1 - x for x in cross_validation_scores]\n",
    "print(\"Cross Validation Accuracy Scores\")\n",
    "print(cross_validation_scores)\n",
    "print(\"errors\")\n",
    "print(error)"
   ]
  },
  {
   "cell_type": "code",
   "execution_count": 67,
   "metadata": {},
   "outputs": [
    {
     "data": {
      "text/plain": [
       "Text(0.5,1,'k vs CV Accuracy')"
      ]
     },
     "execution_count": 67,
     "metadata": {},
     "output_type": "execute_result"
    },
    {
     "data": {
      "image/png": "[encoded data removed]",
      "text/plain": [
       "<matplotlib.figure.Figure at 0x1a47042780>"
      ]
     },
     "metadata": {},
     "output_type": "display_data"
    }
   ],
   "source": [
    "mp.plot(l,cross_validation_scores)\n",
    "mp.xlabel('k-values')\n",
    "mp.ylabel('Cross Validation Accuracy')\n",
    "mp.title(\"k vs CV Accuracy\")"
   ]
  },
  {
   "cell_type": "code",
   "execution_count": 68,
   "metadata": {},
   "outputs": [
    {
     "data": {
      "text/plain": [
       "Text(0.5,1,'k vs Error')"
      ]
     },
     "execution_count": 68,
     "metadata": {},
     "output_type": "execute_result"
    },
    {
     "data": {
      "image/png": "[encoded data removed]",
      "text/plain": [
       "<matplotlib.figure.Figure at 0x1a451c9e48>"
      ]
     },
     "metadata": {},
     "output_type": "display_data"
    }
   ],
   "source": [
    "mp.plot(l,error)\n",
    "mp.xlabel('k-values')\n",
    "mp.ylabel('error')\n",
    "mp.title(\"k vs Error\")"
   ]
  },
  {
   "cell_type": "code",
   "execution_count": 69,
   "metadata": {},
   "outputs": [
    {
     "name": "stdout",
     "output_type": "stream",
     "text": [
      "the best value of k is 1\n"
     ]
    }
   ],
   "source": [
    "best_k = l[error.index(min(error))]\n",
    "print(\"the best value of k is {}\".format(best_k))"
   ]
  },
  {
   "cell_type": "code",
   "execution_count": 70,
   "metadata": {},
   "outputs": [
    {
     "name": "stdout",
     "output_type": "stream",
     "text": [
      "82.47\n"
     ]
    }
   ],
   "source": [
    "kclas = KNeighborsClassifier(n_neighbors=best_k)\n",
    "kclas.fit(x_train,y_train)\n",
    "predi = kclas.predict(x_test)\n",
    "accur = accuracy_score(y_test,predi,normalize=True)*float(100)\n",
    "print(accur)"
   ]
  },
  {
   "cell_type": "markdown",
   "metadata": {},
   "source": [
    " Observation:\n",
    "\n",
    "    -> Using the best k value which is 1 to design the model with train data\n",
    "    \n",
    "    -> The accurancy with the test data is 82.47"
   ]
  },
  {
   "cell_type": "markdown",
   "metadata": {},
   "source": [
    "CONCLUSION:\n",
    "    \n",
    "    RANDOM BASED SPLITTING:\n",
    "        \n",
    "        -> THIS IS PERFORMED ONLY ON BAG OF WORDS TECHNIQUE\n",
    "        \n",
    "        -> BOTH SIMPLE CROSS VALIDATION AND 10-FOLD CROSS VALIDATION ARE PERFORMED ON THIS \n",
    "           TECHNIQUE\n",
    "        \n",
    "        -> IN SIMPLE CROSS VALIDATION THE BEST K - VALUE IS 11 AND THE ACCURACY IS 84.67\n",
    "        \n",
    "        -> IN 10-FOLD CROSS VALIDATION THE BEST K - VALUE IS 7 AND THE ACCURACY IS 84.83\n",
    "        \n",
    "    TIME BASED SPLITTING:\n",
    "        \n",
    "        -> THIS IS PERFORMED ON BAG OF WORDS, TFIDF, AVERAGE WORD2VEC\n",
    "        \n",
    "        USING 10 - FOLD CROSS VALIDATION:\n",
    "            \n",
    "            BAG OF WORDS:\n",
    "                \n",
    "                -> THE BEST K - VALUE IS 9 AND THE ACCURANCY IS 83.22\n",
    "                \n",
    "            TFIDF:\n",
    "                \n",
    "                -> THE BEST K - VALUE IS 11 AND THE ACCURACY IS 84.98\n",
    "                \n",
    "            AVERAGE WORD2VEC:\n",
    "                \n",
    "                -> THE BEST K - VALUE IS 25 AND THE ACCURACY IS 85.71\n",
    "                \n",
    "            TFIDF-WORD2VEC:\n",
    "                \n",
    "                -> THE BEST K - VALUE IS 1 AND ACCURACY IS 82.47\n",
    "                "
   ]
  },
  {
   "cell_type": "code",
   "execution_count": null,
   "metadata": {},
   "outputs": [],
   "source": []
  }
 ],
 "metadata": {
  "kernelspec": {
   "display_name": "Python 3",
   "language": "python",
   "name": "python3"
  },
  "language_info": {
   "codemirror_mode": {
    "name": "ipython",
    "version": 3
   },
   "file_extension": ".py",
   "mimetype": "text/x-python",
   "name": "python",
   "nbconvert_exporter": "python",
   "pygments_lexer": "ipython3",
   "version": "3.6.4"
  }
 },
 "nbformat": 4,
 "nbformat_minor": 2
}
