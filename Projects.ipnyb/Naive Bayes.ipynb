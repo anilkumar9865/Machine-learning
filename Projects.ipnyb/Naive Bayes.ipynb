{
 "cells": [
  {
   "cell_type": "markdown",
   "metadata": {},
   "source": [
    "Information about data:\n",
    "\n",
    "                     ->We have the amazon reviews dataset from kaggle\n",
    "                     \n",
    "                     ->Reviews are given for the product\n",
    "                     \n",
    "                     ->The features of the data were:\n",
    "                     \n",
    "                           Id\n",
    "                           \n",
    "                           ProductId- unique identifier for the product\n",
    "                           \n",
    "                           UserId- unqiue identifier for the user\n",
    "                           \n",
    "                           ProfileName\n",
    "                           \n",
    "                           HelpfullnessNumerator- number of users who found the review helpful\n",
    "                           \n",
    "                           HelpfulnessDenominator- number of users who indicated whether they \n",
    "                           found the reiew helpful or not\n",
    "                           \n",
    "                           Score-rating between 1 and 5\n",
    "                           \n",
    "                           Time-timestamp for the review\n",
    "                           \n",
    "                           Summary- brief summary of the review\n",
    "                           \n",
    "                           Text- text of the review\n",
    "                       \n",
    "                     -> Based on the score of the review we review we classify them into positive \n",
    "                        and negative\n",
    "                     \n",
    "                     Number of reviews: 568,454\n",
    "\n",
    "                     \n",
    "                    \n",
    "                     \n",
    "                  "
   ]
  },
  {
   "cell_type": "markdown",
   "metadata": {},
   "source": [
    "Objective:\n",
    "    \n",
    "    -> Classification of test and train data should be based on time\n",
    "    \n",
    "    -> Applying NAIVE BAYES model on the amazon food review dataset\n",
    "    \n",
    "    -> Finding the Laplace Smoothing parameter(alpha) by performing cross validation\n",
    "    \n",
    "    -> Important features for the class labels in the dataset\n",
    "    \n",
    "    -> Performance measure using:\n",
    "              \n",
    "                   -> Accuracy\n",
    "                \n",
    "                   -> Precision \n",
    "                    \n",
    "                   -> Recall\n",
    "                  \n",
    "                   -> F-1 Score\n",
    "                \n",
    "                   -> Confusion Matrix :\n",
    "                            \n",
    "                              -> TPR\n",
    "                                \n",
    "                              -> TNR\n",
    "                            \n",
    "                              -> FPR\n",
    "                                \n",
    "                              -> FNR"
   ]
  },
  {
   "cell_type": "markdown",
   "metadata": {},
   "source": [
    "Importing the required libraries"
   ]
  },
  {
   "cell_type": "code",
   "execution_count": 1,
   "metadata": {},
   "outputs": [],
   "source": [
    "import sqlite3\n",
    "import numpy as np\n",
    "import pandas as pd\n",
    "import matplotlib.pyplot as mp\n",
    "from sklearn.feature_extraction.text import TfidfTransformer,TfidfVectorizer,CountVectorizer\n",
    "from sklearn.metrics import accuracy_score,confusion_matrix,f1_score,precision_score,recall_score"
   ]
  },
  {
   "cell_type": "markdown",
   "metadata": {},
   "source": [
    "Using the sqlite3 to load data"
   ]
  },
  {
   "cell_type": "code",
   "execution_count": 2,
   "metadata": {},
   "outputs": [],
   "source": [
    "con = sqlite3.connect(\"database.sqlite\")"
   ]
  },
  {
   "cell_type": "markdown",
   "metadata": {},
   "source": [
    "Filtering the reviews with positive and negative based on the score"
   ]
  },
  {
   "cell_type": "code",
   "execution_count": 3,
   "metadata": {},
   "outputs": [],
   "source": [
    " \n",
    "filtereddata = pd.read_sql_query(\"SELECT * FROM Reviews WHERE Score !=3\",con) "
   ]
  },
  {
   "cell_type": "markdown",
   "metadata": {},
   "source": [
    "Information about the data:\n",
    "    \n",
    "    ->The shape of data\n",
    "    \n",
    "    ->dimensionality of data\n",
    "    \n",
    "    ->Number of features\n",
    "    \n",
    "    ->Sample data"
   ]
  },
  {
   "cell_type": "code",
   "execution_count": 4,
   "metadata": {},
   "outputs": [
    {
     "name": "stdout",
     "output_type": "stream",
     "text": [
      "(525814, 10)\n",
      "2\n",
      "Index(['Id', 'ProductId', 'UserId', 'ProfileName', 'HelpfulnessNumerator',\n",
      "       'HelpfulnessDenominator', 'Score', 'Time', 'Summary', 'Text'],\n",
      "      dtype='object')\n",
      "   Id   ProductId          UserId                      ProfileName  \\\n",
      "0   1  B001E4KFG0  A3SGXH7AUHU8GW                       delmartian   \n",
      "1   2  B00813GRG4  A1D87F6ZCVE5NK                           dll pa   \n",
      "2   3  B000LQOCH0   ABXLMWJIXXAIN  Natalia Corres \"Natalia Corres\"   \n",
      "3   4  B000UA0QIQ  A395BORC6FGVXV                             Karl   \n",
      "4   5  B006K2ZZ7K  A1UQRSCLF8GW1T    Michael D. Bigham \"M. Wassir\"   \n",
      "\n",
      "   HelpfulnessNumerator  HelpfulnessDenominator  Score        Time  \\\n",
      "0                     1                       1      5  1303862400   \n",
      "1                     0                       0      1  1346976000   \n",
      "2                     1                       1      4  1219017600   \n",
      "3                     3                       3      2  1307923200   \n",
      "4                     0                       0      5  1350777600   \n",
      "\n",
      "                 Summary                                               Text  \n",
      "0  Good Quality Dog Food  I have bought several of the Vitality canned d...  \n",
      "1      Not as Advertised  Product arrived labeled as Jumbo Salted Peanut...  \n",
      "2  \"Delight\" says it all  This is a confection that has been around a fe...  \n",
      "3         Cough Medicine  If you are looking for the secret ingredient i...  \n",
      "4            Great taffy  Great taffy at a great price.  There was a wid...  \n"
     ]
    }
   ],
   "source": [
    "\n",
    "print(filtereddata.shape)\n",
    "print(filtereddata.ndim)\n",
    "print(filtereddata.columns)\n",
    "print(filtereddata.head(5))"
   ]
  },
  {
   "cell_type": "markdown",
   "metadata": {},
   "source": [
    "->function to classify reviews into positive and negative based on rating. \n",
    "\n",
    "->Here we are considering that reviews with a rating more than 3 are as positive and reviews with rating \n",
    "\n",
    "->less than 3 as negative. So considering 3 as the neutral rating, so neglecting the reviews which are given \n",
    "\n",
    "  with rating of 3"
   ]
  },
  {
   "cell_type": "code",
   "execution_count": 5,
   "metadata": {},
   "outputs": [],
   "source": [
    "\n",
    "def classify(x):\n",
    "    if x>3:\n",
    "        return 'positive'\n",
    "    return 'negative'\n",
    "\n",
    "rating = filtereddata['Score']\n",
    "rating = rating.map(classify)\n",
    "filtereddata['Score'] = rating"
   ]
  },
  {
   "cell_type": "code",
   "execution_count": 6,
   "metadata": {},
   "outputs": [
    {
     "name": "stdout",
     "output_type": "stream",
     "text": [
      "   Id   ProductId          UserId                      ProfileName  \\\n",
      "0   1  B001E4KFG0  A3SGXH7AUHU8GW                       delmartian   \n",
      "1   2  B00813GRG4  A1D87F6ZCVE5NK                           dll pa   \n",
      "2   3  B000LQOCH0   ABXLMWJIXXAIN  Natalia Corres \"Natalia Corres\"   \n",
      "3   4  B000UA0QIQ  A395BORC6FGVXV                             Karl   \n",
      "4   5  B006K2ZZ7K  A1UQRSCLF8GW1T    Michael D. Bigham \"M. Wassir\"   \n",
      "\n",
      "   HelpfulnessNumerator  HelpfulnessDenominator     Score        Time  \\\n",
      "0                     1                       1  positive  1303862400   \n",
      "1                     0                       0  negative  1346976000   \n",
      "2                     1                       1  positive  1219017600   \n",
      "3                     3                       3  negative  1307923200   \n",
      "4                     0                       0  positive  1350777600   \n",
      "\n",
      "                 Summary                                               Text  \n",
      "0  Good Quality Dog Food  I have bought several of the Vitality canned d...  \n",
      "1      Not as Advertised  Product arrived labeled as Jumbo Salted Peanut...  \n",
      "2  \"Delight\" says it all  This is a confection that has been around a fe...  \n",
      "3         Cough Medicine  If you are looking for the secret ingredient i...  \n",
      "4            Great taffy  Great taffy at a great price.  There was a wid...  \n"
     ]
    }
   ],
   "source": [
    "print(filtereddata.head(5))"
   ]
  },
  {
   "cell_type": "markdown",
   "metadata": {},
   "source": [
    "\n",
    "Exploratory data analysis\n",
    "\n",
    "Deduplication:removing duplicates"
   ]
  },
  {
   "cell_type": "code",
   "execution_count": 7,
   "metadata": {},
   "outputs": [
    {
     "data": {
      "text/html": [
       "<div>\n",
       "<style scoped>\n",
       "    .dataframe tbody tr th:only-of-type {\n",
       "        vertical-align: middle;\n",
       "    }\n",
       "\n",
       "    .dataframe tbody tr th {\n",
       "        vertical-align: top;\n",
       "    }\n",
       "\n",
       "    .dataframe thead th {\n",
       "        text-align: right;\n",
       "    }\n",
       "</style>\n",
       "<table border=\"1\" class=\"dataframe\">\n",
       "  <thead>\n",
       "    <tr style=\"text-align: right;\">\n",
       "      <th></th>\n",
       "      <th>Id</th>\n",
       "      <th>ProductId</th>\n",
       "      <th>UserId</th>\n",
       "      <th>ProfileName</th>\n",
       "      <th>HelpfulnessNumerator</th>\n",
       "      <th>HelpfulnessDenominator</th>\n",
       "      <th>Score</th>\n",
       "      <th>Time</th>\n",
       "      <th>Summary</th>\n",
       "      <th>Text</th>\n",
       "    </tr>\n",
       "  </thead>\n",
       "  <tbody>\n",
       "    <tr>\n",
       "      <th>0</th>\n",
       "      <td>78445</td>\n",
       "      <td>B000HDL1RQ</td>\n",
       "      <td>AR5J8UI46CURR</td>\n",
       "      <td>Geetha Krishnan</td>\n",
       "      <td>2</td>\n",
       "      <td>2</td>\n",
       "      <td>5</td>\n",
       "      <td>1199577600</td>\n",
       "      <td>LOACKER QUADRATINI VANILLA WAFERS</td>\n",
       "      <td>DELICIOUS WAFERS. I FIND THAT EUROPEAN WAFERS ...</td>\n",
       "    </tr>\n",
       "    <tr>\n",
       "      <th>1</th>\n",
       "      <td>138317</td>\n",
       "      <td>B000HDOPYC</td>\n",
       "      <td>AR5J8UI46CURR</td>\n",
       "      <td>Geetha Krishnan</td>\n",
       "      <td>2</td>\n",
       "      <td>2</td>\n",
       "      <td>5</td>\n",
       "      <td>1199577600</td>\n",
       "      <td>LOACKER QUADRATINI VANILLA WAFERS</td>\n",
       "      <td>DELICIOUS WAFERS. I FIND THAT EUROPEAN WAFERS ...</td>\n",
       "    </tr>\n",
       "    <tr>\n",
       "      <th>2</th>\n",
       "      <td>138277</td>\n",
       "      <td>B000HDOPYM</td>\n",
       "      <td>AR5J8UI46CURR</td>\n",
       "      <td>Geetha Krishnan</td>\n",
       "      <td>2</td>\n",
       "      <td>2</td>\n",
       "      <td>5</td>\n",
       "      <td>1199577600</td>\n",
       "      <td>LOACKER QUADRATINI VANILLA WAFERS</td>\n",
       "      <td>DELICIOUS WAFERS. I FIND THAT EUROPEAN WAFERS ...</td>\n",
       "    </tr>\n",
       "    <tr>\n",
       "      <th>3</th>\n",
       "      <td>73791</td>\n",
       "      <td>B000HDOPZG</td>\n",
       "      <td>AR5J8UI46CURR</td>\n",
       "      <td>Geetha Krishnan</td>\n",
       "      <td>2</td>\n",
       "      <td>2</td>\n",
       "      <td>5</td>\n",
       "      <td>1199577600</td>\n",
       "      <td>LOACKER QUADRATINI VANILLA WAFERS</td>\n",
       "      <td>DELICIOUS WAFERS. I FIND THAT EUROPEAN WAFERS ...</td>\n",
       "    </tr>\n",
       "    <tr>\n",
       "      <th>4</th>\n",
       "      <td>155049</td>\n",
       "      <td>B000PAQ75C</td>\n",
       "      <td>AR5J8UI46CURR</td>\n",
       "      <td>Geetha Krishnan</td>\n",
       "      <td>2</td>\n",
       "      <td>2</td>\n",
       "      <td>5</td>\n",
       "      <td>1199577600</td>\n",
       "      <td>LOACKER QUADRATINI VANILLA WAFERS</td>\n",
       "      <td>DELICIOUS WAFERS. I FIND THAT EUROPEAN WAFERS ...</td>\n",
       "    </tr>\n",
       "  </tbody>\n",
       "</table>\n",
       "</div>"
      ],
      "text/plain": [
       "       Id   ProductId         UserId      ProfileName  HelpfulnessNumerator  \\\n",
       "0   78445  B000HDL1RQ  AR5J8UI46CURR  Geetha Krishnan                     2   \n",
       "1  138317  B000HDOPYC  AR5J8UI46CURR  Geetha Krishnan                     2   \n",
       "2  138277  B000HDOPYM  AR5J8UI46CURR  Geetha Krishnan                     2   \n",
       "3   73791  B000HDOPZG  AR5J8UI46CURR  Geetha Krishnan                     2   \n",
       "4  155049  B000PAQ75C  AR5J8UI46CURR  Geetha Krishnan                     2   \n",
       "\n",
       "   HelpfulnessDenominator  Score        Time  \\\n",
       "0                       2      5  1199577600   \n",
       "1                       2      5  1199577600   \n",
       "2                       2      5  1199577600   \n",
       "3                       2      5  1199577600   \n",
       "4                       2      5  1199577600   \n",
       "\n",
       "                             Summary  \\\n",
       "0  LOACKER QUADRATINI VANILLA WAFERS   \n",
       "1  LOACKER QUADRATINI VANILLA WAFERS   \n",
       "2  LOACKER QUADRATINI VANILLA WAFERS   \n",
       "3  LOACKER QUADRATINI VANILLA WAFERS   \n",
       "4  LOACKER QUADRATINI VANILLA WAFERS   \n",
       "\n",
       "                                                Text  \n",
       "0  DELICIOUS WAFERS. I FIND THAT EUROPEAN WAFERS ...  \n",
       "1  DELICIOUS WAFERS. I FIND THAT EUROPEAN WAFERS ...  \n",
       "2  DELICIOUS WAFERS. I FIND THAT EUROPEAN WAFERS ...  \n",
       "3  DELICIOUS WAFERS. I FIND THAT EUROPEAN WAFERS ...  \n",
       "4  DELICIOUS WAFERS. I FIND THAT EUROPEAN WAFERS ...  "
      ]
     },
     "execution_count": 7,
     "metadata": {},
     "output_type": "execute_result"
    }
   ],
   "source": [
    "\n",
    "dup = pd.read_sql_query(\"\"\"SELECT * FROM REVIEWS WHERE Score !=3 AND UserId=\"AR5J8UI46CURR\" ORDER BY ProductId \"\"\",con)\n",
    "dup"
   ]
  },
  {
   "cell_type": "markdown",
   "metadata": {},
   "source": [
    "  ->It shows that same user have 5 reviews at the same time which is not possible\n",
    "  \n",
    "  ->This is because if we review on product it is applied to different flavors in the product  \n",
    "\n",
    "  ->In order to remove the product we have to sort them and drop the duplicates"
   ]
  },
  {
   "cell_type": "code",
   "execution_count": 8,
   "metadata": {},
   "outputs": [],
   "source": [
    "\n",
    "sorteddata = filtereddata.sort_values(\"ProductId\",axis=0,ascending=True,inplace=False,kind='quicksort',na_position='last')\n"
   ]
  },
  {
   "cell_type": "code",
   "execution_count": 9,
   "metadata": {},
   "outputs": [],
   "source": [
    "finaldata = sorteddata.drop_duplicates(subset=('Time','Text','ProfileName','UserId'),keep='first',inplace=False)"
   ]
  },
  {
   "cell_type": "code",
   "execution_count": 10,
   "metadata": {},
   "outputs": [
    {
     "data": {
      "text/plain": [
       "(364173, 10)"
      ]
     },
     "execution_count": 10,
     "metadata": {},
     "output_type": "execute_result"
    }
   ],
   "source": [
    "finaldata.shape"
   ]
  },
  {
   "cell_type": "markdown",
   "metadata": {},
   "source": [
    "->One more observation is that for a product the useful review(helpfullnessnumerator) is greater that the Total number of reviews on the product(helpfullnessdenominator) which is not possible"
   ]
  },
  {
   "cell_type": "code",
   "execution_count": 11,
   "metadata": {},
   "outputs": [],
   "source": [
    "\n",
    "numden = pd.read_sql_query(\"\"\"SELECT * FROM Reviews WHERE Score !=3 AND Id=44737 OR Id = 64422 ORDER BY ProductId\"\"\",con)"
   ]
  },
  {
   "cell_type": "code",
   "execution_count": 12,
   "metadata": {},
   "outputs": [
    {
     "data": {
      "text/html": [
       "<div>\n",
       "<style scoped>\n",
       "    .dataframe tbody tr th:only-of-type {\n",
       "        vertical-align: middle;\n",
       "    }\n",
       "\n",
       "    .dataframe tbody tr th {\n",
       "        vertical-align: top;\n",
       "    }\n",
       "\n",
       "    .dataframe thead th {\n",
       "        text-align: right;\n",
       "    }\n",
       "</style>\n",
       "<table border=\"1\" class=\"dataframe\">\n",
       "  <thead>\n",
       "    <tr style=\"text-align: right;\">\n",
       "      <th></th>\n",
       "      <th>Id</th>\n",
       "      <th>ProductId</th>\n",
       "      <th>UserId</th>\n",
       "      <th>ProfileName</th>\n",
       "      <th>HelpfulnessNumerator</th>\n",
       "      <th>HelpfulnessDenominator</th>\n",
       "      <th>Score</th>\n",
       "      <th>Time</th>\n",
       "      <th>Summary</th>\n",
       "      <th>Text</th>\n",
       "    </tr>\n",
       "  </thead>\n",
       "  <tbody>\n",
       "    <tr>\n",
       "      <th>0</th>\n",
       "      <td>64422</td>\n",
       "      <td>B000MIDROQ</td>\n",
       "      <td>A161DK06JJMCYF</td>\n",
       "      <td>J. E. Stephens \"Jeanne\"</td>\n",
       "      <td>3</td>\n",
       "      <td>1</td>\n",
       "      <td>5</td>\n",
       "      <td>1224892800</td>\n",
       "      <td>Bought This for My Son at College</td>\n",
       "      <td>My son loves spaghetti so I didn't hesitate or...</td>\n",
       "    </tr>\n",
       "    <tr>\n",
       "      <th>1</th>\n",
       "      <td>44737</td>\n",
       "      <td>B001EQ55RW</td>\n",
       "      <td>A2V0I904FH7ABY</td>\n",
       "      <td>Ram</td>\n",
       "      <td>3</td>\n",
       "      <td>2</td>\n",
       "      <td>4</td>\n",
       "      <td>1212883200</td>\n",
       "      <td>Pure cocoa taste with crunchy almonds inside</td>\n",
       "      <td>It was almost a 'love at first bite' - the per...</td>\n",
       "    </tr>\n",
       "  </tbody>\n",
       "</table>\n",
       "</div>"
      ],
      "text/plain": [
       "      Id   ProductId          UserId              ProfileName  \\\n",
       "0  64422  B000MIDROQ  A161DK06JJMCYF  J. E. Stephens \"Jeanne\"   \n",
       "1  44737  B001EQ55RW  A2V0I904FH7ABY                      Ram   \n",
       "\n",
       "   HelpfulnessNumerator  HelpfulnessDenominator  Score        Time  \\\n",
       "0                     3                       1      5  1224892800   \n",
       "1                     3                       2      4  1212883200   \n",
       "\n",
       "                                        Summary  \\\n",
       "0             Bought This for My Son at College   \n",
       "1  Pure cocoa taste with crunchy almonds inside   \n",
       "\n",
       "                                                Text  \n",
       "0  My son loves spaghetti so I didn't hesitate or...  \n",
       "1  It was almost a 'love at first bite' - the per...  "
      ]
     },
     "execution_count": 12,
     "metadata": {},
     "output_type": "execute_result"
    }
   ],
   "source": [
    "numden"
   ]
  },
  {
   "cell_type": "code",
   "execution_count": 13,
   "metadata": {},
   "outputs": [
    {
     "data": {
      "text/html": [
       "<div>\n",
       "<style scoped>\n",
       "    .dataframe tbody tr th:only-of-type {\n",
       "        vertical-align: middle;\n",
       "    }\n",
       "\n",
       "    .dataframe tbody tr th {\n",
       "        vertical-align: top;\n",
       "    }\n",
       "\n",
       "    .dataframe thead th {\n",
       "        text-align: right;\n",
       "    }\n",
       "</style>\n",
       "<table border=\"1\" class=\"dataframe\">\n",
       "  <thead>\n",
       "    <tr style=\"text-align: right;\">\n",
       "      <th></th>\n",
       "      <th>Id</th>\n",
       "      <th>ProductId</th>\n",
       "      <th>UserId</th>\n",
       "      <th>ProfileName</th>\n",
       "      <th>HelpfulnessNumerator</th>\n",
       "      <th>HelpfulnessDenominator</th>\n",
       "      <th>Score</th>\n",
       "      <th>Time</th>\n",
       "      <th>Summary</th>\n",
       "      <th>Text</th>\n",
       "    </tr>\n",
       "  </thead>\n",
       "  <tbody>\n",
       "    <tr>\n",
       "      <th>138706</th>\n",
       "      <td>150524</td>\n",
       "      <td>0006641040</td>\n",
       "      <td>ACITT7DI6IDDL</td>\n",
       "      <td>shari zychinski</td>\n",
       "      <td>0</td>\n",
       "      <td>0</td>\n",
       "      <td>positive</td>\n",
       "      <td>939340800</td>\n",
       "      <td>EVERY book is educational</td>\n",
       "      <td>this witty little book makes my son laugh at l...</td>\n",
       "    </tr>\n",
       "    <tr>\n",
       "      <th>138688</th>\n",
       "      <td>150506</td>\n",
       "      <td>0006641040</td>\n",
       "      <td>A2IW4PEEKO2R0U</td>\n",
       "      <td>Tracy</td>\n",
       "      <td>1</td>\n",
       "      <td>1</td>\n",
       "      <td>positive</td>\n",
       "      <td>1194739200</td>\n",
       "      <td>Love the book, miss the hard cover version</td>\n",
       "      <td>I grew up reading these Sendak books, and watc...</td>\n",
       "    </tr>\n",
       "    <tr>\n",
       "      <th>138689</th>\n",
       "      <td>150507</td>\n",
       "      <td>0006641040</td>\n",
       "      <td>A1S4A3IQ2MU7V4</td>\n",
       "      <td>sally sue \"sally sue\"</td>\n",
       "      <td>1</td>\n",
       "      <td>1</td>\n",
       "      <td>positive</td>\n",
       "      <td>1191456000</td>\n",
       "      <td>chicken soup with rice months</td>\n",
       "      <td>This is a fun way for children to learn their ...</td>\n",
       "    </tr>\n",
       "    <tr>\n",
       "      <th>138690</th>\n",
       "      <td>150508</td>\n",
       "      <td>0006641040</td>\n",
       "      <td>AZGXZ2UUK6X</td>\n",
       "      <td>Catherine Hallberg \"(Kate)\"</td>\n",
       "      <td>1</td>\n",
       "      <td>1</td>\n",
       "      <td>positive</td>\n",
       "      <td>1076025600</td>\n",
       "      <td>a good swingy rhythm for reading aloud</td>\n",
       "      <td>This is a great little book to read aloud- it ...</td>\n",
       "    </tr>\n",
       "    <tr>\n",
       "      <th>138691</th>\n",
       "      <td>150509</td>\n",
       "      <td>0006641040</td>\n",
       "      <td>A3CMRKGE0P909G</td>\n",
       "      <td>Teresa</td>\n",
       "      <td>3</td>\n",
       "      <td>4</td>\n",
       "      <td>positive</td>\n",
       "      <td>1018396800</td>\n",
       "      <td>A great way to learn the months</td>\n",
       "      <td>This is a book of poetry about the months of t...</td>\n",
       "    </tr>\n",
       "    <tr>\n",
       "      <th>138693</th>\n",
       "      <td>150511</td>\n",
       "      <td>0006641040</td>\n",
       "      <td>A1C9K534BCI9GO</td>\n",
       "      <td>Laura Purdie Salas</td>\n",
       "      <td>0</td>\n",
       "      <td>0</td>\n",
       "      <td>positive</td>\n",
       "      <td>1344211200</td>\n",
       "      <td>Charming and childlike</td>\n",
       "      <td>A charming, rhyming book that describes the ci...</td>\n",
       "    </tr>\n",
       "    <tr>\n",
       "      <th>138694</th>\n",
       "      <td>150512</td>\n",
       "      <td>0006641040</td>\n",
       "      <td>A1DJXZA5V5FFVA</td>\n",
       "      <td>A. Conway</td>\n",
       "      <td>0</td>\n",
       "      <td>0</td>\n",
       "      <td>positive</td>\n",
       "      <td>1338249600</td>\n",
       "      <td>Must have.</td>\n",
       "      <td>I set aside at least an hour each day to read ...</td>\n",
       "    </tr>\n",
       "    <tr>\n",
       "      <th>138695</th>\n",
       "      <td>150513</td>\n",
       "      <td>0006641040</td>\n",
       "      <td>ASH0DZQQF6AIZ</td>\n",
       "      <td>tessarat</td>\n",
       "      <td>0</td>\n",
       "      <td>0</td>\n",
       "      <td>positive</td>\n",
       "      <td>1325721600</td>\n",
       "      <td>A classic</td>\n",
       "      <td>I remembered this book from my childhood and g...</td>\n",
       "    </tr>\n",
       "    <tr>\n",
       "      <th>138696</th>\n",
       "      <td>150514</td>\n",
       "      <td>0006641040</td>\n",
       "      <td>A2ONB6ZA292PA</td>\n",
       "      <td>Rosalind Matzner</td>\n",
       "      <td>0</td>\n",
       "      <td>0</td>\n",
       "      <td>positive</td>\n",
       "      <td>1313884800</td>\n",
       "      <td>Chicken soup with Rice</td>\n",
       "      <td>It's a great book with adorable illustrations....</td>\n",
       "    </tr>\n",
       "    <tr>\n",
       "      <th>138697</th>\n",
       "      <td>150515</td>\n",
       "      <td>0006641040</td>\n",
       "      <td>A2RTT81R6Y3R7X</td>\n",
       "      <td>Lindylu</td>\n",
       "      <td>0</td>\n",
       "      <td>0</td>\n",
       "      <td>positive</td>\n",
       "      <td>1303171200</td>\n",
       "      <td>One of our family's favorite books</td>\n",
       "      <td>This book is a family favorite and was read to...</td>\n",
       "    </tr>\n",
       "    <tr>\n",
       "      <th>138687</th>\n",
       "      <td>150505</td>\n",
       "      <td>0006641040</td>\n",
       "      <td>A2PTSM496CF40Z</td>\n",
       "      <td>Jason A. Teeple \"Nobody made a greater mistak...</td>\n",
       "      <td>1</td>\n",
       "      <td>1</td>\n",
       "      <td>positive</td>\n",
       "      <td>1210809600</td>\n",
       "      <td>A classic</td>\n",
       "      <td>Get the movie or sound track and sing along wi...</td>\n",
       "    </tr>\n",
       "    <tr>\n",
       "      <th>138698</th>\n",
       "      <td>150516</td>\n",
       "      <td>0006641040</td>\n",
       "      <td>A3OI7ZGH6WZJ5G</td>\n",
       "      <td>Mary Jane Rogers \"Maedchen\"</td>\n",
       "      <td>0</td>\n",
       "      <td>0</td>\n",
       "      <td>positive</td>\n",
       "      <td>1293840000</td>\n",
       "      <td>Darling!</td>\n",
       "      <td>The same author wrote \"Where the Wild Things A...</td>\n",
       "    </tr>\n",
       "    <tr>\n",
       "      <th>138700</th>\n",
       "      <td>150518</td>\n",
       "      <td>0006641040</td>\n",
       "      <td>AK1L4EJBA23JF</td>\n",
       "      <td>L. M. Kraus</td>\n",
       "      <td>0</td>\n",
       "      <td>0</td>\n",
       "      <td>positive</td>\n",
       "      <td>1288224000</td>\n",
       "      <td>love this book</td>\n",
       "      <td>Great book, perfect condition arrived in a sho...</td>\n",
       "    </tr>\n",
       "    <tr>\n",
       "      <th>138701</th>\n",
       "      <td>150519</td>\n",
       "      <td>0006641040</td>\n",
       "      <td>A12HY5OZ2QNK4N</td>\n",
       "      <td>Elizabeth H. Roessner</td>\n",
       "      <td>0</td>\n",
       "      <td>0</td>\n",
       "      <td>positive</td>\n",
       "      <td>1256774400</td>\n",
       "      <td>It's a great book!</td>\n",
       "      <td>I've always loved chicken soup and rice. My la...</td>\n",
       "    </tr>\n",
       "    <tr>\n",
       "      <th>138702</th>\n",
       "      <td>150520</td>\n",
       "      <td>0006641040</td>\n",
       "      <td>ADBFSA9KTQANE</td>\n",
       "      <td>James L. Hammock \"Pucks Buddy\"</td>\n",
       "      <td>0</td>\n",
       "      <td>0</td>\n",
       "      <td>positive</td>\n",
       "      <td>1256688000</td>\n",
       "      <td>Great Gift</td>\n",
       "      <td>This book was purchased as a birthday gift for...</td>\n",
       "    </tr>\n",
       "    <tr>\n",
       "      <th>138703</th>\n",
       "      <td>150521</td>\n",
       "      <td>0006641040</td>\n",
       "      <td>A3RMCRB2NDTDYP</td>\n",
       "      <td>Carol Carruthers</td>\n",
       "      <td>0</td>\n",
       "      <td>0</td>\n",
       "      <td>positive</td>\n",
       "      <td>1243468800</td>\n",
       "      <td>This book is great!</td>\n",
       "      <td>My 7 year old daughter brought this book home ...</td>\n",
       "    </tr>\n",
       "    <tr>\n",
       "      <th>138704</th>\n",
       "      <td>150522</td>\n",
       "      <td>0006641040</td>\n",
       "      <td>A1S3C5OFU508P3</td>\n",
       "      <td>Charles Ashbacher</td>\n",
       "      <td>0</td>\n",
       "      <td>0</td>\n",
       "      <td>positive</td>\n",
       "      <td>1219536000</td>\n",
       "      <td>Children will find it entertaining and a gener...</td>\n",
       "      <td>This book contains a collection of twelve shor...</td>\n",
       "    </tr>\n",
       "    <tr>\n",
       "      <th>138705</th>\n",
       "      <td>150523</td>\n",
       "      <td>0006641040</td>\n",
       "      <td>A2P4F2UO0UMP8C</td>\n",
       "      <td>Elizabeth A. Curry \"Lovely Librarian\"</td>\n",
       "      <td>0</td>\n",
       "      <td>0</td>\n",
       "      <td>positive</td>\n",
       "      <td>1096675200</td>\n",
       "      <td>MMMM chicken soup....</td>\n",
       "      <td>Summary:  A young boy describes the usefulness...</td>\n",
       "    </tr>\n",
       "    <tr>\n",
       "      <th>138707</th>\n",
       "      <td>150525</td>\n",
       "      <td>0006641040</td>\n",
       "      <td>A2QID6VCFTY51R</td>\n",
       "      <td>Rick</td>\n",
       "      <td>1</td>\n",
       "      <td>2</td>\n",
       "      <td>positive</td>\n",
       "      <td>1025481600</td>\n",
       "      <td>In December it will be, my snowman's anniversa...</td>\n",
       "      <td>My daughter loves all the \"Really Rosie\" books...</td>\n",
       "    </tr>\n",
       "    <tr>\n",
       "      <th>138708</th>\n",
       "      <td>150526</td>\n",
       "      <td>0006641040</td>\n",
       "      <td>A3E9QZFE9KXH8J</td>\n",
       "      <td>R. Mitchell</td>\n",
       "      <td>11</td>\n",
       "      <td>18</td>\n",
       "      <td>negative</td>\n",
       "      <td>1129507200</td>\n",
       "      <td>awesome book poor size</td>\n",
       "      <td>This is one of the best children's books ever ...</td>\n",
       "    </tr>\n",
       "    <tr>\n",
       "      <th>138709</th>\n",
       "      <td>150529</td>\n",
       "      <td>0006641040</td>\n",
       "      <td>A25ACLV5KPB4W</td>\n",
       "      <td>Matt Hetling \"Matt\"</td>\n",
       "      <td>0</td>\n",
       "      <td>1</td>\n",
       "      <td>positive</td>\n",
       "      <td>1108425600</td>\n",
       "      <td>Nice cadence, catchy rhymes</td>\n",
       "      <td>In June&lt;br /&gt;I saw a charming group&lt;br /&gt;of ro...</td>\n",
       "    </tr>\n",
       "    <tr>\n",
       "      <th>138699</th>\n",
       "      <td>150517</td>\n",
       "      <td>0006641040</td>\n",
       "      <td>ABW4IC5G5G8B5</td>\n",
       "      <td>kevin clark</td>\n",
       "      <td>0</td>\n",
       "      <td>0</td>\n",
       "      <td>positive</td>\n",
       "      <td>1291075200</td>\n",
       "      <td>good for children</td>\n",
       "      <td>Classic children's book, can't go wrong. I rea...</td>\n",
       "    </tr>\n",
       "    <tr>\n",
       "      <th>138686</th>\n",
       "      <td>150504</td>\n",
       "      <td>0006641040</td>\n",
       "      <td>AQEYF1AXARWJZ</td>\n",
       "      <td>Les Sinclair \"book maven\"</td>\n",
       "      <td>1</td>\n",
       "      <td>1</td>\n",
       "      <td>positive</td>\n",
       "      <td>1212278400</td>\n",
       "      <td>Chicken Soup with Rice</td>\n",
       "      <td>A very entertaining rhyming story--cleaver and...</td>\n",
       "    </tr>\n",
       "    <tr>\n",
       "      <th>138692</th>\n",
       "      <td>150510</td>\n",
       "      <td>0006641040</td>\n",
       "      <td>AM1MNZMYMS7D8</td>\n",
       "      <td>Dr. Joshua  Grossman</td>\n",
       "      <td>0</td>\n",
       "      <td>0</td>\n",
       "      <td>positive</td>\n",
       "      <td>1348358400</td>\n",
       "      <td>Professional Mentoring</td>\n",
       "      <td>TITLE: Chicken Soup with Rice&lt;br /&gt;AUTHOR: Mau...</td>\n",
       "    </tr>\n",
       "    <tr>\n",
       "      <th>138680</th>\n",
       "      <td>150498</td>\n",
       "      <td>0006641040</td>\n",
       "      <td>A3SJWISOCP31TR</td>\n",
       "      <td>R. J. Wells</td>\n",
       "      <td>2</td>\n",
       "      <td>2</td>\n",
       "      <td>positive</td>\n",
       "      <td>1176336000</td>\n",
       "      <td>A Gem of a Book</td>\n",
       "      <td>This is a wonderful little book. I loved it 40...</td>\n",
       "    </tr>\n",
       "    <tr>\n",
       "      <th>138677</th>\n",
       "      <td>150494</td>\n",
       "      <td>0006641040</td>\n",
       "      <td>AYZ0PR5QZROD1</td>\n",
       "      <td>Mother of 3 girls</td>\n",
       "      <td>3</td>\n",
       "      <td>3</td>\n",
       "      <td>positive</td>\n",
       "      <td>1173312000</td>\n",
       "      <td>Family favorite</td>\n",
       "      <td>All of my children love this book.  My first g...</td>\n",
       "    </tr>\n",
       "    <tr>\n",
       "      <th>138678</th>\n",
       "      <td>150496</td>\n",
       "      <td>0006641040</td>\n",
       "      <td>A3KKR87BJ0C595</td>\n",
       "      <td>Gretchen Goodfellow \"Lover of children's lit\"</td>\n",
       "      <td>3</td>\n",
       "      <td>3</td>\n",
       "      <td>positive</td>\n",
       "      <td>1111363200</td>\n",
       "      <td>You'll use it once, you'll use it twice</td>\n",
       "      <td>One of my earliest memories is of this book.  ...</td>\n",
       "    </tr>\n",
       "    <tr>\n",
       "      <th>138685</th>\n",
       "      <td>150503</td>\n",
       "      <td>0006641040</td>\n",
       "      <td>A3R5XMPFU8YZ4D</td>\n",
       "      <td>Her Royal Motherliness \"Nana\"</td>\n",
       "      <td>1</td>\n",
       "      <td>1</td>\n",
       "      <td>positive</td>\n",
       "      <td>1233964800</td>\n",
       "      <td>so fun to read</td>\n",
       "      <td>This is my grand daughter's and my favorite bo...</td>\n",
       "    </tr>\n",
       "    <tr>\n",
       "      <th>138684</th>\n",
       "      <td>150502</td>\n",
       "      <td>0006641040</td>\n",
       "      <td>AVFMJ50HNO21J</td>\n",
       "      <td>Jane Doe</td>\n",
       "      <td>1</td>\n",
       "      <td>1</td>\n",
       "      <td>positive</td>\n",
       "      <td>1324944000</td>\n",
       "      <td>Tiny little book, Wonderful little rhymes.</td>\n",
       "      <td>This copy is smaller than I expected (mostly b...</td>\n",
       "    </tr>\n",
       "    <tr>\n",
       "      <th>138679</th>\n",
       "      <td>150497</td>\n",
       "      <td>0006641040</td>\n",
       "      <td>A1HKYQOFC8ZZCH</td>\n",
       "      <td>Maria Apolloni \"lanarossa\"</td>\n",
       "      <td>2</td>\n",
       "      <td>2</td>\n",
       "      <td>negative</td>\n",
       "      <td>1334707200</td>\n",
       "      <td>The story is great, the softcover book is disa...</td>\n",
       "      <td>I give five stars to the Maurice Sendak story....</td>\n",
       "    </tr>\n",
       "    <tr>\n",
       "      <th>...</th>\n",
       "      <td>...</td>\n",
       "      <td>...</td>\n",
       "      <td>...</td>\n",
       "      <td>...</td>\n",
       "      <td>...</td>\n",
       "      <td>...</td>\n",
       "      <td>...</td>\n",
       "      <td>...</td>\n",
       "      <td>...</td>\n",
       "      <td>...</td>\n",
       "    </tr>\n",
       "    <tr>\n",
       "      <th>35419</th>\n",
       "      <td>38512</td>\n",
       "      <td>B009O7B1I0</td>\n",
       "      <td>A2YWHBF45M64S2</td>\n",
       "      <td>EcyMom</td>\n",
       "      <td>0</td>\n",
       "      <td>0</td>\n",
       "      <td>negative</td>\n",
       "      <td>1350864000</td>\n",
       "      <td>Reprehensible</td>\n",
       "      <td>This Trader Joe's product is good quality.  Bu...</td>\n",
       "    </tr>\n",
       "    <tr>\n",
       "      <th>195185</th>\n",
       "      <td>211594</td>\n",
       "      <td>B009O7DGEW</td>\n",
       "      <td>A2UAKIEWZLQCUE</td>\n",
       "      <td>Cindy S.</td>\n",
       "      <td>0</td>\n",
       "      <td>0</td>\n",
       "      <td>positive</td>\n",
       "      <td>1350777600</td>\n",
       "      <td>Christmas Bulbs</td>\n",
       "      <td>I gave these bulbs to the receptionist at my l...</td>\n",
       "    </tr>\n",
       "    <tr>\n",
       "      <th>494393</th>\n",
       "      <td>534495</td>\n",
       "      <td>B009OY38SY</td>\n",
       "      <td>A1H1OCLG2B4AEQ</td>\n",
       "      <td>base64</td>\n",
       "      <td>0</td>\n",
       "      <td>0</td>\n",
       "      <td>positive</td>\n",
       "      <td>1350604800</td>\n",
       "      <td>Tastes good, works well</td>\n",
       "      <td>I tried this after reading the ingredients whi...</td>\n",
       "    </tr>\n",
       "    <tr>\n",
       "      <th>134853</th>\n",
       "      <td>146374</td>\n",
       "      <td>B009P4KMZA</td>\n",
       "      <td>A217L3D5UK74I6</td>\n",
       "      <td>george karlin</td>\n",
       "      <td>0</td>\n",
       "      <td>0</td>\n",
       "      <td>negative</td>\n",
       "      <td>1351036800</td>\n",
       "      <td>Another urine specimen from Cali</td>\n",
       "      <td>The most watery and tasteless pinot noir on th...</td>\n",
       "    </tr>\n",
       "    <tr>\n",
       "      <th>430102</th>\n",
       "      <td>465120</td>\n",
       "      <td>B009PCDDO4</td>\n",
       "      <td>A2II09GQGWOMTQ</td>\n",
       "      <td>Brian Nallick \"METALMANMN\"</td>\n",
       "      <td>1</td>\n",
       "      <td>1</td>\n",
       "      <td>positive</td>\n",
       "      <td>1350345600</td>\n",
       "      <td>Feeling blue?</td>\n",
       "      <td>I usually drink Green Machine but I really wan...</td>\n",
       "    </tr>\n",
       "    <tr>\n",
       "      <th>264734</th>\n",
       "      <td>286941</td>\n",
       "      <td>B009PFJUF2</td>\n",
       "      <td>A2UAKIEWZLQCUE</td>\n",
       "      <td>Cindy S.</td>\n",
       "      <td>1</td>\n",
       "      <td>1</td>\n",
       "      <td>positive</td>\n",
       "      <td>1350777600</td>\n",
       "      <td>Amazing color</td>\n",
       "      <td>I have purchased several other Amaryllis from ...</td>\n",
       "    </tr>\n",
       "    <tr>\n",
       "      <th>264735</th>\n",
       "      <td>286942</td>\n",
       "      <td>B009PFJUF2</td>\n",
       "      <td>A16HJRHRHNSUZ6</td>\n",
       "      <td>Danielle Tietz</td>\n",
       "      <td>1</td>\n",
       "      <td>1</td>\n",
       "      <td>positive</td>\n",
       "      <td>1350432000</td>\n",
       "      <td>Looks very pretty when in bloom!</td>\n",
       "      <td>My neighborhood recently decided to create a n...</td>\n",
       "    </tr>\n",
       "    <tr>\n",
       "      <th>241028</th>\n",
       "      <td>261429</td>\n",
       "      <td>B009PG8MVO</td>\n",
       "      <td>A2UAKIEWZLQCUE</td>\n",
       "      <td>Cindy S.</td>\n",
       "      <td>0</td>\n",
       "      <td>0</td>\n",
       "      <td>positive</td>\n",
       "      <td>1350777600</td>\n",
       "      <td>On the first day of Christmas....</td>\n",
       "      <td>....my true love gave to me, a Christmas Bloom...</td>\n",
       "    </tr>\n",
       "    <tr>\n",
       "      <th>269822</th>\n",
       "      <td>292509</td>\n",
       "      <td>B009PIAFTE</td>\n",
       "      <td>A00489763J7YUCSN6CP7K</td>\n",
       "      <td>Andrea Llyod</td>\n",
       "      <td>0</td>\n",
       "      <td>0</td>\n",
       "      <td>positive</td>\n",
       "      <td>1351036800</td>\n",
       "      <td>Truly delicious</td>\n",
       "      <td>I was a bit hesitant to buy this tea due to th...</td>\n",
       "    </tr>\n",
       "    <tr>\n",
       "      <th>343072</th>\n",
       "      <td>371148</td>\n",
       "      <td>B009PICJTS</td>\n",
       "      <td>A09229701Z8W88AD38877</td>\n",
       "      <td>Kristi Greene</td>\n",
       "      <td>0</td>\n",
       "      <td>0</td>\n",
       "      <td>positive</td>\n",
       "      <td>1350518400</td>\n",
       "      <td>One of the best I've had</td>\n",
       "      <td>I am an avid tea drinker and enjoy my tea warm...</td>\n",
       "    </tr>\n",
       "    <tr>\n",
       "      <th>427660</th>\n",
       "      <td>462501</td>\n",
       "      <td>B009PIEW3O</td>\n",
       "      <td>A0849196AFU725N8S7RS</td>\n",
       "      <td>Brady Gibson</td>\n",
       "      <td>0</td>\n",
       "      <td>0</td>\n",
       "      <td>positive</td>\n",
       "      <td>1350518400</td>\n",
       "      <td>Pure and Delicious Iced Tea</td>\n",
       "      <td>My wife and I have been using unsweetened iced...</td>\n",
       "    </tr>\n",
       "    <tr>\n",
       "      <th>184728</th>\n",
       "      <td>200383</td>\n",
       "      <td>B009RE0Y5G</td>\n",
       "      <td>A3M2YJ76LOMNBK</td>\n",
       "      <td>turbo418</td>\n",
       "      <td>0</td>\n",
       "      <td>0</td>\n",
       "      <td>positive</td>\n",
       "      <td>1350864000</td>\n",
       "      <td>This product is AMAZING!!! And way INEXPENSIVE!!</td>\n",
       "      <td>Any product by My Personal Pantry is so delici...</td>\n",
       "    </tr>\n",
       "    <tr>\n",
       "      <th>178140</th>\n",
       "      <td>193169</td>\n",
       "      <td>B009RSR8HO</td>\n",
       "      <td>A3M3S2NCVZ8UXF</td>\n",
       "      <td>Stephanie</td>\n",
       "      <td>0</td>\n",
       "      <td>0</td>\n",
       "      <td>positive</td>\n",
       "      <td>1350518400</td>\n",
       "      <td>Fat to Skinny zero</td>\n",
       "      <td>I have been using this product for 4 months no...</td>\n",
       "    </tr>\n",
       "    <tr>\n",
       "      <th>178139</th>\n",
       "      <td>193168</td>\n",
       "      <td>B009RSR8HO</td>\n",
       "      <td>A1L130V9KINC45</td>\n",
       "      <td>mildred rosa</td>\n",
       "      <td>0</td>\n",
       "      <td>0</td>\n",
       "      <td>positive</td>\n",
       "      <td>1350518400</td>\n",
       "      <td>love sweetener</td>\n",
       "      <td>Great product not too expensive easy to use. S...</td>\n",
       "    </tr>\n",
       "    <tr>\n",
       "      <th>178138</th>\n",
       "      <td>193167</td>\n",
       "      <td>B009RSR8HO</td>\n",
       "      <td>A5F9OUO3F2N7C</td>\n",
       "      <td>Jan</td>\n",
       "      <td>0</td>\n",
       "      <td>0</td>\n",
       "      <td>positive</td>\n",
       "      <td>1350604800</td>\n",
       "      <td>The Best Ever</td>\n",
       "      <td>Zero sweetner is the BEST I have ever used.One...</td>\n",
       "    </tr>\n",
       "    <tr>\n",
       "      <th>178135</th>\n",
       "      <td>193164</td>\n",
       "      <td>B009RSR8HO</td>\n",
       "      <td>A2IZG2VYD476QH</td>\n",
       "      <td>CSTreviso</td>\n",
       "      <td>1</td>\n",
       "      <td>1</td>\n",
       "      <td>positive</td>\n",
       "      <td>1350432000</td>\n",
       "      <td>Love This Stuff!</td>\n",
       "      <td>Fat to Skinny Zero is a wonderful sweetener! I...</td>\n",
       "    </tr>\n",
       "    <tr>\n",
       "      <th>178136</th>\n",
       "      <td>193165</td>\n",
       "      <td>B009RSR8HO</td>\n",
       "      <td>A1I08MP3H92U6R</td>\n",
       "      <td>Thomas</td>\n",
       "      <td>1</td>\n",
       "      <td>1</td>\n",
       "      <td>positive</td>\n",
       "      <td>1350432000</td>\n",
       "      <td>Would not use any other sweetener</td>\n",
       "      <td>I have been using the Fat To Skinny Zero sweet...</td>\n",
       "    </tr>\n",
       "    <tr>\n",
       "      <th>178134</th>\n",
       "      <td>193163</td>\n",
       "      <td>B009RSR8HO</td>\n",
       "      <td>A1QX7TAALGCUKM</td>\n",
       "      <td>H.B. \"H.B.\"</td>\n",
       "      <td>2</td>\n",
       "      <td>2</td>\n",
       "      <td>positive</td>\n",
       "      <td>1350432000</td>\n",
       "      <td>The Best Sweetener I've Ever Used!</td>\n",
       "      <td>I have been using this product a bit over six ...</td>\n",
       "    </tr>\n",
       "    <tr>\n",
       "      <th>178137</th>\n",
       "      <td>193166</td>\n",
       "      <td>B009RSR8HO</td>\n",
       "      <td>AD0V42PRKCDBM</td>\n",
       "      <td>Rachelle</td>\n",
       "      <td>0</td>\n",
       "      <td>0</td>\n",
       "      <td>positive</td>\n",
       "      <td>1350777600</td>\n",
       "      <td>Best sweetner ever!!!</td>\n",
       "      <td>This sweetner is so great. A little bit goes a...</td>\n",
       "    </tr>\n",
       "    <tr>\n",
       "      <th>178142</th>\n",
       "      <td>193171</td>\n",
       "      <td>B009RSR8HO</td>\n",
       "      <td>AH2FVNP7Z6PZH</td>\n",
       "      <td>Marty Campbell</td>\n",
       "      <td>0</td>\n",
       "      <td>0</td>\n",
       "      <td>positive</td>\n",
       "      <td>1350432000</td>\n",
       "      <td>The BEST sugar replacement on the market!</td>\n",
       "      <td>I've been using Fat to Skinny Zero since it wa...</td>\n",
       "    </tr>\n",
       "    <tr>\n",
       "      <th>178141</th>\n",
       "      <td>193170</td>\n",
       "      <td>B009RSR8HO</td>\n",
       "      <td>A1TNEJA68OD7ZH</td>\n",
       "      <td>morgan</td>\n",
       "      <td>0</td>\n",
       "      <td>0</td>\n",
       "      <td>positive</td>\n",
       "      <td>1350518400</td>\n",
       "      <td>Fat to Skinny Zero Sweetner</td>\n",
       "      <td>This is what I use when I'm baking instead of ...</td>\n",
       "    </tr>\n",
       "    <tr>\n",
       "      <th>178143</th>\n",
       "      <td>193172</td>\n",
       "      <td>B009RSR8HO</td>\n",
       "      <td>A3JJTHP8T7A8LY</td>\n",
       "      <td>Joanne Eklund \"Joanne\"</td>\n",
       "      <td>0</td>\n",
       "      <td>0</td>\n",
       "      <td>positive</td>\n",
       "      <td>1350432000</td>\n",
       "      <td>Zero</td>\n",
       "      <td>FTS Zero is the best sweetener I have ever tri...</td>\n",
       "    </tr>\n",
       "    <tr>\n",
       "      <th>178147</th>\n",
       "      <td>193176</td>\n",
       "      <td>B009RSR8HO</td>\n",
       "      <td>A76WHW051R3KV</td>\n",
       "      <td>Shawn \"Shawn\"</td>\n",
       "      <td>0</td>\n",
       "      <td>0</td>\n",
       "      <td>positive</td>\n",
       "      <td>1350432000</td>\n",
       "      <td>My #1 Sweetener of choice</td>\n",
       "      <td>What a wonderful product! It's perfect to use ...</td>\n",
       "    </tr>\n",
       "    <tr>\n",
       "      <th>178146</th>\n",
       "      <td>193175</td>\n",
       "      <td>B009RSR8HO</td>\n",
       "      <td>A1A0PMN417S4V9</td>\n",
       "      <td>mamaelle \"mamaelle\"</td>\n",
       "      <td>0</td>\n",
       "      <td>0</td>\n",
       "      <td>positive</td>\n",
       "      <td>1350432000</td>\n",
       "      <td>YAY! No Dextrose!!</td>\n",
       "      <td>Packets of powdered sweeteners usually have a ...</td>\n",
       "    </tr>\n",
       "    <tr>\n",
       "      <th>178144</th>\n",
       "      <td>193173</td>\n",
       "      <td>B009RSR8HO</td>\n",
       "      <td>A34TVEXPHSSPBV</td>\n",
       "      <td>Beth</td>\n",
       "      <td>0</td>\n",
       "      <td>0</td>\n",
       "      <td>positive</td>\n",
       "      <td>1350432000</td>\n",
       "      <td>Love it!</td>\n",
       "      <td>I love this sweetener.  I use it to replace su...</td>\n",
       "    </tr>\n",
       "    <tr>\n",
       "      <th>178145</th>\n",
       "      <td>193174</td>\n",
       "      <td>B009RSR8HO</td>\n",
       "      <td>A4P6AN2L435PV</td>\n",
       "      <td>romarc</td>\n",
       "      <td>0</td>\n",
       "      <td>0</td>\n",
       "      <td>positive</td>\n",
       "      <td>1350432000</td>\n",
       "      <td>LOVE!!  LOVE!!</td>\n",
       "      <td>LOVE, LOVE this sweetener!!  I use it in all m...</td>\n",
       "    </tr>\n",
       "    <tr>\n",
       "      <th>173675</th>\n",
       "      <td>188389</td>\n",
       "      <td>B009SF0TN6</td>\n",
       "      <td>A1L0GWGRK4BYPT</td>\n",
       "      <td>Bety Robinson</td>\n",
       "      <td>0</td>\n",
       "      <td>0</td>\n",
       "      <td>positive</td>\n",
       "      <td>1350518400</td>\n",
       "      <td>Amazing!! Great sauce for everything!</td>\n",
       "      <td>You have to try this sauce to believe it! It s...</td>\n",
       "    </tr>\n",
       "    <tr>\n",
       "      <th>204727</th>\n",
       "      <td>221795</td>\n",
       "      <td>B009SR4OQ2</td>\n",
       "      <td>A32A6X5KCP7ARG</td>\n",
       "      <td>sicamar</td>\n",
       "      <td>1</td>\n",
       "      <td>1</td>\n",
       "      <td>positive</td>\n",
       "      <td>1350604800</td>\n",
       "      <td>Awesome Taste</td>\n",
       "      <td>I bought this Hazelnut Paste (Nocciola Spread)...</td>\n",
       "    </tr>\n",
       "    <tr>\n",
       "      <th>5259</th>\n",
       "      <td>5703</td>\n",
       "      <td>B009WSNWC4</td>\n",
       "      <td>AMP7K1O84DH1T</td>\n",
       "      <td>ESTY</td>\n",
       "      <td>0</td>\n",
       "      <td>0</td>\n",
       "      <td>positive</td>\n",
       "      <td>1351209600</td>\n",
       "      <td>DELICIOUS</td>\n",
       "      <td>Purchased this product at a local store in NY ...</td>\n",
       "    </tr>\n",
       "    <tr>\n",
       "      <th>302474</th>\n",
       "      <td>327601</td>\n",
       "      <td>B009WVB40S</td>\n",
       "      <td>A3ME78KVX31T21</td>\n",
       "      <td>K'la</td>\n",
       "      <td>0</td>\n",
       "      <td>0</td>\n",
       "      <td>positive</td>\n",
       "      <td>1351123200</td>\n",
       "      <td>Tasty!</td>\n",
       "      <td>I purchased this to send to my son who's away ...</td>\n",
       "    </tr>\n",
       "  </tbody>\n",
       "</table>\n",
       "<p>364171 rows × 10 columns</p>\n",
       "</div>"
      ],
      "text/plain": [
       "            Id   ProductId                 UserId  \\\n",
       "138706  150524  0006641040          ACITT7DI6IDDL   \n",
       "138688  150506  0006641040         A2IW4PEEKO2R0U   \n",
       "138689  150507  0006641040         A1S4A3IQ2MU7V4   \n",
       "138690  150508  0006641040            AZGXZ2UUK6X   \n",
       "138691  150509  0006641040         A3CMRKGE0P909G   \n",
       "138693  150511  0006641040         A1C9K534BCI9GO   \n",
       "138694  150512  0006641040         A1DJXZA5V5FFVA   \n",
       "138695  150513  0006641040          ASH0DZQQF6AIZ   \n",
       "138696  150514  0006641040          A2ONB6ZA292PA   \n",
       "138697  150515  0006641040         A2RTT81R6Y3R7X   \n",
       "138687  150505  0006641040         A2PTSM496CF40Z   \n",
       "138698  150516  0006641040         A3OI7ZGH6WZJ5G   \n",
       "138700  150518  0006641040          AK1L4EJBA23JF   \n",
       "138701  150519  0006641040         A12HY5OZ2QNK4N   \n",
       "138702  150520  0006641040          ADBFSA9KTQANE   \n",
       "138703  150521  0006641040         A3RMCRB2NDTDYP   \n",
       "138704  150522  0006641040         A1S3C5OFU508P3   \n",
       "138705  150523  0006641040         A2P4F2UO0UMP8C   \n",
       "138707  150525  0006641040         A2QID6VCFTY51R   \n",
       "138708  150526  0006641040         A3E9QZFE9KXH8J   \n",
       "138709  150529  0006641040          A25ACLV5KPB4W   \n",
       "138699  150517  0006641040          ABW4IC5G5G8B5   \n",
       "138686  150504  0006641040          AQEYF1AXARWJZ   \n",
       "138692  150510  0006641040          AM1MNZMYMS7D8   \n",
       "138680  150498  0006641040         A3SJWISOCP31TR   \n",
       "138677  150494  0006641040          AYZ0PR5QZROD1   \n",
       "138678  150496  0006641040         A3KKR87BJ0C595   \n",
       "138685  150503  0006641040         A3R5XMPFU8YZ4D   \n",
       "138684  150502  0006641040          AVFMJ50HNO21J   \n",
       "138679  150497  0006641040         A1HKYQOFC8ZZCH   \n",
       "...        ...         ...                    ...   \n",
       "35419    38512  B009O7B1I0         A2YWHBF45M64S2   \n",
       "195185  211594  B009O7DGEW         A2UAKIEWZLQCUE   \n",
       "494393  534495  B009OY38SY         A1H1OCLG2B4AEQ   \n",
       "134853  146374  B009P4KMZA         A217L3D5UK74I6   \n",
       "430102  465120  B009PCDDO4         A2II09GQGWOMTQ   \n",
       "264734  286941  B009PFJUF2         A2UAKIEWZLQCUE   \n",
       "264735  286942  B009PFJUF2         A16HJRHRHNSUZ6   \n",
       "241028  261429  B009PG8MVO         A2UAKIEWZLQCUE   \n",
       "269822  292509  B009PIAFTE  A00489763J7YUCSN6CP7K   \n",
       "343072  371148  B009PICJTS  A09229701Z8W88AD38877   \n",
       "427660  462501  B009PIEW3O   A0849196AFU725N8S7RS   \n",
       "184728  200383  B009RE0Y5G         A3M2YJ76LOMNBK   \n",
       "178140  193169  B009RSR8HO         A3M3S2NCVZ8UXF   \n",
       "178139  193168  B009RSR8HO         A1L130V9KINC45   \n",
       "178138  193167  B009RSR8HO          A5F9OUO3F2N7C   \n",
       "178135  193164  B009RSR8HO         A2IZG2VYD476QH   \n",
       "178136  193165  B009RSR8HO         A1I08MP3H92U6R   \n",
       "178134  193163  B009RSR8HO         A1QX7TAALGCUKM   \n",
       "178137  193166  B009RSR8HO          AD0V42PRKCDBM   \n",
       "178142  193171  B009RSR8HO          AH2FVNP7Z6PZH   \n",
       "178141  193170  B009RSR8HO         A1TNEJA68OD7ZH   \n",
       "178143  193172  B009RSR8HO         A3JJTHP8T7A8LY   \n",
       "178147  193176  B009RSR8HO          A76WHW051R3KV   \n",
       "178146  193175  B009RSR8HO         A1A0PMN417S4V9   \n",
       "178144  193173  B009RSR8HO         A34TVEXPHSSPBV   \n",
       "178145  193174  B009RSR8HO          A4P6AN2L435PV   \n",
       "173675  188389  B009SF0TN6         A1L0GWGRK4BYPT   \n",
       "204727  221795  B009SR4OQ2         A32A6X5KCP7ARG   \n",
       "5259      5703  B009WSNWC4          AMP7K1O84DH1T   \n",
       "302474  327601  B009WVB40S         A3ME78KVX31T21   \n",
       "\n",
       "                                             ProfileName  \\\n",
       "138706                                   shari zychinski   \n",
       "138688                                             Tracy   \n",
       "138689                             sally sue \"sally sue\"   \n",
       "138690                       Catherine Hallberg \"(Kate)\"   \n",
       "138691                                            Teresa   \n",
       "138693                                Laura Purdie Salas   \n",
       "138694                                         A. Conway   \n",
       "138695                                          tessarat   \n",
       "138696                                  Rosalind Matzner   \n",
       "138697                                           Lindylu   \n",
       "138687  Jason A. Teeple \"Nobody made a greater mistak...   \n",
       "138698                       Mary Jane Rogers \"Maedchen\"   \n",
       "138700                                       L. M. Kraus   \n",
       "138701                             Elizabeth H. Roessner   \n",
       "138702                    James L. Hammock \"Pucks Buddy\"   \n",
       "138703                                  Carol Carruthers   \n",
       "138704                                 Charles Ashbacher   \n",
       "138705             Elizabeth A. Curry \"Lovely Librarian\"   \n",
       "138707                                              Rick   \n",
       "138708                                       R. Mitchell   \n",
       "138709                               Matt Hetling \"Matt\"   \n",
       "138699                                       kevin clark   \n",
       "138686                         Les Sinclair \"book maven\"   \n",
       "138692                              Dr. Joshua  Grossman   \n",
       "138680                                       R. J. Wells   \n",
       "138677                                 Mother of 3 girls   \n",
       "138678     Gretchen Goodfellow \"Lover of children's lit\"   \n",
       "138685                     Her Royal Motherliness \"Nana\"   \n",
       "138684                                          Jane Doe   \n",
       "138679                        Maria Apolloni \"lanarossa\"   \n",
       "...                                                  ...   \n",
       "35419                                             EcyMom   \n",
       "195185                                          Cindy S.   \n",
       "494393                                            base64   \n",
       "134853                                     george karlin   \n",
       "430102                        Brian Nallick \"METALMANMN\"   \n",
       "264734                                          Cindy S.   \n",
       "264735                                    Danielle Tietz   \n",
       "241028                                          Cindy S.   \n",
       "269822                                      Andrea Llyod   \n",
       "343072                                     Kristi Greene   \n",
       "427660                                      Brady Gibson   \n",
       "184728                                          turbo418   \n",
       "178140                                         Stephanie   \n",
       "178139                                      mildred rosa   \n",
       "178138                                               Jan   \n",
       "178135                                         CSTreviso   \n",
       "178136                                            Thomas   \n",
       "178134                                       H.B. \"H.B.\"   \n",
       "178137                                          Rachelle   \n",
       "178142                                    Marty Campbell   \n",
       "178141                                            morgan   \n",
       "178143                            Joanne Eklund \"Joanne\"   \n",
       "178147                                     Shawn \"Shawn\"   \n",
       "178146                               mamaelle \"mamaelle\"   \n",
       "178144                                              Beth   \n",
       "178145                                            romarc   \n",
       "173675                                     Bety Robinson   \n",
       "204727                                           sicamar   \n",
       "5259                                                ESTY   \n",
       "302474                                              K'la   \n",
       "\n",
       "        HelpfulnessNumerator  HelpfulnessDenominator     Score        Time  \\\n",
       "138706                     0                       0  positive   939340800   \n",
       "138688                     1                       1  positive  1194739200   \n",
       "138689                     1                       1  positive  1191456000   \n",
       "138690                     1                       1  positive  1076025600   \n",
       "138691                     3                       4  positive  1018396800   \n",
       "138693                     0                       0  positive  1344211200   \n",
       "138694                     0                       0  positive  1338249600   \n",
       "138695                     0                       0  positive  1325721600   \n",
       "138696                     0                       0  positive  1313884800   \n",
       "138697                     0                       0  positive  1303171200   \n",
       "138687                     1                       1  positive  1210809600   \n",
       "138698                     0                       0  positive  1293840000   \n",
       "138700                     0                       0  positive  1288224000   \n",
       "138701                     0                       0  positive  1256774400   \n",
       "138702                     0                       0  positive  1256688000   \n",
       "138703                     0                       0  positive  1243468800   \n",
       "138704                     0                       0  positive  1219536000   \n",
       "138705                     0                       0  positive  1096675200   \n",
       "138707                     1                       2  positive  1025481600   \n",
       "138708                    11                      18  negative  1129507200   \n",
       "138709                     0                       1  positive  1108425600   \n",
       "138699                     0                       0  positive  1291075200   \n",
       "138686                     1                       1  positive  1212278400   \n",
       "138692                     0                       0  positive  1348358400   \n",
       "138680                     2                       2  positive  1176336000   \n",
       "138677                     3                       3  positive  1173312000   \n",
       "138678                     3                       3  positive  1111363200   \n",
       "138685                     1                       1  positive  1233964800   \n",
       "138684                     1                       1  positive  1324944000   \n",
       "138679                     2                       2  negative  1334707200   \n",
       "...                      ...                     ...       ...         ...   \n",
       "35419                      0                       0  negative  1350864000   \n",
       "195185                     0                       0  positive  1350777600   \n",
       "494393                     0                       0  positive  1350604800   \n",
       "134853                     0                       0  negative  1351036800   \n",
       "430102                     1                       1  positive  1350345600   \n",
       "264734                     1                       1  positive  1350777600   \n",
       "264735                     1                       1  positive  1350432000   \n",
       "241028                     0                       0  positive  1350777600   \n",
       "269822                     0                       0  positive  1351036800   \n",
       "343072                     0                       0  positive  1350518400   \n",
       "427660                     0                       0  positive  1350518400   \n",
       "184728                     0                       0  positive  1350864000   \n",
       "178140                     0                       0  positive  1350518400   \n",
       "178139                     0                       0  positive  1350518400   \n",
       "178138                     0                       0  positive  1350604800   \n",
       "178135                     1                       1  positive  1350432000   \n",
       "178136                     1                       1  positive  1350432000   \n",
       "178134                     2                       2  positive  1350432000   \n",
       "178137                     0                       0  positive  1350777600   \n",
       "178142                     0                       0  positive  1350432000   \n",
       "178141                     0                       0  positive  1350518400   \n",
       "178143                     0                       0  positive  1350432000   \n",
       "178147                     0                       0  positive  1350432000   \n",
       "178146                     0                       0  positive  1350432000   \n",
       "178144                     0                       0  positive  1350432000   \n",
       "178145                     0                       0  positive  1350432000   \n",
       "173675                     0                       0  positive  1350518400   \n",
       "204727                     1                       1  positive  1350604800   \n",
       "5259                       0                       0  positive  1351209600   \n",
       "302474                     0                       0  positive  1351123200   \n",
       "\n",
       "                                                  Summary  \\\n",
       "138706                          EVERY book is educational   \n",
       "138688         Love the book, miss the hard cover version   \n",
       "138689                      chicken soup with rice months   \n",
       "138690             a good swingy rhythm for reading aloud   \n",
       "138691                    A great way to learn the months   \n",
       "138693                             Charming and childlike   \n",
       "138694                                         Must have.   \n",
       "138695                                          A classic   \n",
       "138696                             Chicken soup with Rice   \n",
       "138697                 One of our family's favorite books   \n",
       "138687                                          A classic   \n",
       "138698                                           Darling!   \n",
       "138700                                     love this book   \n",
       "138701                                 It's a great book!   \n",
       "138702                                         Great Gift   \n",
       "138703                                This book is great!   \n",
       "138704  Children will find it entertaining and a gener...   \n",
       "138705                              MMMM chicken soup....   \n",
       "138707  In December it will be, my snowman's anniversa...   \n",
       "138708                             awesome book poor size   \n",
       "138709                        Nice cadence, catchy rhymes   \n",
       "138699                                  good for children   \n",
       "138686                             Chicken Soup with Rice   \n",
       "138692                             Professional Mentoring   \n",
       "138680                                    A Gem of a Book   \n",
       "138677                                    Family favorite   \n",
       "138678            You'll use it once, you'll use it twice   \n",
       "138685                                     so fun to read   \n",
       "138684         Tiny little book, Wonderful little rhymes.   \n",
       "138679  The story is great, the softcover book is disa...   \n",
       "...                                                   ...   \n",
       "35419                                       Reprehensible   \n",
       "195185                                    Christmas Bulbs   \n",
       "494393                            Tastes good, works well   \n",
       "134853                   Another urine specimen from Cali   \n",
       "430102                                      Feeling blue?   \n",
       "264734                                      Amazing color   \n",
       "264735                   Looks very pretty when in bloom!   \n",
       "241028                  On the first day of Christmas....   \n",
       "269822                                    Truly delicious   \n",
       "343072                           One of the best I've had   \n",
       "427660                        Pure and Delicious Iced Tea   \n",
       "184728   This product is AMAZING!!! And way INEXPENSIVE!!   \n",
       "178140                                 Fat to Skinny zero   \n",
       "178139                                     love sweetener   \n",
       "178138                                      The Best Ever   \n",
       "178135                                   Love This Stuff!   \n",
       "178136                  Would not use any other sweetener   \n",
       "178134                 The Best Sweetener I've Ever Used!   \n",
       "178137                              Best sweetner ever!!!   \n",
       "178142          The BEST sugar replacement on the market!   \n",
       "178141                        Fat to Skinny Zero Sweetner   \n",
       "178143                                               Zero   \n",
       "178147                          My #1 Sweetener of choice   \n",
       "178146                                 YAY! No Dextrose!!   \n",
       "178144                                           Love it!   \n",
       "178145                                     LOVE!!  LOVE!!   \n",
       "173675              Amazing!! Great sauce for everything!   \n",
       "204727                                      Awesome Taste   \n",
       "5259                                            DELICIOUS   \n",
       "302474                                             Tasty!   \n",
       "\n",
       "                                                     Text  \n",
       "138706  this witty little book makes my son laugh at l...  \n",
       "138688  I grew up reading these Sendak books, and watc...  \n",
       "138689  This is a fun way for children to learn their ...  \n",
       "138690  This is a great little book to read aloud- it ...  \n",
       "138691  This is a book of poetry about the months of t...  \n",
       "138693  A charming, rhyming book that describes the ci...  \n",
       "138694  I set aside at least an hour each day to read ...  \n",
       "138695  I remembered this book from my childhood and g...  \n",
       "138696  It's a great book with adorable illustrations....  \n",
       "138697  This book is a family favorite and was read to...  \n",
       "138687  Get the movie or sound track and sing along wi...  \n",
       "138698  The same author wrote \"Where the Wild Things A...  \n",
       "138700  Great book, perfect condition arrived in a sho...  \n",
       "138701  I've always loved chicken soup and rice. My la...  \n",
       "138702  This book was purchased as a birthday gift for...  \n",
       "138703  My 7 year old daughter brought this book home ...  \n",
       "138704  This book contains a collection of twelve shor...  \n",
       "138705  Summary:  A young boy describes the usefulness...  \n",
       "138707  My daughter loves all the \"Really Rosie\" books...  \n",
       "138708  This is one of the best children's books ever ...  \n",
       "138709  In June<br />I saw a charming group<br />of ro...  \n",
       "138699  Classic children's book, can't go wrong. I rea...  \n",
       "138686  A very entertaining rhyming story--cleaver and...  \n",
       "138692  TITLE: Chicken Soup with Rice<br />AUTHOR: Mau...  \n",
       "138680  This is a wonderful little book. I loved it 40...  \n",
       "138677  All of my children love this book.  My first g...  \n",
       "138678  One of my earliest memories is of this book.  ...  \n",
       "138685  This is my grand daughter's and my favorite bo...  \n",
       "138684  This copy is smaller than I expected (mostly b...  \n",
       "138679  I give five stars to the Maurice Sendak story....  \n",
       "...                                                   ...  \n",
       "35419   This Trader Joe's product is good quality.  Bu...  \n",
       "195185  I gave these bulbs to the receptionist at my l...  \n",
       "494393  I tried this after reading the ingredients whi...  \n",
       "134853  The most watery and tasteless pinot noir on th...  \n",
       "430102  I usually drink Green Machine but I really wan...  \n",
       "264734  I have purchased several other Amaryllis from ...  \n",
       "264735  My neighborhood recently decided to create a n...  \n",
       "241028  ....my true love gave to me, a Christmas Bloom...  \n",
       "269822  I was a bit hesitant to buy this tea due to th...  \n",
       "343072  I am an avid tea drinker and enjoy my tea warm...  \n",
       "427660  My wife and I have been using unsweetened iced...  \n",
       "184728  Any product by My Personal Pantry is so delici...  \n",
       "178140  I have been using this product for 4 months no...  \n",
       "178139  Great product not too expensive easy to use. S...  \n",
       "178138  Zero sweetner is the BEST I have ever used.One...  \n",
       "178135  Fat to Skinny Zero is a wonderful sweetener! I...  \n",
       "178136  I have been using the Fat To Skinny Zero sweet...  \n",
       "178134  I have been using this product a bit over six ...  \n",
       "178137  This sweetner is so great. A little bit goes a...  \n",
       "178142  I've been using Fat to Skinny Zero since it wa...  \n",
       "178141  This is what I use when I'm baking instead of ...  \n",
       "178143  FTS Zero is the best sweetener I have ever tri...  \n",
       "178147  What a wonderful product! It's perfect to use ...  \n",
       "178146  Packets of powdered sweeteners usually have a ...  \n",
       "178144  I love this sweetener.  I use it to replace su...  \n",
       "178145  LOVE, LOVE this sweetener!!  I use it in all m...  \n",
       "173675  You have to try this sauce to believe it! It s...  \n",
       "204727  I bought this Hazelnut Paste (Nocciola Spread)...  \n",
       "5259    Purchased this product at a local store in NY ...  \n",
       "302474  I purchased this to send to my son who's away ...  \n",
       "\n",
       "[364171 rows x 10 columns]"
      ]
     },
     "execution_count": 13,
     "metadata": {},
     "output_type": "execute_result"
    }
   ],
   "source": [
    "finaldata = finaldata[finaldata.HelpfulnessNumerator<=finaldata.HelpfulnessDenominator]\n",
    "finaldata"
   ]
  },
  {
   "cell_type": "code",
   "execution_count": 14,
   "metadata": {},
   "outputs": [
    {
     "name": "stdout",
     "output_type": "stream",
     "text": [
      "(364171, 10)\n",
      "            Id   ProductId          UserId                  ProfileName  \\\n",
      "138706  150524  0006641040   ACITT7DI6IDDL              shari zychinski   \n",
      "138688  150506  0006641040  A2IW4PEEKO2R0U                        Tracy   \n",
      "138689  150507  0006641040  A1S4A3IQ2MU7V4        sally sue \"sally sue\"   \n",
      "138690  150508  0006641040     AZGXZ2UUK6X  Catherine Hallberg \"(Kate)\"   \n",
      "138691  150509  0006641040  A3CMRKGE0P909G                       Teresa   \n",
      "\n",
      "        HelpfulnessNumerator  HelpfulnessDenominator     Score        Time  \\\n",
      "138706                     0                       0  positive   939340800   \n",
      "138688                     1                       1  positive  1194739200   \n",
      "138689                     1                       1  positive  1191456000   \n",
      "138690                     1                       1  positive  1076025600   \n",
      "138691                     3                       4  positive  1018396800   \n",
      "\n",
      "                                           Summary  \\\n",
      "138706                   EVERY book is educational   \n",
      "138688  Love the book, miss the hard cover version   \n",
      "138689               chicken soup with rice months   \n",
      "138690      a good swingy rhythm for reading aloud   \n",
      "138691             A great way to learn the months   \n",
      "\n",
      "                                                     Text  \n",
      "138706  this witty little book makes my son laugh at l...  \n",
      "138688  I grew up reading these Sendak books, and watc...  \n",
      "138689  This is a fun way for children to learn their ...  \n",
      "138690  This is a great little book to read aloud- it ...  \n",
      "138691  This is a book of poetry about the months of t...  \n"
     ]
    }
   ],
   "source": [
    "print(finaldata.shape)\n",
    "print(finaldata.head(5))"
   ]
  },
  {
   "cell_type": "markdown",
   "metadata": {},
   "source": [
    "BAG OF WORDS:\n",
    "    \n",
    "    -> Applying BOW to convert the text to vectors\n",
    "    \n",
    "    -> Applying BERNOULI NAVIE BAYES to determine alpha value by using cross validation\n",
    "    \n",
    "    -> Examining the accurancy measures"
   ]
  },
  {
   "cell_type": "markdown",
   "metadata": {},
   "source": [
    "TIME BASED SPLITTING"
   ]
  },
  {
   "cell_type": "code",
   "execution_count": 15,
   "metadata": {},
   "outputs": [],
   "source": [
    "count_vector_data = finaldata.sort_values(\"Time\",axis=0,ascending=True,kind='quicksort',na_position='last')"
   ]
  },
  {
   "cell_type": "code",
   "execution_count": 16,
   "metadata": {
    "scrolled": true
   },
   "outputs": [
    {
     "name": "stdout",
     "output_type": "stream",
     "text": [
      "(364171, 10)\n",
      "            Id   ProductId          UserId               ProfileName  \\\n",
      "138706  150524  0006641040   ACITT7DI6IDDL           shari zychinski   \n",
      "138683  150501  0006641040   AJ46FKXOVC7NR        Nicholas A Mesiano   \n",
      "417839  451856  B00004CXX9   AIUWLEQ1ADEG5          Elizabeth Medina   \n",
      "346055  374359  B00004CI84  A344SMIA5JECGM           Vincent P. Ross   \n",
      "417838  451855  B00004CXX9   AJH6LUC1UT1ON  The Phantom of the Opera   \n",
      "\n",
      "        HelpfulnessNumerator  HelpfulnessDenominator     Score       Time  \\\n",
      "138706                     0                       0  positive  939340800   \n",
      "138683                     2                       2  positive  940809600   \n",
      "417839                     0                       0  positive  944092800   \n",
      "346055                     1                       2  positive  944438400   \n",
      "417838                     0                       0  positive  946857600   \n",
      "\n",
      "                                                  Summary  \\\n",
      "138706                          EVERY book is educational   \n",
      "138683  This whole series is great way to spend time w...   \n",
      "417839                               Entertainingl Funny!   \n",
      "346055                            A modern day fairy tale   \n",
      "417838                                         FANTASTIC!   \n",
      "\n",
      "                                                     Text  \n",
      "138706  this witty little book makes my son laugh at l...  \n",
      "138683  I can remember seeing the show when it aired o...  \n",
      "417839  Beetlejuice is a well written movie ..... ever...  \n",
      "346055  A twist of rumplestiskin captured on film, sta...  \n",
      "417838  Beetlejuice is an excellent and funny movie. K...  \n"
     ]
    }
   ],
   "source": [
    "print(count_vector_data.shape)\n",
    "print(count_vector_data.head(5))"
   ]
  },
  {
   "cell_type": "code",
   "execution_count": 17,
   "metadata": {},
   "outputs": [],
   "source": [
    "count_vect = CountVectorizer()\n",
    "final_count = count_vect.fit_transform(count_vector_data['Text'].values)\n"
   ]
  },
  {
   "cell_type": "code",
   "execution_count": 18,
   "metadata": {},
   "outputs": [
    {
     "name": "stdout",
     "output_type": "stream",
     "text": [
      "<class 'scipy.sparse.csr.csr_matrix'>\n"
     ]
    },
    {
     "data": {
      "text/plain": [
       "(364171, 115281)"
      ]
     },
     "execution_count": 18,
     "metadata": {},
     "output_type": "execute_result"
    }
   ],
   "source": [
    "print(type(final_count))\n",
    "final_count.shape"
   ]
  },
  {
   "cell_type": "code",
   "execution_count": 19,
   "metadata": {},
   "outputs": [
    {
     "name": "stdout",
     "output_type": "stream",
     "text": [
      "[array(['tks', 'tell', 'please', 'could', 'vhs', 'today', 'impossible',\n",
      "       'really', 'video', 'french', 'beatlejuice', 'getting', 'looking',\n",
      "       'find', 'crazy', 'version', 'not', 'film', 'for', 'something',\n",
      "       'me', 'to', 'is', 'of', 'about', 'the', 'it', 'this'],\n",
      "      dtype='<U124')]\n",
      "  (0, 104497)\t1\n",
      "  (0, 102790)\t1\n",
      "  (0, 80806)\t1\n",
      "  (0, 32479)\t1\n",
      "  (0, 110031)\t1\n",
      "  (0, 104615)\t1\n",
      "  (0, 56957)\t1\n",
      "  (0, 85950)\t1\n",
      "  (0, 110118)\t1\n",
      "  (0, 47622)\t2\n",
      "  (0, 19534)\t1\n",
      "  (0, 49514)\t1\n",
      "  (0, 64959)\t1\n",
      "  (0, 45603)\t1\n",
      "  (0, 32984)\t1\n",
      "  (0, 109908)\t2\n",
      "  (0, 73670)\t1\n",
      "  (0, 45534)\t1\n",
      "  (0, 46897)\t1\n",
      "  (0, 96426)\t1\n",
      "  (0, 67842)\t1\n",
      "  (0, 104542)\t1\n",
      "  (0, 59142)\t1\n",
      "  (0, 74846)\t1\n",
      "  (0, 5150)\t1\n",
      "  (0, 103373)\t1\n",
      "  (0, 59284)\t2\n",
      "  (0, 103749)\t1\n"
     ]
    }
   ],
   "source": [
    "a = count_vect.inverse_transform(final_count[9])\n",
    "print(a)\n",
    "print(final_count[9])"
   ]
  },
  {
   "cell_type": "code",
   "execution_count": 20,
   "metadata": {},
   "outputs": [],
   "source": [
    "score = count_vector_data['Score']"
   ]
  },
  {
   "cell_type": "code",
   "execution_count": 21,
   "metadata": {},
   "outputs": [
    {
     "data": {
      "text/plain": [
       "(364171,)"
      ]
     },
     "execution_count": 21,
     "metadata": {},
     "output_type": "execute_result"
    }
   ],
   "source": [
    "score.shape"
   ]
  },
  {
   "cell_type": "markdown",
   "metadata": {},
   "source": [
    "-> Splitting the data, 70 percent to training and 30 percent to testing"
   ]
  },
  {
   "cell_type": "code",
   "execution_count": 22,
   "metadata": {},
   "outputs": [],
   "source": [
    "x_train = final_count[0:254919]\n",
    "x_test = final_count[254919:]\n",
    "y_train = score[0:254919]\n",
    "y_test = score[254919:]"
   ]
  },
  {
   "cell_type": "code",
   "execution_count": 23,
   "metadata": {},
   "outputs": [
    {
     "name": "stdout",
     "output_type": "stream",
     "text": [
      "(254919, 115281)\n",
      "(109252, 115281)\n",
      "(254919,)\n",
      "(109252,)\n"
     ]
    }
   ],
   "source": [
    "print(x_train.shape)\n",
    "print(x_test.shape)\n",
    "print(y_train.shape)\n",
    "print(y_test.shape)"
   ]
  },
  {
   "cell_type": "code",
   "execution_count": 24,
   "metadata": {},
   "outputs": [],
   "source": [
    "from sklearn.naive_bayes import BernoulliNB"
   ]
  },
  {
   "cell_type": "code",
   "execution_count": 25,
   "metadata": {},
   "outputs": [
    {
     "name": "stdout",
     "output_type": "stream",
     "text": [
      "[1, 3, 5, 7, 9, 11, 13, 15, 17, 19, 21, 23, 25, 27, 29]\n"
     ]
    }
   ],
   "source": [
    "lst  = list(np.arange(1,30,2))\n",
    "print(lst)"
   ]
  },
  {
   "cell_type": "code",
   "execution_count": 26,
   "metadata": {},
   "outputs": [
    {
     "name": "stderr",
     "output_type": "stream",
     "text": [
      "C:\\Users\\Anil Chowdary\\Anaconda3\\lib\\site-packages\\sklearn\\cross_validation.py:41: DeprecationWarning: This module was deprecated in version 0.18 in favor of the model_selection module into which all the refactored classes and functions are moved. Also note that the interface of the new CV iterators are different from that of this module. This module will be removed in 0.20.\n",
      "  \"This module will be removed in 0.20.\", DeprecationWarning)\n"
     ]
    }
   ],
   "source": [
    "from sklearn.cross_validation import cross_val_score"
   ]
  },
  {
   "cell_type": "code",
   "execution_count": 27,
   "metadata": {},
   "outputs": [],
   "source": [
    "cross_validation_score = []\n",
    "for a in lst:\n",
    "    clasifier = BernoulliNB(alpha=a)\n",
    "    scores = cross_val_score(clasifier,x_train,y_train,cv=10,scoring='accuracy')\n",
    "    cross_validation_score.append(scores.mean())"
   ]
  },
  {
   "cell_type": "code",
   "execution_count": 28,
   "metadata": {},
   "outputs": [
    {
     "data": {
      "text/plain": [
       "[0.8765921749991934,\n",
       " 0.8662045645705694,\n",
       " 0.8576802839678888,\n",
       " 0.8532435810208916,\n",
       " 0.8506702142093108,\n",
       " 0.8497208946219365,\n",
       " 0.8491834691159585,\n",
       " 0.8492383898451885,\n",
       " 0.8492423123367189,\n",
       " 0.8492776156838302,\n",
       " 0.8494109917836937,\n",
       " 0.8496345919598985,\n",
       " 0.8498032724841004,\n",
       " 0.8499288022158968,\n",
       " 0.8499876443594301]"
      ]
     },
     "execution_count": 28,
     "metadata": {},
     "output_type": "execute_result"
    }
   ],
   "source": [
    "cross_validation_score"
   ]
  },
  {
   "cell_type": "code",
   "execution_count": null,
   "metadata": {},
   "outputs": [],
   "source": []
  },
  {
   "cell_type": "code",
   "execution_count": 29,
   "metadata": {},
   "outputs": [
    {
     "name": "stdout",
     "output_type": "stream",
     "text": [
      "[0.1234078250008066, 0.13379543542943062, 0.14231971603211124, 0.1467564189791084, 0.14932978579068923, 0.15027910537806355, 0.15081653088404146, 0.1507616101548115, 0.15075768766328113, 0.1507223843161698, 0.15058900821630627, 0.15036540804010146, 0.15019672751589963, 0.15007119778410316, 0.15001235564056992]\n"
     ]
    }
   ],
   "source": [
    "error = [1 - x for x in cross_validation_score]\n",
    "print(error)"
   ]
  },
  {
   "cell_type": "code",
   "execution_count": 30,
   "metadata": {},
   "outputs": [
    {
     "data": {
      "text/plain": [
       "Text(0.5,1,'Alpha vs CV Score')"
      ]
     },
     "execution_count": 30,
     "metadata": {},
     "output_type": "execute_result"
    },
    {
     "data": {
      "image/png": "[encoded data removed]",
      "text/plain": [
       "<matplotlib.figure.Figure at 0x1458d93c2b0>"
      ]
     },
     "metadata": {},
     "output_type": "display_data"
    }
   ],
   "source": [
    "mp.plot(lst,cross_validation_score)\n",
    "mp.xlabel('alpha-value')\n",
    "mp.ylabel(\"CV Score\")\n",
    "mp.title(\"Alpha vs CV Score\")"
   ]
  },
  {
   "cell_type": "code",
   "execution_count": 31,
   "metadata": {},
   "outputs": [
    {
     "data": {
      "text/plain": [
       "Text(0.5,1,'Alpha vs Error')"
      ]
     },
     "execution_count": 31,
     "metadata": {},
     "output_type": "execute_result"
    },
    {
     "data": {
      "image/png": "[encoded data removed]",
      "text/plain": [
       "<matplotlib.figure.Figure at 0x145a40ed470>"
      ]
     },
     "metadata": {},
     "output_type": "display_data"
    }
   ],
   "source": [
    "mp.plot(lst,error)\n",
    "mp.xlabel('alpha-value')\n",
    "mp.ylabel(\"Error\")\n",
    "mp.title(\"Alpha vs Error\")"
   ]
  },
  {
   "cell_type": "code",
   "execution_count": 32,
   "metadata": {},
   "outputs": [],
   "source": [
    "best_a = lst[error.index(min(error))]"
   ]
  },
  {
   "cell_type": "code",
   "execution_count": 33,
   "metadata": {},
   "outputs": [
    {
     "data": {
      "text/plain": [
       "1"
      ]
     },
     "execution_count": 33,
     "metadata": {},
     "output_type": "execute_result"
    }
   ],
   "source": [
    "best_a"
   ]
  },
  {
   "cell_type": "markdown",
   "metadata": {},
   "source": [
    "Observation:\n",
    "    \n",
    "    -> The highest accurancy and lowest error is occured when alpha = 1\n",
    "    \n",
    "    -> Using alpha = 1 to design the classifier"
   ]
  },
  {
   "cell_type": "code",
   "execution_count": 34,
   "metadata": {},
   "outputs": [],
   "source": [
    "bnb = BernoulliNB(alpha=1)\n",
    "bnb.fit(x_train,y_train)\n",
    "prdct = bnb.predict(x_test)"
   ]
  },
  {
   "cell_type": "code",
   "execution_count": 35,
   "metadata": {},
   "outputs": [
    {
     "data": {
      "text/plain": [
       "sklearn.naive_bayes.BernoulliNB"
      ]
     },
     "execution_count": 35,
     "metadata": {},
     "output_type": "execute_result"
    }
   ],
   "source": [
    "type(bnb)"
   ]
  },
  {
   "cell_type": "markdown",
   "metadata": {},
   "source": [
    "Calculating Performance measure using:\n",
    "\n",
    "               -> Accuracy\n",
    "\n",
    "               -> Precision \n",
    "\n",
    "               -> Recall\n",
    "\n",
    "               -> F-1 Score\n",
    "\n",
    "               -> Confusion Matrix :\n",
    "\n",
    "                          -> TPR\n",
    "\n",
    "                          -> TNR\n",
    "\n",
    "                          -> FPR\n",
    "\n",
    "                          -> FNR"
   ]
  },
  {
   "cell_type": "markdown",
   "metadata": {},
   "source": [
    "ACCURACY SCORE"
   ]
  },
  {
   "cell_type": "code",
   "execution_count": 37,
   "metadata": {},
   "outputs": [
    {
     "name": "stdout",
     "output_type": "stream",
     "text": [
      "0.8615494453190788\n"
     ]
    }
   ],
   "source": [
    "acc = accuracy_score(y_test,prdct)\n",
    "print(acc)"
   ]
  },
  {
   "cell_type": "markdown",
   "metadata": {},
   "source": [
    "PRECISION SCORE:\n",
    "\n",
    "             This is the ratio of true positives to sum of true positives and false positives"
   ]
  },
  {
   "cell_type": "code",
   "execution_count": 38,
   "metadata": {},
   "outputs": [
    {
     "name": "stdout",
     "output_type": "stream",
     "text": [
      "(109252,)\n",
      "(109252,)\n"
     ]
    }
   ],
   "source": [
    "print(prdct.shape)\n",
    "print(y_test.shape)\n"
   ]
  },
  {
   "cell_type": "code",
   "execution_count": 39,
   "metadata": {},
   "outputs": [],
   "source": [
    "prcs = precision_score(y_test,prdct, average = 'binary',pos_label='positive')"
   ]
  },
  {
   "cell_type": "code",
   "execution_count": 40,
   "metadata": {},
   "outputs": [
    {
     "data": {
      "text/plain": [
       "0.9138130686517784"
      ]
     },
     "execution_count": 40,
     "metadata": {},
     "output_type": "execute_result"
    }
   ],
   "source": [
    "prcs"
   ]
  },
  {
   "cell_type": "markdown",
   "metadata": {},
   "source": [
    "RECALL SCORE:\n",
    "    \n",
    "    This is the ratio of true positives to the sum of true positives and flase negatives"
   ]
  },
  {
   "cell_type": "code",
   "execution_count": 41,
   "metadata": {},
   "outputs": [],
   "source": [
    "rs = recall_score(y_test,prdct,average='binary',pos_label='positive')"
   ]
  },
  {
   "cell_type": "code",
   "execution_count": 42,
   "metadata": {},
   "outputs": [
    {
     "data": {
      "text/plain": [
       "0.9189207173037894"
      ]
     },
     "execution_count": 42,
     "metadata": {},
     "output_type": "execute_result"
    }
   ],
   "source": [
    "rs"
   ]
  },
  {
   "cell_type": "markdown",
   "metadata": {},
   "source": [
    "F-1 SCORE:\n",
    "    \n",
    "    This is the weighted avergae of precision and recall scores"
   ]
  },
  {
   "cell_type": "code",
   "execution_count": 43,
   "metadata": {},
   "outputs": [],
   "source": [
    "f_scr = f1_score(y_test,prdct,pos_label='positive')"
   ]
  },
  {
   "cell_type": "code",
   "execution_count": 44,
   "metadata": {},
   "outputs": [
    {
     "data": {
      "text/plain": [
       "0.916359775720779"
      ]
     },
     "execution_count": 44,
     "metadata": {},
     "output_type": "execute_result"
    }
   ],
   "source": [
    "f_scr"
   ]
  },
  {
   "cell_type": "markdown",
   "metadata": {},
   "source": [
    "CONFUSION-MATRIX:\n",
    "    \n",
    "    This evaluates the accurancy of a classification"
   ]
  },
  {
   "cell_type": "code",
   "execution_count": 45,
   "metadata": {},
   "outputs": [
    {
     "data": {
      "text/plain": [
       "array([[11266,  7815],\n",
       "       [ 7311, 82860]], dtype=int64)"
      ]
     },
     "execution_count": 45,
     "metadata": {},
     "output_type": "execute_result"
    }
   ],
   "source": [
    "cm = confusion_matrix(y_test,prdct)\n",
    "cm"
   ]
  },
  {
   "cell_type": "code",
   "execution_count": 46,
   "metadata": {},
   "outputs": [
    {
     "data": {
      "text/plain": [
       "array([11266,  7815,  7311, 82860], dtype=int64)"
      ]
     },
     "execution_count": 46,
     "metadata": {},
     "output_type": "execute_result"
    }
   ],
   "source": [
    "cmr  = cm.ravel()\n",
    "cmr"
   ]
  },
  {
   "cell_type": "code",
   "execution_count": 47,
   "metadata": {},
   "outputs": [],
   "source": [
    "tn,fp,fn,tp = cmr"
   ]
  },
  {
   "cell_type": "code",
   "execution_count": 48,
   "metadata": {},
   "outputs": [
    {
     "data": {
      "text/plain": [
       "11266"
      ]
     },
     "execution_count": 48,
     "metadata": {},
     "output_type": "execute_result"
    }
   ],
   "source": [
    "tn"
   ]
  },
  {
   "cell_type": "code",
   "execution_count": 49,
   "metadata": {},
   "outputs": [
    {
     "data": {
      "text/plain": [
       "82860"
      ]
     },
     "execution_count": 49,
     "metadata": {},
     "output_type": "execute_result"
    }
   ],
   "source": [
    "tp"
   ]
  },
  {
   "cell_type": "code",
   "execution_count": 50,
   "metadata": {},
   "outputs": [
    {
     "data": {
      "text/plain": [
       "7815"
      ]
     },
     "execution_count": 50,
     "metadata": {},
     "output_type": "execute_result"
    }
   ],
   "source": [
    "fp"
   ]
  },
  {
   "cell_type": "code",
   "execution_count": 51,
   "metadata": {},
   "outputs": [
    {
     "data": {
      "text/plain": [
       "7311"
      ]
     },
     "execution_count": 51,
     "metadata": {},
     "output_type": "execute_result"
    }
   ],
   "source": [
    "fn"
   ]
  },
  {
   "cell_type": "markdown",
   "metadata": {},
   "source": [
    "Note:\n",
    "    \n",
    "    -> TRUE POSITIVE RATE IS THE RATIO OF TRUE POSITIVES TO TOTAL POSITIVE \n",
    "    \n",
    "    -> TRUE NEGATIVE RATE IS THE RATIO OF TRUE NEGATIVES TO TOTAL NEGATIVE\n",
    "    \n",
    "    -> FALSE POSITIVE RATE IS THE RATIO OF FALSE POSITIVES TO TOTAL POSITIVE\n",
    "    \n",
    "    -> FALSE NEGATIVE RATE IS THE RATIO OF FALSE NEGATIVES TO TOTAL NEGATIVES"
   ]
  },
  {
   "cell_type": "code",
   "execution_count": 52,
   "metadata": {},
   "outputs": [
    {
     "name": "stdout",
     "output_type": "stream",
     "text": [
      "true positive rate is 0.9189207173037894\n",
      "true_negative_rate is 0.5904302709501599\n",
      "false positive rate is 0.08666866287387298\n",
      "false_negative_rate is 0.3831560190765683\n"
     ]
    }
   ],
   "source": [
    "true_positive_rate = tp/(fn+tp)\n",
    "true_negative_rate = tn/(tn+fp)\n",
    "false_positive_rate = fp/(fn+tp)\n",
    "false_negative_rate = fn/(tn+fp)\n",
    "print(\"true positive rate is {}\".format(true_positive_rate))\n",
    "print(\"true_negative_rate is {}\".format(true_negative_rate))\n",
    "print(\"false positive rate is {}\".format(false_positive_rate))\n",
    "print(\"false_negative_rate is {}\".format(false_negative_rate))\n"
   ]
  },
  {
   "cell_type": "markdown",
   "metadata": {},
   "source": [
    "TFIDF:\n",
    "    \n",
    "    -> Applying TFIDF to convert the text to vectors\n",
    "    \n",
    "    -> Applying BERNOULI NAVIE BAYES to determine alpha value by using cross validation\n",
    "    \n",
    "    -> Examining the accurancy measures"
   ]
  },
  {
   "cell_type": "markdown",
   "metadata": {},
   "source": [
    "Time Based Splitting:\n",
    "    \n",
    "    Sorting the data based on the time"
   ]
  },
  {
   "cell_type": "code",
   "execution_count": 53,
   "metadata": {},
   "outputs": [],
   "source": [
    "tfidf_data = finaldata.sort_values(\"Time\",axis=0,ascending=True,kind='quicksort',na_position='last')"
   ]
  },
  {
   "cell_type": "code",
   "execution_count": 54,
   "metadata": {},
   "outputs": [
    {
     "name": "stdout",
     "output_type": "stream",
     "text": [
      "(364171, 10)\n",
      "2\n",
      "Index(['Id', 'ProductId', 'UserId', 'ProfileName', 'HelpfulnessNumerator',\n",
      "       'HelpfulnessDenominator', 'Score', 'Time', 'Summary', 'Text'],\n",
      "      dtype='object')\n",
      "            Id   ProductId          UserId               ProfileName  \\\n",
      "138706  150524  0006641040   ACITT7DI6IDDL           shari zychinski   \n",
      "138683  150501  0006641040   AJ46FKXOVC7NR        Nicholas A Mesiano   \n",
      "417839  451856  B00004CXX9   AIUWLEQ1ADEG5          Elizabeth Medina   \n",
      "346055  374359  B00004CI84  A344SMIA5JECGM           Vincent P. Ross   \n",
      "417838  451855  B00004CXX9   AJH6LUC1UT1ON  The Phantom of the Opera   \n",
      "\n",
      "        HelpfulnessNumerator  HelpfulnessDenominator     Score       Time  \\\n",
      "138706                     0                       0  positive  939340800   \n",
      "138683                     2                       2  positive  940809600   \n",
      "417839                     0                       0  positive  944092800   \n",
      "346055                     1                       2  positive  944438400   \n",
      "417838                     0                       0  positive  946857600   \n",
      "\n",
      "                                                  Summary  \\\n",
      "138706                          EVERY book is educational   \n",
      "138683  This whole series is great way to spend time w...   \n",
      "417839                               Entertainingl Funny!   \n",
      "346055                            A modern day fairy tale   \n",
      "417838                                         FANTASTIC!   \n",
      "\n",
      "                                                     Text  \n",
      "138706  this witty little book makes my son laugh at l...  \n",
      "138683  I can remember seeing the show when it aired o...  \n",
      "417839  Beetlejuice is a well written movie ..... ever...  \n",
      "346055  A twist of rumplestiskin captured on film, sta...  \n",
      "417838  Beetlejuice is an excellent and funny movie. K...  \n"
     ]
    }
   ],
   "source": [
    "print(tfidf_data.shape)\n",
    "print(tfidf_data.ndim)\n",
    "print(tfidf_data.columns)\n",
    "print(tfidf_data.head(5))"
   ]
  },
  {
   "cell_type": "code",
   "execution_count": 55,
   "metadata": {},
   "outputs": [],
   "source": [
    "tfid = TfidfVectorizer(ngram_range=(1,2))"
   ]
  },
  {
   "cell_type": "code",
   "execution_count": 56,
   "metadata": {},
   "outputs": [],
   "source": [
    "tfid_vect = tfid.fit_transform(tfidf_data['Text'].values)"
   ]
  },
  {
   "cell_type": "code",
   "execution_count": 57,
   "metadata": {},
   "outputs": [
    {
     "name": "stdout",
     "output_type": "stream",
     "text": [
      "(364171, 2910192)\n",
      "<class 'scipy.sparse.csr.csr_matrix'>\n"
     ]
    }
   ],
   "source": [
    "print(tfid_vect.shape)\n",
    "print(type(tfid_vect))"
   ]
  },
  {
   "cell_type": "markdown",
   "metadata": {},
   "source": [
    "Splitting first 70 percent of data as training data and rest 30 percent data as test data set"
   ]
  },
  {
   "cell_type": "code",
   "execution_count": 58,
   "metadata": {},
   "outputs": [],
   "source": [
    "x_train1 = tfid_vect[0:254919]\n",
    "x_test1 = tfid_vect[254919:]\n",
    "y_train1 = score[0:254919]\n",
    "y_test1 = score[254919:]"
   ]
  },
  {
   "cell_type": "code",
   "execution_count": 59,
   "metadata": {},
   "outputs": [
    {
     "name": "stdout",
     "output_type": "stream",
     "text": [
      "(254919, 2910192)\n",
      "(109252, 2910192)\n",
      "(254919,)\n",
      "(109252,)\n"
     ]
    }
   ],
   "source": [
    "print(x_train1.shape)\n",
    "print(x_test1.shape)\n",
    "print(y_train1.shape)\n",
    "print(y_test1.shape)"
   ]
  },
  {
   "cell_type": "code",
   "execution_count": 60,
   "metadata": {},
   "outputs": [],
   "source": [
    "from sklearn.cross_validation import cross_val_score"
   ]
  },
  {
   "cell_type": "code",
   "execution_count": 61,
   "metadata": {},
   "outputs": [
    {
     "name": "stdout",
     "output_type": "stream",
     "text": [
      "[1, 3, 5, 7, 9, 11, 13, 15, 17, 19, 21, 23, 25, 27, 29]\n"
     ]
    }
   ],
   "source": [
    "print(lst)"
   ]
  },
  {
   "cell_type": "code",
   "execution_count": 62,
   "metadata": {},
   "outputs": [],
   "source": [
    "cross_validation_score = []\n",
    "for a in lst:\n",
    "    clasifier = BernoulliNB(alpha=a)\n",
    "    scores = cross_val_score(clasifier,x_train1,y_train1,cv=10,scoring='accuracy')\n",
    "    cross_validation_score.append(scores.mean())"
   ]
  },
  {
   "cell_type": "code",
   "execution_count": 63,
   "metadata": {},
   "outputs": [
    {
     "data": {
      "text/plain": [
       "[0.8519765096110845,\n",
       " 0.8479320913656231,\n",
       " 0.8495600569263413,\n",
       " 0.8502347813314926,\n",
       " 0.850446612955879,\n",
       " 0.8505407602931985,\n",
       " 0.8506898271286316,\n",
       " 0.8507055180180908,\n",
       " 0.8507486689643858,\n",
       " 0.8507604375162041,\n",
       " 0.8507761288673322,\n",
       " 0.8507839744659513,\n",
       " 0.8507761288673322,\n",
       " 0.8507957430177695,\n",
       " 0.8508035886163888]"
      ]
     },
     "execution_count": 63,
     "metadata": {},
     "output_type": "execute_result"
    }
   ],
   "source": [
    "cross_validation_score"
   ]
  },
  {
   "cell_type": "code",
   "execution_count": 64,
   "metadata": {},
   "outputs": [],
   "source": [
    "error = [1 - x for x in cross_validation_score]"
   ]
  },
  {
   "cell_type": "code",
   "execution_count": 65,
   "metadata": {},
   "outputs": [
    {
     "data": {
      "text/plain": [
       "[0.1480234903889155,\n",
       " 0.1520679086343769,\n",
       " 0.1504399430736587,\n",
       " 0.14976521866850745,\n",
       " 0.14955338704412102,\n",
       " 0.14945923970680153,\n",
       " 0.14931017287136839,\n",
       " 0.1492944819819092,\n",
       " 0.14925133103561417,\n",
       " 0.14923956248379588,\n",
       " 0.14922387113266777,\n",
       " 0.14921602553404867,\n",
       " 0.14922387113266777,\n",
       " 0.1492042569822305,\n",
       " 0.14919641138361117]"
      ]
     },
     "execution_count": 65,
     "metadata": {},
     "output_type": "execute_result"
    }
   ],
   "source": [
    "error"
   ]
  },
  {
   "cell_type": "code",
   "execution_count": 66,
   "metadata": {},
   "outputs": [
    {
     "data": {
      "text/plain": [
       "Text(0.5,1,'Alpha vs CV Score')"
      ]
     },
     "execution_count": 66,
     "metadata": {},
     "output_type": "execute_result"
    },
    {
     "data": {
      "image/png": "[encoded data removed]",
      "text/plain": [
       "<matplotlib.figure.Figure at 0x145f2eb37b8>"
      ]
     },
     "metadata": {},
     "output_type": "display_data"
    }
   ],
   "source": [
    "\n",
    "mp.plot(lst,cross_validation_score)\n",
    "mp.xlabel('alpha-value')\n",
    "mp.ylabel(\"CV Score\")\n",
    "mp.title(\"Alpha vs CV Score\")"
   ]
  },
  {
   "cell_type": "code",
   "execution_count": 67,
   "metadata": {},
   "outputs": [
    {
     "data": {
      "text/plain": [
       "Text(0.5,1,'Alpha vs Error')"
      ]
     },
     "execution_count": 67,
     "metadata": {},
     "output_type": "execute_result"
    },
    {
     "data": {
      "image/png": "[encoded data removed]",
      "text/plain": [
       "<matplotlib.figure.Figure at 0x145eda8aa20>"
      ]
     },
     "metadata": {},
     "output_type": "display_data"
    }
   ],
   "source": [
    "\n",
    "mp.plot(lst,error)\n",
    "mp.xlabel('alpha-value')\n",
    "mp.ylabel(\"Error\")\n",
    "mp.title(\"Alpha vs Error\")"
   ]
  },
  {
   "cell_type": "code",
   "execution_count": 68,
   "metadata": {},
   "outputs": [
    {
     "name": "stdout",
     "output_type": "stream",
     "text": [
      "1\n"
     ]
    }
   ],
   "source": [
    "best_a1 = lst[error.index(min(error))]\n",
    "print(best_a1)"
   ]
  },
  {
   "cell_type": "markdown",
   "metadata": {},
   "source": [
    "Observation:\n",
    "    \n",
    "    -> The highest accurancy and lowest error is occured when alpha = 1\n",
    "    \n",
    "    -> Using alpha = 1 to design the classifier"
   ]
  },
  {
   "cell_type": "code",
   "execution_count": 69,
   "metadata": {},
   "outputs": [],
   "source": [
    "bernoulinb = BernoulliNB(alpha=1)\n",
    "bernoulinb.fit(x_train1,y_train1)\n",
    "prdct1 = bernoulinb.predict(x_test1)\n",
    "\n"
   ]
  },
  {
   "cell_type": "markdown",
   "metadata": {},
   "source": [
    "Calculating Performance measure using:\n",
    "\n",
    "               -> Accuracy\n",
    "\n",
    "               -> Precision \n",
    "\n",
    "               -> Recall\n",
    "\n",
    "               -> F-1 Score\n",
    "\n",
    "               -> Confusion Matrix :\n",
    "\n",
    "                          -> TPR\n",
    "\n",
    "                          -> TNR\n",
    "\n",
    "                          -> FPR\n",
    "\n",
    "                          -> FNR"
   ]
  },
  {
   "cell_type": "markdown",
   "metadata": {},
   "source": [
    "ACCURACY SCORE:\n",
    "    \n",
    "    TELLS US HOW ACCURATE THE MODEL IS IN PREDICTING\n",
    "    \n",
    "    "
   ]
  },
  {
   "cell_type": "code",
   "execution_count": 70,
   "metadata": {},
   "outputs": [
    {
     "name": "stdout",
     "output_type": "stream",
     "text": [
      "0.8321403727162889\n"
     ]
    }
   ],
   "source": [
    "acc1 = accuracy_score(y_test1,prdct1)\n",
    "print(acc1)"
   ]
  },
  {
   "cell_type": "markdown",
   "metadata": {},
   "source": [
    "\n",
    "PRECISION SCORE:\n",
    "\n",
    "         This is the ratio of true positives to sum of true positives and false positives"
   ]
  },
  {
   "cell_type": "code",
   "execution_count": 71,
   "metadata": {},
   "outputs": [
    {
     "name": "stdout",
     "output_type": "stream",
     "text": [
      "0.9138130686517784\n"
     ]
    }
   ],
   "source": [
    "prcs1 = precision_score(y_test,prdct, average = 'binary',pos_label='positive')\n",
    "print(prcs1)"
   ]
  },
  {
   "cell_type": "markdown",
   "metadata": {},
   "source": [
    "RECALL SCORE:\n",
    "    \n",
    "    This is the ratio of true positives to the sum of true positives and flase negatives"
   ]
  },
  {
   "cell_type": "code",
   "execution_count": 72,
   "metadata": {},
   "outputs": [
    {
     "name": "stdout",
     "output_type": "stream",
     "text": [
      "0.9563163323019596\n"
     ]
    }
   ],
   "source": [
    "rs1 = recall_score(y_test1,prdct1,average='binary',pos_label='positive')\n",
    "print(rs1)"
   ]
  },
  {
   "cell_type": "markdown",
   "metadata": {},
   "source": [
    "F-1 SCORE:\n",
    "    \n",
    "    This is the weighted avergae of precision and recall scores"
   ]
  },
  {
   "cell_type": "code",
   "execution_count": 73,
   "metadata": {},
   "outputs": [
    {
     "name": "stdout",
     "output_type": "stream",
     "text": [
      "0.90388515903838\n"
     ]
    }
   ],
   "source": [
    "\n",
    "f_scr1 = f1_score(y_test1,prdct1,pos_label='positive')\n",
    "\n",
    "print(f_scr1)"
   ]
  },
  {
   "cell_type": "markdown",
   "metadata": {},
   "source": [
    "CONFUSION-MATRIX:\n",
    "    \n",
    "    This evaluates the accurancy of a classification"
   ]
  },
  {
   "cell_type": "code",
   "execution_count": 74,
   "metadata": {},
   "outputs": [
    {
     "name": "stdout",
     "output_type": "stream",
     "text": [
      "[[ 4681 14400]\n",
      " [ 3939 86232]]\n"
     ]
    }
   ],
   "source": [
    "cmr1 = confusion_matrix(y_test1,prdct1)\n",
    "print(cmr1)"
   ]
  },
  {
   "cell_type": "code",
   "execution_count": 75,
   "metadata": {},
   "outputs": [],
   "source": [
    "tn1,fp1,fn1,tp1 = cmr1.ravel()"
   ]
  },
  {
   "cell_type": "code",
   "execution_count": 76,
   "metadata": {},
   "outputs": [
    {
     "data": {
      "text/plain": [
       "86232"
      ]
     },
     "execution_count": 76,
     "metadata": {},
     "output_type": "execute_result"
    }
   ],
   "source": [
    "tp1"
   ]
  },
  {
   "cell_type": "code",
   "execution_count": 77,
   "metadata": {},
   "outputs": [
    {
     "data": {
      "text/plain": [
       "4681"
      ]
     },
     "execution_count": 77,
     "metadata": {},
     "output_type": "execute_result"
    }
   ],
   "source": [
    "tn1"
   ]
  },
  {
   "cell_type": "code",
   "execution_count": 78,
   "metadata": {},
   "outputs": [
    {
     "data": {
      "text/plain": [
       "14400"
      ]
     },
     "execution_count": 78,
     "metadata": {},
     "output_type": "execute_result"
    }
   ],
   "source": [
    "fp1"
   ]
  },
  {
   "cell_type": "code",
   "execution_count": 79,
   "metadata": {},
   "outputs": [
    {
     "data": {
      "text/plain": [
       "3939"
      ]
     },
     "execution_count": 79,
     "metadata": {},
     "output_type": "execute_result"
    }
   ],
   "source": [
    "fn1"
   ]
  },
  {
   "cell_type": "markdown",
   "metadata": {},
   "source": [
    "Note:\n",
    "\n",
    "-> TRUE POSITIVE RATE IS THE RATIO OF TRUE POSITIVES TO TOTAL POSITIVE \n",
    "\n",
    "-> TRUE NEGATIVE RATE IS THE RATIO OF TRUE NEGATIVES TO TOTAL NEGATIVE\n",
    "\n",
    "-> FALSE POSITIVE RATE IS THE RATIO OF FALSE POSITIVES TO TOTAL POSITIVE\n",
    "\n",
    "-> FALSE NEGATIVE RATE IS THE RATIO OF FALSE NEGATIVES TO TOTAL NEGATIVES"
   ]
  },
  {
   "cell_type": "code",
   "execution_count": 80,
   "metadata": {},
   "outputs": [
    {
     "name": "stdout",
     "output_type": "stream",
     "text": [
      "true positive rate is 0.9563163323019596\n",
      "true_negative_rate is 0.2453225721922331\n",
      "false positive rate is 0.15969657650464117\n",
      "false_negative_rate is 0.20643572139824956\n"
     ]
    }
   ],
   "source": [
    "\n",
    "true_positive_rate1 = tp1/(fn1+tp1)\n",
    "\n",
    "true_negative_rate1 = tn1/(tn1+fp1)\n",
    "\n",
    "false_positive_rate1 = fp1/(fn1+tp1)\n",
    "\n",
    "false_negative_rate1 = fn1/(tn1+fp1)\n",
    "\n",
    "print(\"true positive rate is {}\".format(true_positive_rate1))\n",
    "\n",
    "print(\"true_negative_rate is {}\".format(true_negative_rate1))\n",
    "\n",
    "print(\"false positive rate is {}\".format(false_positive_rate1))\n",
    "\n",
    "print(\"false_negative_rate is {}\".format(false_negative_rate1))"
   ]
  },
  {
   "cell_type": "markdown",
   "metadata": {},
   "source": [
    "NOTE:\n",
    "    \n",
    "    COMPARISON OF PERFORMANCE RESULTS OCCURED IN BOTH THE MODELS"
   ]
  },
  {
   "cell_type": "code",
   "execution_count": 81,
   "metadata": {},
   "outputs": [],
   "source": [
    "d = {'Accurancy Score':[acc,acc1],'Precision Score':[prcs,prcs1],'Recall Score':[rs,rs1],'F-1 Score':[f_scr,f_scr1],'tn':[tn,tn1],'tp':[tp,tp1],\n",
    "    'fp':[fp,fp1],'fn':[fn,fn1],'tnr':[true_negative_rate,true_negative_rate1],\n",
    "     'tpr':[true_positive_rate,true_negative_rate1],\"fpr\":[false_positive_rate,false_negative_rate1],\n",
    "     'fnr':[false_negative_rate,false_negative_rate1],'Technique':['BOW','TFIDF']}"
   ]
  },
  {
   "cell_type": "code",
   "execution_count": 82,
   "metadata": {},
   "outputs": [],
   "source": [
    "from collections import OrderedDict"
   ]
  },
  {
   "cell_type": "code",
   "execution_count": 83,
   "metadata": {},
   "outputs": [
    {
     "name": "stdout",
     "output_type": "stream",
     "text": [
      "       Accurancy Score  F-1 Score  Precision Score  Recall Score Technique  \\\n",
      "BOW           0.861549   0.916360         0.913813      0.918921       BOW   \n",
      "TFIDF         0.832140   0.903885         0.913813      0.956316     TFIDF   \n",
      "\n",
      "         fn       fnr     fp       fpr     tn       tnr     tp       tpr  \n",
      "BOW    7311  0.383156   7815  0.086669  11266  0.590430  82860  0.918921  \n",
      "TFIDF  3939  0.206436  14400  0.206436   4681  0.245323  86232  0.245323  \n"
     ]
    }
   ],
   "source": [
    "df = pd.DataFrame(data=d,index=['BOW','TFIDF'])\n",
    "print(df)"
   ]
  },
  {
   "cell_type": "code",
   "execution_count": null,
   "metadata": {},
   "outputs": [],
   "source": []
  },
  {
   "cell_type": "markdown",
   "metadata": {},
   "source": [
    "WORD2VEC:\n",
    "    \n",
    "    Constructing the word2vec model vector representation of each word in the corpus"
   ]
  },
  {
   "cell_type": "code",
   "execution_count": 84,
   "metadata": {},
   "outputs": [
    {
     "name": "stderr",
     "output_type": "stream",
     "text": [
      "C:\\Users\\Anil Chowdary\\Anaconda3\\lib\\site-packages\\gensim\\utils.py:1197: UserWarning: detected Windows; aliasing chunkize to chunkize_serial\n",
      "  warnings.warn(\"detected Windows; aliasing chunkize to chunkize_serial\")\n"
     ]
    }
   ],
   "source": [
    "import gensim"
   ]
  },
  {
   "cell_type": "code",
   "execution_count": 85,
   "metadata": {},
   "outputs": [],
   "source": [
    "from gensim.models import word2vec"
   ]
  },
  {
   "cell_type": "markdown",
   "metadata": {},
   "source": [
    "->Removing stop words\n",
    "\n",
    "\n",
    "->Stemming the words"
   ]
  },
  {
   "cell_type": "code",
   "execution_count": 86,
   "metadata": {},
   "outputs": [],
   "source": [
    "import re\n",
    "def cleanhtml(sentence):\n",
    "    clean = re.compile(\"<.*?>\")\n",
    "    cleantext = re.sub(clean,\" \",sentence)\n",
    "    return cleantext\n",
    "def cleanpunct(sentence):\n",
    "    cleaned = re.sub(r'[?|!|\\|#|\"]',r' ',sentence)\n",
    "    cleaned = re.sub(r'[<|,|)|(|>|<]',r' ',cleaned)\n",
    "    return cleaned"
   ]
  },
  {
   "cell_type": "markdown",
   "metadata": {},
   "source": [
    "Sorting the data based on time to do time based analysis"
   ]
  },
  {
   "cell_type": "code",
   "execution_count": 87,
   "metadata": {},
   "outputs": [],
   "source": [
    "finaldata1 = finaldata.sort_values(\"Time\",axis=0,ascending=True,kind='quicksort',na_position='last')"
   ]
  },
  {
   "cell_type": "code",
   "execution_count": 88,
   "metadata": {},
   "outputs": [
    {
     "data": {
      "text/plain": [
       "(364171, 10)"
      ]
     },
     "execution_count": 88,
     "metadata": {},
     "output_type": "execute_result"
    }
   ],
   "source": [
    "finaldata1.shape"
   ]
  },
  {
   "cell_type": "code",
   "execution_count": 89,
   "metadata": {},
   "outputs": [],
   "source": [
    "i=0\n",
    "listofsent=[]\n",
    "for sent in finaldata1['Text'].values:\n",
    "    filtered_sentences = []\n",
    "    sent = cleanhtml(sent)\n",
    "    for w in sent.split():\n",
    "        for cleanedwordws in cleanpunct(w).split():\n",
    "            if(cleanedwordws.isalpha()):\n",
    "                filtered_sentences.append(cleanedwordws.lower())\n",
    "    listofsent.append(filtered_sentences)   "
   ]
  },
  {
   "cell_type": "code",
   "execution_count": 90,
   "metadata": {
    "scrolled": true
   },
   "outputs": [
    {
     "name": "stdout",
     "output_type": "stream",
     "text": [
      "<class 'list'>\n",
      "364171\n",
      "My dog loves these treats. He's really picking with his treats so it says a lot that he loves these. I had been buying him bags of the freeze dried treats at petco, etc. and it was costing a fortune, not to mention they were smashed. These are great quality. You get tons!! in the 14 ounce bucket and my little dog is in love.\n",
      "['i', 'have', 'baked', 'with', 'this', 'organic', 'vanilla', 'in', 'the', 'past', 'and', 'realized', 'that', 'it', 'is', 'not', 'a', 'vanilla', 'i', 'found', 'this', 'product', 'very', 'misleading', 'even', 'though', 'categorized', 'has', 'an', 'organic']\n"
     ]
    }
   ],
   "source": [
    "print(type(listofsent))\n",
    "print(len(listofsent))\n",
    "print(finaldata['Text'].values[99])\n",
    "print(listofsent[99])\n"
   ]
  },
  {
   "cell_type": "markdown",
   "metadata": {},
   "source": [
    "Constructing word2vec model with cleaned data with vector representation of each word in 100 dimensions"
   ]
  },
  {
   "cell_type": "code",
   "execution_count": 91,
   "metadata": {},
   "outputs": [],
   "source": [
    "w2vmodel = gensim.models.Word2Vec(listofsent,min_count=5,size=100,workers=4)"
   ]
  },
  {
   "cell_type": "code",
   "execution_count": 92,
   "metadata": {},
   "outputs": [
    {
     "name": "stderr",
     "output_type": "stream",
     "text": [
      "C:\\Users\\Anil Chowdary\\Anaconda3\\lib\\site-packages\\ipykernel_launcher.py:1: DeprecationWarning: Call to deprecated `most_similar` (Method will be removed in 4.0.0, use self.wv.most_similar() instead).\n",
      "  \"\"\"Entry point for launching an IPython kernel.\n"
     ]
    },
    {
     "data": {
      "text/plain": [
       "[('great', 0.7910346984863281),\n",
       " ('decent', 0.7419871091842651),\n",
       " ('terrific', 0.6892297267913818),\n",
       " ('fantastic', 0.686516284942627),\n",
       " ('nice', 0.6577026844024658),\n",
       " ('bad', 0.6547868251800537),\n",
       " ('fine', 0.6223894953727722),\n",
       " ('tasty', 0.6080605983734131),\n",
       " ('awesome', 0.6049265265464783),\n",
       " ('yummy', 0.6035927534103394)]"
      ]
     },
     "execution_count": 92,
     "metadata": {},
     "output_type": "execute_result"
    }
   ],
   "source": [
    "w2vmodel.most_similar('good')"
   ]
  },
  {
   "cell_type": "code",
   "execution_count": 93,
   "metadata": {},
   "outputs": [
    {
     "name": "stderr",
     "output_type": "stream",
     "text": [
      "C:\\Users\\Anil Chowdary\\Anaconda3\\lib\\site-packages\\ipykernel_launcher.py:1: DeprecationWarning: Call to deprecated `similarity` (Method will be removed in 4.0.0, use self.wv.similarity() instead).\n",
      "  \"\"\"Entry point for launching an IPython kernel.\n"
     ]
    },
    {
     "data": {
      "text/plain": [
       "0.1585759640761753"
      ]
     },
     "execution_count": 93,
     "metadata": {},
     "output_type": "execute_result"
    }
   ],
   "source": [
    "w2vmodel.similarity('tasty','bad')"
   ]
  },
  {
   "cell_type": "code",
   "execution_count": 94,
   "metadata": {},
   "outputs": [
    {
     "name": "stderr",
     "output_type": "stream",
     "text": [
      "C:\\Users\\Anil Chowdary\\Anaconda3\\lib\\site-packages\\ipykernel_launcher.py:1: DeprecationWarning: Call to deprecated `similarity` (Method will be removed in 4.0.0, use self.wv.similarity() instead).\n",
      "  \"\"\"Entry point for launching an IPython kernel.\n"
     ]
    },
    {
     "data": {
      "text/plain": [
       "0.6547867707189339"
      ]
     },
     "execution_count": 94,
     "metadata": {},
     "output_type": "execute_result"
    }
   ],
   "source": [
    "w2vmodel.similarity('good','bad')"
   ]
  },
  {
   "cell_type": "code",
   "execution_count": 95,
   "metadata": {},
   "outputs": [
    {
     "data": {
      "text/plain": [
       "100"
      ]
     },
     "execution_count": 95,
     "metadata": {},
     "output_type": "execute_result"
    }
   ],
   "source": [
    "w2vmodel.vector_size"
   ]
  },
  {
   "cell_type": "markdown",
   "metadata": {},
   "source": [
    "AVERAGE WORD2VEC:\n",
    "    \n",
    "    By using the vector representation of each word trained by the word2vec and using them to \n",
    "    \n",
    "    construct vector representation of each sentence"
   ]
  },
  {
   "cell_type": "code",
   "execution_count": 96,
   "metadata": {},
   "outputs": [
    {
     "name": "stdout",
     "output_type": "stream",
     "text": [
      "364171\n",
      "100\n"
     ]
    }
   ],
   "source": [
    "cnt=0\n",
    "sent_vectors = []\n",
    "for sent in listofsent: \n",
    "    sent_vec = np.zeros(100) \n",
    "    cnt_words =0; \n",
    "    for word in sent:\n",
    "        try:\n",
    "            vec = w2vmodel.wv[word]\n",
    "            sent_vec += vec\n",
    "            cnt += 1\n",
    "        except:\n",
    "            pass\n",
    "    sent_vec /= cnt\n",
    "    sent_vectors.append(sent_vec)\n",
    "print(len(sent_vectors))\n",
    "print(len(sent_vectors[99999]))"
   ]
  },
  {
   "cell_type": "code",
   "execution_count": 97,
   "metadata": {},
   "outputs": [
    {
     "name": "stdout",
     "output_type": "stream",
     "text": [
      "364171\n",
      "[ 0.11377362 -0.12137225  0.04100957  0.11239191 -0.00531377  0.04085946\n",
      "  0.0476009  -0.09648934 -0.0010986  -0.08091155 -0.06770232 -0.01261855\n",
      "  0.01557359 -0.0201358  -0.00406908 -0.00294631 -0.06391854 -0.05851824\n",
      "  0.07370616 -0.10075934  0.01020004  0.17083765  0.09960079 -0.06806491\n",
      " -0.07289264  0.0326768   0.03578665  0.03273706  0.04975915  0.12016261\n",
      "  0.13349243  0.03924221  0.00150166  0.04242722 -0.03049197  0.04398392\n",
      " -0.09251195 -0.10949207 -0.10690167 -0.07376308 -0.15553156 -0.09606712\n",
      " -0.01030108 -0.10004253 -0.09286605 -0.03293687  0.09037566  0.0018135\n",
      " -0.0549786  -0.04505215  0.01651171 -0.08129116  0.11047236 -0.01776721\n",
      " -0.00912226  0.06250814  0.00375688 -0.05799512 -0.03087119  0.08339526\n",
      " -0.00542605  0.01242891  0.08467643 -0.0678173  -0.10334902  0.12021792\n",
      " -0.04506014  0.01100322  0.0178055   0.0526397   0.10796456  0.10078472\n",
      " -0.07161491 -0.06737346 -0.04179112 -0.00507344  0.03336954 -0.07394222\n",
      " -0.02807944 -0.02381356  0.05421009 -0.06156241  0.14499568 -0.00368346\n",
      "  0.11554297 -0.06626187  0.09045177  0.02773743 -0.05235551 -0.1141327\n",
      "  0.02570999  0.14225777 -0.09261952 -0.01611218 -0.04294083 -0.09478964\n",
      "  0.00405511 -0.04913444  0.00129716 -0.03861467]\n"
     ]
    }
   ],
   "source": [
    "print(len(sent_vectors))\n",
    "print(sent_vectors[2])"
   ]
  },
  {
   "cell_type": "code",
   "execution_count": 98,
   "metadata": {},
   "outputs": [
    {
     "name": "stdout",
     "output_type": "stream",
     "text": [
      "<class 'list'>\n"
     ]
    }
   ],
   "source": [
    "print(type(sent_vectors))"
   ]
  },
  {
   "cell_type": "code",
   "execution_count": 99,
   "metadata": {},
   "outputs": [
    {
     "data": {
      "text/plain": [
       "False"
      ]
     },
     "execution_count": 99,
     "metadata": {},
     "output_type": "execute_result"
    }
   ],
   "source": [
    "np.isnan(sent_vectors).any()"
   ]
  },
  {
   "cell_type": "code",
   "execution_count": 100,
   "metadata": {},
   "outputs": [],
   "source": [
    "sent_vectors = np.nan_to_num(sent_vectors)"
   ]
  },
  {
   "cell_type": "code",
   "execution_count": 101,
   "metadata": {},
   "outputs": [
    {
     "data": {
      "text/plain": [
       "(364171, 100)"
      ]
     },
     "execution_count": 101,
     "metadata": {},
     "output_type": "execute_result"
    }
   ],
   "source": [
    "sent_vectors.shape"
   ]
  },
  {
   "cell_type": "code",
   "execution_count": 102,
   "metadata": {},
   "outputs": [],
   "source": [
    "xtrain2 = sent_vectors[0:250000]\n",
    "xtest2 = sent_vectors[250001:]\n",
    "ytrain2 = finaldata1['Score'][0:250000]\n",
    "ytest2 = finaldata1['Score'][250001:]"
   ]
  },
  {
   "cell_type": "code",
   "execution_count": 103,
   "metadata": {},
   "outputs": [
    {
     "name": "stdout",
     "output_type": "stream",
     "text": [
      "(250000, 100)\n",
      "(250000,)\n",
      "(114170, 100)\n",
      "(114170,)\n"
     ]
    }
   ],
   "source": [
    "print(xtrain2.shape)\n",
    "print(ytrain2.shape)\n",
    "print(xtest2.shape)\n",
    "print(ytest2.shape)"
   ]
  },
  {
   "cell_type": "code",
   "execution_count": 104,
   "metadata": {},
   "outputs": [],
   "source": [
    "from sklearn.cross_validation import cross_val_score"
   ]
  },
  {
   "cell_type": "code",
   "execution_count": 105,
   "metadata": {},
   "outputs": [
    {
     "name": "stdout",
     "output_type": "stream",
     "text": [
      "[1, 3, 5, 7, 9, 11, 13, 15, 17, 19, 21, 23, 25, 27, 29]\n"
     ]
    }
   ],
   "source": [
    "print(lst)"
   ]
  },
  {
   "cell_type": "code",
   "execution_count": 106,
   "metadata": {},
   "outputs": [],
   "source": [
    "cross_validation_score = []\n",
    "for a in lst:\n",
    "    clasifier = BernoulliNB(alpha=a)\n",
    "    scores = cross_val_score(clasifier,xtrain2,ytrain2,cv=10,scoring='accuracy')\n",
    "    cross_validation_score.append(scores.mean())"
   ]
  },
  {
   "cell_type": "code",
   "execution_count": 107,
   "metadata": {},
   "outputs": [
    {
     "name": "stdout",
     "output_type": "stream",
     "text": [
      "[0.825979747778822, 0.826031747298854, 0.8260757477788989, 0.8261197474589501, 0.8261037469789052, 0.8261637471389628, 0.8261597482589564, 0.8261877484190012, 0.8262357495390715, 0.826255750019078, 0.8263357498591868, 0.8263357496991676, 0.8263597496991931, 0.8264197506592955, 0.826459751299334]\n",
      "[0.174020252221178, 0.17396825270114602, 0.17392425222110108, 0.17388025254104988, 0.1738962530210948, 0.1738362528610372, 0.17384025174104356, 0.17381225158099878, 0.17376425046092847, 0.17374424998092197, 0.17366425014081321, 0.17366425030083243, 0.17364025030080688, 0.17358024934070448, 0.17354024870066598]\n"
     ]
    }
   ],
   "source": [
    "error  = [1 - x for x in cross_validation_score]\n",
    "print(cross_validation_score)\n",
    "print(error)"
   ]
  },
  {
   "cell_type": "code",
   "execution_count": 108,
   "metadata": {},
   "outputs": [
    {
     "data": {
      "text/plain": [
       "Text(0.5,1,'Alpha vs CV Score')"
      ]
     },
     "execution_count": 108,
     "metadata": {},
     "output_type": "execute_result"
    },
    {
     "data": {
      "image/png": "[encoded data removed]",
      "text/plain": [
       "<matplotlib.figure.Figure at 0x146a09235c0>"
      ]
     },
     "metadata": {},
     "output_type": "display_data"
    }
   ],
   "source": [
    "mp.plot(lst,cross_validation_score)\n",
    "mp.xlabel('alpha-value')\n",
    "mp.ylabel(\"CV Score\")\n",
    "mp.title(\"Alpha vs CV Score\")"
   ]
  },
  {
   "cell_type": "code",
   "execution_count": 109,
   "metadata": {},
   "outputs": [
    {
     "data": {
      "text/plain": [
       "Text(0.5,1,'Alpha vs Error')"
      ]
     },
     "execution_count": 109,
     "metadata": {},
     "output_type": "execute_result"
    },
    {
     "data": {
      "image/png": "[encoded data removed]",
      "text/plain": [
       "<matplotlib.figure.Figure at 0x146a0923860>"
      ]
     },
     "metadata": {},
     "output_type": "display_data"
    }
   ],
   "source": [
    "mp.plot(lst,error)\n",
    "mp.xlabel('alpha-value')\n",
    "mp.ylabel(\"Error\")\n",
    "mp.title(\"Alpha vs Error\")"
   ]
  },
  {
   "cell_type": "code",
   "execution_count": 110,
   "metadata": {},
   "outputs": [
    {
     "name": "stdout",
     "output_type": "stream",
     "text": [
      "29\n"
     ]
    }
   ],
   "source": [
    "best_a2 = lst[error.index(min(error))]\n",
    "print(best_a2)"
   ]
  },
  {
   "cell_type": "markdown",
   "metadata": {},
   "source": [
    "Observation:\n",
    "    \n",
    "    -> The highest accurancy and lowest error is occured when alpha = 29\n",
    "    \n",
    "    -> Using alpha = 1 to design the classifier"
   ]
  },
  {
   "cell_type": "code",
   "execution_count": 111,
   "metadata": {},
   "outputs": [],
   "source": [
    "bernoulinb = BernoulliNB(alpha=29)\n",
    "bernoulinb.fit(xtrain2,ytrain2)\n",
    "prdct2 = bernoulinb.predict(xtest2)"
   ]
  },
  {
   "cell_type": "code",
   "execution_count": 112,
   "metadata": {},
   "outputs": [
    {
     "data": {
      "text/plain": [
       "(114170,)"
      ]
     },
     "execution_count": 112,
     "metadata": {},
     "output_type": "execute_result"
    }
   ],
   "source": [
    "prdct2.shape"
   ]
  },
  {
   "cell_type": "markdown",
   "metadata": {},
   "source": [
    "Calculating Performance measure using:\n",
    "\n",
    "               -> Accuracy\n",
    "\n",
    "               -> Precision \n",
    "\n",
    "               -> Recall\n",
    "\n",
    "               -> F-1 Score\n",
    "\n",
    "               -> Confusion Matrix :\n",
    "\n",
    "                          -> TPR\n",
    "\n",
    "                          -> TNR\n",
    "\n",
    "                          -> FPR\n",
    "\n",
    "                          -> FNR"
   ]
  },
  {
   "cell_type": "markdown",
   "metadata": {},
   "source": [
    "ACCURACY SCORE:\n",
    "    \n",
    "    TELLS US HOW ACCURATE THE MODEL IS IN PREDICTING\n",
    "    \n",
    "    "
   ]
  },
  {
   "cell_type": "code",
   "execution_count": 113,
   "metadata": {},
   "outputs": [
    {
     "name": "stdout",
     "output_type": "stream",
     "text": [
      "0.8111938337566786\n"
     ]
    }
   ],
   "source": [
    "acc2 = accuracy_score(ytest2,prdct2)\n",
    "print(acc2)"
   ]
  },
  {
   "cell_type": "markdown",
   "metadata": {},
   "source": [
    "PRECISION SCORE:\n",
    "\n",
    "         This is the ratio of true positives to sum of true positives and false positives"
   ]
  },
  {
   "cell_type": "code",
   "execution_count": 114,
   "metadata": {},
   "outputs": [
    {
     "name": "stdout",
     "output_type": "stream",
     "text": [
      "0.90257540192214\n"
     ]
    }
   ],
   "source": [
    "prcs2 = precision_score(ytest2,prdct2, average = 'binary',pos_label='positive')\n",
    "print(prcs2)"
   ]
  },
  {
   "cell_type": "markdown",
   "metadata": {},
   "source": [
    "RECALL SCORE:\n",
    "    \n",
    "    This is the ratio of true positives to the sum of true positives and flase negatives"
   ]
  },
  {
   "cell_type": "code",
   "execution_count": 115,
   "metadata": {},
   "outputs": [
    {
     "name": "stdout",
     "output_type": "stream",
     "text": [
      "0.8646816725714407\n"
     ]
    }
   ],
   "source": [
    "rs2 = recall_score(ytest2,prdct2,average='binary',pos_label='positive')\n",
    "print(rs2)"
   ]
  },
  {
   "cell_type": "markdown",
   "metadata": {},
   "source": [
    "F-1 SCORE:\n",
    "    \n",
    "    This is the weighted avergae of precision and recall scores"
   ]
  },
  {
   "cell_type": "code",
   "execution_count": 116,
   "metadata": {},
   "outputs": [
    {
     "name": "stdout",
     "output_type": "stream",
     "text": [
      "0.8832222763963378\n"
     ]
    }
   ],
   "source": [
    "\n",
    "f_scr2 = f1_score(ytest2,prdct2,pos_label='positive')\n",
    "\n",
    "print(f_scr2)"
   ]
  },
  {
   "cell_type": "markdown",
   "metadata": {},
   "source": [
    "CONFUSION-MATRIX:\n",
    "    \n",
    "    This evaluates the accurancy of a classification"
   ]
  },
  {
   "cell_type": "code",
   "execution_count": 117,
   "metadata": {},
   "outputs": [
    {
     "name": "stdout",
     "output_type": "stream",
     "text": [
      "[[11097  8799]\n",
      " [12757 81517]]\n"
     ]
    }
   ],
   "source": [
    "cmr2 = confusion_matrix(ytest2,prdct2)\n",
    "print(cmr2)"
   ]
  },
  {
   "cell_type": "code",
   "execution_count": 118,
   "metadata": {},
   "outputs": [],
   "source": [
    "tn2,fp2,fn2,tp2 = cmr2.ravel()"
   ]
  },
  {
   "cell_type": "code",
   "execution_count": 119,
   "metadata": {},
   "outputs": [
    {
     "data": {
      "text/plain": [
       "11097"
      ]
     },
     "execution_count": 119,
     "metadata": {},
     "output_type": "execute_result"
    }
   ],
   "source": [
    "tn2"
   ]
  },
  {
   "cell_type": "code",
   "execution_count": 120,
   "metadata": {},
   "outputs": [
    {
     "data": {
      "text/plain": [
       "8799"
      ]
     },
     "execution_count": 120,
     "metadata": {},
     "output_type": "execute_result"
    }
   ],
   "source": [
    "fp2"
   ]
  },
  {
   "cell_type": "code",
   "execution_count": 121,
   "metadata": {},
   "outputs": [
    {
     "data": {
      "text/plain": [
       "12757"
      ]
     },
     "execution_count": 121,
     "metadata": {},
     "output_type": "execute_result"
    }
   ],
   "source": [
    "fn2"
   ]
  },
  {
   "cell_type": "code",
   "execution_count": 122,
   "metadata": {},
   "outputs": [
    {
     "data": {
      "text/plain": [
       "81517"
      ]
     },
     "execution_count": 122,
     "metadata": {},
     "output_type": "execute_result"
    }
   ],
   "source": [
    "tp2"
   ]
  },
  {
   "cell_type": "markdown",
   "metadata": {},
   "source": [
    "Note:\n",
    "\n",
    "-> TRUE POSITIVE RATE IS THE RATIO OF TRUE POSITIVES TO TOTAL POSITIVE \n",
    "\n",
    "-> TRUE NEGATIVE RATE IS THE RATIO OF TRUE NEGATIVES TO TOTAL NEGATIVE\n",
    "\n",
    "-> FALSE POSITIVE RATE IS THE RATIO OF FALSE POSITIVES TO TOTAL POSITIVE\n",
    "\n",
    "-> FALSE NEGATIVE RATE IS THE RATIO OF FALSE NEGATIVES TO TOTAL NEGATIVES"
   ]
  },
  {
   "cell_type": "code",
   "execution_count": 123,
   "metadata": {},
   "outputs": [
    {
     "name": "stdout",
     "output_type": "stream",
     "text": [
      "true positive rate is 0.8646816725714407\n",
      "true_negative_rate is 0.5577503015681544\n",
      "false positive rate is 0.09333432335532596\n",
      "false_negative_rate is 0.641184157619622\n"
     ]
    }
   ],
   "source": [
    "\n",
    "true_positive_rate2 = tp2/(fn2+tp2)\n",
    "\n",
    "true_negative_rate2 = tn2/(tn2+fp2)\n",
    "\n",
    "false_positive_rate2 = fp2/(fn2+tp2)\n",
    "\n",
    "false_negative_rate2 = fn2/(tn2+fp2)\n",
    "\n",
    "print(\"true positive rate is {}\".format(true_positive_rate2))\n",
    "\n",
    "print(\"true_negative_rate is {}\".format(true_negative_rate2))\n",
    "\n",
    "print(\"false positive rate is {}\".format(false_positive_rate2))\n",
    "\n",
    "print(\"false_negative_rate is {}\".format(false_negative_rate2))"
   ]
  },
  {
   "cell_type": "markdown",
   "metadata": {},
   "source": [
    "TFIDF-WORD2VEC"
   ]
  },
  {
   "cell_type": "code",
   "execution_count": 125,
   "metadata": {},
   "outputs": [],
   "source": [
    "tfid_feat = tfid.get_feature_names()"
   ]
  },
  {
   "cell_type": "code",
   "execution_count": 126,
   "metadata": {},
   "outputs": [
    {
     "data": {
      "text/plain": [
       "2910192"
      ]
     },
     "execution_count": 126,
     "metadata": {},
     "output_type": "execute_result"
    }
   ],
   "source": [
    "len(tfid_feat)"
   ]
  },
  {
   "cell_type": "code",
   "execution_count": 128,
   "metadata": {},
   "outputs": [
    {
     "name": "stdout",
     "output_type": "stream",
     "text": [
      "0.04695597502995314\n",
      "[-0.38087898 -2.564279    0.13754313  1.1316134   0.2925029  -1.3993564\n",
      " -2.0217445  -1.2632195  -0.62616086 -1.6356932  -1.3170269   0.7359891\n",
      "  0.9645069  -0.6551743  -0.6494612  -0.3786263  -0.11755598 -0.14274636\n",
      "  0.08644295 -0.06626914 -1.7037593   0.52516824 -0.17293733  0.96153486\n",
      " -0.32190636  0.7483486   0.48500887 -0.05756575 -1.36634    -0.03375257\n",
      "  2.14156     0.66630673  0.0186592   0.72309476 -0.993174   -0.87290084\n",
      "  1.7744738   0.53748536 -1.5149844   0.23560542 -1.4937731  -1.5358757\n",
      " -0.6739717  -1.7489989  -0.461739   -0.22216024  0.98151046 -0.47540733\n",
      "  0.04611142 -0.38541836  2.8489265  -0.3393505   0.6562042   1.1125615\n",
      "  0.7095221   1.9302902  -0.03608303 -1.567516   -1.91152     1.8805034\n",
      "  0.34371632 -1.0052359   3.5201755  -2.0378213  -1.0841085   0.3771327\n",
      "  0.6397638   0.40897596 -0.1265416  -0.4769168   1.3705907  -0.33438414\n",
      " -2.2358694  -1.1718905  -0.25857767  1.0542301   0.07859272  1.8086038\n",
      " -0.01172563 -0.5436469   0.11463425 -1.1162572   0.84114146  0.7087234\n",
      "  1.0757393   2.0619328   3.3006823   2.4896271   0.18878168  0.04748195\n",
      "  1.2467595   2.022931   -1.1726696  -0.7767393  -0.75482285 -1.5867083\n",
      "  0.03085511  0.10260322  0.4291923  -0.1357655 ]\n",
      "[-0.01788455 -0.12040823  0.00645847  0.05313601  0.01373476 -0.06570815\n",
      " -0.09493299 -0.0593157  -0.029402   -0.07680557 -0.06184228  0.03455909\n",
      "  0.04528936 -0.03076435 -0.03049609 -0.01777877 -0.00551996 -0.00670279\n",
      "  0.00405901 -0.00311173 -0.08000168  0.02465979 -0.00812044  0.04514981\n",
      " -0.01511543  0.03513944  0.02277406 -0.00270306 -0.06415783 -0.00158488\n",
      "  0.10055905  0.03128709  0.00087616  0.03395362 -0.04663546 -0.04098791\n",
      "  0.08332215  0.02523815 -0.07113757  0.01106308 -0.07014158 -0.07211854\n",
      " -0.031647   -0.08212595 -0.02168141 -0.01043175  0.04608778 -0.02232322\n",
      "  0.00216521 -0.01809769  0.13377413 -0.01593453  0.03081271  0.05224141\n",
      "  0.0333163   0.09063866 -0.00169431 -0.07360424 -0.08975729  0.08830088\n",
      "  0.01613954 -0.04720183  0.16529328 -0.09568789 -0.05090537  0.01770863\n",
      "  0.03004073  0.01920387 -0.00594188 -0.02239409  0.06435742 -0.01570133\n",
      " -0.10498744 -0.05502726 -0.01214177  0.0495024   0.0036904   0.08492476\n",
      " -0.00055059 -0.02552747  0.00538276 -0.05241495  0.03949662  0.0332788\n",
      "  0.05051239  0.09682007  0.15498675  0.11690287  0.00886443  0.00222956\n",
      "  0.05854281  0.0949887  -0.05506385 -0.03647255 -0.03544344 -0.07450544\n",
      "  0.00144883  0.00481783  0.02015314 -0.006375  ]\n"
     ]
    }
   ],
   "source": [
    "\n",
    "print(tfid_vect[0,tfid_feat.index('the')])\n",
    "print(w2vmodel.wv['the'])\n",
    "a = tfid_vect[0,tfid_feat.index('the')]\n",
    "b = w2vmodel.wv['the']\n",
    "c = a*b\n",
    "print(c)"
   ]
  },
  {
   "cell_type": "markdown",
   "metadata": {},
   "source": [
    "Observation:\n",
    "    \n",
    "    -> In tfidf-word2vec it calculates the word2vec representation of each word by using the     \n",
    "         word2vec model\n",
    "    \n",
    "    -> It will get the tfidf value of the word from tfidf vectorizer\n",
    "    \n",
    "    -> It will product the words with tfidf and words with word2vec in a sentence and divides \n",
    "       with total tfidf value of the sentence"
   ]
  },
  {
   "cell_type": "code",
   "execution_count": 129,
   "metadata": {},
   "outputs": [
    {
     "data": {
      "text/plain": [
       "364171"
      ]
     },
     "execution_count": 129,
     "metadata": {},
     "output_type": "execute_result"
    }
   ],
   "source": [
    "tfid_feat = ttfidf.get_feature_names() \n",
    "tfidf_sent_vectors = []; \n",
    "row=0;\n",
    "for sent in listofsent1: \n",
    "    sent_vec = np.zeros(100) \n",
    "    weight_sum =0; \n",
    "    for word in sent: \n",
    "        try:\n",
    "            vec = w2vmodel1.wv[word]\n",
    "            \n",
    "            tfidf = tfid_data[row, tfid_feat.index(word)]\n",
    "            sent_vec += (vec * tfidf)\n",
    "            weight_sum += tfidf\n",
    "        except:\n",
    "            pass\n",
    "    sent_vec /= weight_sum\n",
    "    tfidf_sent_vectors.append(sent_vec)\n",
    "    row += 1\n",
    "    print(len(tfidf_sent))\n",
    "\n",
    "    "
   ]
  },
  {
   "cell_type": "code",
   "execution_count": 132,
   "metadata": {},
   "outputs": [
    {
     "name": "stdout",
     "output_type": "stream",
     "text": [
      "0.03277183177760655\n",
      "[ 0.24630567  0.10614999 -0.91066444  1.2145983  -1.3224634  -0.8773522\n",
      "  0.05536528  0.6256457  -0.90123504  0.35664916  1.3785762   0.12856239\n",
      " -0.45661962  0.24288727 -0.8409622   0.5991392  -1.3775203  -1.9029506\n",
      " -2.4726315  -0.19539623 -2.1715653   0.7816189  -2.3939776  -0.8510448\n",
      " -0.28530917 -0.9710841  -1.8238499  -1.3172127  -0.5602136   1.1191514\n",
      "  1.9451154  -0.1035039  -0.79132956 -0.45516166  0.02743903 -1.8780525\n",
      "  1.4846488   0.8606082   2.7319293   2.8509173   0.29704288 -1.5353148\n",
      " -1.470713   -0.8125868   0.23036313 -0.5552995  -0.66175985  0.57335806\n",
      " -0.2581336  -0.26689422  1.3680589  -0.60551685  0.76724     1.6149808\n",
      " -1.8948125  -0.13565017 -1.9780403  -2.407124   -0.9476449   1.509016\n",
      "  1.628181    0.03786704  1.1902485  -0.1954579  -1.4768878  -0.7792222\n",
      "  0.78329873  0.45370498 -1.147596    0.60345346 -0.4214382  -0.8726381\n",
      " -0.54492754  3.0747972  -1.501521   -2.873879   -2.6592264   1.0230767\n",
      "  2.6888936   2.9574816   1.4790492   1.7502983  -0.66892487 -0.17983612\n",
      " -0.23141876 -1.4595065   3.0802276  -2.001591    0.6550356   0.14405705\n",
      " -1.1459281   1.20468    -2.5332794  -1.0205263   1.2336763  -0.9381407\n",
      " -0.92940015 -2.9004877  -0.4522038   1.0706956 ]\n",
      "[ 0.00807189  0.00347873 -0.02984414  0.03980461 -0.04333955 -0.02875244\n",
      "  0.00181442  0.02050356 -0.02953512  0.01168805  0.04517847  0.00421323\n",
      " -0.01496426  0.00795986 -0.02755987  0.01963489 -0.04514387 -0.06236318\n",
      " -0.08103266 -0.00640349 -0.07116617  0.02561508 -0.07845504 -0.0278903\n",
      " -0.0093501  -0.03182421 -0.0597709  -0.04316748 -0.01835923  0.03667664\n",
      "  0.063745   -0.00339201 -0.02593332 -0.01491648  0.00089923 -0.06154722\n",
      "  0.04865466  0.02820371  0.08953033  0.09342979  0.00973464 -0.05031508\n",
      " -0.04819796 -0.02662996  0.00754942 -0.01819818 -0.02168708  0.01879\n",
      " -0.00845951 -0.00874661  0.0448338  -0.0198439   0.02514386  0.05292588\n",
      " -0.06209648 -0.0044455  -0.06482401 -0.07888587 -0.03105606  0.04945322\n",
      "  0.05335848  0.00124097  0.03900662 -0.00640551 -0.04840032 -0.02553654\n",
      "  0.02567014  0.01486874 -0.03760882  0.01977628 -0.0138113  -0.02859795\n",
      " -0.01785827  0.10076674 -0.04920759 -0.09418228 -0.08714773  0.0335281\n",
      "  0.08811997  0.09692209  0.04847115  0.05736048 -0.02192189 -0.00589356\n",
      " -0.00758402 -0.0478307   0.10094471 -0.06559581  0.02146672  0.00472101\n",
      " -0.03755417  0.03947957 -0.08302021 -0.03344452  0.04042983 -0.03074459\n",
      " -0.03045815 -0.0950543  -0.01481955  0.03508866]\n"
     ]
    }
   ],
   "source": [
    "\n",
    "print(tfid_vect[0,tfid_feat.index('in')])\n",
    "print(w2vmodel.wv['in'])\n",
    "a = tfid_vect[0,tfid_feat.index('in')]\n",
    "b = w2vmodel.wv['in']\n",
    "c = a*b\n",
    "print(c)"
   ]
  },
  {
   "cell_type": "code",
   "execution_count": null,
   "metadata": {},
   "outputs": [],
   "source": [
    "Note:\n",
    "    \n",
    "    -> It works in such a way that it constructs word2vec for each word in a sentence and will get the tf-idf value\n",
    "       of the same word from tf-idf vectorizer\n",
    "        \n",
    "    -> It will do the product of both the values and to that value it will do average with total tf-idf values of that sentence\n",
    "    "
   ]
  },
  {
   "cell_type": "code",
   "execution_count": 134,
   "metadata": {},
   "outputs": [],
   "source": [
    "xtrain3 = tfidf_sent[0:250000]\n",
    "xtest3 = tfidf_sent[250001:]\n",
    "ytrain3 = finaldata1['Score'][0:250000]\n",
    "ytest3 = finaldata1['Score'][250001:]"
   ]
  },
  {
   "cell_type": "code",
   "execution_count": 135,
   "metadata": {},
   "outputs": [
    {
     "name": "stdout",
     "output_type": "stream",
     "text": [
      "(250000, 100)\n",
      "(250000,)\n",
      "(114170, 100)\n",
      "(114170,)\n"
     ]
    }
   ],
   "source": [
    "print(xtrain3.shape)\n",
    "print(ytrain3.shape)\n",
    "print(xtest3.shape)\n",
    "print(ytest3.shape)"
   ]
  },
  {
   "cell_type": "code",
   "execution_count": 137,
   "metadata": {},
   "outputs": [],
   "source": [
    "\n",
    "from sklearn.cross_validation import cross_val_score"
   ]
  },
  {
   "cell_type": "code",
   "execution_count": 139,
   "metadata": {},
   "outputs": [
    {
     "name": "stdout",
     "output_type": "stream",
     "text": [
      "[ 1  3  5  7  9 11 13 15 17 19 21 23 25 27 29 31 33 35 37 39 41 43 45 47\n",
      " 49]\n"
     ]
    }
   ],
   "source": [
    "llst = np.arange(1,50,2)\n",
    "print(llst)"
   ]
  },
  {
   "cell_type": "code",
   "execution_count": 141,
   "metadata": {},
   "outputs": [],
   "source": [
    "from sklearn.naive_bayes import BernoulliNB"
   ]
  },
  {
   "cell_type": "code",
   "execution_count": 149,
   "metadata": {},
   "outputs": [],
   "source": [
    "cross_validation_score = []\n",
    "for a in llst:\n",
    "    classifier = BernoulliNB(alpha=a)\n",
    "    scores = cross_val_score(classifier,xtrain3,ytrain3,cv=10,scoring='accuracy')\n",
    "    cross_validation_score.append(scores.mean())\n",
    "    "
   ]
  },
  {
   "cell_type": "code",
   "execution_count": 150,
   "metadata": {},
   "outputs": [
    {
     "name": "stdout",
     "output_type": "stream",
     "text": [
      "[0.825979747778822, 0.826031747298854, 0.8260757477788989, 0.8261197474589501, 0.8261037469789052, 0.8261637471389628, 0.8261597482589564, 0.8261877484190012, 0.8262357495390715, 0.826255750019078, 0.8263357498591868, 0.8263357496991676, 0.8263597496991931, 0.8264197506592955, 0.826459751299334, 0.8265117503394237, 0.8265557493794748, 0.8265637493794749, 0.8265677504994813, 0.8265717495394812, 0.8265717506595003, 0.8266037503395258, 0.8266237504995579, 0.8266517511395837, 0.8267157500196539]\n",
      "[0.174020252221178, 0.17396825270114602, 0.17392425222110108, 0.17388025254104988, 0.1738962530210948, 0.1738362528610372, 0.17384025174104356, 0.17381225158099878, 0.17376425046092847, 0.17374424998092197, 0.17366425014081321, 0.17366425030083243, 0.17364025030080688, 0.17358024934070448, 0.17354024870066598, 0.1734882496605763, 0.17344425062052515, 0.17343625062052515, 0.17343224950051872, 0.1734282504605188, 0.17342824934049972, 0.17339624966047418, 0.17337624950044206, 0.17334824886041633, 0.17328424998034608]\n"
     ]
    }
   ],
   "source": [
    "error = [1 - x for x in cross_validation_score]\n",
    "print(cross_validation_score)\n",
    "print(error)"
   ]
  },
  {
   "cell_type": "code",
   "execution_count": 151,
   "metadata": {},
   "outputs": [
    {
     "name": "stdout",
     "output_type": "stream",
     "text": [
      "25\n",
      "25\n"
     ]
    }
   ],
   "source": [
    "print(len(cross_validation_score))\n",
    "print(len(error))"
   ]
  },
  {
   "cell_type": "code",
   "execution_count": 152,
   "metadata": {},
   "outputs": [
    {
     "data": {
      "text/plain": [
       "Text(0.5,1,'Alpha vs CV Score')"
      ]
     },
     "execution_count": 152,
     "metadata": {},
     "output_type": "execute_result"
    },
    {
     "data": {
      "image/png": "[encoded data removed]",
      "text/plain": [
       "<matplotlib.figure.Figure at 0x146cbaa8748>"
      ]
     },
     "metadata": {},
     "output_type": "display_data"
    }
   ],
   "source": [
    "\n",
    "mp.plot(llst,cross_validation_score)\n",
    "mp.xlabel('alpha-value')\n",
    "mp.ylabel(\"CV Score\")\n",
    "mp.title(\"Alpha vs CV Score\")"
   ]
  },
  {
   "cell_type": "code",
   "execution_count": 153,
   "metadata": {},
   "outputs": [
    {
     "data": {
      "text/plain": [
       "Text(0.5,1,'Alpha vs Error')"
      ]
     },
     "execution_count": 153,
     "metadata": {},
     "output_type": "execute_result"
    },
    {
     "data": {
      "image/png": "[encoded data removed]",
      "text/plain": [
       "<matplotlib.figure.Figure at 0x146225a3da0>"
      ]
     },
     "metadata": {},
     "output_type": "display_data"
    }
   ],
   "source": [
    "\n",
    "mp.plot(llst,error)\n",
    "mp.xlabel('alpha-value')\n",
    "mp.ylabel(\"Error\")\n",
    "mp.title(\"Alpha vs Error\")"
   ]
  },
  {
   "cell_type": "code",
   "execution_count": 155,
   "metadata": {},
   "outputs": [
    {
     "name": "stdout",
     "output_type": "stream",
     "text": [
      "49\n"
     ]
    }
   ],
   "source": [
    "best_a3 = llst[error.index(min(error))]\n",
    "print(best_a3)"
   ]
  },
  {
   "cell_type": "markdown",
   "metadata": {},
   "source": [
    "Observation:\n",
    "    \n",
    "    -> The highest accurancy and lowest error is occured when alpha = 49\n",
    "    \n",
    "    -> Using alpha = 1 to design the classifier"
   ]
  },
  {
   "cell_type": "code",
   "execution_count": 157,
   "metadata": {},
   "outputs": [],
   "source": [
    "bernoulinb = BernoulliNB(alpha=49)\n",
    "bernoulinb.fit(xtrain3,ytrain3)\n",
    "prdct3 = bernoulinb.predict(xtest3)"
   ]
  },
  {
   "cell_type": "code",
   "execution_count": 158,
   "metadata": {},
   "outputs": [
    {
     "data": {
      "text/plain": [
       "(114170,)"
      ]
     },
     "execution_count": 158,
     "metadata": {},
     "output_type": "execute_result"
    }
   ],
   "source": [
    "prdct3.shape"
   ]
  },
  {
   "cell_type": "markdown",
   "metadata": {},
   "source": [
    "Calculating Performance measure using:\n",
    "\n",
    "               -> Accuracy\n",
    "\n",
    "               -> Precision \n",
    "\n",
    "               -> Recall\n",
    "\n",
    "               -> F-1 Score\n",
    "\n",
    "               -> Confusion Matrix :\n",
    "\n",
    "                          -> TPR\n",
    "\n",
    "                          -> TNR\n",
    "\n",
    "                          -> FPR\n",
    "\n",
    "                          -> FNR"
   ]
  },
  {
   "cell_type": "markdown",
   "metadata": {},
   "source": [
    "ACCURACY SCORE:\n",
    "    \n",
    "    TELLS US HOW ACCURATE THE MODEL IS IN PREDICTING\n",
    "    \n",
    "    "
   ]
  },
  {
   "cell_type": "code",
   "execution_count": 160,
   "metadata": {},
   "outputs": [
    {
     "name": "stdout",
     "output_type": "stream",
     "text": [
      "0.8116142594376806\n"
     ]
    }
   ],
   "source": [
    "acc3 = accuracy_score(ytest3,prdct3)\n",
    "print(acc3)"
   ]
  },
  {
   "cell_type": "markdown",
   "metadata": {},
   "source": [
    "PRECISION SCORE:\n",
    "\n",
    "         This is the ratio of true positives to sum of true positives and false positives"
   ]
  },
  {
   "cell_type": "code",
   "execution_count": 161,
   "metadata": {},
   "outputs": [
    {
     "name": "stdout",
     "output_type": "stream",
     "text": [
      "0.9025113397499723\n"
     ]
    }
   ],
   "source": [
    "prcs3 = precision_score(ytest3,prdct3, average = 'binary',pos_label='positive')\n",
    "print(prcs3)"
   ]
  },
  {
   "cell_type": "markdown",
   "metadata": {},
   "source": [
    "RECALL SCORE:\n",
    "    \n",
    "    This is the ratio of true positives to the sum of true positives and flase negatives"
   ]
  },
  {
   "cell_type": "code",
   "execution_count": 162,
   "metadata": {},
   "outputs": [
    {
     "name": "stdout",
     "output_type": "stream",
     "text": [
      "0.8653287226594819\n"
     ]
    }
   ],
   "source": [
    "rs3 = recall_score(ytest3,prdct3,average='binary',pos_label='positive')\n",
    "print(rs3)"
   ]
  },
  {
   "cell_type": "markdown",
   "metadata": {},
   "source": [
    "F-1 SCORE:\n",
    "    \n",
    "    This is the weighted avergae of precision and recall scores"
   ]
  },
  {
   "cell_type": "code",
   "execution_count": 163,
   "metadata": {},
   "outputs": [
    {
     "name": "stdout",
     "output_type": "stream",
     "text": [
      "0.8835290040289392\n"
     ]
    }
   ],
   "source": [
    "\n",
    "f_scr3 = f1_score(ytest3,prdct3,pos_label='positive')\n",
    "\n",
    "print(f_scr3)"
   ]
  },
  {
   "cell_type": "markdown",
   "metadata": {},
   "source": [
    "CONFUSION-MATRIX:\n",
    "    \n",
    "    This evaluates the accurancy of a classification"
   ]
  },
  {
   "cell_type": "code",
   "execution_count": 164,
   "metadata": {},
   "outputs": [
    {
     "name": "stdout",
     "output_type": "stream",
     "text": [
      "[[11084  8812]\n",
      " [12696 81578]]\n"
     ]
    }
   ],
   "source": [
    "cmr3 = confusion_matrix(ytest3,prdct3)\n",
    "print(cmr3)"
   ]
  },
  {
   "cell_type": "code",
   "execution_count": 165,
   "metadata": {},
   "outputs": [],
   "source": [
    "tn3,fp3,fn3,tp3 = cmr3.ravel()"
   ]
  },
  {
   "cell_type": "code",
   "execution_count": 166,
   "metadata": {},
   "outputs": [
    {
     "data": {
      "text/plain": [
       "11084"
      ]
     },
     "execution_count": 166,
     "metadata": {},
     "output_type": "execute_result"
    }
   ],
   "source": [
    "tn3"
   ]
  },
  {
   "cell_type": "code",
   "execution_count": 167,
   "metadata": {},
   "outputs": [
    {
     "data": {
      "text/plain": [
       "8812"
      ]
     },
     "execution_count": 167,
     "metadata": {},
     "output_type": "execute_result"
    }
   ],
   "source": [
    "fp3"
   ]
  },
  {
   "cell_type": "code",
   "execution_count": 168,
   "metadata": {},
   "outputs": [
    {
     "data": {
      "text/plain": [
       "12696"
      ]
     },
     "execution_count": 168,
     "metadata": {},
     "output_type": "execute_result"
    }
   ],
   "source": [
    "fn3"
   ]
  },
  {
   "cell_type": "code",
   "execution_count": 169,
   "metadata": {},
   "outputs": [
    {
     "data": {
      "text/plain": [
       "81578"
      ]
     },
     "execution_count": 169,
     "metadata": {},
     "output_type": "execute_result"
    }
   ],
   "source": [
    "tp3"
   ]
  },
  {
   "cell_type": "markdown",
   "metadata": {},
   "source": [
    "Note:\n",
    "\n",
    "-> TRUE POSITIVE RATE IS THE RATIO OF TRUE POSITIVES TO TOTAL POSITIVE \n",
    "\n",
    "-> TRUE NEGATIVE RATE IS THE RATIO OF TRUE NEGATIVES TO TOTAL NEGATIVE\n",
    "\n",
    "-> FALSE POSITIVE RATE IS THE RATIO OF FALSE POSITIVES TO TOTAL POSITIVE\n",
    "\n",
    "-> FALSE NEGATIVE RATE IS THE RATIO OF FALSE NEGATIVES TO TOTAL NEGATIVES"
   ]
  },
  {
   "cell_type": "code",
   "execution_count": 170,
   "metadata": {},
   "outputs": [
    {
     "name": "stdout",
     "output_type": "stream",
     "text": [
      "true positive rate is 0.8653287226594819\n",
      "true_negative_rate is 0.5570969039002814\n",
      "false positive rate is 0.09221817572941521\n",
      "false_negative_rate is 0.638118214716526\n"
     ]
    }
   ],
   "source": [
    "\n",
    "true_positive_rate3 = tp3/(fn3+tp3)\n",
    "\n",
    "true_negative_rate3 = tn3/(tn3+fp3)\n",
    "\n",
    "false_positive_rate3 = fp3/(fn3+tp)\n",
    "\n",
    "false_negative_rate3 = fn3/(tn3+fp3)\n",
    "\n",
    "print(\"true positive rate is {}\".format(true_positive_rate3))\n",
    "\n",
    "print(\"true_negative_rate is {}\".format(true_negative_rate3))\n",
    "\n",
    "print(\"false positive rate is {}\".format(false_positive_rate3))\n",
    "\n",
    "print(\"false_negative_rate is {}\".format(false_negative_rate3))"
   ]
  },
  {
   "cell_type": "code",
   "execution_count": 171,
   "metadata": {},
   "outputs": [],
   "source": [
    "d = {'Accurancy Score':[acc,acc1,acc2,acc3],'Precision Score':[prcs,prcs1,prcs2,prcs3],'Recall Score':[rs,rs1,rs2,rs3],\n",
    "     'F-1 Score':[f_scr,f_scr1,f_scr2,f_scr3],'tn':[tn,tn1,tn2,tn3],'tp':[tp,tp1,tp2,tp3],\n",
    "    'fp':[fp,fp1,fp2,fp3],'fn':[fn,fn1,fn2,fn3],'tnr':[true_negative_rate,true_negative_rate1,true_negative_rate2,true_negative_rate3],\n",
    "     'tpr':[true_positive_rate,true_positive_rate1,true_positive_rate2,true_positive_rate3],\n",
    "     \"fpr\":[false_positive_rate,false_positive_rate1,false_positive_rate2,false_positive_rate3],\n",
    "     'fnr':[false_negative_rate,false_negative_rate1,false_negative_rate2,false_positive_rate3],\n",
    "     'Technique':['BOW','TFIDF','Average-word2vec','TFIDF-WORD2VEC']}"
   ]
  },
  {
   "cell_type": "code",
   "execution_count": 173,
   "metadata": {},
   "outputs": [
    {
     "name": "stdout",
     "output_type": "stream",
     "text": [
      "                  Accurancy Score  F-1 Score  Precision Score  Recall Score  \\\n",
      "BOW                      0.861549   0.916360         0.913813      0.918921   \n",
      "TFIDF                    0.832140   0.903885         0.913813      0.956316   \n",
      "AVERAGE WORD2VEC         0.811194   0.883222         0.902575      0.864682   \n",
      "TFIDF_WORD2VEC           0.811614   0.883529         0.902511      0.865329   \n",
      "\n",
      "                         Technique     fn       fnr     fp       fpr     tn  \\\n",
      "BOW                            BOW   7311  0.383156   7815  0.086669  11266   \n",
      "TFIDF                        TFIDF   3939  0.206436  14400  0.159697   4681   \n",
      "AVERAGE WORD2VEC  Average-word2vec  12757  0.641184   8799  0.093334  11097   \n",
      "TFIDF_WORD2VEC      TFIDF-WORD2VEC  12696  0.092218   8812  0.092218  11084   \n",
      "\n",
      "                       tnr     tp       tpr  \n",
      "BOW               0.590430  82860  0.918921  \n",
      "TFIDF             0.245323  86232  0.956316  \n",
      "AVERAGE WORD2VEC  0.557750  81517  0.864682  \n",
      "TFIDF_WORD2VEC    0.557097  81578  0.865329  \n"
     ]
    }
   ],
   "source": [
    "df = pd.DataFrame(data =d,index=[\"BOW\",'TFIDF','AVERAGE WORD2VEC','TFIDF_WORD2VEC'])\n",
    "print(df)"
   ]
  },
  {
   "cell_type": "markdown",
   "metadata": {},
   "source": [
    "CONCLUSION:\n",
    "    \n",
    "    -> Bow, Tfidf, Average word2vec, Tfidf Word2vec are used to convert the text to vectors\n",
    "    \n",
    "    -> Since it is a two class classification of positive and negative Bernouli Navie Bayes \n",
    "       is applied\n",
    "    \n",
    "    -> For each technique all the measurements like Accuracy, Precision, Recall, \n",
    "        F-1 Score, Confusion Matrix were calculated\n",
    "    \n",
    "    -> From confusion matrix,  true negatives, true positives, false negatives, false positives,   \n",
    "        true negative rate,true positive rate, false negative rate, false positive rate         \n",
    "        were calculated"
   ]
  },
  {
   "cell_type": "code",
   "execution_count": null,
   "metadata": {},
   "outputs": [],
   "source": []
  }
 ],
 "metadata": {
  "kernelspec": {
   "display_name": "Python 3",
   "language": "python",
   "name": "python3"
  },
  "language_info": {
   "codemirror_mode": {
    "name": "ipython",
    "version": 3
   },
   "file_extension": ".py",
   "mimetype": "text/x-python",
   "name": "python",
   "nbconvert_exporter": "python",
   "pygments_lexer": "ipython3",
   "version": "3.6.4"
  }
 },
 "nbformat": 4,
 "nbformat_minor": 2
}
