{
 "cells": [
  {
   "cell_type": "markdown",
   "metadata": {},
   "source": [
    "Information about data:\n",
    "\n",
    "                     ->We have the amazon reviews dataset from kaggle\n",
    "                     \n",
    "                     ->Reviews are given for the product\n",
    "                     \n",
    "                     ->The features of the data were:\n",
    "                     \n",
    "                           Id\n",
    "                           \n",
    "                           ProductId- unique identifier for the product\n",
    "                           \n",
    "                           UserId- unqiue identifier for the user\n",
    "                           \n",
    "                           ProfileName\n",
    "                           \n",
    "                           HelpfullnessNumerator- number of users who found the review helpful\n",
    "                           \n",
    "                           HelpfulnessDenominator- number of users who indicated whether they \n",
    "                           found the review helpful or not\n",
    "                           \n",
    "                           Score-rating between 1 and 5\n",
    "                           \n",
    "                           Time-timestamp for the review\n",
    "                           \n",
    "                           Summary- brief summary of the review\n",
    "                           \n",
    "                           Text- text of the review\n",
    "                       \n",
    "                     -> Based on the score of the review we review we classify them into positive \n",
    "                         and negative\n",
    "                     \n",
    "                     Number of reviews: 568,454\n",
    "\n",
    "                     \n",
    "                    \n",
    "                     \n",
    "                  "
   ]
  },
  {
   "cell_type": "markdown",
   "metadata": {},
   "source": [
    "Objective:\n",
    "    \n",
    "        -> Convert the reviews to vectors by using different approaches like Bag of Words, TFIDF,            Average Word2vec,TFIDF-Word2vec and apply the dimensionality reduction technique"
   ]
  },
  {
   "cell_type": "markdown",
   "metadata": {},
   "source": [
    "Importing the required libraries to process"
   ]
  },
  {
   "cell_type": "code",
   "execution_count": 1,
   "metadata": {},
   "outputs": [],
   "source": [
    "\n",
    "import sqlite3\n",
    "import numpy as np\n",
    "import pandas as pd\n",
    "import matplotlib.pyplot as mp\n",
    "import nltk\n",
    "import string\n",
    "from sklearn.feature_extraction.text import TfidfTransformer,TfidfVectorizer,CountVectorizer\n",
    "from sklearn import metrics\n",
    "from sklearn.metrics import auc,roc_curve\n",
    "from nltk.stem.porter import PorterStemmer\n"
   ]
  },
  {
   "cell_type": "markdown",
   "metadata": {},
   "source": [
    "Using the sqlite3 to read data"
   ]
  },
  {
   "cell_type": "code",
   "execution_count": 2,
   "metadata": {},
   "outputs": [],
   "source": [
    "\n",
    "con = sqlite3.connect(\"database.sqlite\")"
   ]
  },
  {
   "cell_type": "markdown",
   "metadata": {},
   "source": [
    "Filtering the reviews with positive and negative based on the score"
   ]
  },
  {
   "cell_type": "code",
   "execution_count": 3,
   "metadata": {},
   "outputs": [],
   "source": [
    " \n",
    "filtereddata = pd.read_sql_query(\"SELECT * FROM Reviews WHERE Score !=3\",con) "
   ]
  },
  {
   "cell_type": "markdown",
   "metadata": {},
   "source": [
    "->function to classify reviews into positive and negative based on rating. \n",
    "\n",
    "->Here we are considering that reviews with a rating more than 3 are as positive and reviews with rating \n",
    "\n",
    "->less than 3 as negative. So considering 3 as the neutral rating, so neglecting the reviews which are give-n \n",
    "\n",
    "  with rating of 3"
   ]
  },
  {
   "cell_type": "code",
   "execution_count": 4,
   "metadata": {},
   "outputs": [],
   "source": [
    "\n",
    "def classify(x):\n",
    "    if x>3:\n",
    "        return 'positive'\n",
    "    return 'negative'"
   ]
  },
  {
   "cell_type": "markdown",
   "metadata": {},
   "source": [
    "Applying the function on rating(score) in the data"
   ]
  },
  {
   "cell_type": "code",
   "execution_count": 5,
   "metadata": {},
   "outputs": [],
   "source": [
    "\n",
    "rating = filtereddata['Score']\n",
    "rating = rating.map(classify)\n",
    "filtereddata['Score'] = rating"
   ]
  },
  {
   "cell_type": "markdown",
   "metadata": {},
   "source": [
    "Information about the data:\n",
    "    \n",
    "    ->The shape of data\n",
    "    \n",
    "    ->dimensionality of data\n",
    "    \n",
    "    ->Number of features\n",
    "    \n",
    "    ->Sample data"
   ]
  },
  {
   "cell_type": "code",
   "execution_count": 6,
   "metadata": {},
   "outputs": [
    {
     "name": "stdout",
     "output_type": "stream",
     "text": [
      "(525814, 10)\n",
      "2\n",
      "Index(['Id', 'ProductId', 'UserId', 'ProfileName', 'HelpfulnessNumerator',\n",
      "       'HelpfulnessDenominator', 'Score', 'Time', 'Summary', 'Text'],\n",
      "      dtype='object')\n",
      "   Id   ProductId          UserId                      ProfileName  \\\n",
      "0   1  B001E4KFG0  A3SGXH7AUHU8GW                       delmartian   \n",
      "1   2  B00813GRG4  A1D87F6ZCVE5NK                           dll pa   \n",
      "2   3  B000LQOCH0   ABXLMWJIXXAIN  Natalia Corres \"Natalia Corres\"   \n",
      "3   4  B000UA0QIQ  A395BORC6FGVXV                             Karl   \n",
      "4   5  B006K2ZZ7K  A1UQRSCLF8GW1T    Michael D. Bigham \"M. Wassir\"   \n",
      "\n",
      "   HelpfulnessNumerator  HelpfulnessDenominator     Score        Time  \\\n",
      "0                     1                       1  positive  1303862400   \n",
      "1                     0                       0  negative  1346976000   \n",
      "2                     1                       1  positive  1219017600   \n",
      "3                     3                       3  negative  1307923200   \n",
      "4                     0                       0  positive  1350777600   \n",
      "\n",
      "                 Summary                                               Text  \n",
      "0  Good Quality Dog Food  I have bought several of the Vitality canned d...  \n",
      "1      Not as Advertised  Product arrived labeled as Jumbo Salted Peanut...  \n",
      "2  \"Delight\" says it all  This is a confection that has been around a fe...  \n",
      "3         Cough Medicine  If you are looking for the secret ingredient i...  \n",
      "4            Great taffy  Great taffy at a great price.  There was a wid...  \n"
     ]
    }
   ],
   "source": [
    "\n",
    "print(filtereddata.shape)\n",
    "print(filtereddata.ndim)\n",
    "print(filtereddata.columns)\n",
    "print(filtereddata.head(5))"
   ]
  },
  {
   "cell_type": "markdown",
   "metadata": {},
   "source": [
    "\n",
    "\n",
    "\n",
    "\n",
    "\n",
    "\n",
    "\n",
    "Exploratory data analysis\n",
    "\n",
    "Deduplication:removing duplicates"
   ]
  },
  {
   "cell_type": "code",
   "execution_count": 7,
   "metadata": {},
   "outputs": [
    {
     "data": {
      "text/html": [
       "<div>\n",
       "<style scoped>\n",
       "    .dataframe tbody tr th:only-of-type {\n",
       "        vertical-align: middle;\n",
       "    }\n",
       "\n",
       "    .dataframe tbody tr th {\n",
       "        vertical-align: top;\n",
       "    }\n",
       "\n",
       "    .dataframe thead th {\n",
       "        text-align: right;\n",
       "    }\n",
       "</style>\n",
       "<table border=\"1\" class=\"dataframe\">\n",
       "  <thead>\n",
       "    <tr style=\"text-align: right;\">\n",
       "      <th></th>\n",
       "      <th>Id</th>\n",
       "      <th>ProductId</th>\n",
       "      <th>UserId</th>\n",
       "      <th>ProfileName</th>\n",
       "      <th>HelpfulnessNumerator</th>\n",
       "      <th>HelpfulnessDenominator</th>\n",
       "      <th>Score</th>\n",
       "      <th>Time</th>\n",
       "      <th>Summary</th>\n",
       "      <th>Text</th>\n",
       "    </tr>\n",
       "  </thead>\n",
       "  <tbody>\n",
       "    <tr>\n",
       "      <th>0</th>\n",
       "      <td>78445</td>\n",
       "      <td>B000HDL1RQ</td>\n",
       "      <td>AR5J8UI46CURR</td>\n",
       "      <td>Geetha Krishnan</td>\n",
       "      <td>2</td>\n",
       "      <td>2</td>\n",
       "      <td>5</td>\n",
       "      <td>1199577600</td>\n",
       "      <td>LOACKER QUADRATINI VANILLA WAFERS</td>\n",
       "      <td>DELICIOUS WAFERS. I FIND THAT EUROPEAN WAFERS ...</td>\n",
       "    </tr>\n",
       "    <tr>\n",
       "      <th>1</th>\n",
       "      <td>138317</td>\n",
       "      <td>B000HDOPYC</td>\n",
       "      <td>AR5J8UI46CURR</td>\n",
       "      <td>Geetha Krishnan</td>\n",
       "      <td>2</td>\n",
       "      <td>2</td>\n",
       "      <td>5</td>\n",
       "      <td>1199577600</td>\n",
       "      <td>LOACKER QUADRATINI VANILLA WAFERS</td>\n",
       "      <td>DELICIOUS WAFERS. I FIND THAT EUROPEAN WAFERS ...</td>\n",
       "    </tr>\n",
       "    <tr>\n",
       "      <th>2</th>\n",
       "      <td>138277</td>\n",
       "      <td>B000HDOPYM</td>\n",
       "      <td>AR5J8UI46CURR</td>\n",
       "      <td>Geetha Krishnan</td>\n",
       "      <td>2</td>\n",
       "      <td>2</td>\n",
       "      <td>5</td>\n",
       "      <td>1199577600</td>\n",
       "      <td>LOACKER QUADRATINI VANILLA WAFERS</td>\n",
       "      <td>DELICIOUS WAFERS. I FIND THAT EUROPEAN WAFERS ...</td>\n",
       "    </tr>\n",
       "    <tr>\n",
       "      <th>3</th>\n",
       "      <td>73791</td>\n",
       "      <td>B000HDOPZG</td>\n",
       "      <td>AR5J8UI46CURR</td>\n",
       "      <td>Geetha Krishnan</td>\n",
       "      <td>2</td>\n",
       "      <td>2</td>\n",
       "      <td>5</td>\n",
       "      <td>1199577600</td>\n",
       "      <td>LOACKER QUADRATINI VANILLA WAFERS</td>\n",
       "      <td>DELICIOUS WAFERS. I FIND THAT EUROPEAN WAFERS ...</td>\n",
       "    </tr>\n",
       "    <tr>\n",
       "      <th>4</th>\n",
       "      <td>155049</td>\n",
       "      <td>B000PAQ75C</td>\n",
       "      <td>AR5J8UI46CURR</td>\n",
       "      <td>Geetha Krishnan</td>\n",
       "      <td>2</td>\n",
       "      <td>2</td>\n",
       "      <td>5</td>\n",
       "      <td>1199577600</td>\n",
       "      <td>LOACKER QUADRATINI VANILLA WAFERS</td>\n",
       "      <td>DELICIOUS WAFERS. I FIND THAT EUROPEAN WAFERS ...</td>\n",
       "    </tr>\n",
       "  </tbody>\n",
       "</table>\n",
       "</div>"
      ],
      "text/plain": [
       "       Id   ProductId         UserId      ProfileName  HelpfulnessNumerator  \\\n",
       "0   78445  B000HDL1RQ  AR5J8UI46CURR  Geetha Krishnan                     2   \n",
       "1  138317  B000HDOPYC  AR5J8UI46CURR  Geetha Krishnan                     2   \n",
       "2  138277  B000HDOPYM  AR5J8UI46CURR  Geetha Krishnan                     2   \n",
       "3   73791  B000HDOPZG  AR5J8UI46CURR  Geetha Krishnan                     2   \n",
       "4  155049  B000PAQ75C  AR5J8UI46CURR  Geetha Krishnan                     2   \n",
       "\n",
       "   HelpfulnessDenominator  Score        Time  \\\n",
       "0                       2      5  1199577600   \n",
       "1                       2      5  1199577600   \n",
       "2                       2      5  1199577600   \n",
       "3                       2      5  1199577600   \n",
       "4                       2      5  1199577600   \n",
       "\n",
       "                             Summary  \\\n",
       "0  LOACKER QUADRATINI VANILLA WAFERS   \n",
       "1  LOACKER QUADRATINI VANILLA WAFERS   \n",
       "2  LOACKER QUADRATINI VANILLA WAFERS   \n",
       "3  LOACKER QUADRATINI VANILLA WAFERS   \n",
       "4  LOACKER QUADRATINI VANILLA WAFERS   \n",
       "\n",
       "                                                Text  \n",
       "0  DELICIOUS WAFERS. I FIND THAT EUROPEAN WAFERS ...  \n",
       "1  DELICIOUS WAFERS. I FIND THAT EUROPEAN WAFERS ...  \n",
       "2  DELICIOUS WAFERS. I FIND THAT EUROPEAN WAFERS ...  \n",
       "3  DELICIOUS WAFERS. I FIND THAT EUROPEAN WAFERS ...  \n",
       "4  DELICIOUS WAFERS. I FIND THAT EUROPEAN WAFERS ...  "
      ]
     },
     "execution_count": 7,
     "metadata": {},
     "output_type": "execute_result"
    }
   ],
   "source": [
    "\n",
    "dup = pd.read_sql_query(\"\"\"SELECT * FROM REVIEWS WHERE Score !=3 AND UserId=\"AR5J8UI46CURR\" ORDER BY ProductId \"\"\",con)\n",
    "dup"
   ]
  },
  {
   "cell_type": "markdown",
   "metadata": {},
   "source": [
    "  ->It shows that same user have 5 reviews at the same time which is not possible\n",
    "  \n",
    "  ->This is because if we review on product it is applied to different flavors in the product  \n",
    "\n",
    "  ->In order to remove the product we have to sort them and drop the duplicates"
   ]
  },
  {
   "cell_type": "code",
   "execution_count": 8,
   "metadata": {},
   "outputs": [],
   "source": [
    "\n",
    "sorteddata = filtereddata.sort_values(\"ProductId\",axis=0,ascending=True,inplace=False,kind='quicksort',na_position='last')\n"
   ]
  },
  {
   "cell_type": "code",
   "execution_count": 9,
   "metadata": {},
   "outputs": [],
   "source": [
    "finaldata = sorteddata.drop_duplicates(subset=('Time','Text','ProfileName','UserId'),keep='first',inplace=False)"
   ]
  },
  {
   "cell_type": "code",
   "execution_count": 10,
   "metadata": {},
   "outputs": [
    {
     "data": {
      "text/plain": [
       "(364173, 10)"
      ]
     },
     "execution_count": 10,
     "metadata": {},
     "output_type": "execute_result"
    }
   ],
   "source": [
    "finaldata.shape"
   ]
  },
  {
   "cell_type": "markdown",
   "metadata": {},
   "source": [
    "Percentage reduction of data after dropping duplicates"
   ]
  },
  {
   "cell_type": "code",
   "execution_count": 11,
   "metadata": {},
   "outputs": [
    {
     "name": "stdout",
     "output_type": "stream",
     "text": [
      "525814\n",
      "364173\n"
     ]
    }
   ],
   "source": [
    "\n",
    "print(filtereddata['Id'].size)\n",
    "print(finaldata['Id'].size)"
   ]
  },
  {
   "cell_type": "code",
   "execution_count": 12,
   "metadata": {},
   "outputs": [
    {
     "data": {
      "text/plain": [
       "69.25890143662969"
      ]
     },
     "execution_count": 12,
     "metadata": {},
     "output_type": "execute_result"
    }
   ],
   "source": [
    "(364173/525814)*100"
   ]
  },
  {
   "cell_type": "markdown",
   "metadata": {},
   "source": [
    "->One more observation is that for a product the useful review(helpfullnessnumerator) is greater that the\n",
    "\n",
    "->Total number of reviews on the product(helpfullnessdenominator) which is not possible"
   ]
  },
  {
   "cell_type": "code",
   "execution_count": 13,
   "metadata": {},
   "outputs": [],
   "source": [
    "\n",
    "numden = pd.read_sql_query(\"\"\"SELECT * FROM Reviews WHERE Score !=3 AND Id=44737 OR Id = 64422 ORDER BY ProductId\"\"\",con)"
   ]
  },
  {
   "cell_type": "code",
   "execution_count": 14,
   "metadata": {},
   "outputs": [
    {
     "data": {
      "text/html": [
       "<div>\n",
       "<style scoped>\n",
       "    .dataframe tbody tr th:only-of-type {\n",
       "        vertical-align: middle;\n",
       "    }\n",
       "\n",
       "    .dataframe tbody tr th {\n",
       "        vertical-align: top;\n",
       "    }\n",
       "\n",
       "    .dataframe thead th {\n",
       "        text-align: right;\n",
       "    }\n",
       "</style>\n",
       "<table border=\"1\" class=\"dataframe\">\n",
       "  <thead>\n",
       "    <tr style=\"text-align: right;\">\n",
       "      <th></th>\n",
       "      <th>Id</th>\n",
       "      <th>ProductId</th>\n",
       "      <th>UserId</th>\n",
       "      <th>ProfileName</th>\n",
       "      <th>HelpfulnessNumerator</th>\n",
       "      <th>HelpfulnessDenominator</th>\n",
       "      <th>Score</th>\n",
       "      <th>Time</th>\n",
       "      <th>Summary</th>\n",
       "      <th>Text</th>\n",
       "    </tr>\n",
       "  </thead>\n",
       "  <tbody>\n",
       "    <tr>\n",
       "      <th>0</th>\n",
       "      <td>64422</td>\n",
       "      <td>B000MIDROQ</td>\n",
       "      <td>A161DK06JJMCYF</td>\n",
       "      <td>J. E. Stephens \"Jeanne\"</td>\n",
       "      <td>3</td>\n",
       "      <td>1</td>\n",
       "      <td>5</td>\n",
       "      <td>1224892800</td>\n",
       "      <td>Bought This for My Son at College</td>\n",
       "      <td>My son loves spaghetti so I didn't hesitate or...</td>\n",
       "    </tr>\n",
       "    <tr>\n",
       "      <th>1</th>\n",
       "      <td>44737</td>\n",
       "      <td>B001EQ55RW</td>\n",
       "      <td>A2V0I904FH7ABY</td>\n",
       "      <td>Ram</td>\n",
       "      <td>3</td>\n",
       "      <td>2</td>\n",
       "      <td>4</td>\n",
       "      <td>1212883200</td>\n",
       "      <td>Pure cocoa taste with crunchy almonds inside</td>\n",
       "      <td>It was almost a 'love at first bite' - the per...</td>\n",
       "    </tr>\n",
       "  </tbody>\n",
       "</table>\n",
       "</div>"
      ],
      "text/plain": [
       "      Id   ProductId          UserId              ProfileName  \\\n",
       "0  64422  B000MIDROQ  A161DK06JJMCYF  J. E. Stephens \"Jeanne\"   \n",
       "1  44737  B001EQ55RW  A2V0I904FH7ABY                      Ram   \n",
       "\n",
       "   HelpfulnessNumerator  HelpfulnessDenominator  Score        Time  \\\n",
       "0                     3                       1      5  1224892800   \n",
       "1                     3                       2      4  1212883200   \n",
       "\n",
       "                                        Summary  \\\n",
       "0             Bought This for My Son at College   \n",
       "1  Pure cocoa taste with crunchy almonds inside   \n",
       "\n",
       "                                                Text  \n",
       "0  My son loves spaghetti so I didn't hesitate or...  \n",
       "1  It was almost a 'love at first bite' - the per...  "
      ]
     },
     "execution_count": 14,
     "metadata": {},
     "output_type": "execute_result"
    }
   ],
   "source": [
    "numden"
   ]
  },
  {
   "cell_type": "code",
   "execution_count": 15,
   "metadata": {},
   "outputs": [
    {
     "data": {
      "text/html": [
       "<div>\n",
       "<style scoped>\n",
       "    .dataframe tbody tr th:only-of-type {\n",
       "        vertical-align: middle;\n",
       "    }\n",
       "\n",
       "    .dataframe tbody tr th {\n",
       "        vertical-align: top;\n",
       "    }\n",
       "\n",
       "    .dataframe thead th {\n",
       "        text-align: right;\n",
       "    }\n",
       "</style>\n",
       "<table border=\"1\" class=\"dataframe\">\n",
       "  <thead>\n",
       "    <tr style=\"text-align: right;\">\n",
       "      <th></th>\n",
       "      <th>Id</th>\n",
       "      <th>ProductId</th>\n",
       "      <th>UserId</th>\n",
       "      <th>ProfileName</th>\n",
       "      <th>HelpfulnessNumerator</th>\n",
       "      <th>HelpfulnessDenominator</th>\n",
       "      <th>Score</th>\n",
       "      <th>Time</th>\n",
       "      <th>Summary</th>\n",
       "      <th>Text</th>\n",
       "    </tr>\n",
       "  </thead>\n",
       "  <tbody>\n",
       "    <tr>\n",
       "      <th>138706</th>\n",
       "      <td>150524</td>\n",
       "      <td>0006641040</td>\n",
       "      <td>ACITT7DI6IDDL</td>\n",
       "      <td>shari zychinski</td>\n",
       "      <td>0</td>\n",
       "      <td>0</td>\n",
       "      <td>positive</td>\n",
       "      <td>939340800</td>\n",
       "      <td>EVERY book is educational</td>\n",
       "      <td>this witty little book makes my son laugh at l...</td>\n",
       "    </tr>\n",
       "    <tr>\n",
       "      <th>138688</th>\n",
       "      <td>150506</td>\n",
       "      <td>0006641040</td>\n",
       "      <td>A2IW4PEEKO2R0U</td>\n",
       "      <td>Tracy</td>\n",
       "      <td>1</td>\n",
       "      <td>1</td>\n",
       "      <td>positive</td>\n",
       "      <td>1194739200</td>\n",
       "      <td>Love the book, miss the hard cover version</td>\n",
       "      <td>I grew up reading these Sendak books, and watc...</td>\n",
       "    </tr>\n",
       "    <tr>\n",
       "      <th>138689</th>\n",
       "      <td>150507</td>\n",
       "      <td>0006641040</td>\n",
       "      <td>A1S4A3IQ2MU7V4</td>\n",
       "      <td>sally sue \"sally sue\"</td>\n",
       "      <td>1</td>\n",
       "      <td>1</td>\n",
       "      <td>positive</td>\n",
       "      <td>1191456000</td>\n",
       "      <td>chicken soup with rice months</td>\n",
       "      <td>This is a fun way for children to learn their ...</td>\n",
       "    </tr>\n",
       "    <tr>\n",
       "      <th>138690</th>\n",
       "      <td>150508</td>\n",
       "      <td>0006641040</td>\n",
       "      <td>AZGXZ2UUK6X</td>\n",
       "      <td>Catherine Hallberg \"(Kate)\"</td>\n",
       "      <td>1</td>\n",
       "      <td>1</td>\n",
       "      <td>positive</td>\n",
       "      <td>1076025600</td>\n",
       "      <td>a good swingy rhythm for reading aloud</td>\n",
       "      <td>This is a great little book to read aloud- it ...</td>\n",
       "    </tr>\n",
       "    <tr>\n",
       "      <th>138691</th>\n",
       "      <td>150509</td>\n",
       "      <td>0006641040</td>\n",
       "      <td>A3CMRKGE0P909G</td>\n",
       "      <td>Teresa</td>\n",
       "      <td>3</td>\n",
       "      <td>4</td>\n",
       "      <td>positive</td>\n",
       "      <td>1018396800</td>\n",
       "      <td>A great way to learn the months</td>\n",
       "      <td>This is a book of poetry about the months of t...</td>\n",
       "    </tr>\n",
       "    <tr>\n",
       "      <th>138693</th>\n",
       "      <td>150511</td>\n",
       "      <td>0006641040</td>\n",
       "      <td>A1C9K534BCI9GO</td>\n",
       "      <td>Laura Purdie Salas</td>\n",
       "      <td>0</td>\n",
       "      <td>0</td>\n",
       "      <td>positive</td>\n",
       "      <td>1344211200</td>\n",
       "      <td>Charming and childlike</td>\n",
       "      <td>A charming, rhyming book that describes the ci...</td>\n",
       "    </tr>\n",
       "    <tr>\n",
       "      <th>138694</th>\n",
       "      <td>150512</td>\n",
       "      <td>0006641040</td>\n",
       "      <td>A1DJXZA5V5FFVA</td>\n",
       "      <td>A. Conway</td>\n",
       "      <td>0</td>\n",
       "      <td>0</td>\n",
       "      <td>positive</td>\n",
       "      <td>1338249600</td>\n",
       "      <td>Must have.</td>\n",
       "      <td>I set aside at least an hour each day to read ...</td>\n",
       "    </tr>\n",
       "    <tr>\n",
       "      <th>138695</th>\n",
       "      <td>150513</td>\n",
       "      <td>0006641040</td>\n",
       "      <td>ASH0DZQQF6AIZ</td>\n",
       "      <td>tessarat</td>\n",
       "      <td>0</td>\n",
       "      <td>0</td>\n",
       "      <td>positive</td>\n",
       "      <td>1325721600</td>\n",
       "      <td>A classic</td>\n",
       "      <td>I remembered this book from my childhood and g...</td>\n",
       "    </tr>\n",
       "    <tr>\n",
       "      <th>138696</th>\n",
       "      <td>150514</td>\n",
       "      <td>0006641040</td>\n",
       "      <td>A2ONB6ZA292PA</td>\n",
       "      <td>Rosalind Matzner</td>\n",
       "      <td>0</td>\n",
       "      <td>0</td>\n",
       "      <td>positive</td>\n",
       "      <td>1313884800</td>\n",
       "      <td>Chicken soup with Rice</td>\n",
       "      <td>It's a great book with adorable illustrations....</td>\n",
       "    </tr>\n",
       "    <tr>\n",
       "      <th>138697</th>\n",
       "      <td>150515</td>\n",
       "      <td>0006641040</td>\n",
       "      <td>A2RTT81R6Y3R7X</td>\n",
       "      <td>Lindylu</td>\n",
       "      <td>0</td>\n",
       "      <td>0</td>\n",
       "      <td>positive</td>\n",
       "      <td>1303171200</td>\n",
       "      <td>One of our family's favorite books</td>\n",
       "      <td>This book is a family favorite and was read to...</td>\n",
       "    </tr>\n",
       "    <tr>\n",
       "      <th>138687</th>\n",
       "      <td>150505</td>\n",
       "      <td>0006641040</td>\n",
       "      <td>A2PTSM496CF40Z</td>\n",
       "      <td>Jason A. Teeple \"Nobody made a greater mistak...</td>\n",
       "      <td>1</td>\n",
       "      <td>1</td>\n",
       "      <td>positive</td>\n",
       "      <td>1210809600</td>\n",
       "      <td>A classic</td>\n",
       "      <td>Get the movie or sound track and sing along wi...</td>\n",
       "    </tr>\n",
       "    <tr>\n",
       "      <th>138698</th>\n",
       "      <td>150516</td>\n",
       "      <td>0006641040</td>\n",
       "      <td>A3OI7ZGH6WZJ5G</td>\n",
       "      <td>Mary Jane Rogers \"Maedchen\"</td>\n",
       "      <td>0</td>\n",
       "      <td>0</td>\n",
       "      <td>positive</td>\n",
       "      <td>1293840000</td>\n",
       "      <td>Darling!</td>\n",
       "      <td>The same author wrote \"Where the Wild Things A...</td>\n",
       "    </tr>\n",
       "    <tr>\n",
       "      <th>138700</th>\n",
       "      <td>150518</td>\n",
       "      <td>0006641040</td>\n",
       "      <td>AK1L4EJBA23JF</td>\n",
       "      <td>L. M. Kraus</td>\n",
       "      <td>0</td>\n",
       "      <td>0</td>\n",
       "      <td>positive</td>\n",
       "      <td>1288224000</td>\n",
       "      <td>love this book</td>\n",
       "      <td>Great book, perfect condition arrived in a sho...</td>\n",
       "    </tr>\n",
       "    <tr>\n",
       "      <th>138701</th>\n",
       "      <td>150519</td>\n",
       "      <td>0006641040</td>\n",
       "      <td>A12HY5OZ2QNK4N</td>\n",
       "      <td>Elizabeth H. Roessner</td>\n",
       "      <td>0</td>\n",
       "      <td>0</td>\n",
       "      <td>positive</td>\n",
       "      <td>1256774400</td>\n",
       "      <td>It's a great book!</td>\n",
       "      <td>I've always loved chicken soup and rice. My la...</td>\n",
       "    </tr>\n",
       "    <tr>\n",
       "      <th>138702</th>\n",
       "      <td>150520</td>\n",
       "      <td>0006641040</td>\n",
       "      <td>ADBFSA9KTQANE</td>\n",
       "      <td>James L. Hammock \"Pucks Buddy\"</td>\n",
       "      <td>0</td>\n",
       "      <td>0</td>\n",
       "      <td>positive</td>\n",
       "      <td>1256688000</td>\n",
       "      <td>Great Gift</td>\n",
       "      <td>This book was purchased as a birthday gift for...</td>\n",
       "    </tr>\n",
       "    <tr>\n",
       "      <th>138703</th>\n",
       "      <td>150521</td>\n",
       "      <td>0006641040</td>\n",
       "      <td>A3RMCRB2NDTDYP</td>\n",
       "      <td>Carol Carruthers</td>\n",
       "      <td>0</td>\n",
       "      <td>0</td>\n",
       "      <td>positive</td>\n",
       "      <td>1243468800</td>\n",
       "      <td>This book is great!</td>\n",
       "      <td>My 7 year old daughter brought this book home ...</td>\n",
       "    </tr>\n",
       "    <tr>\n",
       "      <th>138704</th>\n",
       "      <td>150522</td>\n",
       "      <td>0006641040</td>\n",
       "      <td>A1S3C5OFU508P3</td>\n",
       "      <td>Charles Ashbacher</td>\n",
       "      <td>0</td>\n",
       "      <td>0</td>\n",
       "      <td>positive</td>\n",
       "      <td>1219536000</td>\n",
       "      <td>Children will find it entertaining and a gener...</td>\n",
       "      <td>This book contains a collection of twelve shor...</td>\n",
       "    </tr>\n",
       "    <tr>\n",
       "      <th>138705</th>\n",
       "      <td>150523</td>\n",
       "      <td>0006641040</td>\n",
       "      <td>A2P4F2UO0UMP8C</td>\n",
       "      <td>Elizabeth A. Curry \"Lovely Librarian\"</td>\n",
       "      <td>0</td>\n",
       "      <td>0</td>\n",
       "      <td>positive</td>\n",
       "      <td>1096675200</td>\n",
       "      <td>MMMM chicken soup....</td>\n",
       "      <td>Summary:  A young boy describes the usefulness...</td>\n",
       "    </tr>\n",
       "    <tr>\n",
       "      <th>138707</th>\n",
       "      <td>150525</td>\n",
       "      <td>0006641040</td>\n",
       "      <td>A2QID6VCFTY51R</td>\n",
       "      <td>Rick</td>\n",
       "      <td>1</td>\n",
       "      <td>2</td>\n",
       "      <td>positive</td>\n",
       "      <td>1025481600</td>\n",
       "      <td>In December it will be, my snowman's anniversa...</td>\n",
       "      <td>My daughter loves all the \"Really Rosie\" books...</td>\n",
       "    </tr>\n",
       "    <tr>\n",
       "      <th>138708</th>\n",
       "      <td>150526</td>\n",
       "      <td>0006641040</td>\n",
       "      <td>A3E9QZFE9KXH8J</td>\n",
       "      <td>R. Mitchell</td>\n",
       "      <td>11</td>\n",
       "      <td>18</td>\n",
       "      <td>negative</td>\n",
       "      <td>1129507200</td>\n",
       "      <td>awesome book poor size</td>\n",
       "      <td>This is one of the best children's books ever ...</td>\n",
       "    </tr>\n",
       "    <tr>\n",
       "      <th>138709</th>\n",
       "      <td>150529</td>\n",
       "      <td>0006641040</td>\n",
       "      <td>A25ACLV5KPB4W</td>\n",
       "      <td>Matt Hetling \"Matt\"</td>\n",
       "      <td>0</td>\n",
       "      <td>1</td>\n",
       "      <td>positive</td>\n",
       "      <td>1108425600</td>\n",
       "      <td>Nice cadence, catchy rhymes</td>\n",
       "      <td>In June&lt;br /&gt;I saw a charming group&lt;br /&gt;of ro...</td>\n",
       "    </tr>\n",
       "    <tr>\n",
       "      <th>138699</th>\n",
       "      <td>150517</td>\n",
       "      <td>0006641040</td>\n",
       "      <td>ABW4IC5G5G8B5</td>\n",
       "      <td>kevin clark</td>\n",
       "      <td>0</td>\n",
       "      <td>0</td>\n",
       "      <td>positive</td>\n",
       "      <td>1291075200</td>\n",
       "      <td>good for children</td>\n",
       "      <td>Classic children's book, can't go wrong. I rea...</td>\n",
       "    </tr>\n",
       "    <tr>\n",
       "      <th>138686</th>\n",
       "      <td>150504</td>\n",
       "      <td>0006641040</td>\n",
       "      <td>AQEYF1AXARWJZ</td>\n",
       "      <td>Les Sinclair \"book maven\"</td>\n",
       "      <td>1</td>\n",
       "      <td>1</td>\n",
       "      <td>positive</td>\n",
       "      <td>1212278400</td>\n",
       "      <td>Chicken Soup with Rice</td>\n",
       "      <td>A very entertaining rhyming story--cleaver and...</td>\n",
       "    </tr>\n",
       "    <tr>\n",
       "      <th>138692</th>\n",
       "      <td>150510</td>\n",
       "      <td>0006641040</td>\n",
       "      <td>AM1MNZMYMS7D8</td>\n",
       "      <td>Dr. Joshua  Grossman</td>\n",
       "      <td>0</td>\n",
       "      <td>0</td>\n",
       "      <td>positive</td>\n",
       "      <td>1348358400</td>\n",
       "      <td>Professional Mentoring</td>\n",
       "      <td>TITLE: Chicken Soup with Rice&lt;br /&gt;AUTHOR: Mau...</td>\n",
       "    </tr>\n",
       "    <tr>\n",
       "      <th>138680</th>\n",
       "      <td>150498</td>\n",
       "      <td>0006641040</td>\n",
       "      <td>A3SJWISOCP31TR</td>\n",
       "      <td>R. J. Wells</td>\n",
       "      <td>2</td>\n",
       "      <td>2</td>\n",
       "      <td>positive</td>\n",
       "      <td>1176336000</td>\n",
       "      <td>A Gem of a Book</td>\n",
       "      <td>This is a wonderful little book. I loved it 40...</td>\n",
       "    </tr>\n",
       "    <tr>\n",
       "      <th>138677</th>\n",
       "      <td>150494</td>\n",
       "      <td>0006641040</td>\n",
       "      <td>AYZ0PR5QZROD1</td>\n",
       "      <td>Mother of 3 girls</td>\n",
       "      <td>3</td>\n",
       "      <td>3</td>\n",
       "      <td>positive</td>\n",
       "      <td>1173312000</td>\n",
       "      <td>Family favorite</td>\n",
       "      <td>All of my children love this book.  My first g...</td>\n",
       "    </tr>\n",
       "    <tr>\n",
       "      <th>138678</th>\n",
       "      <td>150496</td>\n",
       "      <td>0006641040</td>\n",
       "      <td>A3KKR87BJ0C595</td>\n",
       "      <td>Gretchen Goodfellow \"Lover of children's lit\"</td>\n",
       "      <td>3</td>\n",
       "      <td>3</td>\n",
       "      <td>positive</td>\n",
       "      <td>1111363200</td>\n",
       "      <td>You'll use it once, you'll use it twice</td>\n",
       "      <td>One of my earliest memories is of this book.  ...</td>\n",
       "    </tr>\n",
       "    <tr>\n",
       "      <th>138685</th>\n",
       "      <td>150503</td>\n",
       "      <td>0006641040</td>\n",
       "      <td>A3R5XMPFU8YZ4D</td>\n",
       "      <td>Her Royal Motherliness \"Nana\"</td>\n",
       "      <td>1</td>\n",
       "      <td>1</td>\n",
       "      <td>positive</td>\n",
       "      <td>1233964800</td>\n",
       "      <td>so fun to read</td>\n",
       "      <td>This is my grand daughter's and my favorite bo...</td>\n",
       "    </tr>\n",
       "    <tr>\n",
       "      <th>138684</th>\n",
       "      <td>150502</td>\n",
       "      <td>0006641040</td>\n",
       "      <td>AVFMJ50HNO21J</td>\n",
       "      <td>Jane Doe</td>\n",
       "      <td>1</td>\n",
       "      <td>1</td>\n",
       "      <td>positive</td>\n",
       "      <td>1324944000</td>\n",
       "      <td>Tiny little book, Wonderful little rhymes.</td>\n",
       "      <td>This copy is smaller than I expected (mostly b...</td>\n",
       "    </tr>\n",
       "    <tr>\n",
       "      <th>138679</th>\n",
       "      <td>150497</td>\n",
       "      <td>0006641040</td>\n",
       "      <td>A1HKYQOFC8ZZCH</td>\n",
       "      <td>Maria Apolloni \"lanarossa\"</td>\n",
       "      <td>2</td>\n",
       "      <td>2</td>\n",
       "      <td>negative</td>\n",
       "      <td>1334707200</td>\n",
       "      <td>The story is great, the softcover book is disa...</td>\n",
       "      <td>I give five stars to the Maurice Sendak story....</td>\n",
       "    </tr>\n",
       "    <tr>\n",
       "      <th>...</th>\n",
       "      <td>...</td>\n",
       "      <td>...</td>\n",
       "      <td>...</td>\n",
       "      <td>...</td>\n",
       "      <td>...</td>\n",
       "      <td>...</td>\n",
       "      <td>...</td>\n",
       "      <td>...</td>\n",
       "      <td>...</td>\n",
       "      <td>...</td>\n",
       "    </tr>\n",
       "    <tr>\n",
       "      <th>35419</th>\n",
       "      <td>38512</td>\n",
       "      <td>B009O7B1I0</td>\n",
       "      <td>A2YWHBF45M64S2</td>\n",
       "      <td>EcyMom</td>\n",
       "      <td>0</td>\n",
       "      <td>0</td>\n",
       "      <td>negative</td>\n",
       "      <td>1350864000</td>\n",
       "      <td>Reprehensible</td>\n",
       "      <td>This Trader Joe's product is good quality.  Bu...</td>\n",
       "    </tr>\n",
       "    <tr>\n",
       "      <th>195185</th>\n",
       "      <td>211594</td>\n",
       "      <td>B009O7DGEW</td>\n",
       "      <td>A2UAKIEWZLQCUE</td>\n",
       "      <td>Cindy S.</td>\n",
       "      <td>0</td>\n",
       "      <td>0</td>\n",
       "      <td>positive</td>\n",
       "      <td>1350777600</td>\n",
       "      <td>Christmas Bulbs</td>\n",
       "      <td>I gave these bulbs to the receptionist at my l...</td>\n",
       "    </tr>\n",
       "    <tr>\n",
       "      <th>494393</th>\n",
       "      <td>534495</td>\n",
       "      <td>B009OY38SY</td>\n",
       "      <td>A1H1OCLG2B4AEQ</td>\n",
       "      <td>base64</td>\n",
       "      <td>0</td>\n",
       "      <td>0</td>\n",
       "      <td>positive</td>\n",
       "      <td>1350604800</td>\n",
       "      <td>Tastes good, works well</td>\n",
       "      <td>I tried this after reading the ingredients whi...</td>\n",
       "    </tr>\n",
       "    <tr>\n",
       "      <th>134853</th>\n",
       "      <td>146374</td>\n",
       "      <td>B009P4KMZA</td>\n",
       "      <td>A217L3D5UK74I6</td>\n",
       "      <td>george karlin</td>\n",
       "      <td>0</td>\n",
       "      <td>0</td>\n",
       "      <td>negative</td>\n",
       "      <td>1351036800</td>\n",
       "      <td>Another urine specimen from Cali</td>\n",
       "      <td>The most watery and tasteless pinot noir on th...</td>\n",
       "    </tr>\n",
       "    <tr>\n",
       "      <th>430102</th>\n",
       "      <td>465120</td>\n",
       "      <td>B009PCDDO4</td>\n",
       "      <td>A2II09GQGWOMTQ</td>\n",
       "      <td>Brian Nallick \"METALMANMN\"</td>\n",
       "      <td>1</td>\n",
       "      <td>1</td>\n",
       "      <td>positive</td>\n",
       "      <td>1350345600</td>\n",
       "      <td>Feeling blue?</td>\n",
       "      <td>I usually drink Green Machine but I really wan...</td>\n",
       "    </tr>\n",
       "    <tr>\n",
       "      <th>264734</th>\n",
       "      <td>286941</td>\n",
       "      <td>B009PFJUF2</td>\n",
       "      <td>A2UAKIEWZLQCUE</td>\n",
       "      <td>Cindy S.</td>\n",
       "      <td>1</td>\n",
       "      <td>1</td>\n",
       "      <td>positive</td>\n",
       "      <td>1350777600</td>\n",
       "      <td>Amazing color</td>\n",
       "      <td>I have purchased several other Amaryllis from ...</td>\n",
       "    </tr>\n",
       "    <tr>\n",
       "      <th>264735</th>\n",
       "      <td>286942</td>\n",
       "      <td>B009PFJUF2</td>\n",
       "      <td>A16HJRHRHNSUZ6</td>\n",
       "      <td>Danielle Tietz</td>\n",
       "      <td>1</td>\n",
       "      <td>1</td>\n",
       "      <td>positive</td>\n",
       "      <td>1350432000</td>\n",
       "      <td>Looks very pretty when in bloom!</td>\n",
       "      <td>My neighborhood recently decided to create a n...</td>\n",
       "    </tr>\n",
       "    <tr>\n",
       "      <th>241028</th>\n",
       "      <td>261429</td>\n",
       "      <td>B009PG8MVO</td>\n",
       "      <td>A2UAKIEWZLQCUE</td>\n",
       "      <td>Cindy S.</td>\n",
       "      <td>0</td>\n",
       "      <td>0</td>\n",
       "      <td>positive</td>\n",
       "      <td>1350777600</td>\n",
       "      <td>On the first day of Christmas....</td>\n",
       "      <td>....my true love gave to me, a Christmas Bloom...</td>\n",
       "    </tr>\n",
       "    <tr>\n",
       "      <th>269822</th>\n",
       "      <td>292509</td>\n",
       "      <td>B009PIAFTE</td>\n",
       "      <td>A00489763J7YUCSN6CP7K</td>\n",
       "      <td>Andrea Llyod</td>\n",
       "      <td>0</td>\n",
       "      <td>0</td>\n",
       "      <td>positive</td>\n",
       "      <td>1351036800</td>\n",
       "      <td>Truly delicious</td>\n",
       "      <td>I was a bit hesitant to buy this tea due to th...</td>\n",
       "    </tr>\n",
       "    <tr>\n",
       "      <th>343072</th>\n",
       "      <td>371148</td>\n",
       "      <td>B009PICJTS</td>\n",
       "      <td>A09229701Z8W88AD38877</td>\n",
       "      <td>Kristi Greene</td>\n",
       "      <td>0</td>\n",
       "      <td>0</td>\n",
       "      <td>positive</td>\n",
       "      <td>1350518400</td>\n",
       "      <td>One of the best I've had</td>\n",
       "      <td>I am an avid tea drinker and enjoy my tea warm...</td>\n",
       "    </tr>\n",
       "    <tr>\n",
       "      <th>427660</th>\n",
       "      <td>462501</td>\n",
       "      <td>B009PIEW3O</td>\n",
       "      <td>A0849196AFU725N8S7RS</td>\n",
       "      <td>Brady Gibson</td>\n",
       "      <td>0</td>\n",
       "      <td>0</td>\n",
       "      <td>positive</td>\n",
       "      <td>1350518400</td>\n",
       "      <td>Pure and Delicious Iced Tea</td>\n",
       "      <td>My wife and I have been using unsweetened iced...</td>\n",
       "    </tr>\n",
       "    <tr>\n",
       "      <th>184728</th>\n",
       "      <td>200383</td>\n",
       "      <td>B009RE0Y5G</td>\n",
       "      <td>A3M2YJ76LOMNBK</td>\n",
       "      <td>turbo418</td>\n",
       "      <td>0</td>\n",
       "      <td>0</td>\n",
       "      <td>positive</td>\n",
       "      <td>1350864000</td>\n",
       "      <td>This product is AMAZING!!! And way INEXPENSIVE!!</td>\n",
       "      <td>Any product by My Personal Pantry is so delici...</td>\n",
       "    </tr>\n",
       "    <tr>\n",
       "      <th>178140</th>\n",
       "      <td>193169</td>\n",
       "      <td>B009RSR8HO</td>\n",
       "      <td>A3M3S2NCVZ8UXF</td>\n",
       "      <td>Stephanie</td>\n",
       "      <td>0</td>\n",
       "      <td>0</td>\n",
       "      <td>positive</td>\n",
       "      <td>1350518400</td>\n",
       "      <td>Fat to Skinny zero</td>\n",
       "      <td>I have been using this product for 4 months no...</td>\n",
       "    </tr>\n",
       "    <tr>\n",
       "      <th>178139</th>\n",
       "      <td>193168</td>\n",
       "      <td>B009RSR8HO</td>\n",
       "      <td>A1L130V9KINC45</td>\n",
       "      <td>mildred rosa</td>\n",
       "      <td>0</td>\n",
       "      <td>0</td>\n",
       "      <td>positive</td>\n",
       "      <td>1350518400</td>\n",
       "      <td>love sweetener</td>\n",
       "      <td>Great product not too expensive easy to use. S...</td>\n",
       "    </tr>\n",
       "    <tr>\n",
       "      <th>178138</th>\n",
       "      <td>193167</td>\n",
       "      <td>B009RSR8HO</td>\n",
       "      <td>A5F9OUO3F2N7C</td>\n",
       "      <td>Jan</td>\n",
       "      <td>0</td>\n",
       "      <td>0</td>\n",
       "      <td>positive</td>\n",
       "      <td>1350604800</td>\n",
       "      <td>The Best Ever</td>\n",
       "      <td>Zero sweetner is the BEST I have ever used.One...</td>\n",
       "    </tr>\n",
       "    <tr>\n",
       "      <th>178135</th>\n",
       "      <td>193164</td>\n",
       "      <td>B009RSR8HO</td>\n",
       "      <td>A2IZG2VYD476QH</td>\n",
       "      <td>CSTreviso</td>\n",
       "      <td>1</td>\n",
       "      <td>1</td>\n",
       "      <td>positive</td>\n",
       "      <td>1350432000</td>\n",
       "      <td>Love This Stuff!</td>\n",
       "      <td>Fat to Skinny Zero is a wonderful sweetener! I...</td>\n",
       "    </tr>\n",
       "    <tr>\n",
       "      <th>178136</th>\n",
       "      <td>193165</td>\n",
       "      <td>B009RSR8HO</td>\n",
       "      <td>A1I08MP3H92U6R</td>\n",
       "      <td>Thomas</td>\n",
       "      <td>1</td>\n",
       "      <td>1</td>\n",
       "      <td>positive</td>\n",
       "      <td>1350432000</td>\n",
       "      <td>Would not use any other sweetener</td>\n",
       "      <td>I have been using the Fat To Skinny Zero sweet...</td>\n",
       "    </tr>\n",
       "    <tr>\n",
       "      <th>178134</th>\n",
       "      <td>193163</td>\n",
       "      <td>B009RSR8HO</td>\n",
       "      <td>A1QX7TAALGCUKM</td>\n",
       "      <td>H.B. \"H.B.\"</td>\n",
       "      <td>2</td>\n",
       "      <td>2</td>\n",
       "      <td>positive</td>\n",
       "      <td>1350432000</td>\n",
       "      <td>The Best Sweetener I've Ever Used!</td>\n",
       "      <td>I have been using this product a bit over six ...</td>\n",
       "    </tr>\n",
       "    <tr>\n",
       "      <th>178137</th>\n",
       "      <td>193166</td>\n",
       "      <td>B009RSR8HO</td>\n",
       "      <td>AD0V42PRKCDBM</td>\n",
       "      <td>Rachelle</td>\n",
       "      <td>0</td>\n",
       "      <td>0</td>\n",
       "      <td>positive</td>\n",
       "      <td>1350777600</td>\n",
       "      <td>Best sweetner ever!!!</td>\n",
       "      <td>This sweetner is so great. A little bit goes a...</td>\n",
       "    </tr>\n",
       "    <tr>\n",
       "      <th>178142</th>\n",
       "      <td>193171</td>\n",
       "      <td>B009RSR8HO</td>\n",
       "      <td>AH2FVNP7Z6PZH</td>\n",
       "      <td>Marty Campbell</td>\n",
       "      <td>0</td>\n",
       "      <td>0</td>\n",
       "      <td>positive</td>\n",
       "      <td>1350432000</td>\n",
       "      <td>The BEST sugar replacement on the market!</td>\n",
       "      <td>I've been using Fat to Skinny Zero since it wa...</td>\n",
       "    </tr>\n",
       "    <tr>\n",
       "      <th>178141</th>\n",
       "      <td>193170</td>\n",
       "      <td>B009RSR8HO</td>\n",
       "      <td>A1TNEJA68OD7ZH</td>\n",
       "      <td>morgan</td>\n",
       "      <td>0</td>\n",
       "      <td>0</td>\n",
       "      <td>positive</td>\n",
       "      <td>1350518400</td>\n",
       "      <td>Fat to Skinny Zero Sweetner</td>\n",
       "      <td>This is what I use when I'm baking instead of ...</td>\n",
       "    </tr>\n",
       "    <tr>\n",
       "      <th>178143</th>\n",
       "      <td>193172</td>\n",
       "      <td>B009RSR8HO</td>\n",
       "      <td>A3JJTHP8T7A8LY</td>\n",
       "      <td>Joanne Eklund \"Joanne\"</td>\n",
       "      <td>0</td>\n",
       "      <td>0</td>\n",
       "      <td>positive</td>\n",
       "      <td>1350432000</td>\n",
       "      <td>Zero</td>\n",
       "      <td>FTS Zero is the best sweetener I have ever tri...</td>\n",
       "    </tr>\n",
       "    <tr>\n",
       "      <th>178147</th>\n",
       "      <td>193176</td>\n",
       "      <td>B009RSR8HO</td>\n",
       "      <td>A76WHW051R3KV</td>\n",
       "      <td>Shawn \"Shawn\"</td>\n",
       "      <td>0</td>\n",
       "      <td>0</td>\n",
       "      <td>positive</td>\n",
       "      <td>1350432000</td>\n",
       "      <td>My #1 Sweetener of choice</td>\n",
       "      <td>What a wonderful product! It's perfect to use ...</td>\n",
       "    </tr>\n",
       "    <tr>\n",
       "      <th>178146</th>\n",
       "      <td>193175</td>\n",
       "      <td>B009RSR8HO</td>\n",
       "      <td>A1A0PMN417S4V9</td>\n",
       "      <td>mamaelle \"mamaelle\"</td>\n",
       "      <td>0</td>\n",
       "      <td>0</td>\n",
       "      <td>positive</td>\n",
       "      <td>1350432000</td>\n",
       "      <td>YAY! No Dextrose!!</td>\n",
       "      <td>Packets of powdered sweeteners usually have a ...</td>\n",
       "    </tr>\n",
       "    <tr>\n",
       "      <th>178144</th>\n",
       "      <td>193173</td>\n",
       "      <td>B009RSR8HO</td>\n",
       "      <td>A34TVEXPHSSPBV</td>\n",
       "      <td>Beth</td>\n",
       "      <td>0</td>\n",
       "      <td>0</td>\n",
       "      <td>positive</td>\n",
       "      <td>1350432000</td>\n",
       "      <td>Love it!</td>\n",
       "      <td>I love this sweetener.  I use it to replace su...</td>\n",
       "    </tr>\n",
       "    <tr>\n",
       "      <th>178145</th>\n",
       "      <td>193174</td>\n",
       "      <td>B009RSR8HO</td>\n",
       "      <td>A4P6AN2L435PV</td>\n",
       "      <td>romarc</td>\n",
       "      <td>0</td>\n",
       "      <td>0</td>\n",
       "      <td>positive</td>\n",
       "      <td>1350432000</td>\n",
       "      <td>LOVE!!  LOVE!!</td>\n",
       "      <td>LOVE, LOVE this sweetener!!  I use it in all m...</td>\n",
       "    </tr>\n",
       "    <tr>\n",
       "      <th>173675</th>\n",
       "      <td>188389</td>\n",
       "      <td>B009SF0TN6</td>\n",
       "      <td>A1L0GWGRK4BYPT</td>\n",
       "      <td>Bety Robinson</td>\n",
       "      <td>0</td>\n",
       "      <td>0</td>\n",
       "      <td>positive</td>\n",
       "      <td>1350518400</td>\n",
       "      <td>Amazing!! Great sauce for everything!</td>\n",
       "      <td>You have to try this sauce to believe it! It s...</td>\n",
       "    </tr>\n",
       "    <tr>\n",
       "      <th>204727</th>\n",
       "      <td>221795</td>\n",
       "      <td>B009SR4OQ2</td>\n",
       "      <td>A32A6X5KCP7ARG</td>\n",
       "      <td>sicamar</td>\n",
       "      <td>1</td>\n",
       "      <td>1</td>\n",
       "      <td>positive</td>\n",
       "      <td>1350604800</td>\n",
       "      <td>Awesome Taste</td>\n",
       "      <td>I bought this Hazelnut Paste (Nocciola Spread)...</td>\n",
       "    </tr>\n",
       "    <tr>\n",
       "      <th>5259</th>\n",
       "      <td>5703</td>\n",
       "      <td>B009WSNWC4</td>\n",
       "      <td>AMP7K1O84DH1T</td>\n",
       "      <td>ESTY</td>\n",
       "      <td>0</td>\n",
       "      <td>0</td>\n",
       "      <td>positive</td>\n",
       "      <td>1351209600</td>\n",
       "      <td>DELICIOUS</td>\n",
       "      <td>Purchased this product at a local store in NY ...</td>\n",
       "    </tr>\n",
       "    <tr>\n",
       "      <th>302474</th>\n",
       "      <td>327601</td>\n",
       "      <td>B009WVB40S</td>\n",
       "      <td>A3ME78KVX31T21</td>\n",
       "      <td>K'la</td>\n",
       "      <td>0</td>\n",
       "      <td>0</td>\n",
       "      <td>positive</td>\n",
       "      <td>1351123200</td>\n",
       "      <td>Tasty!</td>\n",
       "      <td>I purchased this to send to my son who's away ...</td>\n",
       "    </tr>\n",
       "  </tbody>\n",
       "</table>\n",
       "<p>364171 rows × 10 columns</p>\n",
       "</div>"
      ],
      "text/plain": [
       "            Id   ProductId                 UserId  \\\n",
       "138706  150524  0006641040          ACITT7DI6IDDL   \n",
       "138688  150506  0006641040         A2IW4PEEKO2R0U   \n",
       "138689  150507  0006641040         A1S4A3IQ2MU7V4   \n",
       "138690  150508  0006641040            AZGXZ2UUK6X   \n",
       "138691  150509  0006641040         A3CMRKGE0P909G   \n",
       "138693  150511  0006641040         A1C9K534BCI9GO   \n",
       "138694  150512  0006641040         A1DJXZA5V5FFVA   \n",
       "138695  150513  0006641040          ASH0DZQQF6AIZ   \n",
       "138696  150514  0006641040          A2ONB6ZA292PA   \n",
       "138697  150515  0006641040         A2RTT81R6Y3R7X   \n",
       "138687  150505  0006641040         A2PTSM496CF40Z   \n",
       "138698  150516  0006641040         A3OI7ZGH6WZJ5G   \n",
       "138700  150518  0006641040          AK1L4EJBA23JF   \n",
       "138701  150519  0006641040         A12HY5OZ2QNK4N   \n",
       "138702  150520  0006641040          ADBFSA9KTQANE   \n",
       "138703  150521  0006641040         A3RMCRB2NDTDYP   \n",
       "138704  150522  0006641040         A1S3C5OFU508P3   \n",
       "138705  150523  0006641040         A2P4F2UO0UMP8C   \n",
       "138707  150525  0006641040         A2QID6VCFTY51R   \n",
       "138708  150526  0006641040         A3E9QZFE9KXH8J   \n",
       "138709  150529  0006641040          A25ACLV5KPB4W   \n",
       "138699  150517  0006641040          ABW4IC5G5G8B5   \n",
       "138686  150504  0006641040          AQEYF1AXARWJZ   \n",
       "138692  150510  0006641040          AM1MNZMYMS7D8   \n",
       "138680  150498  0006641040         A3SJWISOCP31TR   \n",
       "138677  150494  0006641040          AYZ0PR5QZROD1   \n",
       "138678  150496  0006641040         A3KKR87BJ0C595   \n",
       "138685  150503  0006641040         A3R5XMPFU8YZ4D   \n",
       "138684  150502  0006641040          AVFMJ50HNO21J   \n",
       "138679  150497  0006641040         A1HKYQOFC8ZZCH   \n",
       "...        ...         ...                    ...   \n",
       "35419    38512  B009O7B1I0         A2YWHBF45M64S2   \n",
       "195185  211594  B009O7DGEW         A2UAKIEWZLQCUE   \n",
       "494393  534495  B009OY38SY         A1H1OCLG2B4AEQ   \n",
       "134853  146374  B009P4KMZA         A217L3D5UK74I6   \n",
       "430102  465120  B009PCDDO4         A2II09GQGWOMTQ   \n",
       "264734  286941  B009PFJUF2         A2UAKIEWZLQCUE   \n",
       "264735  286942  B009PFJUF2         A16HJRHRHNSUZ6   \n",
       "241028  261429  B009PG8MVO         A2UAKIEWZLQCUE   \n",
       "269822  292509  B009PIAFTE  A00489763J7YUCSN6CP7K   \n",
       "343072  371148  B009PICJTS  A09229701Z8W88AD38877   \n",
       "427660  462501  B009PIEW3O   A0849196AFU725N8S7RS   \n",
       "184728  200383  B009RE0Y5G         A3M2YJ76LOMNBK   \n",
       "178140  193169  B009RSR8HO         A3M3S2NCVZ8UXF   \n",
       "178139  193168  B009RSR8HO         A1L130V9KINC45   \n",
       "178138  193167  B009RSR8HO          A5F9OUO3F2N7C   \n",
       "178135  193164  B009RSR8HO         A2IZG2VYD476QH   \n",
       "178136  193165  B009RSR8HO         A1I08MP3H92U6R   \n",
       "178134  193163  B009RSR8HO         A1QX7TAALGCUKM   \n",
       "178137  193166  B009RSR8HO          AD0V42PRKCDBM   \n",
       "178142  193171  B009RSR8HO          AH2FVNP7Z6PZH   \n",
       "178141  193170  B009RSR8HO         A1TNEJA68OD7ZH   \n",
       "178143  193172  B009RSR8HO         A3JJTHP8T7A8LY   \n",
       "178147  193176  B009RSR8HO          A76WHW051R3KV   \n",
       "178146  193175  B009RSR8HO         A1A0PMN417S4V9   \n",
       "178144  193173  B009RSR8HO         A34TVEXPHSSPBV   \n",
       "178145  193174  B009RSR8HO          A4P6AN2L435PV   \n",
       "173675  188389  B009SF0TN6         A1L0GWGRK4BYPT   \n",
       "204727  221795  B009SR4OQ2         A32A6X5KCP7ARG   \n",
       "5259      5703  B009WSNWC4          AMP7K1O84DH1T   \n",
       "302474  327601  B009WVB40S         A3ME78KVX31T21   \n",
       "\n",
       "                                             ProfileName  \\\n",
       "138706                                   shari zychinski   \n",
       "138688                                             Tracy   \n",
       "138689                             sally sue \"sally sue\"   \n",
       "138690                       Catherine Hallberg \"(Kate)\"   \n",
       "138691                                            Teresa   \n",
       "138693                                Laura Purdie Salas   \n",
       "138694                                         A. Conway   \n",
       "138695                                          tessarat   \n",
       "138696                                  Rosalind Matzner   \n",
       "138697                                           Lindylu   \n",
       "138687  Jason A. Teeple \"Nobody made a greater mistak...   \n",
       "138698                       Mary Jane Rogers \"Maedchen\"   \n",
       "138700                                       L. M. Kraus   \n",
       "138701                             Elizabeth H. Roessner   \n",
       "138702                    James L. Hammock \"Pucks Buddy\"   \n",
       "138703                                  Carol Carruthers   \n",
       "138704                                 Charles Ashbacher   \n",
       "138705             Elizabeth A. Curry \"Lovely Librarian\"   \n",
       "138707                                              Rick   \n",
       "138708                                       R. Mitchell   \n",
       "138709                               Matt Hetling \"Matt\"   \n",
       "138699                                       kevin clark   \n",
       "138686                         Les Sinclair \"book maven\"   \n",
       "138692                              Dr. Joshua  Grossman   \n",
       "138680                                       R. J. Wells   \n",
       "138677                                 Mother of 3 girls   \n",
       "138678     Gretchen Goodfellow \"Lover of children's lit\"   \n",
       "138685                     Her Royal Motherliness \"Nana\"   \n",
       "138684                                          Jane Doe   \n",
       "138679                        Maria Apolloni \"lanarossa\"   \n",
       "...                                                  ...   \n",
       "35419                                             EcyMom   \n",
       "195185                                          Cindy S.   \n",
       "494393                                            base64   \n",
       "134853                                     george karlin   \n",
       "430102                        Brian Nallick \"METALMANMN\"   \n",
       "264734                                          Cindy S.   \n",
       "264735                                    Danielle Tietz   \n",
       "241028                                          Cindy S.   \n",
       "269822                                      Andrea Llyod   \n",
       "343072                                     Kristi Greene   \n",
       "427660                                      Brady Gibson   \n",
       "184728                                          turbo418   \n",
       "178140                                         Stephanie   \n",
       "178139                                      mildred rosa   \n",
       "178138                                               Jan   \n",
       "178135                                         CSTreviso   \n",
       "178136                                            Thomas   \n",
       "178134                                       H.B. \"H.B.\"   \n",
       "178137                                          Rachelle   \n",
       "178142                                    Marty Campbell   \n",
       "178141                                            morgan   \n",
       "178143                            Joanne Eklund \"Joanne\"   \n",
       "178147                                     Shawn \"Shawn\"   \n",
       "178146                               mamaelle \"mamaelle\"   \n",
       "178144                                              Beth   \n",
       "178145                                            romarc   \n",
       "173675                                     Bety Robinson   \n",
       "204727                                           sicamar   \n",
       "5259                                                ESTY   \n",
       "302474                                              K'la   \n",
       "\n",
       "        HelpfulnessNumerator  HelpfulnessDenominator     Score        Time  \\\n",
       "138706                     0                       0  positive   939340800   \n",
       "138688                     1                       1  positive  1194739200   \n",
       "138689                     1                       1  positive  1191456000   \n",
       "138690                     1                       1  positive  1076025600   \n",
       "138691                     3                       4  positive  1018396800   \n",
       "138693                     0                       0  positive  1344211200   \n",
       "138694                     0                       0  positive  1338249600   \n",
       "138695                     0                       0  positive  1325721600   \n",
       "138696                     0                       0  positive  1313884800   \n",
       "138697                     0                       0  positive  1303171200   \n",
       "138687                     1                       1  positive  1210809600   \n",
       "138698                     0                       0  positive  1293840000   \n",
       "138700                     0                       0  positive  1288224000   \n",
       "138701                     0                       0  positive  1256774400   \n",
       "138702                     0                       0  positive  1256688000   \n",
       "138703                     0                       0  positive  1243468800   \n",
       "138704                     0                       0  positive  1219536000   \n",
       "138705                     0                       0  positive  1096675200   \n",
       "138707                     1                       2  positive  1025481600   \n",
       "138708                    11                      18  negative  1129507200   \n",
       "138709                     0                       1  positive  1108425600   \n",
       "138699                     0                       0  positive  1291075200   \n",
       "138686                     1                       1  positive  1212278400   \n",
       "138692                     0                       0  positive  1348358400   \n",
       "138680                     2                       2  positive  1176336000   \n",
       "138677                     3                       3  positive  1173312000   \n",
       "138678                     3                       3  positive  1111363200   \n",
       "138685                     1                       1  positive  1233964800   \n",
       "138684                     1                       1  positive  1324944000   \n",
       "138679                     2                       2  negative  1334707200   \n",
       "...                      ...                     ...       ...         ...   \n",
       "35419                      0                       0  negative  1350864000   \n",
       "195185                     0                       0  positive  1350777600   \n",
       "494393                     0                       0  positive  1350604800   \n",
       "134853                     0                       0  negative  1351036800   \n",
       "430102                     1                       1  positive  1350345600   \n",
       "264734                     1                       1  positive  1350777600   \n",
       "264735                     1                       1  positive  1350432000   \n",
       "241028                     0                       0  positive  1350777600   \n",
       "269822                     0                       0  positive  1351036800   \n",
       "343072                     0                       0  positive  1350518400   \n",
       "427660                     0                       0  positive  1350518400   \n",
       "184728                     0                       0  positive  1350864000   \n",
       "178140                     0                       0  positive  1350518400   \n",
       "178139                     0                       0  positive  1350518400   \n",
       "178138                     0                       0  positive  1350604800   \n",
       "178135                     1                       1  positive  1350432000   \n",
       "178136                     1                       1  positive  1350432000   \n",
       "178134                     2                       2  positive  1350432000   \n",
       "178137                     0                       0  positive  1350777600   \n",
       "178142                     0                       0  positive  1350432000   \n",
       "178141                     0                       0  positive  1350518400   \n",
       "178143                     0                       0  positive  1350432000   \n",
       "178147                     0                       0  positive  1350432000   \n",
       "178146                     0                       0  positive  1350432000   \n",
       "178144                     0                       0  positive  1350432000   \n",
       "178145                     0                       0  positive  1350432000   \n",
       "173675                     0                       0  positive  1350518400   \n",
       "204727                     1                       1  positive  1350604800   \n",
       "5259                       0                       0  positive  1351209600   \n",
       "302474                     0                       0  positive  1351123200   \n",
       "\n",
       "                                                  Summary  \\\n",
       "138706                          EVERY book is educational   \n",
       "138688         Love the book, miss the hard cover version   \n",
       "138689                      chicken soup with rice months   \n",
       "138690             a good swingy rhythm for reading aloud   \n",
       "138691                    A great way to learn the months   \n",
       "138693                             Charming and childlike   \n",
       "138694                                         Must have.   \n",
       "138695                                          A classic   \n",
       "138696                             Chicken soup with Rice   \n",
       "138697                 One of our family's favorite books   \n",
       "138687                                          A classic   \n",
       "138698                                           Darling!   \n",
       "138700                                     love this book   \n",
       "138701                                 It's a great book!   \n",
       "138702                                         Great Gift   \n",
       "138703                                This book is great!   \n",
       "138704  Children will find it entertaining and a gener...   \n",
       "138705                              MMMM chicken soup....   \n",
       "138707  In December it will be, my snowman's anniversa...   \n",
       "138708                             awesome book poor size   \n",
       "138709                        Nice cadence, catchy rhymes   \n",
       "138699                                  good for children   \n",
       "138686                             Chicken Soup with Rice   \n",
       "138692                             Professional Mentoring   \n",
       "138680                                    A Gem of a Book   \n",
       "138677                                    Family favorite   \n",
       "138678            You'll use it once, you'll use it twice   \n",
       "138685                                     so fun to read   \n",
       "138684         Tiny little book, Wonderful little rhymes.   \n",
       "138679  The story is great, the softcover book is disa...   \n",
       "...                                                   ...   \n",
       "35419                                       Reprehensible   \n",
       "195185                                    Christmas Bulbs   \n",
       "494393                            Tastes good, works well   \n",
       "134853                   Another urine specimen from Cali   \n",
       "430102                                      Feeling blue?   \n",
       "264734                                      Amazing color   \n",
       "264735                   Looks very pretty when in bloom!   \n",
       "241028                  On the first day of Christmas....   \n",
       "269822                                    Truly delicious   \n",
       "343072                           One of the best I've had   \n",
       "427660                        Pure and Delicious Iced Tea   \n",
       "184728   This product is AMAZING!!! And way INEXPENSIVE!!   \n",
       "178140                                 Fat to Skinny zero   \n",
       "178139                                     love sweetener   \n",
       "178138                                      The Best Ever   \n",
       "178135                                   Love This Stuff!   \n",
       "178136                  Would not use any other sweetener   \n",
       "178134                 The Best Sweetener I've Ever Used!   \n",
       "178137                              Best sweetner ever!!!   \n",
       "178142          The BEST sugar replacement on the market!   \n",
       "178141                        Fat to Skinny Zero Sweetner   \n",
       "178143                                               Zero   \n",
       "178147                          My #1 Sweetener of choice   \n",
       "178146                                 YAY! No Dextrose!!   \n",
       "178144                                           Love it!   \n",
       "178145                                     LOVE!!  LOVE!!   \n",
       "173675              Amazing!! Great sauce for everything!   \n",
       "204727                                      Awesome Taste   \n",
       "5259                                            DELICIOUS   \n",
       "302474                                             Tasty!   \n",
       "\n",
       "                                                     Text  \n",
       "138706  this witty little book makes my son laugh at l...  \n",
       "138688  I grew up reading these Sendak books, and watc...  \n",
       "138689  This is a fun way for children to learn their ...  \n",
       "138690  This is a great little book to read aloud- it ...  \n",
       "138691  This is a book of poetry about the months of t...  \n",
       "138693  A charming, rhyming book that describes the ci...  \n",
       "138694  I set aside at least an hour each day to read ...  \n",
       "138695  I remembered this book from my childhood and g...  \n",
       "138696  It's a great book with adorable illustrations....  \n",
       "138697  This book is a family favorite and was read to...  \n",
       "138687  Get the movie or sound track and sing along wi...  \n",
       "138698  The same author wrote \"Where the Wild Things A...  \n",
       "138700  Great book, perfect condition arrived in a sho...  \n",
       "138701  I've always loved chicken soup and rice. My la...  \n",
       "138702  This book was purchased as a birthday gift for...  \n",
       "138703  My 7 year old daughter brought this book home ...  \n",
       "138704  This book contains a collection of twelve shor...  \n",
       "138705  Summary:  A young boy describes the usefulness...  \n",
       "138707  My daughter loves all the \"Really Rosie\" books...  \n",
       "138708  This is one of the best children's books ever ...  \n",
       "138709  In June<br />I saw a charming group<br />of ro...  \n",
       "138699  Classic children's book, can't go wrong. I rea...  \n",
       "138686  A very entertaining rhyming story--cleaver and...  \n",
       "138692  TITLE: Chicken Soup with Rice<br />AUTHOR: Mau...  \n",
       "138680  This is a wonderful little book. I loved it 40...  \n",
       "138677  All of my children love this book.  My first g...  \n",
       "138678  One of my earliest memories is of this book.  ...  \n",
       "138685  This is my grand daughter's and my favorite bo...  \n",
       "138684  This copy is smaller than I expected (mostly b...  \n",
       "138679  I give five stars to the Maurice Sendak story....  \n",
       "...                                                   ...  \n",
       "35419   This Trader Joe's product is good quality.  Bu...  \n",
       "195185  I gave these bulbs to the receptionist at my l...  \n",
       "494393  I tried this after reading the ingredients whi...  \n",
       "134853  The most watery and tasteless pinot noir on th...  \n",
       "430102  I usually drink Green Machine but I really wan...  \n",
       "264734  I have purchased several other Amaryllis from ...  \n",
       "264735  My neighborhood recently decided to create a n...  \n",
       "241028  ....my true love gave to me, a Christmas Bloom...  \n",
       "269822  I was a bit hesitant to buy this tea due to th...  \n",
       "343072  I am an avid tea drinker and enjoy my tea warm...  \n",
       "427660  My wife and I have been using unsweetened iced...  \n",
       "184728  Any product by My Personal Pantry is so delici...  \n",
       "178140  I have been using this product for 4 months no...  \n",
       "178139  Great product not too expensive easy to use. S...  \n",
       "178138  Zero sweetner is the BEST I have ever used.One...  \n",
       "178135  Fat to Skinny Zero is a wonderful sweetener! I...  \n",
       "178136  I have been using the Fat To Skinny Zero sweet...  \n",
       "178134  I have been using this product a bit over six ...  \n",
       "178137  This sweetner is so great. A little bit goes a...  \n",
       "178142  I've been using Fat to Skinny Zero since it wa...  \n",
       "178141  This is what I use when I'm baking instead of ...  \n",
       "178143  FTS Zero is the best sweetener I have ever tri...  \n",
       "178147  What a wonderful product! It's perfect to use ...  \n",
       "178146  Packets of powdered sweeteners usually have a ...  \n",
       "178144  I love this sweetener.  I use it to replace su...  \n",
       "178145  LOVE, LOVE this sweetener!!  I use it in all m...  \n",
       "173675  You have to try this sauce to believe it! It s...  \n",
       "204727  I bought this Hazelnut Paste (Nocciola Spread)...  \n",
       "5259    Purchased this product at a local store in NY ...  \n",
       "302474  I purchased this to send to my son who's away ...  \n",
       "\n",
       "[364171 rows x 10 columns]"
      ]
     },
     "execution_count": 15,
     "metadata": {},
     "output_type": "execute_result"
    }
   ],
   "source": [
    "finaldata = finaldata[finaldata.HelpfulnessNumerator<=finaldata.HelpfulnessDenominator]\n",
    "finaldata"
   ]
  },
  {
   "cell_type": "code",
   "execution_count": 16,
   "metadata": {},
   "outputs": [
    {
     "data": {
      "text/plain": [
       "(364171, 10)"
      ]
     },
     "execution_count": 16,
     "metadata": {},
     "output_type": "execute_result"
    }
   ],
   "source": [
    "finaldata.shape"
   ]
  },
  {
   "cell_type": "markdown",
   "metadata": {},
   "source": [
    "Text preprocessing:\n",
    "    ->Which includes cleaning the text like\n",
    "\n",
    "    ->Removing special characters,stemming,lemitization\n",
    "\n",
    "    ->Checking a word length greater that 2\n",
    "\n",
    "    ->Removing stopwords\n",
    "\n",
    "    ->converting words to lowercase\n"
   ]
  },
  {
   "cell_type": "code",
   "execution_count": 17,
   "metadata": {},
   "outputs": [
    {
     "name": "stdout",
     "output_type": "stream",
     "text": [
      "6\n",
      "I set aside at least an hour each day to read to my son (3 y/o). At this point, I consider myself a connoisseur of children's books and this is one of the best. Santa Clause put this under the tree. Since then, we've read it perpetually and he loves it.<br /><br />First, this book taught him the months of the year.<br /><br />Second, it's a pleasure to read. Well suited to 1.5 y/o old to 4+.<br /><br />Very few children's books are worth owning. Most should be borrowed from the library. This book, however, deserves a permanent spot on your shelf. Sendak's best.\n"
     ]
    }
   ],
   "source": [
    "\n",
    "import re\n",
    "i=0\n",
    "for sent in finaldata['Text'].values:\n",
    "    if(len(re.findall(\"<.*?>\",sent))):\n",
    "        print(i)\n",
    "        print(sent)\n",
    "        break\n",
    "    i =i+1"
   ]
  },
  {
   "cell_type": "code",
   "execution_count": 18,
   "metadata": {},
   "outputs": [
    {
     "name": "stdout",
     "output_type": "stream",
     "text": [
      "[nltk_data] Downloading package stopwords to\n",
      "[nltk_data]     /Users/vthumati/nltk_data...\n",
      "[nltk_data]   Package stopwords is already up-to-date!\n"
     ]
    },
    {
     "data": {
      "text/plain": [
       "True"
      ]
     },
     "execution_count": 18,
     "metadata": {},
     "output_type": "execute_result"
    }
   ],
   "source": [
    "\n",
    "import string\n",
    "from nltk.stem import PorterStemmer\n",
    "from nltk.corpus import stopwords\n",
    "from nltk.stem.wordnet import WordNetLemmatizer\n",
    "nltk.download('stopwords')"
   ]
  },
  {
   "cell_type": "markdown",
   "metadata": {},
   "source": [
    "->Removing stop words\n",
    "\n",
    "->Stemming the words"
   ]
  },
  {
   "cell_type": "code",
   "execution_count": 20,
   "metadata": {},
   "outputs": [],
   "source": [
    "stop = set(stopwords.words('english'))\n",
    "sno = nltk.stem.SnowballStemmer('english')"
   ]
  },
  {
   "cell_type": "markdown",
   "metadata": {},
   "source": [
    "Function to clean html tags and special characters"
   ]
  },
  {
   "cell_type": "code",
   "execution_count": 21,
   "metadata": {},
   "outputs": [],
   "source": [
    "\n",
    "def cleanhtml(sentence):\n",
    "    clean = re.compile(\"<.*?>\")\n",
    "    cleantext = re.sub(clean,\" \",sentence)\n",
    "    return cleantext\n",
    "def cleanpunct(sentence):\n",
    "    cleanr = re.sub(r\"[?|!|\\|'|#|.|,|)|(|/]\",r' ',sentence)\n",
    "    return cleanr"
   ]
  },
  {
   "cell_type": "code",
   "execution_count": 22,
   "metadata": {},
   "outputs": [
    {
     "name": "stdout",
     "output_type": "stream",
     "text": [
      "becaus\n",
      "{'hasn', 'above', 'don', 'or', 'himself', 'am', \"doesn't\", 'his', 'themselves', 'any', 'through', 'be', 'an', \"shouldn't\", 'me', 'their', 'up', 'out', 'do', 'during', 'did', 'them', 'into', \"you've\", 'we', \"she's\", 'before', \"isn't\", 'same', 'there', 'below', 'other', 'this', \"it's\", 'if', 'only', 'of', 'they', 'having', 'to', 'couldn', \"weren't\", 're', 'myself', \"hadn't\", 'yours', \"you're\", 'which', 'against', 'aren', 'm', 'once', 'was', 'again', 'very', 'after', 'were', 'as', 'those', 'from', 'her', 'over', 'each', 'then', 'all', 'further', 'should', 'mightn', 'no', 'weren', \"should've\", 'down', 'about', 'o', 'and', 'by', 'what', 't', 'does', 'both', 'nor', \"mightn't\", 'between', 'i', 'in', 'most', \"didn't\", 'needn', 'a', 'hadn', 'few', 'ma', 'the', 'now', 'on', 'herself', 'such', 'not', 'my', 'is', 've', \"you'll\", 'has', 'theirs', 'some', 'she', 'doesn', 'than', 'with', 'wouldn', 'isn', 'you', 'more', 'just', \"hasn't\", \"wasn't\", 'too', 'your', 'have', 'own', 'ourselves', 'wasn', \"don't\", 'yourself', 'shouldn', 'under', \"shan't\", 'why', 's', 'won', 'here', 'while', 'these', 'll', 'its', 'doing', \"you'd\", 'yourselves', \"couldn't\", 'had', 'are', 'at', 'so', 'ain', 'until', \"mustn't\", 'whom', 'will', 'for', 'that', \"aren't\", 'because', 'him', 'being', 'off', 'our', 'didn', \"won't\", 'd', 'he', 'y', 'can', \"that'll\", 'been', 'ours', 'hers', 'shan', 'itself', 'where', \"wouldn't\", 'mustn', 'but', 'who', 'haven', 'when', 'it', 'how', \"haven't\", \"needn't\"}\n"
     ]
    }
   ],
   "source": [
    "print(sno.stem('because'))\n",
    "print(stop)"
   ]
  },
  {
   "cell_type": "code",
   "execution_count": 23,
   "metadata": {},
   "outputs": [],
   "source": [
    "i=0\n",
    "final_string=[]\n",
    "all_positive_words=[]\n",
    "all_negative_words=[]\n",
    "str1=' '\n",
    "s=' '\n",
    "for sent in finaldata['Text'].values:\n",
    "    sent = cleanhtml(sent)\n",
    "    filtered_sentence=[]\n",
    "    for w in sent.split():\n",
    "        for word in cleanpunct(w).split():\n",
    "            if((word.isalpha()) & (len(word)>2)):\n",
    "                 if(word.lower() not in stop):\n",
    "                        s = (sno.stem(word.lower())).encode('utf8')\n",
    "                        filtered_sentence.append(s)\n",
    "                        if(finaldata['Score'].values)[i]=='positive':\n",
    "                            all_positive_words.append(s)\n",
    "                        if(finaldata['Score'].values)[i]=='negative':\n",
    "                            all_negative_words.append(s)\n",
    "                            \n",
    "    str1 = b\" \".join(filtered_sentence)\n",
    "    final_string.append(str1)\n",
    "    i = i+1"
   ]
  },
  {
   "cell_type": "code",
   "execution_count": 24,
   "metadata": {},
   "outputs": [
    {
     "data": {
      "text/plain": [
       "364171"
      ]
     },
     "execution_count": 24,
     "metadata": {},
     "output_type": "execute_result"
    }
   ],
   "source": [
    "len(final_string)"
   ]
  },
  {
   "cell_type": "markdown",
   "metadata": {},
   "source": [
    "BAG OF WORDS:\n",
    "    \n",
    "        Using bow to convert text to vector and reducing its dimensionality"
   ]
  },
  {
   "cell_type": "code",
   "execution_count": 25,
   "metadata": {},
   "outputs": [],
   "source": [
    "\n",
    "count_vect = CountVectorizer()"
   ]
  },
  {
   "cell_type": "code",
   "execution_count": 26,
   "metadata": {},
   "outputs": [],
   "source": [
    "final_count = count_vect.fit_transform(finaldata['Text'].values)"
   ]
  },
  {
   "cell_type": "code",
   "execution_count": 27,
   "metadata": {},
   "outputs": [
    {
     "name": "stdout",
     "output_type": "stream",
     "text": [
      "<class 'scipy.sparse.csr.csr_matrix'>\n"
     ]
    },
    {
     "data": {
      "text/plain": [
       "(364171, 115281)"
      ]
     },
     "execution_count": 27,
     "metadata": {},
     "output_type": "execute_result"
    }
   ],
   "source": [
    "\n",
    "print(type(final_count))\n",
    "\n",
    "final_count.shape"
   ]
  },
  {
   "cell_type": "code",
   "execution_count": 28,
   "metadata": {},
   "outputs": [
    {
     "name": "stdout",
     "output_type": "stream",
     "text": [
      "<class 'scipy.sparse.csr.csr_matrix'>\n"
     ]
    },
    {
     "data": {
      "text/plain": [
       "(364171, 115281)"
      ]
     },
     "execution_count": 28,
     "metadata": {},
     "output_type": "execute_result"
    }
   ],
   "source": [
    "print(type(final_count))\n",
    "\n",
    "final_count.shape"
   ]
  },
  {
   "cell_type": "markdown",
   "metadata": {},
   "source": [
    "Applying TRUNCATEDSVD technique on bag of words data to reduce dimensionality"
   ]
  },
  {
   "cell_type": "code",
   "execution_count": 29,
   "metadata": {},
   "outputs": [],
   "source": [
    "\n",
    "from sklearn.decomposition import TruncatedSVD"
   ]
  },
  {
   "cell_type": "code",
   "execution_count": 30,
   "metadata": {},
   "outputs": [],
   "source": [
    "truncatedsvd = TruncatedSVD(n_components=2,n_iter=100,random_state=999,tol=0.0)"
   ]
  },
  {
   "cell_type": "code",
   "execution_count": 31,
   "metadata": {},
   "outputs": [],
   "source": [
    "tsvd = truncatedsvd.fit_transform(final_count)"
   ]
  },
  {
   "cell_type": "code",
   "execution_count": 32,
   "metadata": {},
   "outputs": [
    {
     "name": "stdout",
     "output_type": "stream",
     "text": [
      "(364171, 2)\n",
      "<class 'tuple'>\n"
     ]
    }
   ],
   "source": [
    "print(tsvd.shape)\n",
    "print(type(tsvd.shape))"
   ]
  },
  {
   "cell_type": "code",
   "execution_count": 33,
   "metadata": {},
   "outputs": [
    {
     "name": "stdout",
     "output_type": "stream",
     "text": [
      "138706    positive\n",
      "138688    positive\n",
      "138689    positive\n",
      "138690    positive\n",
      "138691    positive\n",
      "Name: Score, dtype: object\n"
     ]
    }
   ],
   "source": [
    "score = finaldata['Score']\n",
    "print(score.head(5))"
   ]
  },
  {
   "cell_type": "code",
   "execution_count": 34,
   "metadata": {},
   "outputs": [
    {
     "data": {
      "text/plain": [
       "(364171,)"
      ]
     },
     "execution_count": 34,
     "metadata": {},
     "output_type": "execute_result"
    }
   ],
   "source": [
    "score.shape"
   ]
  },
  {
   "cell_type": "code",
   "execution_count": 35,
   "metadata": {},
   "outputs": [],
   "source": [
    "tsvddata = np.vstack((tsvd.T,score)).T"
   ]
  },
  {
   "cell_type": "code",
   "execution_count": 36,
   "metadata": {},
   "outputs": [
    {
     "data": {
      "text/plain": [
       "(364171, 3)"
      ]
     },
     "execution_count": 36,
     "metadata": {},
     "output_type": "execute_result"
    }
   ],
   "source": [
    "tsvddata.shape"
   ]
  },
  {
   "cell_type": "code",
   "execution_count": 37,
   "metadata": {},
   "outputs": [],
   "source": [
    "tsvddatadf=pd.DataFrame(data=tsvddata,columns=('1stdim','2nddim','score'))"
   ]
  },
  {
   "cell_type": "code",
   "execution_count": 38,
   "metadata": {},
   "outputs": [],
   "source": [
    "import seaborn as s\n"
   ]
  },
  {
   "cell_type": "code",
   "execution_count": 39,
   "metadata": {},
   "outputs": [
    {
     "data": {
      "image/png": "[encoded data removed]",
      "text/plain": [
       "<matplotlib.figure.Figure at 0x1a5a231630>"
      ]
     },
     "metadata": {},
     "output_type": "display_data"
    }
   ],
   "source": [
    "\n",
    "s.FacetGrid(tsvddatadf,hue='score',size=8).map(mp.scatter,'1stdim','2nddim').add_legend()\n",
    "mp.show()"
   ]
  },
  {
   "cell_type": "markdown",
   "metadata": {},
   "source": [
    "TF-IDF\n",
    "      \n",
    "      Using TF-IDF to convert text to vector and reducing its dimensionality"
   ]
  },
  {
   "cell_type": "code",
   "execution_count": 40,
   "metadata": {},
   "outputs": [],
   "source": [
    "\n",
    "tf_idf = TfidfVectorizer(ngram_range=(1,2))"
   ]
  },
  {
   "cell_type": "code",
   "execution_count": 41,
   "metadata": {},
   "outputs": [],
   "source": [
    "tf_idf_vector = tf_idf.fit_transform(finaldata['Text'].values)"
   ]
  },
  {
   "cell_type": "code",
   "execution_count": 42,
   "metadata": {},
   "outputs": [
    {
     "name": "stdout",
     "output_type": "stream",
     "text": [
      "(364171, 2910192)\n"
     ]
    }
   ],
   "source": [
    "print(tf_idf_vector.get_shape())"
   ]
  },
  {
   "cell_type": "code",
   "execution_count": 43,
   "metadata": {},
   "outputs": [
    {
     "data": {
      "text/plain": [
       "scipy.sparse.csr.csr_matrix"
      ]
     },
     "execution_count": 43,
     "metadata": {},
     "output_type": "execute_result"
    }
   ],
   "source": [
    "type(tf_idf_vector)"
   ]
  },
  {
   "cell_type": "markdown",
   "metadata": {},
   "source": [
    "->After converting the reviews to vectors using tfidf the resultant is a sparse matrix\n",
    "\n",
    "->So i have to go with truncatedsvd method for dimensionality redcution"
   ]
  },
  {
   "cell_type": "code",
   "execution_count": 44,
   "metadata": {},
   "outputs": [],
   "source": [
    "\n",
    "svd1 = TruncatedSVD(n_components=2,n_iter=100,random_state=888,tol=0.0)"
   ]
  },
  {
   "cell_type": "code",
   "execution_count": 45,
   "metadata": {},
   "outputs": [],
   "source": [
    "svd1_data = svd1.fit_transform(tf_idf_vector)"
   ]
  },
  {
   "cell_type": "code",
   "execution_count": 46,
   "metadata": {},
   "outputs": [
    {
     "name": "stdout",
     "output_type": "stream",
     "text": [
      "(364171, 2)\n",
      "<class 'numpy.ndarray'>\n"
     ]
    }
   ],
   "source": [
    "print(svd1_data.shape)\n",
    "print(type(svd1_data))"
   ]
  },
  {
   "cell_type": "code",
   "execution_count": 47,
   "metadata": {},
   "outputs": [
    {
     "data": {
      "text/plain": [
       "(364171,)"
      ]
     },
     "execution_count": 47,
     "metadata": {},
     "output_type": "execute_result"
    }
   ],
   "source": [
    "score.shape"
   ]
  },
  {
   "cell_type": "code",
   "execution_count": 48,
   "metadata": {},
   "outputs": [],
   "source": [
    "svd1_dataframe = np.vstack((svd1_data.T,score)).T"
   ]
  },
  {
   "cell_type": "code",
   "execution_count": 49,
   "metadata": {},
   "outputs": [
    {
     "data": {
      "text/plain": [
       "(364171, 3)"
      ]
     },
     "execution_count": 49,
     "metadata": {},
     "output_type": "execute_result"
    }
   ],
   "source": [
    "svd1_dataframe.shape"
   ]
  },
  {
   "cell_type": "code",
   "execution_count": 50,
   "metadata": {},
   "outputs": [],
   "source": [
    "svd1_df = pd.DataFrame(svd1_dataframe,columns=('dim1','dim2','rating'))"
   ]
  },
  {
   "cell_type": "code",
   "execution_count": 51,
   "metadata": {},
   "outputs": [
    {
     "data": {
      "image/png": "[encoded data removed]",
      "text/plain": [
       "<matplotlib.figure.Figure at 0x1a91e47f98>"
      ]
     },
     "metadata": {},
     "output_type": "display_data"
    }
   ],
   "source": [
    "s.FacetGrid(svd1_df,hue='rating',size=8).map(mp.scatter,'dim1','dim2').add_legend()\n",
    "mp.show()"
   ]
  },
  {
   "cell_type": "markdown",
   "metadata": {},
   "source": [
    "WORD2VEC:\n",
    "    \n",
    "    -> Uisng word2vec approach to convert the words in sentences "
   ]
  },
  {
   "cell_type": "code",
   "execution_count": 52,
   "metadata": {},
   "outputs": [],
   "source": [
    "import gensim\n",
    "from gensim.models import word2vec\n",
    "from gensim.models import keyedvectors"
   ]
  },
  {
   "cell_type": "markdown",
   "metadata": {},
   "source": [
    "Constructing our own word2vec model with available data by cleaning the data"
   ]
  },
  {
   "cell_type": "code",
   "execution_count": 53,
   "metadata": {},
   "outputs": [],
   "source": [
    "i=0\n",
    "listofsent=[]\n",
    "for sent in finaldata['Text'].values:\n",
    "    filtered_sentences = []\n",
    "    sent = cleanhtml(sent)\n",
    "    for w in sent.split():\n",
    "        for cleanedwords in cleanpunct(w).split():\n",
    "            if(cleanedwords.isalpha()):\n",
    "                filtered_sentences.append(cleanedwords.lower())\n",
    "    listofsent.append(filtered_sentences)   \n",
    "    "
   ]
  },
  {
   "cell_type": "code",
   "execution_count": 54,
   "metadata": {},
   "outputs": [
    {
     "name": "stdout",
     "output_type": "stream",
     "text": [
      "364171\n"
     ]
    }
   ],
   "source": [
    "print(len(listofsent))"
   ]
  },
  {
   "cell_type": "code",
   "execution_count": 55,
   "metadata": {
    "scrolled": true
   },
   "outputs": [
    {
     "data": {
      "text/plain": [
       "['i',\n",
       " 'purchased',\n",
       " 'this',\n",
       " 'to',\n",
       " 'send',\n",
       " 'to',\n",
       " 'my',\n",
       " 'son',\n",
       " 'who',\n",
       " 's',\n",
       " 'away',\n",
       " 'at',\n",
       " 'college',\n",
       " 'it',\n",
       " 'was',\n",
       " 'delivered',\n",
       " 'right',\n",
       " 'to',\n",
       " 'his',\n",
       " 'dorm',\n",
       " 'room',\n",
       " 'with',\n",
       " 'very',\n",
       " 'fast',\n",
       " 'shipping',\n",
       " 'he',\n",
       " 'loved',\n",
       " 'it',\n",
       " 'so',\n",
       " 'much',\n",
       " 'he',\n",
       " 'called',\n",
       " 'me',\n",
       " 'to',\n",
       " 'thank',\n",
       " 'me',\n",
       " 'and',\n",
       " 'sadly',\n",
       " 'he',\n",
       " 'hardly',\n",
       " 'ever',\n",
       " 'calls',\n",
       " 'me',\n",
       " 'anymore',\n",
       " 'if',\n",
       " 'you',\n",
       " 'want',\n",
       " 'your',\n",
       " 'kids',\n",
       " 'to',\n",
       " 'call',\n",
       " 'home',\n",
       " 'and',\n",
       " 'have',\n",
       " 'some',\n",
       " 'good',\n",
       " 'snack',\n",
       " 'to',\n",
       " 'get',\n",
       " 'them',\n",
       " 'through',\n",
       " 'midterms',\n",
       " 'then',\n",
       " 'send',\n",
       " 'them',\n",
       " 'this']"
      ]
     },
     "execution_count": 55,
     "metadata": {},
     "output_type": "execute_result"
    }
   ],
   "source": [
    "listofsent[364170]"
   ]
  },
  {
   "cell_type": "code",
   "execution_count": 56,
   "metadata": {},
   "outputs": [
    {
     "data": {
      "text/plain": [
       "'This taffy is so good.  It is very soft and chewy.  The flavors are amazing.  I would definitely recommend you buying it.  Very satisfying!!'"
      ]
     },
     "execution_count": 56,
     "metadata": {},
     "output_type": "execute_result"
    }
   ],
   "source": [
    "finaldata['Text'][7]"
   ]
  },
  {
   "cell_type": "code",
   "execution_count": 57,
   "metadata": {},
   "outputs": [],
   "source": [
    "w2vmodel = gensim.models.Word2Vec(listofsent,min_count=4,size=50,workers=4)"
   ]
  },
  {
   "cell_type": "code",
   "execution_count": 58,
   "metadata": {},
   "outputs": [
    {
     "name": "stdout",
     "output_type": "stream",
     "text": [
      "[('which', 0.5728905200958252), ('each', 0.5433917045593262), ('their', 0.5308894515037537), ('this', 0.5060376524925232), ('my', 0.48464125394821167), ('simply', 0.45643067359924316), ('flat', 0.4529053568840027), ('clear', 0.45220744609832764), ('eruption', 0.4510941803455353), ('delicateness', 0.44709208607673645)]\n",
      "37022\n"
     ]
    },
    {
     "name": "stderr",
     "output_type": "stream",
     "text": [
      "/Users/vthumati/anaconda3/lib/python3.6/site-packages/ipykernel_launcher.py:1: DeprecationWarning: Call to deprecated `most_similar` (Method will be removed in 4.0.0, use self.wv.most_similar() instead).\n",
      "  \"\"\"Entry point for launching an IPython kernel.\n"
     ]
    }
   ],
   "source": [
    "print(w2vmodel.most_similar('the'))\n",
    "print(len(w2vmodel.wv.vocab))"
   ]
  },
  {
   "cell_type": "markdown",
   "metadata": {},
   "source": [
    "We can get similar words and the percentage of relationship between the words"
   ]
  },
  {
   "cell_type": "code",
   "execution_count": 59,
   "metadata": {},
   "outputs": [
    {
     "name": "stdout",
     "output_type": "stream",
     "text": [
      "[('know', 0.6655935645103455), ('understand', 0.6083115935325623), ('realize', 0.6025015711784363), ('complain', 0.586801290512085), ('notice', 0.5743852257728577), ('mind', 0.5673655271530151), ('forget', 0.5611222386360168), ('mean', 0.56031334400177), ('wonder', 0.5506972670555115), ('think', 0.5449468493461609)]\n"
     ]
    },
    {
     "name": "stderr",
     "output_type": "stream",
     "text": [
      "/Users/vthumati/anaconda3/lib/python3.6/site-packages/ipykernel_launcher.py:2: DeprecationWarning: Call to deprecated `most_similar` (Method will be removed in 4.0.0, use self.wv.most_similar() instead).\n",
      "  \n"
     ]
    }
   ],
   "source": [
    "\n",
    "print(w2vmodel.most_similar('care'))"
   ]
  },
  {
   "cell_type": "code",
   "execution_count": 60,
   "metadata": {},
   "outputs": [
    {
     "name": "stderr",
     "output_type": "stream",
     "text": [
      "/Users/vthumati/anaconda3/lib/python3.6/site-packages/ipykernel_launcher.py:1: DeprecationWarning: Call to deprecated `similarity` (Method will be removed in 4.0.0, use self.wv.similarity() instead).\n",
      "  \"\"\"Entry point for launching an IPython kernel.\n"
     ]
    },
    {
     "data": {
      "text/plain": [
       "0.4535463963042511"
      ]
     },
     "execution_count": 60,
     "metadata": {},
     "output_type": "execute_result"
    }
   ],
   "source": [
    "w2vmodel.similarity('care','cares')"
   ]
  },
  {
   "cell_type": "code",
   "execution_count": 61,
   "metadata": {},
   "outputs": [
    {
     "data": {
      "text/plain": [
       "array([ 1.4760077 ,  0.06088085,  0.25122893,  3.8024113 , -0.7325647 ,\n",
       "        0.3348562 , -1.227128  ,  1.0383446 ,  1.9653679 , -0.9013535 ,\n",
       "       -3.3546283 , -2.7682312 ,  0.5758802 , -1.1963058 ,  0.10881724,\n",
       "        0.01830601, -1.3414948 , -0.9830876 ,  0.05742005, -0.82297766,\n",
       "       -1.5509261 , -3.6913466 ,  0.44190043, -1.0714308 , -3.6228158 ,\n",
       "        0.5253932 ,  0.83740276, -0.7880022 ,  0.03580055,  4.513867  ,\n",
       "       -0.81963825, -3.9849663 ,  0.4207909 ,  1.086782  ,  2.1443024 ,\n",
       "       -0.9370693 , -1.7344187 ,  1.9087057 , -0.75689244,  1.077857  ,\n",
       "        2.7157898 ,  1.0272412 , -0.1846602 ,  0.9406825 , -1.04837   ,\n",
       "       -0.8381365 , -0.36185342,  1.3645554 ,  0.17003968,  1.6306833 ],\n",
       "      dtype=float32)"
      ]
     },
     "execution_count": 61,
     "metadata": {},
     "output_type": "execute_result"
    }
   ],
   "source": [
    "w2vmodel.wv['the']"
   ]
  },
  {
   "cell_type": "markdown",
   "metadata": {},
   "source": [
    "Observation:\n",
    "    \n",
    "    -> We can train our own model with the available data, in which we can specify the number of dimensions for each\n",
    "       word\n",
    "\n",
    "    -> By using word2vec we can the similarity between the words and also most similar words for the given word\n",
    "\n",
    "    -> We get each word in the form of 45-dimension vector representation"
   ]
  },
  {
   "cell_type": "markdown",
   "metadata": {},
   "source": [
    "AVERAGE WORD2VEC:\n",
    "    \n",
    "    Using word2vec model and average word2vec to convert sentences to vectors and applying dimensionality reduction technique"
   ]
  },
  {
   "cell_type": "code",
   "execution_count": 62,
   "metadata": {},
   "outputs": [
    {
     "name": "stderr",
     "output_type": "stream",
     "text": [
      "/Users/vthumati/anaconda3/lib/python3.6/site-packages/ipykernel_launcher.py:13: RuntimeWarning: invalid value encountered in true_divide\n",
      "  del sys.path[0]\n"
     ]
    },
    {
     "name": "stdout",
     "output_type": "stream",
     "text": [
      "364171\n",
      "50\n"
     ]
    }
   ],
   "source": [
    "\n",
    "sent_vectors = []\n",
    "for sent in listofsent: \n",
    "    sent_vec = np.zeros(50) \n",
    "    cnt=0\n",
    "    for word in sent:\n",
    "        try:\n",
    "            vec = w2vmodel.wv[word]\n",
    "            sent_vec += vec\n",
    "            cnt += 1\n",
    "        except:\n",
    "            pass\n",
    "    sent_vec /= cnt\n",
    "    sent_vectors.append(sent_vec)\n",
    "print(len(sent_vectors))\n",
    "print(len(sent_vectors[8]))"
   ]
  },
  {
   "cell_type": "code",
   "execution_count": 63,
   "metadata": {},
   "outputs": [
    {
     "name": "stdout",
     "output_type": "stream",
     "text": [
      "364171\n",
      "50\n"
     ]
    }
   ],
   "source": [
    "print(len(sent_vectors))\n",
    "print(len(sent_vectors[9999]))"
   ]
  },
  {
   "cell_type": "code",
   "execution_count": 64,
   "metadata": {},
   "outputs": [
    {
     "data": {
      "text/plain": [
       "list"
      ]
     },
     "execution_count": 64,
     "metadata": {},
     "output_type": "execute_result"
    }
   ],
   "source": [
    "type(sent_vectors)"
   ]
  },
  {
   "cell_type": "code",
   "execution_count": 65,
   "metadata": {
    "scrolled": true
   },
   "outputs": [
    {
     "data": {
      "text/plain": [
       "array([ 0.36570453,  0.09334156,  0.98163805,  0.73257641,  0.27443594,\n",
       "       -0.30483963,  0.25059458,  0.2841531 ,  0.6156666 ,  0.60540936,\n",
       "       -0.6850321 , -0.7704277 , -0.85955792, -0.36570157, -0.9139018 ,\n",
       "        0.32033311,  0.59219124, -0.99978455, -0.30295844, -0.67316759,\n",
       "        0.54540802, -0.16040993, -0.29966747, -0.04598839, -0.43404739,\n",
       "        0.31542922, -0.54752204,  1.77304547, -0.80832378,  0.59803742,\n",
       "       -0.11124071, -1.02951697,  0.90932121,  0.23180143,  0.71062997,\n",
       "        0.70429823,  1.17052499,  1.51756817,  0.07588771, -0.82052859,\n",
       "        1.08738133, -0.92131361,  0.33412902, -0.24660408, -0.38576354,\n",
       "        0.39805261,  0.89788988, -1.67742117, -0.45916062, -0.52337357])"
      ]
     },
     "execution_count": 65,
     "metadata": {},
     "output_type": "execute_result"
    }
   ],
   "source": [
    "sent_vectors[364170]"
   ]
  },
  {
   "cell_type": "code",
   "execution_count": 66,
   "metadata": {},
   "outputs": [
    {
     "data": {
      "text/plain": [
       "True"
      ]
     },
     "execution_count": 66,
     "metadata": {},
     "output_type": "execute_result"
    }
   ],
   "source": [
    "np.isnan(sent_vectors).any()"
   ]
  },
  {
   "cell_type": "code",
   "execution_count": 67,
   "metadata": {},
   "outputs": [
    {
     "data": {
      "text/plain": [
       "-157262.27503916554"
      ]
     },
     "execution_count": 67,
     "metadata": {},
     "output_type": "execute_result"
    }
   ],
   "source": [
    "np.nansum(sent_vectors)"
   ]
  },
  {
   "cell_type": "code",
   "execution_count": 68,
   "metadata": {},
   "outputs": [
    {
     "data": {
      "text/plain": [
       "list"
      ]
     },
     "execution_count": 68,
     "metadata": {},
     "output_type": "execute_result"
    }
   ],
   "source": [
    "type(sent_vectors)"
   ]
  },
  {
   "cell_type": "code",
   "execution_count": 69,
   "metadata": {},
   "outputs": [],
   "source": [
    "from sklearn.decomposition import TruncatedSVD"
   ]
  },
  {
   "cell_type": "code",
   "execution_count": 70,
   "metadata": {},
   "outputs": [],
   "source": [
    "tsvd = TruncatedSVD(n_components=2,tol=0.0,random_state=555)"
   ]
  },
  {
   "cell_type": "code",
   "execution_count": 72,
   "metadata": {},
   "outputs": [],
   "source": [
    "sent_vectors = np.nan_to_num(sent_vectors)"
   ]
  },
  {
   "cell_type": "code",
   "execution_count": 73,
   "metadata": {},
   "outputs": [
    {
     "name": "stdout",
     "output_type": "stream",
     "text": [
      "(364171, 50)\n",
      "364171\n"
     ]
    }
   ],
   "source": [
    "print(sent_vectors.shape)\n",
    "print(len(sent_vectors))"
   ]
  },
  {
   "cell_type": "code",
   "execution_count": 75,
   "metadata": {},
   "outputs": [
    {
     "data": {
      "text/plain": [
       "False"
      ]
     },
     "execution_count": 75,
     "metadata": {},
     "output_type": "execute_result"
    }
   ],
   "source": [
    "np.isnan(sent_vectors).any()"
   ]
  },
  {
   "cell_type": "code",
   "execution_count": 74,
   "metadata": {},
   "outputs": [],
   "source": [
    "from sklearn.decomposition import TruncatedSVD"
   ]
  },
  {
   "cell_type": "code",
   "execution_count": 76,
   "metadata": {},
   "outputs": [],
   "source": [
    "truncatedsvd = TruncatedSVD(n_components=2,tol=0.0,random_state=4)"
   ]
  },
  {
   "cell_type": "code",
   "execution_count": 77,
   "metadata": {},
   "outputs": [],
   "source": [
    "tsvd_data = truncatedsvd.fit_transform(sent_vectors)"
   ]
  },
  {
   "cell_type": "code",
   "execution_count": 78,
   "metadata": {},
   "outputs": [
    {
     "data": {
      "text/plain": [
       "(364171, 2)"
      ]
     },
     "execution_count": 78,
     "metadata": {},
     "output_type": "execute_result"
    }
   ],
   "source": [
    "tsvd_data.shape"
   ]
  },
  {
   "cell_type": "code",
   "execution_count": 79,
   "metadata": {},
   "outputs": [
    {
     "data": {
      "text/plain": [
       "(364171,)"
      ]
     },
     "execution_count": 79,
     "metadata": {},
     "output_type": "execute_result"
    }
   ],
   "source": [
    "score.shape"
   ]
  },
  {
   "cell_type": "code",
   "execution_count": 80,
   "metadata": {},
   "outputs": [],
   "source": [
    "tsne_data_avgw2vec = np.vstack((tsvd_data.T,score)).T"
   ]
  },
  {
   "cell_type": "code",
   "execution_count": 81,
   "metadata": {},
   "outputs": [
    {
     "data": {
      "text/plain": [
       "(364171, 3)"
      ]
     },
     "execution_count": 81,
     "metadata": {},
     "output_type": "execute_result"
    }
   ],
   "source": [
    "tsne_data_avgw2vec.shape"
   ]
  },
  {
   "cell_type": "code",
   "execution_count": 82,
   "metadata": {},
   "outputs": [],
   "source": [
    "tsne_data_avgw2vec_df = pd.DataFrame(data=tsne_data_avgw2vec,columns=(\"Dimension-1\",'Dimension-2','label'))"
   ]
  },
  {
   "cell_type": "code",
   "execution_count": 83,
   "metadata": {},
   "outputs": [
    {
     "data": {
      "image/png": "[encoded data removed]",
      "text/plain": [
       "<matplotlib.figure.Figure at 0x107129a58>"
      ]
     },
     "metadata": {},
     "output_type": "display_data"
    }
   ],
   "source": [
    "s.FacetGrid(tsne_data_avgw2vec_df,hue=\"label\",size=8).map(mp.scatter,'Dimension-1','Dimension-2').add_legend()\n",
    "mp.show()"
   ]
  },
  {
   "cell_type": "markdown",
   "metadata": {},
   "source": [
    "Observation:\n",
    "    \n",
    "    -> We have constructed the word2vec for each word with the available data\n",
    "    \n",
    "    -> Using the word2vec model for each word we have constructed the vector representation of each sentence\n",
    "    \n",
    "    -> By using t-SNE dimensionality reduction technique we have reduced it to 2-dimension representation"
   ]
  },
  {
   "cell_type": "markdown",
   "metadata": {},
   "source": [
    "TFIDF-W2V:\n",
    "    \n",
    "    -> This is an alternative for the average word2vec representation\n",
    "    \n",
    "    -> Using this model with the help of the word2vec model we construct the vector representation of each sentence\n",
    "    \n",
    "    -> Applying dimensionality reduction technique to reduce the dimensions of each sentences"
   ]
  },
  {
   "cell_type": "code",
   "execution_count": 84,
   "metadata": {},
   "outputs": [
    {
     "name": "stdout",
     "output_type": "stream",
     "text": [
      "2910192\n"
     ]
    }
   ],
   "source": [
    "tf_idf_features = tf_idf.get_feature_names()\n",
    "print(len(tf_idf_features))"
   ]
  },
  {
   "cell_type": "code",
   "execution_count": 85,
   "metadata": {},
   "outputs": [
    {
     "name": "stderr",
     "output_type": "stream",
     "text": [
      "/Users/vthumati/anaconda3/lib/python3.6/site-packages/ipykernel_launcher.py:14: RuntimeWarning: divide by zero encountered in true_divide\n",
      "  \n"
     ]
    }
   ],
   "source": [
    "tfidf_sent_vec = []\n",
    "row=0\n",
    "for sent in listofsent:\n",
    "        sent_vector = np.zeros(50) \n",
    "        sum =0\n",
    "        for word in sent: \n",
    "            try:\n",
    "                vec = w2vmodel.wv[word]\n",
    "                tf_idf = tf_idf_vector[row, tfidf_features.index(word)]\n",
    "                sent_vec += (vec * tf_idf)\n",
    "                sum += tf_idf\n",
    "            except:\n",
    "                pass\n",
    "        sent_vec /= sum\n",
    "        tfidf_sent_vec.append(sent_vector)\n",
    "        row += 1"
   ]
  },
  {
   "cell_type": "code",
   "execution_count": 86,
   "metadata": {},
   "outputs": [
    {
     "data": {
      "text/plain": [
       "364171"
      ]
     },
     "execution_count": 86,
     "metadata": {},
     "output_type": "execute_result"
    }
   ],
   "source": [
    "len(tfidf_sent_vec)"
   ]
  },
  {
   "cell_type": "code",
   "execution_count": 87,
   "metadata": {},
   "outputs": [
    {
     "data": {
      "text/plain": [
       "50"
      ]
     },
     "execution_count": 87,
     "metadata": {},
     "output_type": "execute_result"
    }
   ],
   "source": [
    "len(tfidf_sent_vec[99999])"
   ]
  },
  {
   "cell_type": "code",
   "execution_count": 88,
   "metadata": {},
   "outputs": [
    {
     "data": {
      "text/plain": [
       "False"
      ]
     },
     "execution_count": 88,
     "metadata": {},
     "output_type": "execute_result"
    }
   ],
   "source": [
    "np.isnan(tfidf_sent_vec).any()"
   ]
  },
  {
   "cell_type": "code",
   "execution_count": 89,
   "metadata": {},
   "outputs": [
    {
     "data": {
      "text/plain": [
       "list"
      ]
     },
     "execution_count": 89,
     "metadata": {},
     "output_type": "execute_result"
    }
   ],
   "source": [
    "type(tfidf_sent_vec)"
   ]
  },
  {
   "cell_type": "code",
   "execution_count": 90,
   "metadata": {},
   "outputs": [],
   "source": [
    "tfidf_sent_vec = np.nan_to_num(tfidf_sent_vec)"
   ]
  },
  {
   "cell_type": "code",
   "execution_count": 91,
   "metadata": {},
   "outputs": [
    {
     "data": {
      "text/plain": [
       "(364171, 50)"
      ]
     },
     "execution_count": 91,
     "metadata": {},
     "output_type": "execute_result"
    }
   ],
   "source": [
    "tfidf_sent_vec.shape"
   ]
  },
  {
   "cell_type": "code",
   "execution_count": 92,
   "metadata": {},
   "outputs": [
    {
     "data": {
      "text/plain": [
       "364171"
      ]
     },
     "execution_count": 92,
     "metadata": {},
     "output_type": "execute_result"
    }
   ],
   "source": [
    "len(tfidf_sent_vec)"
   ]
  },
  {
   "cell_type": "code",
   "execution_count": 93,
   "metadata": {},
   "outputs": [
    {
     "data": {
      "text/plain": [
       "numpy.ndarray"
      ]
     },
     "execution_count": 93,
     "metadata": {},
     "output_type": "execute_result"
    }
   ],
   "source": [
    "type(tfidf_sent_vec)"
   ]
  },
  {
   "cell_type": "code",
   "execution_count": 94,
   "metadata": {},
   "outputs": [],
   "source": [
    "from sklearn.decomposition import TruncatedSVD"
   ]
  },
  {
   "cell_type": "code",
   "execution_count": 95,
   "metadata": {},
   "outputs": [],
   "source": [
    "tsvd_tfidf_avgw2v = TruncatedSVD(n_components=2,n_iter=200,tol=0.0,random_state=8)"
   ]
  },
  {
   "cell_type": "code",
   "execution_count": 96,
   "metadata": {},
   "outputs": [
    {
     "name": "stderr",
     "output_type": "stream",
     "text": [
      "/Users/vthumati/anaconda3/lib/python3.6/site-packages/sklearn/decomposition/truncated_svd.py:192: RuntimeWarning: invalid value encountered in true_divide\n",
      "  self.explained_variance_ratio_ = exp_var / full_var\n"
     ]
    }
   ],
   "source": [
    "tsvd_tfidf_avgw2v_data = tsvd_tfidf_avgw2v.fit_transform(tfidf_sent_vec)"
   ]
  },
  {
   "cell_type": "code",
   "execution_count": 98,
   "metadata": {},
   "outputs": [
    {
     "name": "stdout",
     "output_type": "stream",
     "text": [
      "(364171, 2)\n",
      "364171\n",
      "(364171,)\n"
     ]
    }
   ],
   "source": [
    "print(tsvd_tfidf_avgw2v_data.shape)\n",
    "print(len(tsvd_tfidf_avgw2v_data))\n",
    "print(score.shape)"
   ]
  },
  {
   "cell_type": "code",
   "execution_count": 100,
   "metadata": {},
   "outputs": [],
   "source": [
    "tsne_data_tfidf_avgw2vec = np.vstack((tsvd_tfidf_avgw2v_data.T,score)).T"
   ]
  },
  {
   "cell_type": "code",
   "execution_count": 101,
   "metadata": {},
   "outputs": [],
   "source": [
    "tsne_data_tfidf_avgw2vec_df = pd.DataFrame(data=tsne_data_avgw2vec,columns=(\"Dimension-1\",'Dimension-2','label'))"
   ]
  },
  {
   "cell_type": "code",
   "execution_count": 102,
   "metadata": {},
   "outputs": [
    {
     "data": {
      "image/png": "[encoded data removed]",
      "text/plain": [
       "<matplotlib.figure.Figure at 0x1b39600240>"
      ]
     },
     "metadata": {},
     "output_type": "display_data"
    }
   ],
   "source": [
    "s.FacetGrid(tsne_data_tfidf_avgw2vec_df,hue=\"label\",size=8).map(mp.scatter,'Dimension-1','Dimension-2').add_legend()\n",
    "mp.show()"
   ]
  },
  {
   "cell_type": "markdown",
   "metadata": {},
   "source": [
    "Sample example for constructing tfidf-word2vec of a word"
   ]
  },
  {
   "cell_type": "code",
   "execution_count": 106,
   "metadata": {},
   "outputs": [
    {
     "name": "stdout",
     "output_type": "stream",
     "text": [
      "0.03277183177760655\n",
      "[ 2.0197868   1.584507    0.5037021   0.8123775   0.22914465  0.39732596\n",
      "  0.6230064  -1.964715    0.6152098   3.4045718  -1.2768095   0.684145\n",
      "  1.1673226  -0.05719063  2.8159833  -2.1201591   1.2506253   1.832313\n",
      "  1.1778784  -1.3166465  -3.5585659  -3.6476698  -3.0662668  -3.2881083\n",
      "  0.50599736  2.845872    0.02283531  0.16117303 -0.4806304   1.9380871\n",
      "  1.727675   -2.8744116  -1.0183523   0.12740374 -2.1708148   0.57003117\n",
      " -0.9761366  -0.798371   -5.5048757   2.6155515  -1.239809    0.6248961\n",
      "  0.8735584  -1.6617626  -2.1666777  -0.6809082   0.8801965  -3.4966476\n",
      " -4.1194386   0.33846864]\n",
      "[ 0.06619212  0.0519272   0.01650724  0.0266231   0.00750949  0.0130211\n",
      "  0.02041706 -0.06438731  0.02016155  0.11157406 -0.04184339  0.02242069\n",
      "  0.0382553  -0.00187424  0.09228493 -0.0694815   0.04098528  0.06004825\n",
      "  0.03860123 -0.04314892 -0.11662073 -0.11954083 -0.10048718 -0.10775734\n",
      "  0.01658246  0.09326444  0.00074835  0.00528194 -0.01575114  0.06351466\n",
      "  0.05661907 -0.09419974 -0.03337327  0.00417525 -0.07114158  0.01868097\n",
      " -0.03198979 -0.02616408 -0.18040487  0.08571642 -0.04063081  0.02047899\n",
      "  0.02862811 -0.05445901 -0.071006   -0.02231461  0.02884565 -0.11459155\n",
      " -0.13500156  0.01109224]\n"
     ]
    }
   ],
   "source": [
    "\n",
    "print(tf_idf_vector[0,tf_idf_features.index('in')])\n",
    "print(w2vmodel.wv['in'])\n",
    "a = tf_idf_vector[0,tf_idf_features.index('in')]\n",
    "b = w2vmodel.wv['in']\n",
    "c = a*b\n",
    "print(c)"
   ]
  },
  {
   "cell_type": "markdown",
   "metadata": {},
   "source": [
    "Observation:\n",
    "    \n",
    "    -> The alternate strategy to construct sentence vectors is TFIDF-WORD2vec\n",
    "\n",
    "    -> It computes the tfidf vector for text and then it computes the word2vec for the text\n",
    "\n",
    "    -> The result is the average of product of tfidf vector and word2vec vector to the tfidf vector\n",
    "    \n",
    "    -> We can apply the dimensionality reduction technique on the result"
   ]
  },
  {
   "cell_type": "markdown",
   "metadata": {},
   "source": [
    "Conclusion:\n",
    "    \n",
    "    -> For the given dataset we have constructed the vector representation by using techniques  \n",
    "       like Bag of words,TFIDF, Average word2vec, TFIDF-Word2vec\n",
    "        \n",
    "    -> Dimensionality reduction technique is applied on each of these techniques.\n",
    "    \n",
    "    -> Based on the polarity of the class labels.\n",
    "    \n",
    "    -> By applying the dimensionality reduction technique on each of these representations to \n",
    "       reduce the dimensions from n to 2-dimensions"
   ]
  },
  {
   "cell_type": "code",
   "execution_count": null,
   "metadata": {},
   "outputs": [],
   "source": []
  }
 ],
 "metadata": {
  "kernelspec": {
   "display_name": "Python 3",
   "language": "python",
   "name": "python3"
  },
  "language_info": {
   "codemirror_mode": {
    "name": "ipython",
    "version": 3
   },
   "file_extension": ".py",
   "mimetype": "text/x-python",
   "name": "python",
   "nbconvert_exporter": "python",
   "pygments_lexer": "ipython3",
   "version": "3.6.4"
  }
 },
 "nbformat": 4,
 "nbformat_minor": 2
}
