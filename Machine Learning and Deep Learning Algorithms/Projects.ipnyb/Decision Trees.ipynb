{
 "cells": [
  {
   "cell_type": "markdown",
   "metadata": {},
   "source": [
    "Information about data:\n",
    "\n",
    "                     ->We have the amazon reviews dataset from kaggle\n",
    "                     \n",
    "                     ->Reviews are given for the product\n",
    "                     \n",
    "                     ->The features of the data were:\n",
    "                     \n",
    "                           Id\n",
    "                           \n",
    "                           ProductId- unique identifier for the product\n",
    "                           \n",
    "                           UserId- unqiue identifier for the user\n",
    "                           \n",
    "                           ProfileName\n",
    "                           \n",
    "                           HelpfullnessNumerator- number of users who found the review helpful\n",
    "                           \n",
    "                           HelpfulnessDenominator- number of users who indicated whether they found the review \n",
    "                                                   helpful or not\n",
    "                           \n",
    "                           Score-rating between 1 and 5\n",
    "                           \n",
    "                           Time-timestamp for the review\n",
    "                           \n",
    "                           Summary- brief summary of the review\n",
    "                           \n",
    "                           Text- text of the review\n",
    "                       \n",
    "                     -> Based on the score of the review we review we classify them into positive and negative\n",
    "                     \n",
    "                     Number of reviews: 568,454\n",
    "\n",
    "                     \n",
    "                    \n",
    "                     \n",
    "                  "
   ]
  },
  {
   "cell_type": "markdown",
   "metadata": {},
   "source": [
    "objective:\n",
    "\n",
    "    -> Cleaning the dataset by classifying them into positive and negative reviews based on the \n",
    "      rating provided and removing the duplicates\n",
    "      \n",
    "    -> Converting the text data to vectors by using word2vec,Average word2vec\n",
    "    \n",
    "    -> Applying Decision trees do determine the best depth of tree having accuracy as the check measure\n",
    "    \n",
    "    -> Here we can use both random based splitting of data or time based splitting of data\n",
    "    \n",
    "    -> Since it is the data of reviews they may change overtime due to modifications of products\n",
    "    \n",
    "    -> The accurancy which we obtained by random based splitting may change for the future data\n",
    "    \n",
    "    -> We can assure about the accurancy obtained in time base splitting for unseen future data also.\n",
    "    \n",
    "    ->Random based splitting is possible for every dataset, but for time based splitting there should time attribute\n",
    "    "
   ]
  },
  {
   "cell_type": "markdown",
   "metadata": {},
   "source": [
    "Importing the required libraries"
   ]
  },
  {
   "cell_type": "code",
   "execution_count": 1,
   "metadata": {},
   "outputs": [],
   "source": [
    "import numpy as np\n",
    "import pandas as pd\n",
    "import matplotlib.pyplot as mp\n",
    "import seaborn as s\n",
    "import sqlite3\n",
    "import nltk\n",
    "import string\n",
    "from sklearn.metrics import accuracy_score\n",
    "from sklearn.tree import DecisionTreeClassifier"
   ]
  },
  {
   "cell_type": "markdown",
   "metadata": {},
   "source": [
    "->loading the data and information about the data\n",
    "\n",
    "-> Shape of the data\n",
    "\n",
    "-> Dimensionality of the data\n",
    "\n",
    "-> Attributes if the data"
   ]
  },
  {
   "cell_type": "code",
   "execution_count": 2,
   "metadata": {},
   "outputs": [
    {
     "name": "stdout",
     "output_type": "stream",
     "text": [
      "(525814, 10)\n",
      "2\n",
      "Index(['Id', 'ProductId', 'UserId', 'ProfileName', 'HelpfulnessNumerator',\n",
      "       'HelpfulnessDenominator', 'Score', 'Time', 'Summary', 'Text'],\n",
      "      dtype='object')\n"
     ]
    }
   ],
   "source": [
    "con = sqlite3.connect(\"database.sqlite\")\n",
    "data = pd.read_sql_query(\"SELECT * FROM Reviews WHERE Score != 3\",con)\n",
    "print(data.shape)\n",
    "print(data.ndim)\n",
    "print(data.columns)"
   ]
  },
  {
   "cell_type": "markdown",
   "metadata": {},
   "source": [
    "Removing the Duplicates from the data"
   ]
  },
  {
   "cell_type": "code",
   "execution_count": 3,
   "metadata": {},
   "outputs": [
    {
     "data": {
      "text/html": [
       "<div>\n",
       "<style scoped>\n",
       "    .dataframe tbody tr th:only-of-type {\n",
       "        vertical-align: middle;\n",
       "    }\n",
       "\n",
       "    .dataframe tbody tr th {\n",
       "        vertical-align: top;\n",
       "    }\n",
       "\n",
       "    .dataframe thead th {\n",
       "        text-align: right;\n",
       "    }\n",
       "</style>\n",
       "<table border=\"1\" class=\"dataframe\">\n",
       "  <thead>\n",
       "    <tr style=\"text-align: right;\">\n",
       "      <th></th>\n",
       "      <th>Id</th>\n",
       "      <th>ProductId</th>\n",
       "      <th>UserId</th>\n",
       "      <th>ProfileName</th>\n",
       "      <th>HelpfulnessNumerator</th>\n",
       "      <th>HelpfulnessDenominator</th>\n",
       "      <th>Score</th>\n",
       "      <th>Time</th>\n",
       "      <th>Summary</th>\n",
       "      <th>Text</th>\n",
       "    </tr>\n",
       "  </thead>\n",
       "  <tbody>\n",
       "    <tr>\n",
       "      <th>0</th>\n",
       "      <td>1</td>\n",
       "      <td>B001E4KFG0</td>\n",
       "      <td>A3SGXH7AUHU8GW</td>\n",
       "      <td>delmartian</td>\n",
       "      <td>1</td>\n",
       "      <td>1</td>\n",
       "      <td>positive</td>\n",
       "      <td>1303862400</td>\n",
       "      <td>Good Quality Dog Food</td>\n",
       "      <td>I have bought several of the Vitality canned d...</td>\n",
       "    </tr>\n",
       "    <tr>\n",
       "      <th>1</th>\n",
       "      <td>2</td>\n",
       "      <td>B00813GRG4</td>\n",
       "      <td>A1D87F6ZCVE5NK</td>\n",
       "      <td>dll pa</td>\n",
       "      <td>0</td>\n",
       "      <td>0</td>\n",
       "      <td>negative</td>\n",
       "      <td>1346976000</td>\n",
       "      <td>Not as Advertised</td>\n",
       "      <td>Product arrived labeled as Jumbo Salted Peanut...</td>\n",
       "    </tr>\n",
       "    <tr>\n",
       "      <th>2</th>\n",
       "      <td>3</td>\n",
       "      <td>B000LQOCH0</td>\n",
       "      <td>ABXLMWJIXXAIN</td>\n",
       "      <td>Natalia Corres \"Natalia Corres\"</td>\n",
       "      <td>1</td>\n",
       "      <td>1</td>\n",
       "      <td>positive</td>\n",
       "      <td>1219017600</td>\n",
       "      <td>\"Delight\" says it all</td>\n",
       "      <td>This is a confection that has been around a fe...</td>\n",
       "    </tr>\n",
       "    <tr>\n",
       "      <th>3</th>\n",
       "      <td>4</td>\n",
       "      <td>B000UA0QIQ</td>\n",
       "      <td>A395BORC6FGVXV</td>\n",
       "      <td>Karl</td>\n",
       "      <td>3</td>\n",
       "      <td>3</td>\n",
       "      <td>negative</td>\n",
       "      <td>1307923200</td>\n",
       "      <td>Cough Medicine</td>\n",
       "      <td>If you are looking for the secret ingredient i...</td>\n",
       "    </tr>\n",
       "    <tr>\n",
       "      <th>4</th>\n",
       "      <td>5</td>\n",
       "      <td>B006K2ZZ7K</td>\n",
       "      <td>A1UQRSCLF8GW1T</td>\n",
       "      <td>Michael D. Bigham \"M. Wassir\"</td>\n",
       "      <td>0</td>\n",
       "      <td>0</td>\n",
       "      <td>positive</td>\n",
       "      <td>1350777600</td>\n",
       "      <td>Great taffy</td>\n",
       "      <td>Great taffy at a great price.  There was a wid...</td>\n",
       "    </tr>\n",
       "    <tr>\n",
       "      <th>5</th>\n",
       "      <td>6</td>\n",
       "      <td>B006K2ZZ7K</td>\n",
       "      <td>ADT0SRK1MGOEU</td>\n",
       "      <td>Twoapennything</td>\n",
       "      <td>0</td>\n",
       "      <td>0</td>\n",
       "      <td>positive</td>\n",
       "      <td>1342051200</td>\n",
       "      <td>Nice Taffy</td>\n",
       "      <td>I got a wild hair for taffy and ordered this f...</td>\n",
       "    </tr>\n",
       "  </tbody>\n",
       "</table>\n",
       "</div>"
      ],
      "text/plain": [
       "   Id   ProductId          UserId                      ProfileName  \\\n",
       "0   1  B001E4KFG0  A3SGXH7AUHU8GW                       delmartian   \n",
       "1   2  B00813GRG4  A1D87F6ZCVE5NK                           dll pa   \n",
       "2   3  B000LQOCH0   ABXLMWJIXXAIN  Natalia Corres \"Natalia Corres\"   \n",
       "3   4  B000UA0QIQ  A395BORC6FGVXV                             Karl   \n",
       "4   5  B006K2ZZ7K  A1UQRSCLF8GW1T    Michael D. Bigham \"M. Wassir\"   \n",
       "5   6  B006K2ZZ7K   ADT0SRK1MGOEU                   Twoapennything   \n",
       "\n",
       "   HelpfulnessNumerator  HelpfulnessDenominator     Score        Time  \\\n",
       "0                     1                       1  positive  1303862400   \n",
       "1                     0                       0  negative  1346976000   \n",
       "2                     1                       1  positive  1219017600   \n",
       "3                     3                       3  negative  1307923200   \n",
       "4                     0                       0  positive  1350777600   \n",
       "5                     0                       0  positive  1342051200   \n",
       "\n",
       "                 Summary                                               Text  \n",
       "0  Good Quality Dog Food  I have bought several of the Vitality canned d...  \n",
       "1      Not as Advertised  Product arrived labeled as Jumbo Salted Peanut...  \n",
       "2  \"Delight\" says it all  This is a confection that has been around a fe...  \n",
       "3         Cough Medicine  If you are looking for the secret ingredient i...  \n",
       "4            Great taffy  Great taffy at a great price.  There was a wid...  \n",
       "5             Nice Taffy  I got a wild hair for taffy and ordered this f...  "
      ]
     },
     "execution_count": 3,
     "metadata": {},
     "output_type": "execute_result"
    }
   ],
   "source": [
    "####function to categorise rating into positive and negatives\n",
    "def change(n):\n",
    "    if n>3:\n",
    "        return 'positive'\n",
    "    return 'negative'\n",
    "\n",
    "rating = data['Score']    \n",
    "####take the ratings\n",
    "rating = rating.map(change)  \n",
    "#####apply function change on ratings column\n",
    "data['Score'] = rating    \n",
    "####updating the column with positive and negatives\n",
    "data.head(6)          \n",
    "##### head with first 6 elements in data"
   ]
  },
  {
   "cell_type": "markdown",
   "metadata": {},
   "source": [
    "Data Cleaning:Removing Duplicates"
   ]
  },
  {
   "cell_type": "code",
   "execution_count": 4,
   "metadata": {},
   "outputs": [
    {
     "name": "stdout",
     "output_type": "stream",
     "text": [
      "       Id   ProductId         UserId      ProfileName  HelpfulnessNumerator  \\\n",
      "0   78445  B000HDL1RQ  AR5J8UI46CURR  Geetha Krishnan                     2   \n",
      "1  138317  B000HDOPYC  AR5J8UI46CURR  Geetha Krishnan                     2   \n",
      "2  138277  B000HDOPYM  AR5J8UI46CURR  Geetha Krishnan                     2   \n",
      "3   73791  B000HDOPZG  AR5J8UI46CURR  Geetha Krishnan                     2   \n",
      "4  155049  B000PAQ75C  AR5J8UI46CURR  Geetha Krishnan                     2   \n",
      "\n",
      "   HelpfulnessDenominator  Score        Time  \\\n",
      "0                       2      5  1199577600   \n",
      "1                       2      5  1199577600   \n",
      "2                       2      5  1199577600   \n",
      "3                       2      5  1199577600   \n",
      "4                       2      5  1199577600   \n",
      "\n",
      "                             Summary  \\\n",
      "0  LOACKER QUADRATINI VANILLA WAFERS   \n",
      "1  LOACKER QUADRATINI VANILLA WAFERS   \n",
      "2  LOACKER QUADRATINI VANILLA WAFERS   \n",
      "3  LOACKER QUADRATINI VANILLA WAFERS   \n",
      "4  LOACKER QUADRATINI VANILLA WAFERS   \n",
      "\n",
      "                                                Text  \n",
      "0  DELICIOUS WAFERS. I FIND THAT EUROPEAN WAFERS ...  \n",
      "1  DELICIOUS WAFERS. I FIND THAT EUROPEAN WAFERS ...  \n",
      "2  DELICIOUS WAFERS. I FIND THAT EUROPEAN WAFERS ...  \n",
      "3  DELICIOUS WAFERS. I FIND THAT EUROPEAN WAFERS ...  \n",
      "4  DELICIOUS WAFERS. I FIND THAT EUROPEAN WAFERS ...  \n"
     ]
    }
   ],
   "source": [
    "user = pd.read_sql_query(\"\"\"SELECT * FROM Reviews WHERE UserId= \"AR5J8UI46CURR\" ORDER BY ProductId \"\"\",con)\n",
    "print(user)"
   ]
  },
  {
   "cell_type": "markdown",
   "metadata": {},
   "source": [
    "Observation:\n",
    "    \n",
    "    -> Here we can see that for the same time span we got five reviews, practically which is not possible\n",
    "    \n",
    "    ->This happened because when the user given review for a product it is applied to all the flavors of the product"
   ]
  },
  {
   "cell_type": "code",
   "execution_count": 5,
   "metadata": {},
   "outputs": [],
   "source": [
    "sorteddata = data.sort_values('ProductId',axis=0,ascending=True,inplace=False,kind='quicksort',na_position='last')\n",
    "finaldata = sorteddata.drop_duplicates(subset={\"UserId\",\"ProfileName\",\"Time\",\"Text\"},keep='first',inplace=False)"
   ]
  },
  {
   "cell_type": "markdown",
   "metadata": {},
   "source": [
    "Information about the modified data:\n",
    "\n",
    "    -> Shape of the data\n",
    "\n",
    "    -> Dimensionality of the data\n",
    "\n",
    "    -> Attributes if the data\n",
    "\n",
    "    -> Sample of modified data"
   ]
  },
  {
   "cell_type": "code",
   "execution_count": 6,
   "metadata": {},
   "outputs": [
    {
     "name": "stdout",
     "output_type": "stream",
     "text": [
      "(364173, 10)\n",
      "2\n",
      "Index(['Id', 'ProductId', 'UserId', 'ProfileName', 'HelpfulnessNumerator',\n",
      "       'HelpfulnessDenominator', 'Score', 'Time', 'Summary', 'Text'],\n",
      "      dtype='object')\n",
      "            Id   ProductId          UserId                  ProfileName  \\\n",
      "138706  150524  0006641040   ACITT7DI6IDDL              shari zychinski   \n",
      "138688  150506  0006641040  A2IW4PEEKO2R0U                        Tracy   \n",
      "138689  150507  0006641040  A1S4A3IQ2MU7V4        sally sue \"sally sue\"   \n",
      "138690  150508  0006641040     AZGXZ2UUK6X  Catherine Hallberg \"(Kate)\"   \n",
      "138691  150509  0006641040  A3CMRKGE0P909G                       Teresa   \n",
      "\n",
      "        HelpfulnessNumerator  HelpfulnessDenominator     Score        Time  \\\n",
      "138706                     0                       0  positive   939340800   \n",
      "138688                     1                       1  positive  1194739200   \n",
      "138689                     1                       1  positive  1191456000   \n",
      "138690                     1                       1  positive  1076025600   \n",
      "138691                     3                       4  positive  1018396800   \n",
      "\n",
      "                                           Summary  \\\n",
      "138706                   EVERY book is educational   \n",
      "138688  Love the book, miss the hard cover version   \n",
      "138689               chicken soup with rice months   \n",
      "138690      a good swingy rhythm for reading aloud   \n",
      "138691             A great way to learn the months   \n",
      "\n",
      "                                                     Text  \n",
      "138706  this witty little book makes my son laugh at l...  \n",
      "138688  I grew up reading these Sendak books, and watc...  \n",
      "138689  This is a fun way for children to learn their ...  \n",
      "138690  This is a great little book to read aloud- it ...  \n",
      "138691  This is a book of poetry about the months of t...  \n"
     ]
    }
   ],
   "source": [
    "print(finaldata.shape)\n",
    "print(finaldata.ndim)\n",
    "print(finaldata.columns)\n",
    "print(finaldata.head(5))"
   ]
  },
  {
   "cell_type": "markdown",
   "metadata": {},
   "source": [
    "CONSTRUCTING VECTOR REPRESENTATION OF EACH IN THE DATA BY USING WORD2VEC"
   ]
  },
  {
   "cell_type": "code",
   "execution_count": 7,
   "metadata": {},
   "outputs": [],
   "source": [
    "import gensim\n",
    "from gensim.models import word2vec"
   ]
  },
  {
   "cell_type": "markdown",
   "metadata": {},
   "source": [
    "-> Importing the required libraries\n",
    "\n",
    "-> Functions to clean the sentences\n",
    "\n",
    "-> Constructing the word2vec from the sample subset data"
   ]
  },
  {
   "cell_type": "code",
   "execution_count": 8,
   "metadata": {},
   "outputs": [],
   "source": [
    "import re\n",
    "def cleanhtml(sentence):\n",
    "    clean = re.compile(\"<.*?>\")\n",
    "    cleantext = re.sub(clean,\" \",sentence)\n",
    "    return cleantext\n",
    "def cleanpunct(sentence):\n",
    "    cleanr = re.sub(r\"[?|!|\\|'|#|.|,|)|(|/]\",r' ',sentence)\n",
    "    return cleanr"
   ]
  },
  {
   "cell_type": "code",
   "execution_count": 9,
   "metadata": {},
   "outputs": [],
   "source": [
    "sorted_w2vec = finaldata.sort_values(\"Time\",axis=0,ascending=True,kind='quicksort',na_position='last',inplace=False)"
   ]
  },
  {
   "cell_type": "markdown",
   "metadata": {},
   "source": [
    "Information about the sorted data:\n",
    "\n",
    "    -> Shape of the data\n",
    "\n",
    "    -> Dimensionality of the data\n",
    "\n",
    "    -> Attributes if the data\n",
    "\n",
    "    -> Sample of modified data"
   ]
  },
  {
   "cell_type": "code",
   "execution_count": 10,
   "metadata": {},
   "outputs": [
    {
     "name": "stdout",
     "output_type": "stream",
     "text": [
      "(364173, 10)\n",
      "2\n",
      "Index(['Id', 'ProductId', 'UserId', 'ProfileName', 'HelpfulnessNumerator',\n",
      "       'HelpfulnessDenominator', 'Score', 'Time', 'Summary', 'Text'],\n",
      "      dtype='object')\n",
      "            Id   ProductId          UserId               ProfileName  \\\n",
      "138706  150524  0006641040   ACITT7DI6IDDL           shari zychinski   \n",
      "138683  150501  0006641040   AJ46FKXOVC7NR        Nicholas A Mesiano   \n",
      "417839  451856  B00004CXX9   AIUWLEQ1ADEG5          Elizabeth Medina   \n",
      "346055  374359  B00004CI84  A344SMIA5JECGM           Vincent P. Ross   \n",
      "417838  451855  B00004CXX9   AJH6LUC1UT1ON  The Phantom of the Opera   \n",
      "\n",
      "        HelpfulnessNumerator  HelpfulnessDenominator     Score       Time  \\\n",
      "138706                     0                       0  positive  939340800   \n",
      "138683                     2                       2  positive  940809600   \n",
      "417839                     0                       0  positive  944092800   \n",
      "346055                     1                       2  positive  944438400   \n",
      "417838                     0                       0  positive  946857600   \n",
      "\n",
      "                                                  Summary  \\\n",
      "138706                          EVERY book is educational   \n",
      "138683  This whole series is great way to spend time w...   \n",
      "417839                               Entertainingl Funny!   \n",
      "346055                            A modern day fairy tale   \n",
      "417838                                         FANTASTIC!   \n",
      "\n",
      "                                                     Text  \n",
      "138706  this witty little book makes my son laugh at l...  \n",
      "138683  I can remember seeing the show when it aired o...  \n",
      "417839  Beetlejuice is a well written movie ..... ever...  \n",
      "346055  A twist of rumplestiskin captured on film, sta...  \n",
      "417838  Beetlejuice is an excellent and funny movie. K...  \n"
     ]
    }
   ],
   "source": [
    "print(sorted_w2vec.shape)\n",
    "print(sorted_w2vec.ndim)\n",
    "print(sorted_w2vec.columns)\n",
    "print(sorted_w2vec.head(5))"
   ]
  },
  {
   "cell_type": "code",
   "execution_count": 11,
   "metadata": {},
   "outputs": [],
   "source": [
    "i=0\n",
    "sentences_list=[]\n",
    "for sent in sorted_w2vec['Text'].values:\n",
    "    filtered_sentences = []\n",
    "    sent = cleanhtml(sent)\n",
    "    for w in sent.split():\n",
    "        for cleanedwords in cleanpunct(w).split():\n",
    "            if(cleanedwords.isalpha()):\n",
    "                filtered_sentences.append(cleanedwords.lower())\n",
    "    sentences_list.append(filtered_sentences)   "
   ]
  },
  {
   "cell_type": "code",
   "execution_count": 12,
   "metadata": {},
   "outputs": [
    {
     "name": "stdout",
     "output_type": "stream",
     "text": [
      "364173\n",
      "<class 'list'>\n"
     ]
    }
   ],
   "source": [
    "print(len(sentences_list))\n",
    "print(type(sentences_list))"
   ]
  },
  {
   "cell_type": "code",
   "execution_count": 13,
   "metadata": {},
   "outputs": [],
   "source": [
    "w2vmodel = gensim.models.Word2Vec(sentences_list,min_count=4,size=200,workers=4)"
   ]
  },
  {
   "cell_type": "markdown",
   "metadata": {},
   "source": [
    "-> Most similar word\n",
    "\n",
    "-> Similarity between the words\n",
    "\n",
    "-> Dimensionality representation of a word"
   ]
  },
  {
   "cell_type": "code",
   "execution_count": 14,
   "metadata": {},
   "outputs": [
    {
     "name": "stdout",
     "output_type": "stream",
     "text": [
      "[('wherever', 0.4594731330871582), ('what', 0.45790600776672363), ('when', 0.4426317811012268), ('atlanta', 0.417472779750824), ('everywhere', 0.4087372124195099), ('somewhere', 0.4012754559516907), ('why', 0.39789170026779175), ('miami', 0.39658424258232117), ('nyc', 0.3958161771297455), ('florida', 0.39461496472358704)]\n",
      "0.44263175693579765\n",
      "[ 1.6331531  -0.79845667 -0.45216376  0.42539343 -0.33658674  0.59380037\n",
      " -0.5263159   0.5842386   1.466138   -0.3119752  -0.21973877  0.8555864\n",
      " -3.6795366   0.8617518   3.0770397  -0.11212743 -0.72588176  2.4425774\n",
      " -1.5533571  -0.59036565  1.7174312  -0.77355695  1.3786777   0.6814901\n",
      "  0.6741636   0.8354629  -1.707923    1.3012035   0.9157588   3.9978266\n",
      " -0.631389    0.1697004  -2.1428678  -1.0298405   0.60593456  1.6675051\n",
      "  0.5104288   1.8326571   1.6684786   1.7801542  -1.6682345   0.14508161\n",
      "  1.2019076   1.3818147   1.8297708   0.06275181 -0.2328718   0.8112764\n",
      " -4.7815714   2.254828   -1.2480936  -0.20308697 -1.0630426   0.92793036\n",
      "  1.8030949  -1.7717417  -1.681844    0.18603978  0.7955026   0.89024246\n",
      "  1.9989334   0.9757756   1.3316698   4.8155875  -1.3277873   3.258908\n",
      "  1.1285194  -0.2615028   1.6847275   0.1742869   1.8900928  -0.19013865\n",
      "  2.279615   -2.3754504  -0.38275328 -1.6026828  -2.2104282  -2.6147068\n",
      " -1.3613904  -0.75397664 -1.3671336  -2.3176205   1.3250021  -0.8424476\n",
      " -2.2235625   1.9410805  -2.5142384  -1.0206442   0.41692322  0.11198874\n",
      "  0.03515576  1.5786471   0.19432983 -2.0514994  -1.4727927   0.40654066\n",
      "  0.88286346 -2.428184    1.0518938  -1.2216723  -1.0388702  -0.623032\n",
      " -0.41029868 -1.2505282   0.70760673  1.0133395  -0.3811332  -1.3858659\n",
      " -0.36918342 -2.7233331   0.9510346  -0.35236558  0.97679293  0.7148403\n",
      " -0.78331006 -0.61408746 -0.3376292  -0.27254063  0.555511   -1.062949\n",
      "  1.2672429  -0.8551705   0.07587209 -2.0158272  -0.322324    0.6007844\n",
      " -0.9152724   1.457027    2.5418932   2.4028869   1.0896951  -0.24308997\n",
      " -2.1541197  -1.385261    1.7806646  -1.4152241   1.0486333  -1.5356334\n",
      " -1.763022    1.7497728   1.2591652   1.1417272  -1.5481972  -2.2717617\n",
      "  1.3790187  -1.8005618  -0.06050143 -2.5310838  -1.4711559   2.5667489\n",
      "  1.0004866  -1.3947448  -1.7634138  -0.58484435  0.7129905   2.835419\n",
      "  0.45729092  0.4322272   0.30003986 -2.8693535   1.5222995  -0.45841023\n",
      " -1.6101103  -1.1513519   1.583578   -1.9039611  -2.0539722   0.796204\n",
      "  0.5662639  -3.0849988   1.1563088   0.59110135 -1.1242639   1.0625143\n",
      "  1.8337064   0.07630508 -0.00891196 -0.1754792  -0.7249214   2.6913538\n",
      " -3.177442   -0.28687838 -3.4646447  -0.68664604 -2.9991336  -1.0978917\n",
      "  1.0261513  -1.767935   -1.0438273   0.12836058 -0.5314205  -1.8073746\n",
      " -1.30182     1.3502879  -2.0460868  -1.7149078  -3.5365427   0.15722775\n",
      "  0.12164022 -3.0982144 ]\n"
     ]
    },
    {
     "name": "stderr",
     "output_type": "stream",
     "text": [
      "/Users/vthumati/anaconda3/lib/python3.6/site-packages/ipykernel_launcher.py:1: DeprecationWarning: Call to deprecated `most_similar` (Method will be removed in 4.0.0, use self.wv.most_similar() instead).\n",
      "  \"\"\"Entry point for launching an IPython kernel.\n",
      "/Users/vthumati/anaconda3/lib/python3.6/site-packages/ipykernel_launcher.py:2: DeprecationWarning: Call to deprecated `similarity` (Method will be removed in 4.0.0, use self.wv.similarity() instead).\n",
      "  \n"
     ]
    }
   ],
   "source": [
    "print(w2vmodel.most_similar(\"where\"))\n",
    "print(w2vmodel.similarity(\"where\",'when'))\n",
    "print(w2vmodel.wv['what'])"
   ]
  },
  {
   "cell_type": "markdown",
   "metadata": {},
   "source": [
    "Observation:\n",
    "    \n",
    "    -> We have constructed the vector representation of each word\n",
    "    \n",
    "    -> Using this model to construct vector representation of each sentence in average word2vec and tfidf-word2vec"
   ]
  },
  {
   "cell_type": "markdown",
   "metadata": {},
   "source": [
    "AVERAGE WORD2VEC\n",
    "\n",
    "    -> Here i am using the word2vec model to construct vector representation of each sentence"
   ]
  },
  {
   "cell_type": "code",
   "execution_count": 15,
   "metadata": {},
   "outputs": [
    {
     "name": "stderr",
     "output_type": "stream",
     "text": [
      "/Users/vthumati/anaconda3/lib/python3.6/site-packages/ipykernel_launcher.py:13: RuntimeWarning: invalid value encountered in true_divide\n",
      "  del sys.path[0]\n"
     ]
    },
    {
     "name": "stdout",
     "output_type": "stream",
     "text": [
      "364173\n",
      "200\n"
     ]
    }
   ],
   "source": [
    "\n",
    "sent_vectors = []\n",
    "for sent in sentences_list: \n",
    "    sent_vec = np.zeros(200) \n",
    "    cnt=0\n",
    "    for word in sent:\n",
    "        try:\n",
    "            vec = w2vmodel.wv[word]\n",
    "            sent_vec += vec\n",
    "            cnt += 1\n",
    "        except:\n",
    "            pass\n",
    "    sent_vec /= cnt\n",
    "    sent_vectors.append(sent_vec)\n",
    "print(len(sent_vectors))\n",
    "print(len(sent_vectors[364000]))"
   ]
  },
  {
   "cell_type": "code",
   "execution_count": 16,
   "metadata": {},
   "outputs": [
    {
     "data": {
      "text/plain": [
       "True"
      ]
     },
     "execution_count": 16,
     "metadata": {},
     "output_type": "execute_result"
    }
   ],
   "source": [
    "np.isnan(sent_vectors).any()"
   ]
  },
  {
   "cell_type": "code",
   "execution_count": 17,
   "metadata": {},
   "outputs": [],
   "source": [
    "sent_vectors = np.nan_to_num(sent_vectors)"
   ]
  },
  {
   "cell_type": "code",
   "execution_count": 18,
   "metadata": {},
   "outputs": [
    {
     "data": {
      "text/plain": [
       "False"
      ]
     },
     "execution_count": 18,
     "metadata": {},
     "output_type": "execute_result"
    }
   ],
   "source": [
    "np.isnan(sent_vectors).any()"
   ]
  },
  {
   "cell_type": "code",
   "execution_count": 19,
   "metadata": {},
   "outputs": [
    {
     "data": {
      "text/plain": [
       "(364173, 200)"
      ]
     },
     "execution_count": 19,
     "metadata": {},
     "output_type": "execute_result"
    }
   ],
   "source": [
    "sent_vectors.shape"
   ]
  },
  {
   "cell_type": "code",
   "execution_count": 20,
   "metadata": {},
   "outputs": [],
   "source": [
    "xtrain = sent_vectors[0:250000]\n",
    "xtest = sent_vectors[250000:]\n",
    "ytrain = sorted_w2vec['Score'][0:250000]\n",
    "ytest = sorted_w2vec['Score'][250000:]"
   ]
  },
  {
   "cell_type": "code",
   "execution_count": 21,
   "metadata": {},
   "outputs": [
    {
     "name": "stdout",
     "output_type": "stream",
     "text": [
      "(250000, 200)\n",
      "(114173, 200)\n",
      "(250000,)\n",
      "(114173,)\n"
     ]
    }
   ],
   "source": [
    "print(xtrain.shape)\n",
    "print(xtest.shape)\n",
    "print(ytrain.shape)\n",
    "print(ytest.shape)"
   ]
  },
  {
   "cell_type": "code",
   "execution_count": 43,
   "metadata": {},
   "outputs": [
    {
     "data": {
      "text/plain": [
       "array([1, 2, 3, 4, 5, 6, 7, 8, 9])"
      ]
     },
     "execution_count": 43,
     "metadata": {},
     "output_type": "execute_result"
    }
   ],
   "source": [
    "l = np.arange(1,10,1)\n",
    "l"
   ]
  },
  {
   "cell_type": "code",
   "execution_count": 25,
   "metadata": {},
   "outputs": [],
   "source": [
    "from sklearn.cross_validation import cross_val_score"
   ]
  },
  {
   "cell_type": "code",
   "execution_count": 28,
   "metadata": {},
   "outputs": [],
   "source": [
    "cross_validation_scores = []\n",
    "for d in l:\n",
    "    model = DecisionTreeClassifier(criterion='gini',max_depth=d, min_samples_split=10)\n",
    "    score = cross_val_score(model,xtrain,ytrain,cv=3,scoring='accuracy')\n",
    "    cross_validation_scores.append(score.mean())"
   ]
  },
  {
   "cell_type": "code",
   "execution_count": 30,
   "metadata": {},
   "outputs": [
    {
     "name": "stdout",
     "output_type": "stream",
     "text": [
      "[0.14885599995505316, 0.14885599995505316, 0.14885599995505316, 0.14375999109033, 0.14055999768197314, 0.13833199467366386, 0.13711999659352403, 0.13632399374539939, 0.13762799550558047]\n",
      "[0.8511440000449468, 0.8511440000449468, 0.8511440000449468, 0.85624000890967, 0.8594400023180269, 0.8616680053263361, 0.862880003406476, 0.8636760062546006, 0.8623720044944195]\n"
     ]
    }
   ],
   "source": [
    "error = [1 - x for x in cross_validation_scores]\n",
    "print(error)\n",
    "print(cross_validation_scores)"
   ]
  },
  {
   "cell_type": "code",
   "execution_count": 31,
   "metadata": {},
   "outputs": [
    {
     "data": {
      "text/plain": [
       "Text(0.5,1,'Depth vs CV Accuracy')"
      ]
     },
     "execution_count": 31,
     "metadata": {},
     "output_type": "execute_result"
    },
    {
     "data": {
      "image/png": "[encoded data removed]",
      "text/plain": [
       "<matplotlib.figure.Figure at 0x1a2aaabef0>"
      ]
     },
     "metadata": {},
     "output_type": "display_data"
    }
   ],
   "source": [
    "mp.plot(l,cross_validation_scores)\n",
    "mp.xlabel('Depth')\n",
    "mp.ylabel('Cross Validation Accuracy')\n",
    "mp.title(\"Depth vs CV Accuracy\")"
   ]
  },
  {
   "cell_type": "code",
   "execution_count": 33,
   "metadata": {},
   "outputs": [
    {
     "data": {
      "text/plain": [
       "Text(0.5,1,'Depth vs CV Error')"
      ]
     },
     "execution_count": 33,
     "metadata": {},
     "output_type": "execute_result"
    },
    {
     "data": {
      "image/png": "[encoded data removed]",
      "text/plain": [
       "<matplotlib.figure.Figure at 0x1a2badb0b8>"
      ]
     },
     "metadata": {},
     "output_type": "display_data"
    }
   ],
   "source": [
    "mp.plot(l,error)\n",
    "mp.xlabel('Error')\n",
    "mp.ylabel('Cross Validation Accuracy')\n",
    "mp.title(\"Depth vs CV Error\")"
   ]
  },
  {
   "cell_type": "code",
   "execution_count": 35,
   "metadata": {},
   "outputs": [
    {
     "name": "stdout",
     "output_type": "stream",
     "text": [
      "the best value of d is 8\n"
     ]
    }
   ],
   "source": [
    "best_d = l[error.index(min(error))]\n",
    "print(\"the best value of d is {}\".format(best_d))"
   ]
  },
  {
   "cell_type": "code",
   "execution_count": 36,
   "metadata": {},
   "outputs": [
    {
     "name": "stdout",
     "output_type": "stream",
     "text": [
      "0.8490185945889133\n"
     ]
    }
   ],
   "source": [
    "model = DecisionTreeClassifier(criterion='gini',max_depth=best_d, min_samples_split=10)\n",
    "model.fit(xtrain,ytrain)\n",
    "pred = model.predict(xtest)\n",
    "score = accuracy_score(ytest,pred)\n",
    "print(score)\n"
   ]
  },
  {
   "cell_type": "markdown",
   "metadata": {},
   "source": [
    "Observation:\n",
    "    \n",
    "    -> The optimal depth of the decision tree is 8\n",
    "    \n",
    "    -> The accuracy with depth of 8 is 84.90"
   ]
  },
  {
   "cell_type": "markdown",
   "metadata": {},
   "source": [
    "TFIDF WORD2VEC:\n",
    "\n",
    "    -> Here i am using the word2vec model to construct vector representation of each sentence"
   ]
  },
  {
   "cell_type": "code",
   "execution_count": 22,
   "metadata": {},
   "outputs": [],
   "source": [
    "data = finaldata.sort_values(\"Time\",axis=0,ascending=True,kind='quicksort',na_position='last',inplace=False)"
   ]
  },
  {
   "cell_type": "code",
   "execution_count": 23,
   "metadata": {},
   "outputs": [
    {
     "data": {
      "text/plain": [
       "(364173, 10)"
      ]
     },
     "execution_count": 23,
     "metadata": {},
     "output_type": "execute_result"
    }
   ],
   "source": [
    "data.shape"
   ]
  },
  {
   "cell_type": "code",
   "execution_count": 24,
   "metadata": {},
   "outputs": [],
   "source": [
    "from sklearn.feature_extraction.text import TfidfVectorizer"
   ]
  },
  {
   "cell_type": "code",
   "execution_count": 25,
   "metadata": {},
   "outputs": [],
   "source": [
    "tfid = TfidfVectorizer(ngram_range=(1,2))"
   ]
  },
  {
   "cell_type": "code",
   "execution_count": 26,
   "metadata": {},
   "outputs": [],
   "source": [
    "tfid_vect = tfid.fit_transform(data['Text'].values)"
   ]
  },
  {
   "cell_type": "code",
   "execution_count": 27,
   "metadata": {},
   "outputs": [
    {
     "data": {
      "text/plain": [
       "(364173, 2910206)"
      ]
     },
     "execution_count": 27,
     "metadata": {},
     "output_type": "execute_result"
    }
   ],
   "source": [
    "tfid_vect.shape"
   ]
  },
  {
   "cell_type": "code",
   "execution_count": 28,
   "metadata": {},
   "outputs": [
    {
     "name": "stdout",
     "output_type": "stream",
     "text": [
      "2910206\n"
     ]
    }
   ],
   "source": [
    "tfidf_feat = tfid.get_feature_names() \n",
    "print(len(tfidf_feat))"
   ]
  },
  {
   "cell_type": "code",
   "execution_count": 30,
   "metadata": {},
   "outputs": [
    {
     "name": "stderr",
     "output_type": "stream",
     "text": [
      "/Users/vthumati/anaconda3/lib/python3.6/site-packages/ipykernel_launcher.py:15: RuntimeWarning: invalid value encountered in true_divide\n",
      "  from ipykernel import kernelapp as app\n"
     ]
    }
   ],
   "source": [
    "tfidf_feat = tfid.get_feature_names() \n",
    "tfidf_sent_vectors = [];\n",
    "row=0;\n",
    "for sent in sentences_list: \n",
    "    sent_vec = np.zeros(200) \n",
    "    sum =0; \n",
    "    for word in sent: \n",
    "        try:\n",
    "            vec = w2v_model.wv[word]\n",
    "            tfidf = tfid_vect[row, tfidf_feat.index(word)]\n",
    "            sent_vec += (vec * tf_idf)\n",
    "            sum += tf_idf\n",
    "        except:\n",
    "            pass\n",
    "    sent_vec /= sum\n",
    "    tfidf_sent_vectors.append(sent_vec)\n",
    "    row += 1"
   ]
  },
  {
   "cell_type": "code",
   "execution_count": 31,
   "metadata": {},
   "outputs": [
    {
     "name": "stdout",
     "output_type": "stream",
     "text": [
      "364173\n",
      "200\n"
     ]
    }
   ],
   "source": [
    "print(len(tfidf_sent_vectors))\n",
    "print(len(tfidf_sent_vectors[300000]))"
   ]
  },
  {
   "cell_type": "code",
   "execution_count": 32,
   "metadata": {},
   "outputs": [
    {
     "data": {
      "text/plain": [
       "list"
      ]
     },
     "execution_count": 32,
     "metadata": {},
     "output_type": "execute_result"
    }
   ],
   "source": [
    "type(tfidf_sent_vectors)"
   ]
  },
  {
   "cell_type": "code",
   "execution_count": 35,
   "metadata": {},
   "outputs": [],
   "source": [
    "tfidf_sent_vectors = np.nan_to_num(tfidf_sent_vectors)"
   ]
  },
  {
   "cell_type": "code",
   "execution_count": 37,
   "metadata": {},
   "outputs": [
    {
     "data": {
      "text/plain": [
       "False"
      ]
     },
     "execution_count": 37,
     "metadata": {},
     "output_type": "execute_result"
    }
   ],
   "source": [
    "np.isnan(tfidf_sent_vectors).any()"
   ]
  },
  {
   "cell_type": "code",
   "execution_count": 39,
   "metadata": {},
   "outputs": [],
   "source": [
    "xtrain = tfidf_sent_vectors[0:250000]\n",
    "xtest = tfidf_sent_vectors[250000:]\n",
    "ytrain = data['Score'][0:250000]\n",
    "ytest = data['Score'][250000:]"
   ]
  },
  {
   "cell_type": "code",
   "execution_count": 40,
   "metadata": {},
   "outputs": [
    {
     "name": "stdout",
     "output_type": "stream",
     "text": [
      "(250000, 200)\n",
      "(114173, 200)\n",
      "(250000,)\n",
      "(114173,)\n"
     ]
    }
   ],
   "source": [
    "print(xtrain.shape)\n",
    "print(xtest.shape)\n",
    "print(ytrain.shape)\n",
    "print(ytest.shape)"
   ]
  },
  {
   "cell_type": "code",
   "execution_count": 41,
   "metadata": {},
   "outputs": [
    {
     "name": "stderr",
     "output_type": "stream",
     "text": [
      "/Users/vthumati/anaconda3/lib/python3.6/site-packages/sklearn/cross_validation.py:41: DeprecationWarning: This module was deprecated in version 0.18 in favor of the model_selection module into which all the refactored classes and functions are moved. Also note that the interface of the new CV iterators are different from that of this module. This module will be removed in 0.20.\n",
      "  \"This module will be removed in 0.20.\", DeprecationWarning)\n"
     ]
    }
   ],
   "source": [
    "from sklearn.cross_validation import cross_val_score"
   ]
  },
  {
   "cell_type": "code",
   "execution_count": 45,
   "metadata": {},
   "outputs": [],
   "source": [
    "cross_validation_scores = []\n",
    "for d in l:\n",
    "    model = DecisionTreeClassifier(criterion='gini',max_depth=d, min_samples_split=10)\n",
    "    score = cross_val_score(model,xtrain,ytrain,cv=3,scoring='accuracy')\n",
    "    cross_validation_scores.append(score.mean())"
   ]
  },
  {
   "cell_type": "code",
   "execution_count": 46,
   "metadata": {},
   "outputs": [
    {
     "name": "stdout",
     "output_type": "stream",
     "text": [
      "[0.14885599995505316, 0.14885599995505316, 0.14885599995505316, 0.14885599995505316, 0.14885599995505316, 0.14885599995505316, 0.14885599995505316, 0.14885599995505316, 0.14885599995505316]\n",
      "[0.8511440000449468, 0.8511440000449468, 0.8511440000449468, 0.8511440000449468, 0.8511440000449468, 0.8511440000449468, 0.8511440000449468, 0.8511440000449468, 0.8511440000449468]\n"
     ]
    }
   ],
   "source": [
    "error = [1 - x for x in cross_validation_scores]\n",
    "print(error)\n",
    "print(cross_validation_scores)"
   ]
  },
  {
   "cell_type": "code",
   "execution_count": 47,
   "metadata": {},
   "outputs": [
    {
     "data": {
      "text/plain": [
       "Text(0.5,1,'Depth vs CV Accuracy')"
      ]
     },
     "execution_count": 47,
     "metadata": {},
     "output_type": "execute_result"
    },
    {
     "data": {
      "image/png": "[encoded data removed]",
      "text/plain": [
       "<matplotlib.figure.Figure at 0x1ad17d5d30>"
      ]
     },
     "metadata": {},
     "output_type": "display_data"
    }
   ],
   "source": [
    "mp.plot(l,cross_validation_scores)\n",
    "mp.xlabel('Depth')\n",
    "mp.ylabel('Cross Validation Accuracy')\n",
    "mp.title(\"Depth vs CV Accuracy\")"
   ]
  },
  {
   "cell_type": "code",
   "execution_count": 48,
   "metadata": {},
   "outputs": [
    {
     "data": {
      "text/plain": [
       "Text(0.5,1,'Depth vs CV Error')"
      ]
     },
     "execution_count": 48,
     "metadata": {},
     "output_type": "execute_result"
    },
    {
     "data": {
      "image/png": "[encoded data removed]",
      "text/plain": [
       "<matplotlib.figure.Figure at 0x1acee88dd8>"
      ]
     },
     "metadata": {},
     "output_type": "display_data"
    }
   ],
   "source": [
    "mp.plot(l,error)\n",
    "mp.xlabel('Error')\n",
    "mp.ylabel('Cross Validation Accuracy')\n",
    "mp.title(\"Depth vs CV Error\")"
   ]
  },
  {
   "cell_type": "code",
   "execution_count": 49,
   "metadata": {},
   "outputs": [
    {
     "name": "stdout",
     "output_type": "stream",
     "text": [
      "the best value of d is 1\n"
     ]
    }
   ],
   "source": [
    "best_d = l[error.index(min(error))]\n",
    "print(\"the best value of d is {}\".format(best_d))"
   ]
  },
  {
   "cell_type": "code",
   "execution_count": 51,
   "metadata": {},
   "outputs": [
    {
     "name": "stdout",
     "output_type": "stream",
     "text": [
      "0.8257381342348892\n"
     ]
    }
   ],
   "source": [
    "model = DecisionTreeClassifier(criterion='gini',max_depth=best_d, min_samples_split=10)\n",
    "model.fit(xtrain,ytrain)\n",
    "pred = model.predict(xtest)\n",
    "score = accuracy_score(ytest,pred)\n",
    "print(score)"
   ]
  },
  {
   "cell_type": "markdown",
   "metadata": {},
   "source": [
    "Observation:\n",
    "\n",
    "-> The optimal depth of the decision tree is 1\n",
    "\n",
    "-> The accuracy with depth of 1 is 82.57 "
   ]
  },
  {
   "cell_type": "markdown",
   "metadata": {},
   "source": [
    "CONCLUSION:\n",
    "    \n",
    "    -> Determined the optimal depth with the help of cross validation\n",
    "    \n",
    "    AVERAGE WORD2VEC:\n",
    "        \n",
    "        -> The optimal depth of the decision tree is 8\n",
    "\n",
    "        -> The accuracy with depth of 8 is 84.90\n",
    "        \n",
    "    TFIDF WORD2VEC:\n",
    "        \n",
    "        -> The optimal depth of the decision tree is 1\n",
    "\n",
    "        -> The accuracy with depth of 1 is 82.57\n",
    "        \n",
    "        "
   ]
  },
  {
   "cell_type": "code",
   "execution_count": null,
   "metadata": {},
   "outputs": [],
   "source": []
  }
 ],
 "metadata": {
  "kernelspec": {
   "display_name": "Python 3",
   "language": "python",
   "name": "python3"
  },
  "language_info": {
   "codemirror_mode": {
    "name": "ipython",
    "version": 3
   },
   "file_extension": ".py",
   "mimetype": "text/x-python",
   "name": "python",
   "nbconvert_exporter": "python",
   "pygments_lexer": "ipython3",
   "version": "3.6.4"
  }
 },
 "nbformat": 4,
 "nbformat_minor": 2
}
