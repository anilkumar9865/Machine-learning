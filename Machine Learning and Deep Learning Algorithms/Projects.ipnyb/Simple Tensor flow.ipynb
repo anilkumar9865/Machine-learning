{
 "cells": [
  {
   "cell_type": "markdown",
   "metadata": {},
   "source": [
    "SOFTMAX CLASSIFIER USING TENSOR FLOW ON MNIST DATA"
   ]
  },
  {
   "cell_type": "markdown",
   "metadata": {},
   "source": [
    "Information about data:\n",
    "    \n",
    "    -> The dataset inbuilt in Tensor Flow and also available in Kaggle\n",
    "    \n",
    "    -> The dataset contains of hand written digits and their corresponding class labels"
   ]
  },
  {
   "cell_type": "markdown",
   "metadata": {},
   "source": [
    "Objective:\n",
    "     \n",
    "    -> Getting started with the Tensor Flow, to get some hands on practise\n",
    "    \n",
    "    -> To implement Tensor Flow toolkit on the MNIST dataset\n",
    "    \n",
    "    -> To understand the functionality of each observation\n",
    "    \n",
    "    -> Training the Neural nets and to check the loss with each Epoch"
   ]
  },
  {
   "cell_type": "markdown",
   "metadata": {},
   "source": [
    "-> Importing the required Libraries\n",
    "\n",
    "-> Importing data set"
   ]
  },
  {
   "cell_type": "code",
   "execution_count": 62,
   "metadata": {},
   "outputs": [
    {
     "name": "stdout",
     "output_type": "stream",
     "text": [
      "Extracting MNIST_data/train-images-idx3-ubyte.gz\n",
      "Extracting MNIST_data/train-labels-idx1-ubyte.gz\n",
      "Extracting MNIST_data/t10k-images-idx3-ubyte.gz\n",
      "Extracting MNIST_data/t10k-labels-idx1-ubyte.gz\n"
     ]
    }
   ],
   "source": [
    "from tensorflow.examples.tutorials.mnist import input_data\n",
    "data = input_data.read_data_sets(\"MNIST_data/\",one_hot=True)"
   ]
  },
  {
   "cell_type": "markdown",
   "metadata": {},
   "source": [
    "Train and Test Data Shape"
   ]
  },
  {
   "cell_type": "code",
   "execution_count": 63,
   "metadata": {},
   "outputs": [
    {
     "name": "stdout",
     "output_type": "stream",
     "text": [
      "(55000, 784)\n",
      "(10000, 784)\n",
      "(55000, 10)\n",
      "(10000, 10)\n"
     ]
    }
   ],
   "source": [
    "print(data.train.images.shape)\n",
    "print(data.test.images.shape)\n",
    "print(data.train.labels.shape)\n",
    "print(data.test.labels.shape)"
   ]
  },
  {
   "cell_type": "code",
   "execution_count": 64,
   "metadata": {},
   "outputs": [
    {
     "name": "stdout",
     "output_type": "stream",
     "text": [
      "The number of data point in training are: 55000 and number of features for each data point are 784\n",
      "The number of data point to test  are: 10000 and number of features for each data point are 784\n"
     ]
    }
   ],
   "source": [
    "print('The number of data point in training are:',data.train.images.shape[0],\"and number of features for each data point are\",data.train.images.shape[1])\n",
    "print('The number of data point to test  are:',data.test.images.shape[0],\"and number of features for each data point are\",data.test.images.shape[1])"
   ]
  },
  {
   "cell_type": "code",
   "execution_count": 65,
   "metadata": {},
   "outputs": [
    {
     "name": "stdout",
     "output_type": "stream",
     "text": [
      "The shape of the class labels in the train and test dataset after appling One Hot Encoding on the class labels\n",
      "The number of class labels in training are: 55000 and each class label is of: 10 dimensions\n",
      "The number of class labels in training are: 10000 and each class label is of: 10 dimensions\n"
     ]
    }
   ],
   "source": [
    "print(\"The shape of the class labels in the train and test dataset after appling One Hot Encoding on the class labels\")\n",
    "print(\"The number of class labels in training are:\",data.train.labels.shape[0],\"and each class label is of:\",data.train.labels.shape[1],\"dimensions\")\n",
    "print(\"The number of class labels in training are:\",data.test.labels.shape[0],\"and each class label is of:\",data.test.labels.shape[1],\"dimensions\")"
   ]
  },
  {
   "cell_type": "markdown",
   "metadata": {},
   "source": [
    "To check the system requirements availble for Tensor Flow Operations"
   ]
  },
  {
   "cell_type": "code",
   "execution_count": 66,
   "metadata": {},
   "outputs": [
    {
     "name": "stdout",
     "output_type": "stream",
     "text": [
      "[name: \"/device:CPU:0\"\n",
      "device_type: \"CPU\"\n",
      "memory_limit: 268435456\n",
      "locality {\n",
      "}\n",
      "incarnation: 5524967967427380823\n",
      "]\n"
     ]
    }
   ],
   "source": [
    "from tensorflow.python.client import device_lib\n",
    "print(device_lib.list_local_devices())"
   ]
  },
  {
   "cell_type": "markdown",
   "metadata": {},
   "source": [
    "Placeholders and Variables"
   ]
  },
  {
   "cell_type": "code",
   "execution_count": 80,
   "metadata": {},
   "outputs": [],
   "source": [
    "x = tf.placeholder(tf.float32, [None,784])\n",
    "w = tf.Variable(tf.zeros([784,10]))\n",
    "b = tf.Variable(tf.zeros([10]))"
   ]
  },
  {
   "cell_type": "markdown",
   "metadata": {},
   "source": [
    "Predicted and the Actual Class labels"
   ]
  },
  {
   "cell_type": "code",
   "execution_count": 81,
   "metadata": {},
   "outputs": [],
   "source": [
    "y_ = tf.placeholder(tf.float32, [None,10])\n",
    "y = tf.nn.softmax(tf.matmul(x,w)+b)"
   ]
  },
  {
   "cell_type": "markdown",
   "metadata": {},
   "source": [
    "-> Defining the loss function\n",
    "\n",
    "-> Defining the Optimizer algorithm as Gredient Descent Optimizer"
   ]
  },
  {
   "cell_type": "code",
   "execution_count": 82,
   "metadata": {},
   "outputs": [],
   "source": [
    "entropy = tf.reduce_mean(-tf.reduce_sum(y_ * tf.log(y),reduction_indices=[1]))\n",
    "train_step = tf.train.GradientDescentOptimizer(0.03).minimize(entropy)"
   ]
  },
  {
   "cell_type": "markdown",
   "metadata": {},
   "source": [
    "-> Starting the Session\n",
    "\n",
    "-> Initializing the Variables"
   ]
  },
  {
   "cell_type": "code",
   "execution_count": 83,
   "metadata": {},
   "outputs": [
    {
     "name": "stderr",
     "output_type": "stream",
     "text": [
      "C:\\Users\\Anil Chowdary\\Anaconda3\\lib\\site-packages\\tensorflow\\python\\client\\session.py:1711: UserWarning: An interactive session is already active. This can cause out-of-memory errors in some cases. You must explicitly call `InteractiveSession.close()` to release resources held by the other session(s).\n",
      "  warnings.warn('An interactive session is already active. This can '\n"
     ]
    }
   ],
   "source": [
    "sess = tf.InteractiveSession()\n",
    "tf.global_variables_initializer().run()"
   ]
  },
  {
   "cell_type": "markdown",
   "metadata": {},
   "source": [
    "-> Implementing on subset of data which conatins 5000 data points\n",
    "\n",
    "-> Creating batches of size 100"
   ]
  },
  {
   "cell_type": "code",
   "execution_count": 110,
   "metadata": {},
   "outputs": [],
   "source": [
    "for _ in range(5000):\n",
    "    batch_xs,batch_ys = data.train.next_batch(100)\n",
    "    sess.run(train_step, feed_dict={x: batch_xs, y_: batch_ys})"
   ]
  },
  {
   "cell_type": "code",
   "execution_count": 111,
   "metadata": {},
   "outputs": [
    {
     "name": "stdout",
     "output_type": "stream",
     "text": [
      "0.9195\n"
     ]
    }
   ],
   "source": [
    "prediction = tf.equal(tf.argmax(y,1),tf.argmax(y_,1))\n",
    "accuracy = tf.reduce_mean(tf.cast(prediction,tf.float32))\n",
    "print(sess.run(accuracy,feed_dict = {x:data.test.images,y_:data.test.labels}))"
   ]
  },
  {
   "cell_type": "code",
   "execution_count": 114,
   "metadata": {},
   "outputs": [],
   "source": [
    "def dynamic_plot(x, y, y_1, ax, colors=['b']):\n",
    "    ax.plot(x, y, 'b', label='Train loss')\n",
    "    ax.plot(x, y_1, 'r', label='Test loss')\n",
    "    if len(x)==1:\n",
    "        plt.legend()\n",
    "    fig.canvas.draw()"
   ]
  },
  {
   "cell_type": "code",
   "execution_count": 115,
   "metadata": {},
   "outputs": [
    {
     "name": "stdout",
     "output_type": "stream",
     "text": [
      "Accuracy: 0.9202\n"
     ]
    },
    {
     "data": {
      "image/png": "[encoded data removed]",
      "text/plain": [
       "<matplotlib.figure.Figure at 0x1fd04ef1668>"
      ]
     },
     "metadata": {},
     "output_type": "display_data"
    }
   ],
   "source": [
    "Number_of_epochs = 50\n",
    "batch_size = 1000\n",
    "display_step = 1\n",
    "log_loss = tf.reduce_mean(tf.nn.softmax_cross_entropy_with_logits(logits = y, labels = y_))\n",
    "training = tf.train.GradientDescentOptimizer(0.03).minimize(log_loss)\n",
    "epchs,ytrainloss,ytestloss = [],[],[]\n",
    "fig,ax = mp.subplots(1,1)\n",
    "ax.set_xlabel('Epoch')\n",
    "ax.set_ylabel(\"Soft Max Cross Entropy Loss\")\n",
    "for epoch in range(Number_of_epochs):\n",
    "    training_loss = 0\n",
    "    test_loss = 0\n",
    "    number_of_batches = int(data.train.num_examples/batch_size)\n",
    "    for i in range(number_of_batches):\n",
    "        xs_batch,ys_batch = data.train.next_batch(batch_size)\n",
    "        _,c=sess.run([training,log_loss], feed_dict={x: xs_batch, y_: ys_batch})\n",
    "        training_loss += c/number_of_batches\n",
    "        c = sess.run(log_loss,feed_dict = {x:data.test.images,y_:data.test.labels})\n",
    "        test_loss += c/number_of_batches\n",
    "    epchs.append(epoch)\n",
    "    ytrainloss.append(training_loss)\n",
    "    ytestloss.append(test_loss)\n",
    "dynamic_plot(epchs,ytrainloss,ytestloss,ax)\n",
    "correct_prediction = tf.equal(tf.argmax(y,1),tf.argmax(y_,1))\n",
    "accuracy = tf.reduce_mean(tf.cast(correct_prediction,tf.float32))\n",
    "print(\"Accuracy:\",accuracy.eval({x:data.test.images,y_:data.test.labels}))"
   ]
  },
  {
   "cell_type": "markdown",
   "metadata": {},
   "source": [
    "CONCLUSION:\n",
    "    \n",
    "    -> Have gone through different teminologies like Epochs, Batch size, Cross Entropy Loss, Optimizers\n",
    "    \n",
    "    -> The accuracy with subset of 5000 points is 91.95\n",
    "    \n",
    "    -> The accuracy on the whole data is 92.02"
   ]
  },
  {
   "cell_type": "code",
   "execution_count": null,
   "metadata": {},
   "outputs": [],
   "source": []
  }
 ],
 "metadata": {
  "kernelspec": {
   "display_name": "Python 3",
   "language": "python",
   "name": "python3"
  },
  "language_info": {
   "codemirror_mode": {
    "name": "ipython",
    "version": 3
   },
   "file_extension": ".py",
   "mimetype": "text/x-python",
   "name": "python",
   "nbconvert_exporter": "python",
   "pygments_lexer": "ipython3",
   "version": "3.6.4"
  }
 },
 "nbformat": 4,
 "nbformat_minor": 2
}
