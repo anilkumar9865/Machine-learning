{
 "cells": [
  {
   "cell_type": "code",
   "execution_count": 0,
   "metadata": {
    "colab": {
     "autoexec": {
      "startup": false,
      "wait_interval": 0
     }
    },
    "colab_type": "code",
    "id": "9udVEwrQHbek"
   },
   "outputs": [],
   "source": []
  },
  {
   "cell_type": "markdown",
   "metadata": {
    "colab_type": "text",
    "id": "VUjwerW1Hgj0"
   },
   "source": [
    "              INFORMATION ABOUT DATA:\n",
    "                        \n",
    "                        THE MNIST DATA SET IS IN BUILT IN TESNOR FLOW AKD KERAS\n",
    "                        \n",
    "                        THE DATASET CONTAINS OF HAND WRITTEN DIGITS IN THE FORM OF IMAGES"
   ]
  },
  {
   "cell_type": "markdown",
   "metadata": {
    "colab_type": "text",
    "id": "wXJflGoLHhKY"
   },
   "source": [
    "              OBJECTIVE:\n",
    "              \n",
    "                          TO TRY DIFFERENT CONVOLUTIONAL NEURAL NETS\n",
    "                          \n",
    "                          TO IMPLEMENT DIFFERENT KERNELS\n",
    "                          \n",
    "                          TO TRY DIFFERENT NUMBER OF LAYERS IN A CONVOLUTIONAL NEURAN NETWORK\n",
    "                          \n",
    "                          TO TRY MAX POOLING\n",
    "                          \n",
    "                          TO INTRODUCE DROPOUT IN THE NETWORK\n",
    "                          \n",
    "    "
   ]
  },
  {
   "cell_type": "markdown",
   "metadata": {
    "colab_type": "text",
    "id": "wmC3qwuHIYPO"
   },
   "source": [
    "              IMPORTING THE REQUIRED LIBRARIES AND DATA"
   ]
  },
  {
   "cell_type": "code",
   "execution_count": 1,
   "metadata": {
    "colab": {
     "autoexec": {
      "startup": false,
      "wait_interval": 0
     },
     "base_uri": "https://localhost:8080/",
     "height": 35
    },
    "colab_type": "code",
    "executionInfo": {
     "elapsed": 3615,
     "status": "ok",
     "timestamp": 1528122619641,
     "user": {
      "displayName": "Anil Chowdary",
      "photoUrl": "//lh3.googleusercontent.com/-vaG0zk3dBiA/AAAAAAAAAAI/AAAAAAAAAR8/inkbcDPoCMs/s50-c-k-no/photo.jpg",
      "userId": "100741150758483966855"
     },
     "user_tz": 240
    },
    "id": "E27BGwqiIU_J",
    "outputId": "5c50a49f-4d7a-4827-d3aa-6a90329c5635"
   },
   "outputs": [
    {
     "name": "stderr",
     "output_type": "stream",
     "text": [
      "Using TensorFlow backend.\n"
     ]
    }
   ],
   "source": [
    "from keras.datasets import mnist\n",
    "from keras.models import Sequential\n",
    "from keras.layers import Dense, Dropout, Flatten\n",
    "from keras.layers import Conv2D, MaxPooling2D\n",
    "from keras import backend as k\n",
    "from __future__ import print_function\n",
    "import keras\n",
    "\n",
    "(x_train, y_train), (x_test, y_test) = mnist.load_data()"
   ]
  },
  {
   "cell_type": "code",
   "execution_count": 2,
   "metadata": {
    "colab": {
     "autoexec": {
      "startup": false,
      "wait_interval": 0
     },
     "base_uri": "https://localhost:8080/",
     "height": 88
    },
    "colab_type": "code",
    "executionInfo": {
     "elapsed": 609,
     "status": "ok",
     "timestamp": 1528122620356,
     "user": {
      "displayName": "Anil Chowdary",
      "photoUrl": "//lh3.googleusercontent.com/-vaG0zk3dBiA/AAAAAAAAAAI/AAAAAAAAAR8/inkbcDPoCMs/s50-c-k-no/photo.jpg",
      "userId": "100741150758483966855"
     },
     "user_tz": 240
    },
    "id": "sskTtS5GJIR-",
    "outputId": "9907fa8e-3fc8-4e25-ef82-1ee5d12c26ba"
   },
   "outputs": [
    {
     "name": "stdout",
     "output_type": "stream",
     "text": [
      "Train data: (60000, 28, 28, 1)\n",
      "Train labels: (60000, 10)\n",
      "Test data: (10000, 28, 28, 1)\n",
      "Test labels: (10000, 10)\n"
     ]
    }
   ],
   "source": [
    "\n",
    "batch_size = 1000\n",
    "epochs = 10\n",
    "img_rows, img_cols = 28, 28\n",
    "if k.image_data_format() == 'channel_first':\n",
    "  x_train = x_train.reshape(x_train.shape[0],1,img_rows,img_cols)\n",
    "  x_test = x_test.reshape(x_test.shape[0],1,img_rows, img_cols)\n",
    "  input_shape = (1, img_rows, img_cols)\n",
    "else:\n",
    "  x_train = x_train.reshape(x_train.shape[0],img_rows, img_cols, 1)\n",
    "  x_test = x_test.reshape(x_test.shape[0], img_rows, img_cols,1)\n",
    "  input_shape = (img_rows, img_cols, 1)\n",
    "  \n",
    "x_train = x_train.astype('float32')\n",
    "x_test = x_test.astype('float32')\n",
    "x_train /= 255\n",
    "x_test /= 255\n",
    "y_train = keras.utils.to_categorical(y_train, num_classes = 10)\n",
    "y_test = keras.utils.to_categorical(y_test, num_classes = 10)\n",
    "print(\"Train data:\",x_train.shape)\n",
    "print(\"Train labels:\",y_train.shape)\n",
    "print(\"Test data:\",x_test.shape)\n",
    "print(\"Test labels:\",y_test.shape)"
   ]
  },
  {
   "cell_type": "markdown",
   "metadata": {
    "colab_type": "text",
    "id": "ZPC69ma6OnVM"
   },
   "source": [
    "                MODEL 1: 3 LAYER CONVOLUTIONAL NETWORK WITH KERNEL OF SIZE(3,3)"
   ]
  },
  {
   "cell_type": "code",
   "execution_count": 11,
   "metadata": {
    "colab": {
     "autoexec": {
      "startup": false,
      "wait_interval": 0
     },
     "base_uri": "https://localhost:8080/",
     "height": 819
    },
    "colab_type": "code",
    "executionInfo": {
     "elapsed": 1379294,
     "status": "ok",
     "timestamp": 1527706197768,
     "user": {
      "displayName": "Anil Chowdary",
      "photoUrl": "//lh3.googleusercontent.com/-vaG0zk3dBiA/AAAAAAAAAAI/AAAAAAAAAR8/inkbcDPoCMs/s50-c-k-no/photo.jpg",
      "userId": "100741150758483966855"
     },
     "user_tz": 240
    },
    "id": "lISC0_8COxlh",
    "outputId": "c597ef70-8265-4c25-b40d-1043de980266"
   },
   "outputs": [
    {
     "name": "stdout",
     "output_type": "stream",
     "text": [
      "Train on 60000 samples, validate on 10000 samples\n",
      "Epoch 1/20\n",
      "60000/60000 [==============================] - 69s 1ms/step - loss: 1.3549 - acc: 0.5417 - val_loss: 0.4705 - val_acc: 0.8658\n",
      "Epoch 2/20\n",
      "60000/60000 [==============================] - 69s 1ms/step - loss: 0.5090 - acc: 0.8395 - val_loss: 0.2090 - val_acc: 0.9374\n",
      "Epoch 3/20\n",
      "60000/60000 [==============================] - 69s 1ms/step - loss: 0.3247 - acc: 0.9004 - val_loss: 0.1503 - val_acc: 0.9541\n",
      "Epoch 4/20\n",
      "60000/60000 [==============================] - 69s 1ms/step - loss: 0.2565 - acc: 0.9204 - val_loss: 0.1208 - val_acc: 0.9648\n",
      "Epoch 5/20\n",
      "20000/60000 [=========>....................] - ETA: 44s - loss: 0.2317 - acc: 0.928560000/60000 [==============================] - 69s 1ms/step - loss: 0.2210 - acc: 0.9323 - val_loss: 0.0998 - val_acc: 0.9706\n",
      "Epoch 6/20\n",
      "60000/60000 [==============================] - 69s 1ms/step - loss: 0.1943 - acc: 0.9404 - val_loss: 0.0881 - val_acc: 0.9738\n",
      "Epoch 7/20\n",
      "60000/60000 [==============================] - 69s 1ms/step - loss: 0.1765 - acc: 0.9456 - val_loss: 0.0792 - val_acc: 0.9763\n",
      "Epoch 8/20\n",
      "60000/60000 [==============================] - 69s 1ms/step - loss: 0.1617 - acc: 0.9513 - val_loss: 0.0729 - val_acc: 0.9776\n",
      "Epoch 9/20\n",
      "48000/60000 [=======================>......] - ETA: 13s - loss: 0.1537 - acc: 0.953260000/60000 [==============================] - 69s 1ms/step - loss: 0.1520 - acc: 0.9535 - val_loss: 0.0686 - val_acc: 0.9797\n",
      "Epoch 10/20\n",
      "60000/60000 [==============================] - 68s 1ms/step - loss: 0.1416 - acc: 0.9565 - val_loss: 0.0664 - val_acc: 0.9807\n",
      "Epoch 11/20\n",
      "60000/60000 [==============================] - 68s 1ms/step - loss: 0.1339 - acc: 0.9594 - val_loss: 0.0623 - val_acc: 0.9813\n",
      "Epoch 12/20\n",
      "60000/60000 [==============================] - 69s 1ms/step - loss: 0.1278 - acc: 0.9612 - val_loss: 0.0575 - val_acc: 0.9833\n",
      "Epoch 13/20\n",
      "51000/60000 [========================>.....] - ETA: 9s - loss: 0.1218 - acc: 0.9617 60000/60000 [==============================] - 68s 1ms/step - loss: 0.1216 - acc: 0.9621 - val_loss: 0.0582 - val_acc: 0.9817\n",
      "Epoch 14/20\n",
      "60000/60000 [==============================] - 69s 1ms/step - loss: 0.1154 - acc: 0.9651 - val_loss: 0.0538 - val_acc: 0.9838\n",
      "Epoch 15/20\n",
      "60000/60000 [==============================] - 69s 1ms/step - loss: 0.1098 - acc: 0.9664 - val_loss: 0.0531 - val_acc: 0.9848\n",
      "Epoch 16/20\n",
      "60000/60000 [==============================] - 69s 1ms/step - loss: 0.1063 - acc: 0.9680 - val_loss: 0.0515 - val_acc: 0.9844\n",
      "Epoch 17/20\n",
      "51000/60000 [========================>.....] - ETA: 9s - loss: 0.1002 - acc: 0.9690 60000/60000 [==============================] - 68s 1ms/step - loss: 0.1028 - acc: 0.9682 - val_loss: 0.0527 - val_acc: 0.9844\n",
      "Epoch 18/20\n",
      "60000/60000 [==============================] - 68s 1ms/step - loss: 0.0991 - acc: 0.9701 - val_loss: 0.0502 - val_acc: 0.9849\n",
      "Epoch 19/20\n",
      "60000/60000 [==============================] - 69s 1ms/step - loss: 0.0937 - acc: 0.9715 - val_loss: 0.0495 - val_acc: 0.9854\n",
      "Epoch 20/20\n",
      "60000/60000 [==============================] - 69s 1ms/step - loss: 0.0944 - acc: 0.9704 - val_loss: 0.0454 - val_acc: 0.9858\n",
      " 8288/10000 [=======================>......] - ETA: 0s10000/10000 [==============================] - 4s 374us/step\n",
      "Test loss: 0.045419275725237095\n",
      "Test accuracy: 0.9858\n"
     ]
    }
   ],
   "source": [
    "  model = Sequential()\n",
    "  model.add(Conv2D(32, kernel_size=(3,3), activation = 'relu', input_shape = input_shape))\n",
    "  model.add(MaxPooling2D(pool_size=(2,2)))\n",
    "  model.add(Dropout(0.5))\n",
    "  model.add(Conv2D(64, kernel_size=(3,3), activation = 'relu'))\n",
    "  model.add(MaxPooling2D(pool_size=(2,2)))\n",
    "  model.add(Dropout(0.4))\n",
    "  model.add(Conv2D(128, kernel_size=(3,3), activation= 'relu'))\n",
    "  model.add(MaxPooling2D(pool_size=(2,2)))\n",
    "  model.add(Dropout(0.3))\n",
    "  model.add(Flatten())\n",
    "  model.add(Dense(256, activation='relu'))\n",
    "  model.add(Dense(10, activation='softmax'))\n",
    "  model.compile(loss = keras.losses.categorical_crossentropy, optimizer = keras.optimizers.adam(), metrics = ['accuracy'] )\n",
    "  model.fit(x_train,y_train, batch_size = batch_size, epochs = epochs, validation_data = (x_test, y_test))\n",
    "  score = model.evaluate(x_test, y_test)\n",
    "  print(\"Test loss:\", score[0])\n",
    "  print(\"Test accuracy:\", score[1])\n",
    "  "
   ]
  },
  {
   "cell_type": "markdown",
   "metadata": {
    "colab_type": "text",
    "id": "LGNlwfuJYPza"
   },
   "source": [
    "              MODEL 2 : 5 LAYER CONVOLUTIONAL NETWORK WITH KERNEL OF SIZE(5,5)"
   ]
  },
  {
   "cell_type": "code",
   "execution_count": 4,
   "metadata": {
    "colab": {
     "autoexec": {
      "startup": false,
      "wait_interval": 0
     },
     "base_uri": "https://localhost:8080/",
     "height": 819
    },
    "colab_type": "code",
    "executionInfo": {
     "elapsed": 28762630,
     "status": "ok",
     "timestamp": 1527800840754,
     "user": {
      "displayName": "Anil Chowdary",
      "photoUrl": "//lh3.googleusercontent.com/-vaG0zk3dBiA/AAAAAAAAAAI/AAAAAAAAAR8/inkbcDPoCMs/s50-c-k-no/photo.jpg",
      "userId": "100741150758483966855"
     },
     "user_tz": 240
    },
    "id": "ybx3aayIc2nW",
    "outputId": "501732aa-87d2-4941-dc43-8805990733e7"
   },
   "outputs": [
    {
     "name": "stdout",
     "output_type": "stream",
     "text": [
      "Train on 60000 samples, validate on 10000 samples\n",
      "Epoch 1/20\n",
      "60000/60000 [==============================] - 1428s 24ms/step - loss: 0.6459 - acc: 0.7807 - val_loss: 0.1120 - val_acc: 0.9671\n",
      "Epoch 2/20\n",
      "60000/60000 [==============================] - 1447s 24ms/step - loss: 0.0997 - acc: 0.9697 - val_loss: 0.0542 - val_acc: 0.9823\n",
      "Epoch 3/20\n",
      "60000/60000 [==============================] - 1415s 24ms/step - loss: 0.0627 - acc: 0.9805 - val_loss: 0.0395 - val_acc: 0.9876\n",
      "Epoch 4/20\n",
      "60000/60000 [==============================] - 1441s 24ms/step - loss: 0.0512 - acc: 0.9838 - val_loss: 0.0340 - val_acc: 0.9900\n",
      "Epoch 5/20\n",
      "17000/60000 [=======>......................] - ETA: 16:28 - loss: 0.0429 - acc: 0.986060000/60000 [==============================] - 1436s 24ms/step - loss: 0.0435 - acc: 0.9862 - val_loss: 0.0314 - val_acc: 0.9908\n",
      "Epoch 6/20\n",
      "60000/60000 [==============================] - 1440s 24ms/step - loss: 0.0382 - acc: 0.9881 - val_loss: 0.0288 - val_acc: 0.9919\n",
      "Epoch 7/20\n",
      "60000/60000 [==============================] - 1434s 24ms/step - loss: 0.0342 - acc: 0.9889 - val_loss: 0.0275 - val_acc: 0.9916\n",
      "Epoch 8/20\n",
      "60000/60000 [==============================] - 1437s 24ms/step - loss: 0.0300 - acc: 0.9903 - val_loss: 0.0250 - val_acc: 0.9921\n",
      "Epoch 9/20\n",
      "44000/60000 [=====================>........] - ETA: 6:08 - loss: 0.0263 - acc: 0.991460000/60000 [==============================] - 1442s 24ms/step - loss: 0.0260 - acc: 0.9917 - val_loss: 0.0266 - val_acc: 0.9921\n",
      "Epoch 10/20\n",
      "60000/60000 [==============================] - 1441s 24ms/step - loss: 0.0258 - acc: 0.9919 - val_loss: 0.0263 - val_acc: 0.9917\n",
      "Epoch 11/20\n",
      "60000/60000 [==============================] - 1434s 24ms/step - loss: 0.0231 - acc: 0.9927 - val_loss: 0.0267 - val_acc: 0.9921\n",
      "Epoch 12/20\n",
      "60000/60000 [==============================] - 1439s 24ms/step - loss: 0.0204 - acc: 0.9934 - val_loss: 0.0256 - val_acc: 0.9917\n",
      "Epoch 13/20\n",
      "47000/60000 [======================>.......] - ETA: 4:59 - loss: 0.0190 - acc: 0.994160000/60000 [==============================] - 1440s 24ms/step - loss: 0.0194 - acc: 0.9938 - val_loss: 0.0198 - val_acc: 0.9932\n",
      "Epoch 14/20\n",
      "60000/60000 [==============================] - 1432s 24ms/step - loss: 0.0173 - acc: 0.9938 - val_loss: 0.0240 - val_acc: 0.9934\n",
      "Epoch 15/20\n",
      "60000/60000 [==============================] - 1434s 24ms/step - loss: 0.0169 - acc: 0.9944 - val_loss: 0.0212 - val_acc: 0.9934\n",
      "Epoch 16/20\n",
      "60000/60000 [==============================] - 1435s 24ms/step - loss: 0.0156 - acc: 0.9948 - val_loss: 0.0226 - val_acc: 0.9941\n",
      "Epoch 17/20\n",
      "47000/60000 [======================>.......] - ETA: 4:57 - loss: 0.0162 - acc: 0.994760000/60000 [==============================] - 1436s 24ms/step - loss: 0.0163 - acc: 0.9944 - val_loss: 0.0224 - val_acc: 0.9936\n",
      "Epoch 18/20\n",
      "60000/60000 [==============================] - 1429s 24ms/step - loss: 0.0158 - acc: 0.9949 - val_loss: 0.0237 - val_acc: 0.9939\n",
      "Epoch 19/20\n",
      "60000/60000 [==============================] - 1426s 24ms/step - loss: 0.0136 - acc: 0.9954 - val_loss: 0.0203 - val_acc: 0.9937\n",
      "Epoch 20/20\n",
      "60000/60000 [==============================] - 1434s 24ms/step - loss: 0.0121 - acc: 0.9958 - val_loss: 0.0259 - val_acc: 0.9925\n",
      " 1600/10000 [===>..........................] - ETA: 53s10000/10000 [==============================] - 63s 6ms/step\n",
      "Test loss: 0.025934723713708807\n",
      "Test accuracy: 0.9925\n"
     ]
    }
   ],
   "source": [
    "  model = Sequential()\n",
    "  model.add(Conv2D(128, kernel_size=(5,5), activation= 'relu', input_shape = input_shape))\n",
    "  model.add(Dropout(0.5))\n",
    "  model.add(Conv2D(64, kernel_size=(5,5), activation = 'relu'))\n",
    "  model.add(Dropout(0.5))\n",
    "  model.add(Conv2D(32, kernel_size=(5,5), activation = 'relu'))\n",
    "  model.add(MaxPooling2D(pool_size=(1,1)))\n",
    "  model.add(Dropout(0.5))\n",
    "  model.add(Conv2D(64, kernel_size=(5,5), activation = 'relu'))\n",
    "  model.add(MaxPooling2D(pool_size=(1,1)))\n",
    "  model.add(Dropout(0.4))\n",
    "  model.add(Conv2D(128, kernel_size=(5,5), activation= 'relu'))\n",
    "  model.add(MaxPooling2D(pool_size=(1,1)))\n",
    "  model.add(Dropout(0.3))\n",
    "  model.add(Flatten())\n",
    "  model.add(Dense(256, activation='relu'))\n",
    "  model.add(Dense(10, activation='softmax'))\n",
    "  model.compile(loss = keras.losses.categorical_crossentropy, optimizer = keras.optimizers.adam(), metrics = ['accuracy'] )\n",
    "  model.fit(x_train,y_train, batch_size = batch_size, epochs = epochs, validation_data = (x_test, y_test))\n",
    "  score = model.evaluate(x_test, y_test)\n",
    "  print(\"Test loss:\", score[0])\n",
    "  print(\"Test accuracy:\", score[1])\n",
    "  "
   ]
  },
  {
   "cell_type": "markdown",
   "metadata": {
    "colab_type": "text",
    "id": "CvkK8Jh8cbnQ"
   },
   "source": [
    "               MODEL 3 : 7 LAYER CONVOLUTIONAL NETWORK WITH DIFFERENT KERNEL SIZE IN EACH LAYER "
   ]
  },
  {
   "cell_type": "code",
   "execution_count": 3,
   "metadata": {
    "colab": {
     "autoexec": {
      "startup": false,
      "wait_interval": 0
     },
     "base_uri": "https://localhost:8080/",
     "height": 464
    },
    "colab_type": "code",
    "executionInfo": {
     "elapsed": 12269477,
     "status": "ok",
     "timestamp": 1528062539451,
     "user": {
      "displayName": "Anil Chowdary",
      "photoUrl": "//lh3.googleusercontent.com/-vaG0zk3dBiA/AAAAAAAAAAI/AAAAAAAAAR8/inkbcDPoCMs/s50-c-k-no/photo.jpg",
      "userId": "100741150758483966855"
     },
     "user_tz": 240
    },
    "id": "LzXqLWdzczET",
    "outputId": "df26e1a0-399a-45ef-b938-58ea196ebc12"
   },
   "outputs": [
    {
     "name": "stdout",
     "output_type": "stream",
     "text": [
      "Train on 60000 samples, validate on 10000 samples\n",
      "Epoch 1/10\n",
      "60000/60000 [==============================] - 1226s 20ms/step - loss: 0.7840 - acc: 0.7442 - val_loss: 0.1810 - val_acc: 0.9447\n",
      "Epoch 2/10\n",
      "60000/60000 [==============================] - 1227s 20ms/step - loss: 0.1601 - acc: 0.9503 - val_loss: 0.0664 - val_acc: 0.9781\n",
      "Epoch 3/10\n",
      "60000/60000 [==============================] - 1222s 20ms/step - loss: 0.0905 - acc: 0.9726 - val_loss: 0.0493 - val_acc: 0.9839\n",
      "Epoch 4/10\n",
      "60000/60000 [==============================] - 1216s 20ms/step - loss: 0.0704 - acc: 0.9787 - val_loss: 0.0421 - val_acc: 0.9862\n",
      "Epoch 5/10\n",
      "17000/60000 [=======>......................] - ETA: 13:59 - loss: 0.0622 - acc: 0.981260000/60000 [==============================] - 1219s 20ms/step - loss: 0.0571 - acc: 0.9826 - val_loss: 0.0410 - val_acc: 0.9878\n",
      "Epoch 6/10\n",
      "60000/60000 [==============================] - 1220s 20ms/step - loss: 0.0537 - acc: 0.9835 - val_loss: 0.0334 - val_acc: 0.9893\n",
      "Epoch 7/10\n",
      "60000/60000 [==============================] - 1220s 20ms/step - loss: 0.0468 - acc: 0.9854 - val_loss: 0.0285 - val_acc: 0.9910\n",
      "Epoch 8/10\n",
      "60000/60000 [==============================] - 1222s 20ms/step - loss: 0.0404 - acc: 0.9872 - val_loss: 0.0315 - val_acc: 0.9900\n",
      "Epoch 9/10\n",
      "44000/60000 [=====================>........] - ETA: 5:12 - loss: 0.0373 - acc: 0.988360000/60000 [==============================] - 1222s 20ms/step - loss: 0.0372 - acc: 0.9881 - val_loss: 0.0296 - val_acc: 0.9904\n",
      "Epoch 10/10\n",
      "60000/60000 [==============================] - 1222s 20ms/step - loss: 0.0356 - acc: 0.9890 - val_loss: 0.0255 - val_acc: 0.9921\n",
      " 8320/10000 [=======================>......] - ETA: 8s10000/10000 [==============================] - 51s 5ms/step\n",
      "Test loss: 0.025468569558369927\n",
      "Test accuracy: 0.9921\n"
     ]
    }
   ],
   "source": [
    "  model = Sequential()\n",
    "  model.add(Conv2D(128, kernel_size=(4,4), activation= 'relu', input_shape = input_shape))\n",
    "  model.add(Dropout(0.5))\n",
    "  model.add(Conv2D(64, kernel_size=(3,3), activation = 'relu'))\n",
    "  model.add(Dropout(0.5))\n",
    "  model.add(Conv2D(32, kernel_size=(2,2), activation = 'relu'))\n",
    "  model.add(MaxPooling2D(pool_size=(1,1)))\n",
    "  model.add(Dropout(0.5))\n",
    "  model.add(Conv2D(64, kernel_size=(5,5), activation = 'relu'))\n",
    "  model.add(MaxPooling2D(pool_size=(1,1)))\n",
    "  model.add(Dropout(0.4))\n",
    "  model.add(Conv2D(128, kernel_size=(5,5), activation= 'relu'))\n",
    "  model.add(MaxPooling2D(pool_size=(1,1)))\n",
    "  model.add(Dropout(0.3))\n",
    "  model.add(Conv2D(64, kernel_size=(2,2), activation= 'relu'))\n",
    "  model.add(Dropout(0.5))\n",
    "  model.add(Conv2D(32, kernel_size=(3,3), activation='relu'))\n",
    "  model.add(Dropout(0.5))\n",
    "  model.add(Flatten())\n",
    "  model.add(Dense(256, activation='relu'))\n",
    "  model.add(Dense(10, activation='softmax'))\n",
    "  model.compile(loss = keras.losses.categorical_crossentropy, optimizer = keras.optimizers.adam(), metrics = ['accuracy'] )\n",
    "  model.fit(x_train,y_train, batch_size = batch_size, epochs = epochs, validation_data = (x_test, y_test))\n",
    "  score = model.evaluate(x_test, y_test)\n",
    "  print(\"Test loss:\", score[0])\n",
    "  print(\"Test accuracy:\", score[1])\n",
    "  "
   ]
  },
  {
   "cell_type": "code",
   "execution_count": 0,
   "metadata": {
    "colab": {
     "autoexec": {
      "startup": false,
      "wait_interval": 0
     }
    },
    "colab_type": "code",
    "id": "CAtfW-ApDxtc"
   },
   "outputs": [],
   "source": []
  },
  {
   "cell_type": "markdown",
   "metadata": {
    "colab_type": "text",
    "id": "r_3d9TNFNcOw"
   },
   "source": [
    "              CONCLUSION:\n",
    "              \n",
    "                         EPOCHS = 20\n",
    "              \n",
    "                         MODEL 1 : 3 LAYER CONVOLUTIONAL NETWORK WITH KERNEL SIZE (3,3)\n",
    "                         \n",
    "                                               TEST LOSS : 0.04541      ACCURACY : 98.58\n",
    "                                               \n",
    "                         MODEL 2 : 5 LAYER CONVOLUTIONAL NETWORK WITH KERNEL SIZE (5,5)\n",
    "                         \n",
    "                                              TEST LOSS : 0.02593      ACCURACY : 99.25\n",
    "                                              \n",
    "                          EPOCHS = 10\n",
    "                          \n",
    "                          MODEL 3 : 7 LAYER CONVOLUTIONAL NETWORK WITH DIFFERENT KERNEL SIZE IN EACH LAYER\n",
    "                                            \n",
    "                                              TEST LOSS : 0.02546      ACCURACY : 99.21\n",
    "                         \n",
    "                                               "
   ]
  },
  {
   "cell_type": "code",
   "execution_count": 0,
   "metadata": {
    "colab": {
     "autoexec": {
      "startup": false,
      "wait_interval": 0
     }
    },
    "colab_type": "code",
    "id": "GL6zkzI5OkCi"
   },
   "outputs": [],
   "source": []
  }
 ],
 "metadata": {
  "colab": {
   "collapsed_sections": [],
   "default_view": {},
   "name": "CNN_MNIST.ipynb",
   "provenance": [],
   "version": "0.3.2",
   "views": {}
  },
  "kernelspec": {
   "display_name": "Python 3",
   "language": "python",
   "name": "python3"
  },
  "language_info": {
   "codemirror_mode": {
    "name": "ipython",
    "version": 3
   },
   "file_extension": ".py",
   "mimetype": "text/x-python",
   "name": "python",
   "nbconvert_exporter": "python",
   "pygments_lexer": "ipython3",
   "version": "3.6.4"
  }
 },
 "nbformat": 4,
 "nbformat_minor": 1
}
